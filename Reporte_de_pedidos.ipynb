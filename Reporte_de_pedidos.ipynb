{
  "nbformat": 4,
  "nbformat_minor": 0,
  "metadata": {
    "colab": {
      "provenance": [],
      "authorship_tag": "ABX9TyPFBCGh/2nbuD8af52Wbfuv",
      "include_colab_link": true
    },
    "kernelspec": {
      "name": "python3",
      "display_name": "Python 3"
    },
    "language_info": {
      "name": "python"
    }
  },
  "cells": [
    {
      "cell_type": "markdown",
      "metadata": {
        "id": "view-in-github",
        "colab_type": "text"
      },
      "source": [
        "<a href=\"https://colab.research.google.com/github/NicolasFerre/ColabFerre/blob/dev/Reporte_de_pedidos.ipynb\" target=\"_parent\"><img src=\"https://colab.research.google.com/assets/colab-badge.svg\" alt=\"Open In Colab\"/></a>"
      ]
    },
    {
      "cell_type": "markdown",
      "source": [
        "# Importación e instalación de librerias\n",
        "Instalar xlsxwriter una vez al iniciar el entorno de colab, comentarlo después\n",
        "\n",
        "- codigo\n",
        "- '''comentario'''"
      ],
      "metadata": {
        "id": "bLgleNMFHDQm"
      }
    },
    {
      "cell_type": "code",
      "source": [
        "'''!pip install xlsxwriter'''"
      ],
      "metadata": {
        "colab": {
          "base_uri": "https://localhost:8080/"
        },
        "id": "5UvvXUj9ZPCQ",
        "outputId": "fc83cc04-d997-450f-da83-484d1f4a08df"
      },
      "execution_count": 193,
      "outputs": [
        {
          "output_type": "stream",
          "name": "stdout",
          "text": [
            "Requirement already satisfied: xlsxwriter in /usr/local/lib/python3.11/dist-packages (3.2.5)\n"
          ]
        }
      ]
    },
    {
      "cell_type": "code",
      "source": [
        "import polars as pl"
      ],
      "metadata": {
        "id": "0MtdRxspY93B"
      },
      "execution_count": 194,
      "outputs": []
    },
    {
      "cell_type": "code",
      "execution_count": 195,
      "metadata": {
        "id": "GCiP_gXBZJj4"
      },
      "outputs": [],
      "source": [
        "import pandas as pd\n",
        "import numpy as np\n",
        "import xlsxwriter"
      ]
    },
    {
      "cell_type": "markdown",
      "source": [
        "# Inicialización del documento\n",
        "Recibe archivos de texto (.txt) con los nombres de \"ReporteTejon\", \"ReporteIko\", \"ReporteBax\" y \"ReporteLuz\""
      ],
      "metadata": {
        "id": "LWpjyoOUFNl-"
      }
    },
    {
      "cell_type": "code",
      "source": [
        "datos = pd.read_csv('ReporteTejon.txt', sep='\\t')\n",
        "cuenta = pd.Series(np.ones(len(datos)), name='Cuenta')\n",
        "cuenta.replace(1, 'Tejon', inplace=True)"
      ],
      "metadata": {
        "id": "RQv3h3LXaqPY"
      },
      "execution_count": 196,
      "outputs": []
    },
    {
      "cell_type": "code",
      "source": [
        "'''\n",
        "datos1 = pd.read_csv('ReporteIko.txt', sep='\\t')\n",
        "cuenta1 = pd.Series(np.ones(len(datos)), name='Cuenta')\n",
        "cuenta1.replace(1, 'Iko', inplace=True)\n",
        "'''"
      ],
      "metadata": {
        "colab": {
          "base_uri": "https://localhost:8080/",
          "height": 53
        },
        "id": "4tSH8BkeM_3X",
        "outputId": "4faf8727-377f-4806-f107-6ee14f20f293"
      },
      "execution_count": 197,
      "outputs": [
        {
          "output_type": "execute_result",
          "data": {
            "text/plain": [
              "\"\\ndatos1 = pd.read_csv('ReporteIko.txt', sep='\\t')\\ncuenta1 = pd.Series(np.ones(len(datos)), name='Cuenta')\\ncuenta1.replace(1, 'Iko', inplace=True)\\n\""
            ],
            "application/vnd.google.colaboratory.intrinsic+json": {
              "type": "string"
            }
          },
          "metadata": {},
          "execution_count": 197
        }
      ]
    },
    {
      "cell_type": "code",
      "source": [
        "'''\n",
        "datos2 = pd.read_csv('ReporteBax.txt', sep='\\t')\n",
        "cuenta2 = pd.Series(np.ones(len(datos)), name='Cuenta')\n",
        "cuenta2.replace(1, 'Bax', inplace=True)\n",
        "'''"
      ],
      "metadata": {
        "colab": {
          "base_uri": "https://localhost:8080/",
          "height": 53
        },
        "id": "gOumhzCqNH6_",
        "outputId": "5c978d9b-852d-40c8-937c-bd90b5f0d2a8"
      },
      "execution_count": 198,
      "outputs": [
        {
          "output_type": "execute_result",
          "data": {
            "text/plain": [
              "\"\\ndatos2 = pd.read_csv('ReporteBax.txt', sep='\\t')\\ncuenta2 = pd.Series(np.ones(len(datos)), name='Cuenta')\\ncuenta2.replace(1, 'Bax', inplace=True)\\n\""
            ],
            "application/vnd.google.colaboratory.intrinsic+json": {
              "type": "string"
            }
          },
          "metadata": {},
          "execution_count": 198
        }
      ]
    },
    {
      "cell_type": "code",
      "source": [
        "'''\n",
        "datos3 = pd.read_csv('ReporteLuz.txt', sep='\\t')\n",
        "cuenta3 = pd.Series(np.ones(len(datos)), name='Cuenta')\n",
        "cuenta3.replace(1, 'Luz', inplace=True)\n",
        "'''"
      ],
      "metadata": {
        "colab": {
          "base_uri": "https://localhost:8080/",
          "height": 53
        },
        "id": "WdV0ejV6NPIn",
        "outputId": "29bc01fc-d3d1-45b0-e7e7-ce8c722ea537"
      },
      "execution_count": 199,
      "outputs": [
        {
          "output_type": "execute_result",
          "data": {
            "text/plain": [
              "\"\\ndatos3 = pd.read_csv('ReporteLuz.txt', sep='\\t')\\ncuenta3 = pd.Series(np.ones(len(datos)), name='Cuenta')\\ncuenta3.replace(1, 'Luz', inplace=True)\\n\""
            ],
            "application/vnd.google.colaboratory.intrinsic+json": {
              "type": "string"
            }
          },
          "metadata": {},
          "execution_count": 199
        }
      ]
    },
    {
      "cell_type": "code",
      "source": [
        "'''\n",
        "frames = [datos, datos1, datos2, datos3]\n",
        "datos = pd.concat(frames)\n",
        "cuentas = [cuenta, cuenta1, cuenta2, cuenta3]\n",
        "cuenta = pd.concat(cuentas)\n",
        "'''"
      ],
      "metadata": {
        "colab": {
          "base_uri": "https://localhost:8080/",
          "height": 53
        },
        "id": "3ngy0qQSN183",
        "outputId": "5b60be05-6ece-4afc-c8a9-a9ba7e13fc2e"
      },
      "execution_count": 200,
      "outputs": [
        {
          "output_type": "execute_result",
          "data": {
            "text/plain": [
              "'\\nframes = [datos, datos1, datos2, datos3]\\ndatos = pd.concat(frames)\\ncuentas = [cuenta, cuenta1, cuenta2, cuenta3]\\ncuenta = pd.concat(cuentas)\\n'"
            ],
            "application/vnd.google.colaboratory.intrinsic+json": {
              "type": "string"
            }
          },
          "metadata": {},
          "execution_count": 200
        }
      ]
    },
    {
      "cell_type": "markdown",
      "source": [
        "# Limpieza de datos de precios y costos"
      ],
      "metadata": {
        "id": "14P_UpcmFSTd"
      }
    },
    {
      "cell_type": "code",
      "source": [
        "precios = datos[[\"item-price\", \"item-tax\", \"shipping-price\", \"shipping-tax\"]]\n",
        "precios.fillna(0, inplace=True)\n",
        "datos[[\"item-price\", \"item-tax\", \"shipping-price\", \"shipping-tax\"]] = precios.astype(float)\n",
        "datos.head()"
      ],
      "metadata": {
        "id": "n7l-LmFPb0P4",
        "colab": {
          "base_uri": "https://localhost:8080/",
          "height": 828
        },
        "outputId": "5de1a516-1459-4351-e048-ba57a0b7f921"
      },
      "execution_count": 201,
      "outputs": [
        {
          "output_type": "stream",
          "name": "stderr",
          "text": [
            "/tmp/ipython-input-201-3490208261.py:2: SettingWithCopyWarning: \n",
            "A value is trying to be set on a copy of a slice from a DataFrame\n",
            "\n",
            "See the caveats in the documentation: https://pandas.pydata.org/pandas-docs/stable/user_guide/indexing.html#returning-a-view-versus-a-copy\n",
            "  precios.fillna(0, inplace=True)\n"
          ]
        },
        {
          "output_type": "execute_result",
          "data": {
            "text/plain": [
              "              order-id    order-item-id              purchase-date  \\\n",
              "0  701-5852943-4588233  130543301357361  2025-06-09T22:16:17+00:00   \n",
              "1  702-5883091-4028251  130581162862921  2025-06-10T00:50:20+00:00   \n",
              "2  702-7520478-0944269  130578483906281  2025-06-10T02:42:56+00:00   \n",
              "3  702-8859585-3223453  130584017252641  2025-06-10T05:30:54+00:00   \n",
              "4  702-0055786-0647439  130592689702481  2025-06-10T15:24:21+00:00   \n",
              "\n",
              "               payments-date                                buyer-email  \\\n",
              "0  2025-06-09T22:16:17+00:00  lspzc99jy8x17dm@marketplace.amazon.com.mx   \n",
              "1  2025-06-10T00:50:20+00:00  6w1cgzyyg66jtfr@marketplace.amazon.com.mx   \n",
              "2  2025-06-10T02:42:56+00:00  fyg6tfk3nwcjh01@marketplace.amazon.com.mx   \n",
              "3  2025-06-10T05:30:54+00:00  3w8chqk6h0s22bj@marketplace.amazon.com.mx   \n",
              "4  2025-06-10T15:24:21+00:00  hbmd7l5980k826l@marketplace.amazon.com.mx   \n",
              "\n",
              "                           buyer-name payment-method-details  \\\n",
              "0                       Abraham Gomez             CreditCard   \n",
              "1  jacqueline monserrat ortiz jimenez           Installments   \n",
              "2                       Cecilia Amaya           Installments   \n",
              "3         Conce Rodriguez de Barragan             CreditCard   \n",
              "4                    Cristina Quintal             CreditCard   \n",
              "\n",
              "  buyer-phone-number           sku  \\\n",
              "0                NaN        ESE-16   \n",
              "1                NaN         16026   \n",
              "2                NaN        EST-36   \n",
              "3                NaN  HZ-X0SM-WFIG   \n",
              "4                NaN         16744   \n",
              "\n",
              "                                        product-name  ...  is-prime  \\\n",
              "0  Truper ESE-16, Escalera de extensión, tipo III...  ...     False   \n",
              "1  Truper ESE-16, Escalera de extensión, tipo III...  ...     False   \n",
              "2  Truper EST-36, Escalera de tijera tipo III, 6 ...  ...     False   \n",
              "3  Truper P-520, Podadora motor a gasolina 20\", 5 HP  ...     False   \n",
              "4  Truper EST-26, Escalera de tijera tipo II, 6 e...  ...     False   \n",
              "\n",
              "  is-premium-order  customized-url  customized-page  is-replacement-order  \\\n",
              "0            False             NaN              NaN                 False   \n",
              "1            False             NaN              NaN                 False   \n",
              "2            False             NaN              NaN                 False   \n",
              "3            False             NaN              NaN                 False   \n",
              "4            False             NaN              NaN                 False   \n",
              "\n",
              "   is-exchange-order original-order-id is-transparency  \\\n",
              "0              False               NaN           False   \n",
              "1              False               NaN           False   \n",
              "2              False               NaN           False   \n",
              "3              False               NaN           False   \n",
              "4              False               NaN           False   \n",
              "\n",
              "  is-buyer-requested-cancellation buyer-requested-cancel-reason  \n",
              "0                           False                           NaN  \n",
              "1                           False                           NaN  \n",
              "2                           False                           NaN  \n",
              "3                           False                           NaN  \n",
              "4                           False                           NaN  \n",
              "\n",
              "[5 rows x 57 columns]"
            ],
            "text/html": [
              "\n",
              "  <div id=\"df-6305b495-8244-45c3-a876-0c3ea6923fd1\" class=\"colab-df-container\">\n",
              "    <div>\n",
              "<style scoped>\n",
              "    .dataframe tbody tr th:only-of-type {\n",
              "        vertical-align: middle;\n",
              "    }\n",
              "\n",
              "    .dataframe tbody tr th {\n",
              "        vertical-align: top;\n",
              "    }\n",
              "\n",
              "    .dataframe thead th {\n",
              "        text-align: right;\n",
              "    }\n",
              "</style>\n",
              "<table border=\"1\" class=\"dataframe\">\n",
              "  <thead>\n",
              "    <tr style=\"text-align: right;\">\n",
              "      <th></th>\n",
              "      <th>order-id</th>\n",
              "      <th>order-item-id</th>\n",
              "      <th>purchase-date</th>\n",
              "      <th>payments-date</th>\n",
              "      <th>buyer-email</th>\n",
              "      <th>buyer-name</th>\n",
              "      <th>payment-method-details</th>\n",
              "      <th>buyer-phone-number</th>\n",
              "      <th>sku</th>\n",
              "      <th>product-name</th>\n",
              "      <th>...</th>\n",
              "      <th>is-prime</th>\n",
              "      <th>is-premium-order</th>\n",
              "      <th>customized-url</th>\n",
              "      <th>customized-page</th>\n",
              "      <th>is-replacement-order</th>\n",
              "      <th>is-exchange-order</th>\n",
              "      <th>original-order-id</th>\n",
              "      <th>is-transparency</th>\n",
              "      <th>is-buyer-requested-cancellation</th>\n",
              "      <th>buyer-requested-cancel-reason</th>\n",
              "    </tr>\n",
              "  </thead>\n",
              "  <tbody>\n",
              "    <tr>\n",
              "      <th>0</th>\n",
              "      <td>701-5852943-4588233</td>\n",
              "      <td>130543301357361</td>\n",
              "      <td>2025-06-09T22:16:17+00:00</td>\n",
              "      <td>2025-06-09T22:16:17+00:00</td>\n",
              "      <td>lspzc99jy8x17dm@marketplace.amazon.com.mx</td>\n",
              "      <td>Abraham Gomez</td>\n",
              "      <td>CreditCard</td>\n",
              "      <td>NaN</td>\n",
              "      <td>ESE-16</td>\n",
              "      <td>Truper ESE-16, Escalera de extensión, tipo III...</td>\n",
              "      <td>...</td>\n",
              "      <td>False</td>\n",
              "      <td>False</td>\n",
              "      <td>NaN</td>\n",
              "      <td>NaN</td>\n",
              "      <td>False</td>\n",
              "      <td>False</td>\n",
              "      <td>NaN</td>\n",
              "      <td>False</td>\n",
              "      <td>False</td>\n",
              "      <td>NaN</td>\n",
              "    </tr>\n",
              "    <tr>\n",
              "      <th>1</th>\n",
              "      <td>702-5883091-4028251</td>\n",
              "      <td>130581162862921</td>\n",
              "      <td>2025-06-10T00:50:20+00:00</td>\n",
              "      <td>2025-06-10T00:50:20+00:00</td>\n",
              "      <td>6w1cgzyyg66jtfr@marketplace.amazon.com.mx</td>\n",
              "      <td>jacqueline monserrat ortiz jimenez</td>\n",
              "      <td>Installments</td>\n",
              "      <td>NaN</td>\n",
              "      <td>16026</td>\n",
              "      <td>Truper ESE-16, Escalera de extensión, tipo III...</td>\n",
              "      <td>...</td>\n",
              "      <td>False</td>\n",
              "      <td>False</td>\n",
              "      <td>NaN</td>\n",
              "      <td>NaN</td>\n",
              "      <td>False</td>\n",
              "      <td>False</td>\n",
              "      <td>NaN</td>\n",
              "      <td>False</td>\n",
              "      <td>False</td>\n",
              "      <td>NaN</td>\n",
              "    </tr>\n",
              "    <tr>\n",
              "      <th>2</th>\n",
              "      <td>702-7520478-0944269</td>\n",
              "      <td>130578483906281</td>\n",
              "      <td>2025-06-10T02:42:56+00:00</td>\n",
              "      <td>2025-06-10T02:42:56+00:00</td>\n",
              "      <td>fyg6tfk3nwcjh01@marketplace.amazon.com.mx</td>\n",
              "      <td>Cecilia Amaya</td>\n",
              "      <td>Installments</td>\n",
              "      <td>NaN</td>\n",
              "      <td>EST-36</td>\n",
              "      <td>Truper EST-36, Escalera de tijera tipo III, 6 ...</td>\n",
              "      <td>...</td>\n",
              "      <td>False</td>\n",
              "      <td>False</td>\n",
              "      <td>NaN</td>\n",
              "      <td>NaN</td>\n",
              "      <td>False</td>\n",
              "      <td>False</td>\n",
              "      <td>NaN</td>\n",
              "      <td>False</td>\n",
              "      <td>False</td>\n",
              "      <td>NaN</td>\n",
              "    </tr>\n",
              "    <tr>\n",
              "      <th>3</th>\n",
              "      <td>702-8859585-3223453</td>\n",
              "      <td>130584017252641</td>\n",
              "      <td>2025-06-10T05:30:54+00:00</td>\n",
              "      <td>2025-06-10T05:30:54+00:00</td>\n",
              "      <td>3w8chqk6h0s22bj@marketplace.amazon.com.mx</td>\n",
              "      <td>Conce Rodriguez de Barragan</td>\n",
              "      <td>CreditCard</td>\n",
              "      <td>NaN</td>\n",
              "      <td>HZ-X0SM-WFIG</td>\n",
              "      <td>Truper P-520, Podadora motor a gasolina 20\", 5 HP</td>\n",
              "      <td>...</td>\n",
              "      <td>False</td>\n",
              "      <td>False</td>\n",
              "      <td>NaN</td>\n",
              "      <td>NaN</td>\n",
              "      <td>False</td>\n",
              "      <td>False</td>\n",
              "      <td>NaN</td>\n",
              "      <td>False</td>\n",
              "      <td>False</td>\n",
              "      <td>NaN</td>\n",
              "    </tr>\n",
              "    <tr>\n",
              "      <th>4</th>\n",
              "      <td>702-0055786-0647439</td>\n",
              "      <td>130592689702481</td>\n",
              "      <td>2025-06-10T15:24:21+00:00</td>\n",
              "      <td>2025-06-10T15:24:21+00:00</td>\n",
              "      <td>hbmd7l5980k826l@marketplace.amazon.com.mx</td>\n",
              "      <td>Cristina Quintal</td>\n",
              "      <td>CreditCard</td>\n",
              "      <td>NaN</td>\n",
              "      <td>16744</td>\n",
              "      <td>Truper EST-26, Escalera de tijera tipo II, 6 e...</td>\n",
              "      <td>...</td>\n",
              "      <td>False</td>\n",
              "      <td>False</td>\n",
              "      <td>NaN</td>\n",
              "      <td>NaN</td>\n",
              "      <td>False</td>\n",
              "      <td>False</td>\n",
              "      <td>NaN</td>\n",
              "      <td>False</td>\n",
              "      <td>False</td>\n",
              "      <td>NaN</td>\n",
              "    </tr>\n",
              "  </tbody>\n",
              "</table>\n",
              "<p>5 rows × 57 columns</p>\n",
              "</div>\n",
              "    <div class=\"colab-df-buttons\">\n",
              "\n",
              "  <div class=\"colab-df-container\">\n",
              "    <button class=\"colab-df-convert\" onclick=\"convertToInteractive('df-6305b495-8244-45c3-a876-0c3ea6923fd1')\"\n",
              "            title=\"Convert this dataframe to an interactive table.\"\n",
              "            style=\"display:none;\">\n",
              "\n",
              "  <svg xmlns=\"http://www.w3.org/2000/svg\" height=\"24px\" viewBox=\"0 -960 960 960\">\n",
              "    <path d=\"M120-120v-720h720v720H120Zm60-500h600v-160H180v160Zm220 220h160v-160H400v160Zm0 220h160v-160H400v160ZM180-400h160v-160H180v160Zm440 0h160v-160H620v160ZM180-180h160v-160H180v160Zm440 0h160v-160H620v160Z\"/>\n",
              "  </svg>\n",
              "    </button>\n",
              "\n",
              "  <style>\n",
              "    .colab-df-container {\n",
              "      display:flex;\n",
              "      gap: 12px;\n",
              "    }\n",
              "\n",
              "    .colab-df-convert {\n",
              "      background-color: #E8F0FE;\n",
              "      border: none;\n",
              "      border-radius: 50%;\n",
              "      cursor: pointer;\n",
              "      display: none;\n",
              "      fill: #1967D2;\n",
              "      height: 32px;\n",
              "      padding: 0 0 0 0;\n",
              "      width: 32px;\n",
              "    }\n",
              "\n",
              "    .colab-df-convert:hover {\n",
              "      background-color: #E2EBFA;\n",
              "      box-shadow: 0px 1px 2px rgba(60, 64, 67, 0.3), 0px 1px 3px 1px rgba(60, 64, 67, 0.15);\n",
              "      fill: #174EA6;\n",
              "    }\n",
              "\n",
              "    .colab-df-buttons div {\n",
              "      margin-bottom: 4px;\n",
              "    }\n",
              "\n",
              "    [theme=dark] .colab-df-convert {\n",
              "      background-color: #3B4455;\n",
              "      fill: #D2E3FC;\n",
              "    }\n",
              "\n",
              "    [theme=dark] .colab-df-convert:hover {\n",
              "      background-color: #434B5C;\n",
              "      box-shadow: 0px 1px 3px 1px rgba(0, 0, 0, 0.15);\n",
              "      filter: drop-shadow(0px 1px 2px rgba(0, 0, 0, 0.3));\n",
              "      fill: #FFFFFF;\n",
              "    }\n",
              "  </style>\n",
              "\n",
              "    <script>\n",
              "      const buttonEl =\n",
              "        document.querySelector('#df-6305b495-8244-45c3-a876-0c3ea6923fd1 button.colab-df-convert');\n",
              "      buttonEl.style.display =\n",
              "        google.colab.kernel.accessAllowed ? 'block' : 'none';\n",
              "\n",
              "      async function convertToInteractive(key) {\n",
              "        const element = document.querySelector('#df-6305b495-8244-45c3-a876-0c3ea6923fd1');\n",
              "        const dataTable =\n",
              "          await google.colab.kernel.invokeFunction('convertToInteractive',\n",
              "                                                    [key], {});\n",
              "        if (!dataTable) return;\n",
              "\n",
              "        const docLinkHtml = 'Like what you see? Visit the ' +\n",
              "          '<a target=\"_blank\" href=https://colab.research.google.com/notebooks/data_table.ipynb>data table notebook</a>'\n",
              "          + ' to learn more about interactive tables.';\n",
              "        element.innerHTML = '';\n",
              "        dataTable['output_type'] = 'display_data';\n",
              "        await google.colab.output.renderOutput(dataTable, element);\n",
              "        const docLink = document.createElement('div');\n",
              "        docLink.innerHTML = docLinkHtml;\n",
              "        element.appendChild(docLink);\n",
              "      }\n",
              "    </script>\n",
              "  </div>\n",
              "\n",
              "\n",
              "    <div id=\"df-019d2774-0fb5-41bc-a4a6-bddd120bafa3\">\n",
              "      <button class=\"colab-df-quickchart\" onclick=\"quickchart('df-019d2774-0fb5-41bc-a4a6-bddd120bafa3')\"\n",
              "                title=\"Suggest charts\"\n",
              "                style=\"display:none;\">\n",
              "\n",
              "<svg xmlns=\"http://www.w3.org/2000/svg\" height=\"24px\"viewBox=\"0 0 24 24\"\n",
              "     width=\"24px\">\n",
              "    <g>\n",
              "        <path d=\"M19 3H5c-1.1 0-2 .9-2 2v14c0 1.1.9 2 2 2h14c1.1 0 2-.9 2-2V5c0-1.1-.9-2-2-2zM9 17H7v-7h2v7zm4 0h-2V7h2v10zm4 0h-2v-4h2v4z\"/>\n",
              "    </g>\n",
              "</svg>\n",
              "      </button>\n",
              "\n",
              "<style>\n",
              "  .colab-df-quickchart {\n",
              "      --bg-color: #E8F0FE;\n",
              "      --fill-color: #1967D2;\n",
              "      --hover-bg-color: #E2EBFA;\n",
              "      --hover-fill-color: #174EA6;\n",
              "      --disabled-fill-color: #AAA;\n",
              "      --disabled-bg-color: #DDD;\n",
              "  }\n",
              "\n",
              "  [theme=dark] .colab-df-quickchart {\n",
              "      --bg-color: #3B4455;\n",
              "      --fill-color: #D2E3FC;\n",
              "      --hover-bg-color: #434B5C;\n",
              "      --hover-fill-color: #FFFFFF;\n",
              "      --disabled-bg-color: #3B4455;\n",
              "      --disabled-fill-color: #666;\n",
              "  }\n",
              "\n",
              "  .colab-df-quickchart {\n",
              "    background-color: var(--bg-color);\n",
              "    border: none;\n",
              "    border-radius: 50%;\n",
              "    cursor: pointer;\n",
              "    display: none;\n",
              "    fill: var(--fill-color);\n",
              "    height: 32px;\n",
              "    padding: 0;\n",
              "    width: 32px;\n",
              "  }\n",
              "\n",
              "  .colab-df-quickchart:hover {\n",
              "    background-color: var(--hover-bg-color);\n",
              "    box-shadow: 0 1px 2px rgba(60, 64, 67, 0.3), 0 1px 3px 1px rgba(60, 64, 67, 0.15);\n",
              "    fill: var(--button-hover-fill-color);\n",
              "  }\n",
              "\n",
              "  .colab-df-quickchart-complete:disabled,\n",
              "  .colab-df-quickchart-complete:disabled:hover {\n",
              "    background-color: var(--disabled-bg-color);\n",
              "    fill: var(--disabled-fill-color);\n",
              "    box-shadow: none;\n",
              "  }\n",
              "\n",
              "  .colab-df-spinner {\n",
              "    border: 2px solid var(--fill-color);\n",
              "    border-color: transparent;\n",
              "    border-bottom-color: var(--fill-color);\n",
              "    animation:\n",
              "      spin 1s steps(1) infinite;\n",
              "  }\n",
              "\n",
              "  @keyframes spin {\n",
              "    0% {\n",
              "      border-color: transparent;\n",
              "      border-bottom-color: var(--fill-color);\n",
              "      border-left-color: var(--fill-color);\n",
              "    }\n",
              "    20% {\n",
              "      border-color: transparent;\n",
              "      border-left-color: var(--fill-color);\n",
              "      border-top-color: var(--fill-color);\n",
              "    }\n",
              "    30% {\n",
              "      border-color: transparent;\n",
              "      border-left-color: var(--fill-color);\n",
              "      border-top-color: var(--fill-color);\n",
              "      border-right-color: var(--fill-color);\n",
              "    }\n",
              "    40% {\n",
              "      border-color: transparent;\n",
              "      border-right-color: var(--fill-color);\n",
              "      border-top-color: var(--fill-color);\n",
              "    }\n",
              "    60% {\n",
              "      border-color: transparent;\n",
              "      border-right-color: var(--fill-color);\n",
              "    }\n",
              "    80% {\n",
              "      border-color: transparent;\n",
              "      border-right-color: var(--fill-color);\n",
              "      border-bottom-color: var(--fill-color);\n",
              "    }\n",
              "    90% {\n",
              "      border-color: transparent;\n",
              "      border-bottom-color: var(--fill-color);\n",
              "    }\n",
              "  }\n",
              "</style>\n",
              "\n",
              "      <script>\n",
              "        async function quickchart(key) {\n",
              "          const quickchartButtonEl =\n",
              "            document.querySelector('#' + key + ' button');\n",
              "          quickchartButtonEl.disabled = true;  // To prevent multiple clicks.\n",
              "          quickchartButtonEl.classList.add('colab-df-spinner');\n",
              "          try {\n",
              "            const charts = await google.colab.kernel.invokeFunction(\n",
              "                'suggestCharts', [key], {});\n",
              "          } catch (error) {\n",
              "            console.error('Error during call to suggestCharts:', error);\n",
              "          }\n",
              "          quickchartButtonEl.classList.remove('colab-df-spinner');\n",
              "          quickchartButtonEl.classList.add('colab-df-quickchart-complete');\n",
              "        }\n",
              "        (() => {\n",
              "          let quickchartButtonEl =\n",
              "            document.querySelector('#df-019d2774-0fb5-41bc-a4a6-bddd120bafa3 button');\n",
              "          quickchartButtonEl.style.display =\n",
              "            google.colab.kernel.accessAllowed ? 'block' : 'none';\n",
              "        })();\n",
              "      </script>\n",
              "    </div>\n",
              "\n",
              "    </div>\n",
              "  </div>\n"
            ],
            "application/vnd.google.colaboratory.intrinsic+json": {
              "type": "dataframe",
              "variable_name": "datos"
            }
          },
          "metadata": {},
          "execution_count": 201
        }
      ]
    },
    {
      "cell_type": "code",
      "source": [
        "df = pd.DataFrame(datos)\n",
        "df.insert(0, 'Cuenta', cuenta)"
      ],
      "metadata": {
        "id": "qQ1zNapUEfTM"
      },
      "execution_count": 202,
      "outputs": []
    },
    {
      "cell_type": "markdown",
      "source": [
        "# Limpieza de datos de fecha"
      ],
      "metadata": {
        "id": "lGBirlVAZbTC"
      }
    },
    {
      "cell_type": "code",
      "source": [
        "df['purchase-date'] = pd.to_datetime(df['purchase-date'])\n",
        "fechas = df['purchase-date'].dt.strftime('%d/%m/%Y')\n",
        "df['purchase-date'] = fechas\n",
        "df['purchase-date'].head(10)"
      ],
      "metadata": {
        "colab": {
          "base_uri": "https://localhost:8080/",
          "height": 397
        },
        "id": "nYvuGUioZa4h",
        "outputId": "9d40d64d-0dd1-419e-a1a7-de9c53e41df3"
      },
      "execution_count": 203,
      "outputs": [
        {
          "output_type": "execute_result",
          "data": {
            "text/plain": [
              "0    09/06/2025\n",
              "1    10/06/2025\n",
              "2    10/06/2025\n",
              "3    10/06/2025\n",
              "4    10/06/2025\n",
              "5    10/06/2025\n",
              "6    10/06/2025\n",
              "7    10/06/2025\n",
              "8    10/06/2025\n",
              "9    10/06/2025\n",
              "Name: purchase-date, dtype: object"
            ],
            "text/html": [
              "<div>\n",
              "<style scoped>\n",
              "    .dataframe tbody tr th:only-of-type {\n",
              "        vertical-align: middle;\n",
              "    }\n",
              "\n",
              "    .dataframe tbody tr th {\n",
              "        vertical-align: top;\n",
              "    }\n",
              "\n",
              "    .dataframe thead th {\n",
              "        text-align: right;\n",
              "    }\n",
              "</style>\n",
              "<table border=\"1\" class=\"dataframe\">\n",
              "  <thead>\n",
              "    <tr style=\"text-align: right;\">\n",
              "      <th></th>\n",
              "      <th>purchase-date</th>\n",
              "    </tr>\n",
              "  </thead>\n",
              "  <tbody>\n",
              "    <tr>\n",
              "      <th>0</th>\n",
              "      <td>09/06/2025</td>\n",
              "    </tr>\n",
              "    <tr>\n",
              "      <th>1</th>\n",
              "      <td>10/06/2025</td>\n",
              "    </tr>\n",
              "    <tr>\n",
              "      <th>2</th>\n",
              "      <td>10/06/2025</td>\n",
              "    </tr>\n",
              "    <tr>\n",
              "      <th>3</th>\n",
              "      <td>10/06/2025</td>\n",
              "    </tr>\n",
              "    <tr>\n",
              "      <th>4</th>\n",
              "      <td>10/06/2025</td>\n",
              "    </tr>\n",
              "    <tr>\n",
              "      <th>5</th>\n",
              "      <td>10/06/2025</td>\n",
              "    </tr>\n",
              "    <tr>\n",
              "      <th>6</th>\n",
              "      <td>10/06/2025</td>\n",
              "    </tr>\n",
              "    <tr>\n",
              "      <th>7</th>\n",
              "      <td>10/06/2025</td>\n",
              "    </tr>\n",
              "    <tr>\n",
              "      <th>8</th>\n",
              "      <td>10/06/2025</td>\n",
              "    </tr>\n",
              "    <tr>\n",
              "      <th>9</th>\n",
              "      <td>10/06/2025</td>\n",
              "    </tr>\n",
              "  </tbody>\n",
              "</table>\n",
              "</div><br><label><b>dtype:</b> object</label>"
            ]
          },
          "metadata": {},
          "execution_count": 203
        }
      ]
    },
    {
      "cell_type": "markdown",
      "source": [
        "# Extracción de datos de envio"
      ],
      "metadata": {
        "id": "bQeayqY3FZBd"
      }
    },
    {
      "cell_type": "code",
      "source": [
        "'''Placeholder'''\n",
        "envio = pd.Series(np.ones(len(datos)), name='Total de envio')\n",
        "envio.replace(1, 50, inplace=True)"
      ],
      "metadata": {
        "id": "TT-_3XGfElID"
      },
      "execution_count": 204,
      "outputs": []
    },
    {
      "cell_type": "markdown",
      "source": [
        "# Extracción de datos de costo del producto"
      ],
      "metadata": {
        "id": "Xu0iq21hFhN8"
      }
    },
    {
      "cell_type": "code",
      "source": [
        "renglonaje = pd.read_excel('Renglonaje.xlsx', sheet_name = 0)\n",
        "rentabilidad = renglonaje[[\"clave\", \"Total que paga Edy a Truper contando reserva en garantía CON IVA\"]]\n",
        "rentabilidad.rename(columns={'clave': 'sku', 'Total que paga Edy a Truper contando reserva en garantía CON IVA': 'Pago a TRUPER'}, inplace=True)\n",
        "rentabilidad.head()"
      ],
      "metadata": {
        "id": "J-WwbZhbEv_E",
        "colab": {
          "base_uri": "https://localhost:8080/",
          "height": 313
        },
        "outputId": "afa6b0d3-b70f-47f0-fac5-3ed7df62fa95"
      },
      "execution_count": 205,
      "outputs": [
        {
          "output_type": "stream",
          "name": "stderr",
          "text": [
            "/tmp/ipython-input-205-4261689006.py:3: SettingWithCopyWarning: \n",
            "A value is trying to be set on a copy of a slice from a DataFrame\n",
            "\n",
            "See the caveats in the documentation: https://pandas.pydata.org/pandas-docs/stable/user_guide/indexing.html#returning-a-view-versus-a-copy\n",
            "  rentabilidad.rename(columns={'clave': 'sku', 'Total que paga Edy a Truper contando reserva en garantía CON IVA': 'Pago a TRUPER'}, inplace=True)\n"
          ]
        },
        {
          "output_type": "execute_result",
          "data": {
            "text/plain": [
              "           sku Pago a TRUPER\n",
              "0      PET-15X      290.9246\n",
              "1      PET-15C     407.29444\n",
              "2   REP-CUT-5X      13.96797\n",
              "3   REP-CUT-6X       24.8253\n",
              "4  REP-CUT-650      65.94158"
            ],
            "text/html": [
              "\n",
              "  <div id=\"df-5ffbdc6c-9938-419d-ab1e-2ebe963bba90\" class=\"colab-df-container\">\n",
              "    <div>\n",
              "<style scoped>\n",
              "    .dataframe tbody tr th:only-of-type {\n",
              "        vertical-align: middle;\n",
              "    }\n",
              "\n",
              "    .dataframe tbody tr th {\n",
              "        vertical-align: top;\n",
              "    }\n",
              "\n",
              "    .dataframe thead th {\n",
              "        text-align: right;\n",
              "    }\n",
              "</style>\n",
              "<table border=\"1\" class=\"dataframe\">\n",
              "  <thead>\n",
              "    <tr style=\"text-align: right;\">\n",
              "      <th></th>\n",
              "      <th>sku</th>\n",
              "      <th>Pago a TRUPER</th>\n",
              "    </tr>\n",
              "  </thead>\n",
              "  <tbody>\n",
              "    <tr>\n",
              "      <th>0</th>\n",
              "      <td>PET-15X</td>\n",
              "      <td>290.9246</td>\n",
              "    </tr>\n",
              "    <tr>\n",
              "      <th>1</th>\n",
              "      <td>PET-15C</td>\n",
              "      <td>407.29444</td>\n",
              "    </tr>\n",
              "    <tr>\n",
              "      <th>2</th>\n",
              "      <td>REP-CUT-5X</td>\n",
              "      <td>13.96797</td>\n",
              "    </tr>\n",
              "    <tr>\n",
              "      <th>3</th>\n",
              "      <td>REP-CUT-6X</td>\n",
              "      <td>24.8253</td>\n",
              "    </tr>\n",
              "    <tr>\n",
              "      <th>4</th>\n",
              "      <td>REP-CUT-650</td>\n",
              "      <td>65.94158</td>\n",
              "    </tr>\n",
              "  </tbody>\n",
              "</table>\n",
              "</div>\n",
              "    <div class=\"colab-df-buttons\">\n",
              "\n",
              "  <div class=\"colab-df-container\">\n",
              "    <button class=\"colab-df-convert\" onclick=\"convertToInteractive('df-5ffbdc6c-9938-419d-ab1e-2ebe963bba90')\"\n",
              "            title=\"Convert this dataframe to an interactive table.\"\n",
              "            style=\"display:none;\">\n",
              "\n",
              "  <svg xmlns=\"http://www.w3.org/2000/svg\" height=\"24px\" viewBox=\"0 -960 960 960\">\n",
              "    <path d=\"M120-120v-720h720v720H120Zm60-500h600v-160H180v160Zm220 220h160v-160H400v160Zm0 220h160v-160H400v160ZM180-400h160v-160H180v160Zm440 0h160v-160H620v160ZM180-180h160v-160H180v160Zm440 0h160v-160H620v160Z\"/>\n",
              "  </svg>\n",
              "    </button>\n",
              "\n",
              "  <style>\n",
              "    .colab-df-container {\n",
              "      display:flex;\n",
              "      gap: 12px;\n",
              "    }\n",
              "\n",
              "    .colab-df-convert {\n",
              "      background-color: #E8F0FE;\n",
              "      border: none;\n",
              "      border-radius: 50%;\n",
              "      cursor: pointer;\n",
              "      display: none;\n",
              "      fill: #1967D2;\n",
              "      height: 32px;\n",
              "      padding: 0 0 0 0;\n",
              "      width: 32px;\n",
              "    }\n",
              "\n",
              "    .colab-df-convert:hover {\n",
              "      background-color: #E2EBFA;\n",
              "      box-shadow: 0px 1px 2px rgba(60, 64, 67, 0.3), 0px 1px 3px 1px rgba(60, 64, 67, 0.15);\n",
              "      fill: #174EA6;\n",
              "    }\n",
              "\n",
              "    .colab-df-buttons div {\n",
              "      margin-bottom: 4px;\n",
              "    }\n",
              "\n",
              "    [theme=dark] .colab-df-convert {\n",
              "      background-color: #3B4455;\n",
              "      fill: #D2E3FC;\n",
              "    }\n",
              "\n",
              "    [theme=dark] .colab-df-convert:hover {\n",
              "      background-color: #434B5C;\n",
              "      box-shadow: 0px 1px 3px 1px rgba(0, 0, 0, 0.15);\n",
              "      filter: drop-shadow(0px 1px 2px rgba(0, 0, 0, 0.3));\n",
              "      fill: #FFFFFF;\n",
              "    }\n",
              "  </style>\n",
              "\n",
              "    <script>\n",
              "      const buttonEl =\n",
              "        document.querySelector('#df-5ffbdc6c-9938-419d-ab1e-2ebe963bba90 button.colab-df-convert');\n",
              "      buttonEl.style.display =\n",
              "        google.colab.kernel.accessAllowed ? 'block' : 'none';\n",
              "\n",
              "      async function convertToInteractive(key) {\n",
              "        const element = document.querySelector('#df-5ffbdc6c-9938-419d-ab1e-2ebe963bba90');\n",
              "        const dataTable =\n",
              "          await google.colab.kernel.invokeFunction('convertToInteractive',\n",
              "                                                    [key], {});\n",
              "        if (!dataTable) return;\n",
              "\n",
              "        const docLinkHtml = 'Like what you see? Visit the ' +\n",
              "          '<a target=\"_blank\" href=https://colab.research.google.com/notebooks/data_table.ipynb>data table notebook</a>'\n",
              "          + ' to learn more about interactive tables.';\n",
              "        element.innerHTML = '';\n",
              "        dataTable['output_type'] = 'display_data';\n",
              "        await google.colab.output.renderOutput(dataTable, element);\n",
              "        const docLink = document.createElement('div');\n",
              "        docLink.innerHTML = docLinkHtml;\n",
              "        element.appendChild(docLink);\n",
              "      }\n",
              "    </script>\n",
              "  </div>\n",
              "\n",
              "\n",
              "    <div id=\"df-518fbae1-a16e-407a-a73e-4441aa9ffdad\">\n",
              "      <button class=\"colab-df-quickchart\" onclick=\"quickchart('df-518fbae1-a16e-407a-a73e-4441aa9ffdad')\"\n",
              "                title=\"Suggest charts\"\n",
              "                style=\"display:none;\">\n",
              "\n",
              "<svg xmlns=\"http://www.w3.org/2000/svg\" height=\"24px\"viewBox=\"0 0 24 24\"\n",
              "     width=\"24px\">\n",
              "    <g>\n",
              "        <path d=\"M19 3H5c-1.1 0-2 .9-2 2v14c0 1.1.9 2 2 2h14c1.1 0 2-.9 2-2V5c0-1.1-.9-2-2-2zM9 17H7v-7h2v7zm4 0h-2V7h2v10zm4 0h-2v-4h2v4z\"/>\n",
              "    </g>\n",
              "</svg>\n",
              "      </button>\n",
              "\n",
              "<style>\n",
              "  .colab-df-quickchart {\n",
              "      --bg-color: #E8F0FE;\n",
              "      --fill-color: #1967D2;\n",
              "      --hover-bg-color: #E2EBFA;\n",
              "      --hover-fill-color: #174EA6;\n",
              "      --disabled-fill-color: #AAA;\n",
              "      --disabled-bg-color: #DDD;\n",
              "  }\n",
              "\n",
              "  [theme=dark] .colab-df-quickchart {\n",
              "      --bg-color: #3B4455;\n",
              "      --fill-color: #D2E3FC;\n",
              "      --hover-bg-color: #434B5C;\n",
              "      --hover-fill-color: #FFFFFF;\n",
              "      --disabled-bg-color: #3B4455;\n",
              "      --disabled-fill-color: #666;\n",
              "  }\n",
              "\n",
              "  .colab-df-quickchart {\n",
              "    background-color: var(--bg-color);\n",
              "    border: none;\n",
              "    border-radius: 50%;\n",
              "    cursor: pointer;\n",
              "    display: none;\n",
              "    fill: var(--fill-color);\n",
              "    height: 32px;\n",
              "    padding: 0;\n",
              "    width: 32px;\n",
              "  }\n",
              "\n",
              "  .colab-df-quickchart:hover {\n",
              "    background-color: var(--hover-bg-color);\n",
              "    box-shadow: 0 1px 2px rgba(60, 64, 67, 0.3), 0 1px 3px 1px rgba(60, 64, 67, 0.15);\n",
              "    fill: var(--button-hover-fill-color);\n",
              "  }\n",
              "\n",
              "  .colab-df-quickchart-complete:disabled,\n",
              "  .colab-df-quickchart-complete:disabled:hover {\n",
              "    background-color: var(--disabled-bg-color);\n",
              "    fill: var(--disabled-fill-color);\n",
              "    box-shadow: none;\n",
              "  }\n",
              "\n",
              "  .colab-df-spinner {\n",
              "    border: 2px solid var(--fill-color);\n",
              "    border-color: transparent;\n",
              "    border-bottom-color: var(--fill-color);\n",
              "    animation:\n",
              "      spin 1s steps(1) infinite;\n",
              "  }\n",
              "\n",
              "  @keyframes spin {\n",
              "    0% {\n",
              "      border-color: transparent;\n",
              "      border-bottom-color: var(--fill-color);\n",
              "      border-left-color: var(--fill-color);\n",
              "    }\n",
              "    20% {\n",
              "      border-color: transparent;\n",
              "      border-left-color: var(--fill-color);\n",
              "      border-top-color: var(--fill-color);\n",
              "    }\n",
              "    30% {\n",
              "      border-color: transparent;\n",
              "      border-left-color: var(--fill-color);\n",
              "      border-top-color: var(--fill-color);\n",
              "      border-right-color: var(--fill-color);\n",
              "    }\n",
              "    40% {\n",
              "      border-color: transparent;\n",
              "      border-right-color: var(--fill-color);\n",
              "      border-top-color: var(--fill-color);\n",
              "    }\n",
              "    60% {\n",
              "      border-color: transparent;\n",
              "      border-right-color: var(--fill-color);\n",
              "    }\n",
              "    80% {\n",
              "      border-color: transparent;\n",
              "      border-right-color: var(--fill-color);\n",
              "      border-bottom-color: var(--fill-color);\n",
              "    }\n",
              "    90% {\n",
              "      border-color: transparent;\n",
              "      border-bottom-color: var(--fill-color);\n",
              "    }\n",
              "  }\n",
              "</style>\n",
              "\n",
              "      <script>\n",
              "        async function quickchart(key) {\n",
              "          const quickchartButtonEl =\n",
              "            document.querySelector('#' + key + ' button');\n",
              "          quickchartButtonEl.disabled = true;  // To prevent multiple clicks.\n",
              "          quickchartButtonEl.classList.add('colab-df-spinner');\n",
              "          try {\n",
              "            const charts = await google.colab.kernel.invokeFunction(\n",
              "                'suggestCharts', [key], {});\n",
              "          } catch (error) {\n",
              "            console.error('Error during call to suggestCharts:', error);\n",
              "          }\n",
              "          quickchartButtonEl.classList.remove('colab-df-spinner');\n",
              "          quickchartButtonEl.classList.add('colab-df-quickchart-complete');\n",
              "        }\n",
              "        (() => {\n",
              "          let quickchartButtonEl =\n",
              "            document.querySelector('#df-518fbae1-a16e-407a-a73e-4441aa9ffdad button');\n",
              "          quickchartButtonEl.style.display =\n",
              "            google.colab.kernel.accessAllowed ? 'block' : 'none';\n",
              "        })();\n",
              "      </script>\n",
              "    </div>\n",
              "\n",
              "    </div>\n",
              "  </div>\n"
            ],
            "application/vnd.google.colaboratory.intrinsic+json": {
              "type": "dataframe",
              "variable_name": "rentabilidad",
              "summary": "{\n  \"name\": \"rentabilidad\",\n  \"rows\": 15750,\n  \"fields\": [\n    {\n      \"column\": \"sku\",\n      \"properties\": {\n        \"dtype\": \"string\",\n        \"num_unique_values\": 15748,\n        \"samples\": [\n          \"CJ-MOTB-3P\",\n          \"POHE-13C\",\n          \"ABT-223\"\n        ],\n        \"semantic_type\": \"\",\n        \"description\": \"\"\n      }\n    },\n    {\n      \"column\": \"Pago a TRUPER\",\n      \"properties\": {\n        \"dtype\": \"category\",\n        \"num_unique_values\": 1458,\n        \"samples\": [\n          3975.22843,\n          119.01189000000001,\n          164.63461\n        ],\n        \"semantic_type\": \"\",\n        \"description\": \"\"\n      }\n    }\n  ]\n}"
            }
          },
          "metadata": {},
          "execution_count": 205
        }
      ]
    },
    {
      "cell_type": "code",
      "source": [
        "df = pd.merge(df, rentabilidad, on='sku', how='left')\n",
        "df['Pago a TRUPER'].fillna(0, inplace=True)\n",
        "df.head()"
      ],
      "metadata": {
        "colab": {
          "base_uri": "https://localhost:8080/",
          "height": 516
        },
        "id": "AQgVEapFRek4",
        "outputId": "6a04bc28-a872-4415-a13d-786b0cbf9c8b"
      },
      "execution_count": 206,
      "outputs": [
        {
          "output_type": "execute_result",
          "data": {
            "text/plain": [
              "  Cuenta             order-id    order-item-id purchase-date  \\\n",
              "0  Tejon  701-5852943-4588233  130543301357361    09/06/2025   \n",
              "1  Tejon  702-5883091-4028251  130581162862921    10/06/2025   \n",
              "2  Tejon  702-7520478-0944269  130578483906281    10/06/2025   \n",
              "3  Tejon  702-8859585-3223453  130584017252641    10/06/2025   \n",
              "4  Tejon  702-0055786-0647439  130592689702481    10/06/2025   \n",
              "\n",
              "               payments-date                                buyer-email  \\\n",
              "0  2025-06-09T22:16:17+00:00  lspzc99jy8x17dm@marketplace.amazon.com.mx   \n",
              "1  2025-06-10T00:50:20+00:00  6w1cgzyyg66jtfr@marketplace.amazon.com.mx   \n",
              "2  2025-06-10T02:42:56+00:00  fyg6tfk3nwcjh01@marketplace.amazon.com.mx   \n",
              "3  2025-06-10T05:30:54+00:00  3w8chqk6h0s22bj@marketplace.amazon.com.mx   \n",
              "4  2025-06-10T15:24:21+00:00  hbmd7l5980k826l@marketplace.amazon.com.mx   \n",
              "\n",
              "                           buyer-name payment-method-details  \\\n",
              "0                       Abraham Gomez             CreditCard   \n",
              "1  jacqueline monserrat ortiz jimenez           Installments   \n",
              "2                       Cecilia Amaya           Installments   \n",
              "3         Conce Rodriguez de Barragan             CreditCard   \n",
              "4                    Cristina Quintal             CreditCard   \n",
              "\n",
              "  buyer-phone-number           sku  ... is-premium-order  customized-url  \\\n",
              "0                NaN        ESE-16  ...            False             NaN   \n",
              "1                NaN         16026  ...            False             NaN   \n",
              "2                NaN        EST-36  ...            False             NaN   \n",
              "3                NaN  HZ-X0SM-WFIG  ...            False             NaN   \n",
              "4                NaN         16744  ...            False             NaN   \n",
              "\n",
              "  customized-page  is-replacement-order  is-exchange-order  original-order-id  \\\n",
              "0             NaN                 False              False                NaN   \n",
              "1             NaN                 False              False                NaN   \n",
              "2             NaN                 False              False                NaN   \n",
              "3             NaN                 False              False                NaN   \n",
              "4             NaN                 False              False                NaN   \n",
              "\n",
              "   is-transparency is-buyer-requested-cancellation  \\\n",
              "0            False                           False   \n",
              "1            False                           False   \n",
              "2            False                           False   \n",
              "3            False                           False   \n",
              "4            False                           False   \n",
              "\n",
              "  buyer-requested-cancel-reason Pago a TRUPER  \n",
              "0                           NaN    1861.93738  \n",
              "1                           NaN       0.00000  \n",
              "2                           NaN    1202.50164  \n",
              "3                           NaN       0.00000  \n",
              "4                           NaN       0.00000  \n",
              "\n",
              "[5 rows x 59 columns]"
            ],
            "text/html": [
              "\n",
              "  <div id=\"df-2d85d892-128c-4831-b55b-48d6c1e2d4a5\" class=\"colab-df-container\">\n",
              "    <div>\n",
              "<style scoped>\n",
              "    .dataframe tbody tr th:only-of-type {\n",
              "        vertical-align: middle;\n",
              "    }\n",
              "\n",
              "    .dataframe tbody tr th {\n",
              "        vertical-align: top;\n",
              "    }\n",
              "\n",
              "    .dataframe thead th {\n",
              "        text-align: right;\n",
              "    }\n",
              "</style>\n",
              "<table border=\"1\" class=\"dataframe\">\n",
              "  <thead>\n",
              "    <tr style=\"text-align: right;\">\n",
              "      <th></th>\n",
              "      <th>Cuenta</th>\n",
              "      <th>order-id</th>\n",
              "      <th>order-item-id</th>\n",
              "      <th>purchase-date</th>\n",
              "      <th>payments-date</th>\n",
              "      <th>buyer-email</th>\n",
              "      <th>buyer-name</th>\n",
              "      <th>payment-method-details</th>\n",
              "      <th>buyer-phone-number</th>\n",
              "      <th>sku</th>\n",
              "      <th>...</th>\n",
              "      <th>is-premium-order</th>\n",
              "      <th>customized-url</th>\n",
              "      <th>customized-page</th>\n",
              "      <th>is-replacement-order</th>\n",
              "      <th>is-exchange-order</th>\n",
              "      <th>original-order-id</th>\n",
              "      <th>is-transparency</th>\n",
              "      <th>is-buyer-requested-cancellation</th>\n",
              "      <th>buyer-requested-cancel-reason</th>\n",
              "      <th>Pago a TRUPER</th>\n",
              "    </tr>\n",
              "  </thead>\n",
              "  <tbody>\n",
              "    <tr>\n",
              "      <th>0</th>\n",
              "      <td>Tejon</td>\n",
              "      <td>701-5852943-4588233</td>\n",
              "      <td>130543301357361</td>\n",
              "      <td>09/06/2025</td>\n",
              "      <td>2025-06-09T22:16:17+00:00</td>\n",
              "      <td>lspzc99jy8x17dm@marketplace.amazon.com.mx</td>\n",
              "      <td>Abraham Gomez</td>\n",
              "      <td>CreditCard</td>\n",
              "      <td>NaN</td>\n",
              "      <td>ESE-16</td>\n",
              "      <td>...</td>\n",
              "      <td>False</td>\n",
              "      <td>NaN</td>\n",
              "      <td>NaN</td>\n",
              "      <td>False</td>\n",
              "      <td>False</td>\n",
              "      <td>NaN</td>\n",
              "      <td>False</td>\n",
              "      <td>False</td>\n",
              "      <td>NaN</td>\n",
              "      <td>1861.93738</td>\n",
              "    </tr>\n",
              "    <tr>\n",
              "      <th>1</th>\n",
              "      <td>Tejon</td>\n",
              "      <td>702-5883091-4028251</td>\n",
              "      <td>130581162862921</td>\n",
              "      <td>10/06/2025</td>\n",
              "      <td>2025-06-10T00:50:20+00:00</td>\n",
              "      <td>6w1cgzyyg66jtfr@marketplace.amazon.com.mx</td>\n",
              "      <td>jacqueline monserrat ortiz jimenez</td>\n",
              "      <td>Installments</td>\n",
              "      <td>NaN</td>\n",
              "      <td>16026</td>\n",
              "      <td>...</td>\n",
              "      <td>False</td>\n",
              "      <td>NaN</td>\n",
              "      <td>NaN</td>\n",
              "      <td>False</td>\n",
              "      <td>False</td>\n",
              "      <td>NaN</td>\n",
              "      <td>False</td>\n",
              "      <td>False</td>\n",
              "      <td>NaN</td>\n",
              "      <td>0.00000</td>\n",
              "    </tr>\n",
              "    <tr>\n",
              "      <th>2</th>\n",
              "      <td>Tejon</td>\n",
              "      <td>702-7520478-0944269</td>\n",
              "      <td>130578483906281</td>\n",
              "      <td>10/06/2025</td>\n",
              "      <td>2025-06-10T02:42:56+00:00</td>\n",
              "      <td>fyg6tfk3nwcjh01@marketplace.amazon.com.mx</td>\n",
              "      <td>Cecilia Amaya</td>\n",
              "      <td>Installments</td>\n",
              "      <td>NaN</td>\n",
              "      <td>EST-36</td>\n",
              "      <td>...</td>\n",
              "      <td>False</td>\n",
              "      <td>NaN</td>\n",
              "      <td>NaN</td>\n",
              "      <td>False</td>\n",
              "      <td>False</td>\n",
              "      <td>NaN</td>\n",
              "      <td>False</td>\n",
              "      <td>False</td>\n",
              "      <td>NaN</td>\n",
              "      <td>1202.50164</td>\n",
              "    </tr>\n",
              "    <tr>\n",
              "      <th>3</th>\n",
              "      <td>Tejon</td>\n",
              "      <td>702-8859585-3223453</td>\n",
              "      <td>130584017252641</td>\n",
              "      <td>10/06/2025</td>\n",
              "      <td>2025-06-10T05:30:54+00:00</td>\n",
              "      <td>3w8chqk6h0s22bj@marketplace.amazon.com.mx</td>\n",
              "      <td>Conce Rodriguez de Barragan</td>\n",
              "      <td>CreditCard</td>\n",
              "      <td>NaN</td>\n",
              "      <td>HZ-X0SM-WFIG</td>\n",
              "      <td>...</td>\n",
              "      <td>False</td>\n",
              "      <td>NaN</td>\n",
              "      <td>NaN</td>\n",
              "      <td>False</td>\n",
              "      <td>False</td>\n",
              "      <td>NaN</td>\n",
              "      <td>False</td>\n",
              "      <td>False</td>\n",
              "      <td>NaN</td>\n",
              "      <td>0.00000</td>\n",
              "    </tr>\n",
              "    <tr>\n",
              "      <th>4</th>\n",
              "      <td>Tejon</td>\n",
              "      <td>702-0055786-0647439</td>\n",
              "      <td>130592689702481</td>\n",
              "      <td>10/06/2025</td>\n",
              "      <td>2025-06-10T15:24:21+00:00</td>\n",
              "      <td>hbmd7l5980k826l@marketplace.amazon.com.mx</td>\n",
              "      <td>Cristina Quintal</td>\n",
              "      <td>CreditCard</td>\n",
              "      <td>NaN</td>\n",
              "      <td>16744</td>\n",
              "      <td>...</td>\n",
              "      <td>False</td>\n",
              "      <td>NaN</td>\n",
              "      <td>NaN</td>\n",
              "      <td>False</td>\n",
              "      <td>False</td>\n",
              "      <td>NaN</td>\n",
              "      <td>False</td>\n",
              "      <td>False</td>\n",
              "      <td>NaN</td>\n",
              "      <td>0.00000</td>\n",
              "    </tr>\n",
              "  </tbody>\n",
              "</table>\n",
              "<p>5 rows × 59 columns</p>\n",
              "</div>\n",
              "    <div class=\"colab-df-buttons\">\n",
              "\n",
              "  <div class=\"colab-df-container\">\n",
              "    <button class=\"colab-df-convert\" onclick=\"convertToInteractive('df-2d85d892-128c-4831-b55b-48d6c1e2d4a5')\"\n",
              "            title=\"Convert this dataframe to an interactive table.\"\n",
              "            style=\"display:none;\">\n",
              "\n",
              "  <svg xmlns=\"http://www.w3.org/2000/svg\" height=\"24px\" viewBox=\"0 -960 960 960\">\n",
              "    <path d=\"M120-120v-720h720v720H120Zm60-500h600v-160H180v160Zm220 220h160v-160H400v160Zm0 220h160v-160H400v160ZM180-400h160v-160H180v160Zm440 0h160v-160H620v160ZM180-180h160v-160H180v160Zm440 0h160v-160H620v160Z\"/>\n",
              "  </svg>\n",
              "    </button>\n",
              "\n",
              "  <style>\n",
              "    .colab-df-container {\n",
              "      display:flex;\n",
              "      gap: 12px;\n",
              "    }\n",
              "\n",
              "    .colab-df-convert {\n",
              "      background-color: #E8F0FE;\n",
              "      border: none;\n",
              "      border-radius: 50%;\n",
              "      cursor: pointer;\n",
              "      display: none;\n",
              "      fill: #1967D2;\n",
              "      height: 32px;\n",
              "      padding: 0 0 0 0;\n",
              "      width: 32px;\n",
              "    }\n",
              "\n",
              "    .colab-df-convert:hover {\n",
              "      background-color: #E2EBFA;\n",
              "      box-shadow: 0px 1px 2px rgba(60, 64, 67, 0.3), 0px 1px 3px 1px rgba(60, 64, 67, 0.15);\n",
              "      fill: #174EA6;\n",
              "    }\n",
              "\n",
              "    .colab-df-buttons div {\n",
              "      margin-bottom: 4px;\n",
              "    }\n",
              "\n",
              "    [theme=dark] .colab-df-convert {\n",
              "      background-color: #3B4455;\n",
              "      fill: #D2E3FC;\n",
              "    }\n",
              "\n",
              "    [theme=dark] .colab-df-convert:hover {\n",
              "      background-color: #434B5C;\n",
              "      box-shadow: 0px 1px 3px 1px rgba(0, 0, 0, 0.15);\n",
              "      filter: drop-shadow(0px 1px 2px rgba(0, 0, 0, 0.3));\n",
              "      fill: #FFFFFF;\n",
              "    }\n",
              "  </style>\n",
              "\n",
              "    <script>\n",
              "      const buttonEl =\n",
              "        document.querySelector('#df-2d85d892-128c-4831-b55b-48d6c1e2d4a5 button.colab-df-convert');\n",
              "      buttonEl.style.display =\n",
              "        google.colab.kernel.accessAllowed ? 'block' : 'none';\n",
              "\n",
              "      async function convertToInteractive(key) {\n",
              "        const element = document.querySelector('#df-2d85d892-128c-4831-b55b-48d6c1e2d4a5');\n",
              "        const dataTable =\n",
              "          await google.colab.kernel.invokeFunction('convertToInteractive',\n",
              "                                                    [key], {});\n",
              "        if (!dataTable) return;\n",
              "\n",
              "        const docLinkHtml = 'Like what you see? Visit the ' +\n",
              "          '<a target=\"_blank\" href=https://colab.research.google.com/notebooks/data_table.ipynb>data table notebook</a>'\n",
              "          + ' to learn more about interactive tables.';\n",
              "        element.innerHTML = '';\n",
              "        dataTable['output_type'] = 'display_data';\n",
              "        await google.colab.output.renderOutput(dataTable, element);\n",
              "        const docLink = document.createElement('div');\n",
              "        docLink.innerHTML = docLinkHtml;\n",
              "        element.appendChild(docLink);\n",
              "      }\n",
              "    </script>\n",
              "  </div>\n",
              "\n",
              "\n",
              "    <div id=\"df-3fa9c2cb-3b56-4c72-ad5b-448c90381f9e\">\n",
              "      <button class=\"colab-df-quickchart\" onclick=\"quickchart('df-3fa9c2cb-3b56-4c72-ad5b-448c90381f9e')\"\n",
              "                title=\"Suggest charts\"\n",
              "                style=\"display:none;\">\n",
              "\n",
              "<svg xmlns=\"http://www.w3.org/2000/svg\" height=\"24px\"viewBox=\"0 0 24 24\"\n",
              "     width=\"24px\">\n",
              "    <g>\n",
              "        <path d=\"M19 3H5c-1.1 0-2 .9-2 2v14c0 1.1.9 2 2 2h14c1.1 0 2-.9 2-2V5c0-1.1-.9-2-2-2zM9 17H7v-7h2v7zm4 0h-2V7h2v10zm4 0h-2v-4h2v4z\"/>\n",
              "    </g>\n",
              "</svg>\n",
              "      </button>\n",
              "\n",
              "<style>\n",
              "  .colab-df-quickchart {\n",
              "      --bg-color: #E8F0FE;\n",
              "      --fill-color: #1967D2;\n",
              "      --hover-bg-color: #E2EBFA;\n",
              "      --hover-fill-color: #174EA6;\n",
              "      --disabled-fill-color: #AAA;\n",
              "      --disabled-bg-color: #DDD;\n",
              "  }\n",
              "\n",
              "  [theme=dark] .colab-df-quickchart {\n",
              "      --bg-color: #3B4455;\n",
              "      --fill-color: #D2E3FC;\n",
              "      --hover-bg-color: #434B5C;\n",
              "      --hover-fill-color: #FFFFFF;\n",
              "      --disabled-bg-color: #3B4455;\n",
              "      --disabled-fill-color: #666;\n",
              "  }\n",
              "\n",
              "  .colab-df-quickchart {\n",
              "    background-color: var(--bg-color);\n",
              "    border: none;\n",
              "    border-radius: 50%;\n",
              "    cursor: pointer;\n",
              "    display: none;\n",
              "    fill: var(--fill-color);\n",
              "    height: 32px;\n",
              "    padding: 0;\n",
              "    width: 32px;\n",
              "  }\n",
              "\n",
              "  .colab-df-quickchart:hover {\n",
              "    background-color: var(--hover-bg-color);\n",
              "    box-shadow: 0 1px 2px rgba(60, 64, 67, 0.3), 0 1px 3px 1px rgba(60, 64, 67, 0.15);\n",
              "    fill: var(--button-hover-fill-color);\n",
              "  }\n",
              "\n",
              "  .colab-df-quickchart-complete:disabled,\n",
              "  .colab-df-quickchart-complete:disabled:hover {\n",
              "    background-color: var(--disabled-bg-color);\n",
              "    fill: var(--disabled-fill-color);\n",
              "    box-shadow: none;\n",
              "  }\n",
              "\n",
              "  .colab-df-spinner {\n",
              "    border: 2px solid var(--fill-color);\n",
              "    border-color: transparent;\n",
              "    border-bottom-color: var(--fill-color);\n",
              "    animation:\n",
              "      spin 1s steps(1) infinite;\n",
              "  }\n",
              "\n",
              "  @keyframes spin {\n",
              "    0% {\n",
              "      border-color: transparent;\n",
              "      border-bottom-color: var(--fill-color);\n",
              "      border-left-color: var(--fill-color);\n",
              "    }\n",
              "    20% {\n",
              "      border-color: transparent;\n",
              "      border-left-color: var(--fill-color);\n",
              "      border-top-color: var(--fill-color);\n",
              "    }\n",
              "    30% {\n",
              "      border-color: transparent;\n",
              "      border-left-color: var(--fill-color);\n",
              "      border-top-color: var(--fill-color);\n",
              "      border-right-color: var(--fill-color);\n",
              "    }\n",
              "    40% {\n",
              "      border-color: transparent;\n",
              "      border-right-color: var(--fill-color);\n",
              "      border-top-color: var(--fill-color);\n",
              "    }\n",
              "    60% {\n",
              "      border-color: transparent;\n",
              "      border-right-color: var(--fill-color);\n",
              "    }\n",
              "    80% {\n",
              "      border-color: transparent;\n",
              "      border-right-color: var(--fill-color);\n",
              "      border-bottom-color: var(--fill-color);\n",
              "    }\n",
              "    90% {\n",
              "      border-color: transparent;\n",
              "      border-bottom-color: var(--fill-color);\n",
              "    }\n",
              "  }\n",
              "</style>\n",
              "\n",
              "      <script>\n",
              "        async function quickchart(key) {\n",
              "          const quickchartButtonEl =\n",
              "            document.querySelector('#' + key + ' button');\n",
              "          quickchartButtonEl.disabled = true;  // To prevent multiple clicks.\n",
              "          quickchartButtonEl.classList.add('colab-df-spinner');\n",
              "          try {\n",
              "            const charts = await google.colab.kernel.invokeFunction(\n",
              "                'suggestCharts', [key], {});\n",
              "          } catch (error) {\n",
              "            console.error('Error during call to suggestCharts:', error);\n",
              "          }\n",
              "          quickchartButtonEl.classList.remove('colab-df-spinner');\n",
              "          quickchartButtonEl.classList.add('colab-df-quickchart-complete');\n",
              "        }\n",
              "        (() => {\n",
              "          let quickchartButtonEl =\n",
              "            document.querySelector('#df-3fa9c2cb-3b56-4c72-ad5b-448c90381f9e button');\n",
              "          quickchartButtonEl.style.display =\n",
              "            google.colab.kernel.accessAllowed ? 'block' : 'none';\n",
              "        })();\n",
              "      </script>\n",
              "    </div>\n",
              "\n",
              "    </div>\n",
              "  </div>\n"
            ],
            "application/vnd.google.colaboratory.intrinsic+json": {
              "type": "dataframe",
              "variable_name": "df"
            }
          },
          "metadata": {},
          "execution_count": 206
        }
      ]
    },
    {
      "cell_type": "markdown",
      "source": [
        "# Calculo de rentabilidad bruta"
      ],
      "metadata": {
        "id": "UC5tLoVGFrU1"
      }
    },
    {
      "cell_type": "code",
      "source": [
        "df['Total de envio'] = envio"
      ],
      "metadata": {
        "id": "ADkc1P_NFA98"
      },
      "execution_count": 207,
      "outputs": []
    },
    {
      "cell_type": "code",
      "source": [
        "valor_item = df['item-price'] - df['item-tax'] + df['shipping-price'] + df['shipping-tax']"
      ],
      "metadata": {
        "id": "pAknH3Y7kM4r"
      },
      "execution_count": 208,
      "outputs": []
    },
    {
      "cell_type": "code",
      "source": [
        "df['Rentabilidad bruta'] = valor_item - df['Total de envio'] - df['Pago a TRUPER']"
      ],
      "metadata": {
        "id": "BRw3BR3tlc0Z"
      },
      "execution_count": 209,
      "outputs": []
    },
    {
      "cell_type": "markdown",
      "source": [
        "# Limpiar datos de rentabilidad bruta"
      ],
      "metadata": {
        "id": "kOGHScb-GKEm"
      }
    },
    {
      "cell_type": "code",
      "source": [
        "df.loc[df['Pago a TRUPER'] <= 0, 'Rentabilidad bruta'] = 0"
      ],
      "metadata": {
        "id": "RQA-VjSdDPtE"
      },
      "execution_count": 210,
      "outputs": []
    },
    {
      "cell_type": "markdown",
      "source": [
        "# Retorno al remitente"
      ],
      "metadata": {
        "id": "fUPGFTfoGSP6"
      }
    },
    {
      "cell_type": "code",
      "source": [
        "df['Estatus de retorno al remitente'] = np.zeros(len(df))\n",
        "df['Estatus de retorno al remitente'].replace(0, '-', inplace=True)"
      ],
      "metadata": {
        "colab": {
          "base_uri": "https://localhost:8080/"
        },
        "id": "xHYHcxgTExUF",
        "outputId": "1520043a-28b6-4f5d-b790-5f0a03931a73"
      },
      "execution_count": 211,
      "outputs": [
        {
          "output_type": "stream",
          "name": "stderr",
          "text": [
            "/tmp/ipython-input-211-3522286145.py:2: FutureWarning: A value is trying to be set on a copy of a DataFrame or Series through chained assignment using an inplace method.\n",
            "The behavior will change in pandas 3.0. This inplace method will never work because the intermediate object on which we are setting values always behaves as a copy.\n",
            "\n",
            "For example, when doing 'df[col].method(value, inplace=True)', try using 'df.method({col: value}, inplace=True)' or df[col] = df[col].method(value) instead, to perform the operation inplace on the original object.\n",
            "\n",
            "\n",
            "  df['Estatus de retorno al remitente'].replace(0, '-', inplace=True)\n"
          ]
        }
      ]
    },
    {
      "cell_type": "code",
      "source": [
        "df['Servicio de mensajeria utilizado'] = np.zeros(len(df))\n",
        "df['Servicio de mensajeria utilizado'].replace(0, '-', inplace=True)"
      ],
      "metadata": {
        "colab": {
          "base_uri": "https://localhost:8080/"
        },
        "id": "6RG3g9vbGfmV",
        "outputId": "4a54b758-c601-4bf2-c3ea-e0b2a28c16f1"
      },
      "execution_count": 212,
      "outputs": [
        {
          "output_type": "stream",
          "name": "stderr",
          "text": [
            "/tmp/ipython-input-212-896123308.py:2: FutureWarning: A value is trying to be set on a copy of a DataFrame or Series through chained assignment using an inplace method.\n",
            "The behavior will change in pandas 3.0. This inplace method will never work because the intermediate object on which we are setting values always behaves as a copy.\n",
            "\n",
            "For example, when doing 'df[col].method(value, inplace=True)', try using 'df.method({col: value}, inplace=True)' or df[col] = df[col].method(value) instead, to perform the operation inplace on the original object.\n",
            "\n",
            "\n",
            "  df['Servicio de mensajeria utilizado'].replace(0, '-', inplace=True)\n"
          ]
        }
      ]
    },
    {
      "cell_type": "markdown",
      "source": [
        "## Tarifas y comisiones de Amazon\n",
        "Calcula:\n",
        "- Tarifas de Amazon\n",
        "- Comisión que cobra Amazon\n",
        "- Costo de la etiqueta de retorno\n",
        "- Costo de la etiqueta de envio"
      ],
      "metadata": {
        "id": "lfeLj05sGU8z"
      }
    },
    {
      "cell_type": "code",
      "source": [
        "df['Tarifas de Amazon'] = df['item-tax'] * 0.92802021 * -1\n",
        "df['Comision de Amazon'] = (df['item-tax'] + df['Tarifas de Amazon']) * -1"
      ],
      "metadata": {
        "id": "Nf23tqTcGcen"
      },
      "execution_count": 213,
      "outputs": []
    },
    {
      "cell_type": "code",
      "source": [
        "df['Costo de la etiqueta de retorno'] = np.zeros(len(df))"
      ],
      "metadata": {
        "id": "5_RCP5NLURex"
      },
      "execution_count": 214,
      "outputs": []
    },
    {
      "cell_type": "code",
      "source": [
        "df['Costo de la etiqueta de envio'] = df['Total de envio'] * -1"
      ],
      "metadata": {
        "id": "pvRgmUnHUZ_Z"
      },
      "execution_count": 215,
      "outputs": []
    },
    {
      "cell_type": "markdown",
      "source": [
        "## Limpieza de los campos de tarifas"
      ],
      "metadata": {
        "id": "lJQZ5-BSXYo6"
      }
    },
    {
      "cell_type": "code",
      "source": [
        "df.loc[df['Estatus de retorno al remitente'] == '-', 'Tarifas de Amazon'] = np.nan\n",
        "df.loc[df['Estatus de retorno al remitente'] == '-', 'Comision de Amazon'] = np.nan\n",
        "df.loc[df['Estatus de retorno al remitente'] == '-', 'Costo de la etiqueta de retorno'] = np.nan\n",
        "df.loc[df['Estatus de retorno al remitente'] == '-', 'Costo de la etiqueta de envio'] = np.nan"
      ],
      "metadata": {
        "id": "HCNc4nEkXYNx"
      },
      "execution_count": 216,
      "outputs": []
    },
    {
      "cell_type": "markdown",
      "source": [
        "# Devolución solicitada por le comprador"
      ],
      "metadata": {
        "id": "MCU3I7jXkkJs"
      }
    },
    {
      "cell_type": "code",
      "source": [
        "df['Devolución solicitada por el comprador'] = np.zeros(len(df))\n",
        "df['Devolución solicitada por el comprador'].replace(0, '-', inplace=True)"
      ],
      "metadata": {
        "colab": {
          "base_uri": "https://localhost:8080/"
        },
        "id": "B34t_HBJkpWM",
        "outputId": "3561fe4e-4b6f-4622-9a88-2523c9da7243"
      },
      "execution_count": 217,
      "outputs": [
        {
          "output_type": "stream",
          "name": "stderr",
          "text": [
            "/tmp/ipython-input-217-2722104451.py:2: FutureWarning: A value is trying to be set on a copy of a DataFrame or Series through chained assignment using an inplace method.\n",
            "The behavior will change in pandas 3.0. This inplace method will never work because the intermediate object on which we are setting values always behaves as a copy.\n",
            "\n",
            "For example, when doing 'df[col].method(value, inplace=True)', try using 'df.method({col: value}, inplace=True)' or df[col] = df[col].method(value) instead, to perform the operation inplace on the original object.\n",
            "\n",
            "\n",
            "  df['Devolución solicitada por el comprador'].replace(0, '-', inplace=True)\n"
          ]
        }
      ]
    },
    {
      "cell_type": "code",
      "source": [
        "df['Estatus de la devolución/paqueteria'] = np.zeros(len(df))\n",
        "df['Estatus de la devolución/paqueteria'].replace(0, '-', inplace=True)"
      ],
      "metadata": {
        "colab": {
          "base_uri": "https://localhost:8080/"
        },
        "id": "Dr3xXA7Okue1",
        "outputId": "ba55a2c1-6dc6-43a3-e685-7ba287c6d79e"
      },
      "execution_count": 218,
      "outputs": [
        {
          "output_type": "stream",
          "name": "stderr",
          "text": [
            "/tmp/ipython-input-218-2070498004.py:2: FutureWarning: A value is trying to be set on a copy of a DataFrame or Series through chained assignment using an inplace method.\n",
            "The behavior will change in pandas 3.0. This inplace method will never work because the intermediate object on which we are setting values always behaves as a copy.\n",
            "\n",
            "For example, when doing 'df[col].method(value, inplace=True)', try using 'df.method({col: value}, inplace=True)' or df[col] = df[col].method(value) instead, to perform the operation inplace on the original object.\n",
            "\n",
            "\n",
            "  df['Estatus de la devolución/paqueteria'].replace(0, '-', inplace=True)\n"
          ]
        }
      ]
    },
    {
      "cell_type": "code",
      "source": [
        "df['Estatus del reembolso de la devolucion'] = np.zeros(len(df))\n",
        "df['Estatus del reembolso de la devolucion'].replace(0, '-', inplace=True)"
      ],
      "metadata": {
        "colab": {
          "base_uri": "https://localhost:8080/"
        },
        "id": "TWNyb4y9k0Fj",
        "outputId": "dd5b2206-6043-4b24-e060-baa6e643de99"
      },
      "execution_count": 219,
      "outputs": [
        {
          "output_type": "stream",
          "name": "stderr",
          "text": [
            "/tmp/ipython-input-219-2919290632.py:2: FutureWarning: A value is trying to be set on a copy of a DataFrame or Series through chained assignment using an inplace method.\n",
            "The behavior will change in pandas 3.0. This inplace method will never work because the intermediate object on which we are setting values always behaves as a copy.\n",
            "\n",
            "For example, when doing 'df[col].method(value, inplace=True)', try using 'df.method({col: value}, inplace=True)' or df[col] = df[col].method(value) instead, to perform the operation inplace on the original object.\n",
            "\n",
            "\n",
            "  df['Estatus del reembolso de la devolucion'].replace(0, '-', inplace=True)\n"
          ]
        }
      ]
    },
    {
      "cell_type": "markdown",
      "source": [
        "## Tarifas y comisiones de amazon"
      ],
      "metadata": {
        "id": "sHO_UcZblCz-"
      }
    },
    {
      "cell_type": "code",
      "source": [
        "df['Comision que cobra Amazon - Devolucion'] = (df['item-tax'] + df['Tarifas de Amazon']) * -1"
      ],
      "metadata": {
        "id": "E3s9uonelOMP"
      },
      "execution_count": 220,
      "outputs": []
    },
    {
      "cell_type": "code",
      "source": [
        "df['Costo de la etiqueta de devolucion'] = np.zeros(len(df))"
      ],
      "metadata": {
        "id": "Daf2B_ZblwpU"
      },
      "execution_count": 221,
      "outputs": []
    },
    {
      "cell_type": "code",
      "source": [
        "df['Costo de la etiqueta de envio de devolucion'] = df['Total de envio'] * -1"
      ],
      "metadata": {
        "id": "H1QiGyLBl5Rk"
      },
      "execution_count": 222,
      "outputs": []
    },
    {
      "cell_type": "code",
      "source": [
        "df['Costo del producto'] = df['Costo de la etiqueta de devolucion']"
      ],
      "metadata": {
        "id": "wd_QyJcGmFzF"
      },
      "execution_count": 223,
      "outputs": []
    },
    {
      "cell_type": "markdown",
      "source": [
        "## Limpieza de datos de devolución"
      ],
      "metadata": {
        "id": "4AyNYqlImupm"
      }
    },
    {
      "cell_type": "code",
      "source": [
        "df.loc[df['Devolución solicitada por el comprador'] == '-', 'Comision que cobra Amazon - Devolucion'] = np.nan\n",
        "df.loc[df['Devolución solicitada por el comprador'] == '-', 'Costo de la etiqueta de devolucion'] = np.nan\n",
        "df.loc[df['Devolución solicitada por el comprador'] == '-', 'Costo de la etiqueta de envio de devolucion'] = np.nan"
      ],
      "metadata": {
        "id": "XuNBADfxnF7V"
      },
      "execution_count": 224,
      "outputs": []
    },
    {
      "cell_type": "markdown",
      "source": [
        "# Reclamo AZ"
      ],
      "metadata": {
        "id": "HWMOrdfjnerd"
      }
    },
    {
      "cell_type": "code",
      "source": [
        "df['Reclamo AZ'] = np.zeros(len(df))\n",
        "df['Reclamo AZ'].replace(0, '-', inplace=True)"
      ],
      "metadata": {
        "colab": {
          "base_uri": "https://localhost:8080/"
        },
        "id": "-MSOtR7loAXd",
        "outputId": "2a42f42b-b89b-460f-d1d2-ce6cb74ee9cc"
      },
      "execution_count": 225,
      "outputs": [
        {
          "output_type": "stream",
          "name": "stderr",
          "text": [
            "/tmp/ipython-input-225-3888130070.py:2: FutureWarning: A value is trying to be set on a copy of a DataFrame or Series through chained assignment using an inplace method.\n",
            "The behavior will change in pandas 3.0. This inplace method will never work because the intermediate object on which we are setting values always behaves as a copy.\n",
            "\n",
            "For example, when doing 'df[col].method(value, inplace=True)', try using 'df.method({col: value}, inplace=True)' or df[col] = df[col].method(value) instead, to perform the operation inplace on the original object.\n",
            "\n",
            "\n",
            "  df['Reclamo AZ'].replace(0, '-', inplace=True)\n"
          ]
        }
      ]
    },
    {
      "cell_type": "markdown",
      "source": [
        "## Tarifas y comisiones de Amazon"
      ],
      "metadata": {
        "id": "yhPgeiKvow3N"
      }
    },
    {
      "cell_type": "code",
      "source": [
        "df['Comision que cobra Amazon - Reclamo AZ'] = (df['item-tax'] + df['Tarifas de Amazon']) * -1"
      ],
      "metadata": {
        "id": "cPKUinyooDFF"
      },
      "execution_count": 226,
      "outputs": []
    },
    {
      "cell_type": "code",
      "source": [
        "df['Costo de la etiqueta de envio - Reclamo AZ'] = np.zeros(len(df))"
      ],
      "metadata": {
        "id": "iW5SJo_Soafl"
      },
      "execution_count": 227,
      "outputs": []
    },
    {
      "cell_type": "code",
      "source": [
        "df['Costo del producto - Reclamo AZ'] = np.zeros(len(df))"
      ],
      "metadata": {
        "id": "Q7hrtD3NohH9"
      },
      "execution_count": 228,
      "outputs": []
    },
    {
      "cell_type": "markdown",
      "source": [
        "## Recuperación y afectación"
      ],
      "metadata": {
        "id": "CH_uiIR1o1Ne"
      }
    },
    {
      "cell_type": "code",
      "source": [
        "df['Recuperacion e indemnizacion'] = np.zeros(len(df))"
      ],
      "metadata": {
        "id": "28whIpL5omCc"
      },
      "execution_count": 229,
      "outputs": []
    },
    {
      "cell_type": "code",
      "source": [
        "df['Afectacion'] = np.zeros(len(df))\n",
        "df['Afectacion'].replace(0, '-', inplace=True)"
      ],
      "metadata": {
        "colab": {
          "base_uri": "https://localhost:8080/"
        },
        "id": "5u8tZhWuort1",
        "outputId": "272cdbe1-034c-4c71-bd09-ee95a9cb4598"
      },
      "execution_count": 230,
      "outputs": [
        {
          "output_type": "stream",
          "name": "stderr",
          "text": [
            "/tmp/ipython-input-230-2653180619.py:2: FutureWarning: A value is trying to be set on a copy of a DataFrame or Series through chained assignment using an inplace method.\n",
            "The behavior will change in pandas 3.0. This inplace method will never work because the intermediate object on which we are setting values always behaves as a copy.\n",
            "\n",
            "For example, when doing 'df[col].method(value, inplace=True)', try using 'df.method({col: value}, inplace=True)' or df[col] = df[col].method(value) instead, to perform the operation inplace on the original object.\n",
            "\n",
            "\n",
            "  df['Afectacion'].replace(0, '-', inplace=True)\n"
          ]
        }
      ]
    },
    {
      "cell_type": "markdown",
      "source": [
        "## Limpieza de datos de reclamos"
      ],
      "metadata": {
        "id": "jewoMSDVo7EF"
      }
    },
    {
      "cell_type": "code",
      "source": [
        "df.loc[df['Reclamo AZ'] == '-', 'Comision que cobra Amazon - Reclamo AZ'] = np.nan\n",
        "df.loc[df['Reclamo AZ'] == '-', 'Costo de la etiqueta de envio - Reclamo AZ'] = np.nan\n",
        "df.loc[df['Reclamo AZ'] == '-', 'Costo del producto - Reclamo AZ'] = np.nan\n",
        "df.loc[df['Reclamo AZ'] == '-', 'Recuperacion e indemnizacion'] = np.nan\n",
        "df.loc[df['Reclamo AZ'] == '-', 'Afectacion'] = np.nan"
      ],
      "metadata": {
        "id": "tfNoAUpno9XV"
      },
      "execution_count": 231,
      "outputs": []
    },
    {
      "cell_type": "markdown",
      "source": [
        "# Creacion del documento de Excel"
      ],
      "metadata": {
        "id": "TKj2idreVWxJ"
      }
    },
    {
      "cell_type": "code",
      "source": [
        "writer = pd.ExcelWriter('Reporte de pedidos.xlsx', engine='xlsxwriter')\n",
        "df.to_excel(writer, sheet_name='Reporte', index=False)"
      ],
      "metadata": {
        "id": "JELd02UQqjLR"
      },
      "execution_count": 232,
      "outputs": []
    },
    {
      "cell_type": "code",
      "source": [
        "workbook = writer.book\n",
        "worksheet = writer.sheets['Reporte']"
      ],
      "metadata": {
        "id": "8-Ec5c--q_EP"
      },
      "execution_count": 233,
      "outputs": []
    },
    {
      "cell_type": "code",
      "source": [
        "currency_format = workbook.add_format({'num_format': '$#,##0.00'})"
      ],
      "metadata": {
        "id": "FTVKUmAxrCwp"
      },
      "execution_count": 234,
      "outputs": []
    },
    {
      "cell_type": "code",
      "source": [
        "worksheet.set_column('R:Y', 15, currency_format)\n",
        "worksheet.set_column('AR:AT', 15, currency_format)"
      ],
      "metadata": {
        "colab": {
          "base_uri": "https://localhost:8080/"
        },
        "id": "oeUrV4oarF5Q",
        "outputId": "5b72cd7c-7db2-4711-eb09-5889dafc215e"
      },
      "execution_count": 235,
      "outputs": [
        {
          "output_type": "execute_result",
          "data": {
            "text/plain": [
              "0"
            ]
          },
          "metadata": {},
          "execution_count": 235
        }
      ]
    },
    {
      "cell_type": "code",
      "source": [
        "writer.close()"
      ],
      "metadata": {
        "id": "o4WQGQksq9xp"
      },
      "execution_count": 236,
      "outputs": []
    }
  ]
}