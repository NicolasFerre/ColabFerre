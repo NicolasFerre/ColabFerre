{
  "nbformat": 4,
  "nbformat_minor": 0,
  "metadata": {
    "colab": {
      "provenance": [],
      "authorship_tag": "ABX9TyN5m96s+BNQABEYoFamlGZG",
      "include_colab_link": true
    },
    "kernelspec": {
      "name": "python3",
      "display_name": "Python 3"
    },
    "language_info": {
      "name": "python"
    }
  },
  "cells": [
    {
      "cell_type": "markdown",
      "metadata": {
        "id": "view-in-github",
        "colab_type": "text"
      },
      "source": [
        "<a href=\"https://colab.research.google.com/github/NicolasFerre/ColabFerre/blob/dev/Archivo_de_descuentos.ipynb\" target=\"_parent\"><img src=\"https://colab.research.google.com/assets/colab-badge.svg\" alt=\"Open In Colab\"/></a>"
      ]
    },
    {
      "cell_type": "markdown",
      "source": [
        "# Librerías necesarias"
      ],
      "metadata": {
        "id": "MdcSgMaycBkF"
      }
    },
    {
      "cell_type": "code",
      "source": [
        "!pip install xlsxwriter"
      ],
      "metadata": {
        "colab": {
          "base_uri": "https://localhost:8080/"
        },
        "id": "ohOX8kICcXa5",
        "outputId": "0fafe12f-7d51-49f8-e5cf-891c45b7d9d0"
      },
      "execution_count": null,
      "outputs": [
        {
          "output_type": "stream",
          "name": "stdout",
          "text": [
            "Requirement already satisfied: xlsxwriter in /usr/local/lib/python3.11/dist-packages (3.2.5)\n"
          ]
        }
      ]
    },
    {
      "cell_type": "code",
      "execution_count": null,
      "metadata": {
        "id": "y8_amWTRQfty"
      },
      "outputs": [],
      "source": [
        "import pandas as pd\n",
        "import numpy as np\n",
        "from datetime import datetime, timedelta\n",
        "from openpyxl import load_workbook\n",
        "from openpyxl.styles import PatternFill, Border, Side, Alignment, Protection, Font\n",
        "from openpyxl.utils import column_index_from_string, get_column_letter"
      ]
    },
    {
      "cell_type": "code",
      "source": [
        "fecha_hoy = datetime.now().weekday()\n",
        "if fecha_hoy == 0:\n",
        "  fecha = str(datetime.strftime(datetime.now() - timedelta(2), \"%d-%m-%Y\"))\n",
        "else:\n",
        "  fecha = fecha = str(datetime.strftime(datetime.now() - timedelta(1), \"%d-%m-%Y\"))\n",
        "\n",
        "archivo = \"Reporte de descuentos \" + fecha + \".xlsx\""
      ],
      "metadata": {
        "id": "2JjdiRVeTa4S"
      },
      "execution_count": null,
      "outputs": []
    },
    {
      "cell_type": "markdown",
      "source": [
        "# Archivos necesarios"
      ],
      "metadata": {
        "id": "6oHajkDecGKc"
      }
    },
    {
      "cell_type": "code",
      "source": [
        "descuentos = pd.read_excel('Descuentos.xlsx', sheet_name=0, header = 9)\n",
        "ventas = pd.read_excel('Ventas.xlsx', sheet_name=0, header = 5)\n",
        "renglonaje = pd.read_excel(\"Renglonaje.xlsx\", sheet_name=0)"
      ],
      "metadata": {
        "colab": {
          "base_uri": "https://localhost:8080/"
        },
        "id": "-VQMuMkCLr5S",
        "outputId": "9cae6724-d673-4d5b-a7c3-058c3114f94d"
      },
      "execution_count": null,
      "outputs": [
        {
          "output_type": "stream",
          "name": "stderr",
          "text": [
            "/usr/local/lib/python3.11/dist-packages/openpyxl/styles/stylesheet.py:237: UserWarning: Workbook contains no default style, apply openpyxl's default\n",
            "  warn(\"Workbook contains no default style, apply openpyxl's default\")\n",
            "/usr/local/lib/python3.11/dist-packages/openpyxl/styles/stylesheet.py:237: UserWarning: Workbook contains no default style, apply openpyxl's default\n",
            "  warn(\"Workbook contains no default style, apply openpyxl's default\")\n"
          ]
        }
      ]
    },
    {
      "cell_type": "markdown",
      "source": [
        "Extraemos la columna Total y todas las formas de pago del archivo de ventas"
      ],
      "metadata": {
        "id": "8oDNmv21cKkd"
      }
    },
    {
      "cell_type": "code",
      "source": [
        "pagos = ventas.iloc[:,32:40]\n",
        "pagos['Folio'] = ventas['Folio']\n",
        "pagos = pagos.dropna()\n",
        "pagos = pagos.reset_index(drop=True)"
      ],
      "metadata": {
        "id": "AIeGrjaluZ4L"
      },
      "execution_count": null,
      "outputs": []
    },
    {
      "cell_type": "code",
      "source": [
        "try:\n",
        "  ofertas = pd.read_excel('Ofertas.xlsx', sheet_name=0, header = 1)\n",
        "  promos = ofertas[['Ean', 'Julio']]\n",
        "  promos.rename(columns={'Ean':'EAN', 'Julio':'Distribuidor'}, inplace=True)\n",
        "except:\n",
        "  data = {'EAN':[-1.1], 'Distribuidor':[0]}\n",
        "  promos = pd.DataFrame(data)\n"
      ],
      "metadata": {
        "colab": {
          "base_uri": "https://localhost:8080/"
        },
        "id": "CoCu6qJkJO-p",
        "outputId": "8d5fa586-8855-4c44-95f8-baf1584566dc"
      },
      "execution_count": null,
      "outputs": [
        {
          "output_type": "stream",
          "name": "stderr",
          "text": [
            "/tmp/ipython-input-25-528469239.py:4: SettingWithCopyWarning: \n",
            "A value is trying to be set on a copy of a slice from a DataFrame\n",
            "\n",
            "See the caveats in the documentation: https://pandas.pydata.org/pandas-docs/stable/user_guide/indexing.html#returning-a-view-versus-a-copy\n",
            "  promos.rename(columns={'Ean':'EAN', 'Julio':'Distribuidor'}, inplace=True)\n"
          ]
        }
      ]
    },
    {
      "cell_type": "markdown",
      "source": [
        "Convertimos las columnas de total de ambos documentos en numérico y las unimos"
      ],
      "metadata": {
        "id": "JvDsDEuvdEDs"
      }
    },
    {
      "cell_type": "code",
      "source": [
        "descuentos['Total'] = descuentos['Total'].str.strip().str.replace('$', '').str.replace(',', '').astype(float)\n",
        "df = descuentos.merge(pagos, on='Folio', how='left')"
      ],
      "metadata": {
        "id": "KiYvmMB30Eqp"
      },
      "execution_count": null,
      "outputs": []
    },
    {
      "cell_type": "markdown",
      "source": [
        "# Limpieza de datos"
      ],
      "metadata": {
        "id": "NzyCGRZkeLmk"
      }
    },
    {
      "cell_type": "markdown",
      "source": [
        "Limpiamos los nulos de las columnas"
      ],
      "metadata": {
        "id": "2_IKVABOdTS0"
      }
    },
    {
      "cell_type": "code",
      "source": [
        "df['Documento'] = df['Documento'].fillna(0)\n",
        "df['Folio'] = df['Folio'].fillna(0)\n",
        "df['Fecha'] = df['Fecha'].fillna(0)\n",
        "df['Folio'] = df['Folio'].fillna(0)\n",
        "df['Cliente'] = df['Cliente'].fillna(0)\n",
        "df['Caja'] = df['Caja'].fillna(0)\n",
        "df['Usuario'] = df['Usuario'].fillna(0)\n",
        "df['Est'] = df['Est'].fillna(0)"
      ],
      "metadata": {
        "id": "uOWmwJRsPvFo"
      },
      "execution_count": null,
      "outputs": []
    },
    {
      "cell_type": "markdown",
      "source": [
        "El código generó duplicados por alguna razón (y no en todas las filas), así que los eliminamos"
      ],
      "metadata": {
        "id": "-1ScOHw5d4JD"
      }
    },
    {
      "cell_type": "code",
      "source": [
        "df = df.drop_duplicates(df.loc[df['Folio'] != 0], keep='last')"
      ],
      "metadata": {
        "id": "xGmLLylI6X8X"
      },
      "execution_count": null,
      "outputs": []
    },
    {
      "cell_type": "markdown",
      "source": [
        "Eliminamos las columnas que no tienen ningun valor"
      ],
      "metadata": {
        "id": "Ihoz3vzkeGJs"
      }
    },
    {
      "cell_type": "code",
      "source": [
        "lista = ['Unnamed: 1', 'Unnamed: 3', 'Unnamed: 4', 'Unnamed: 16', 'Unnamed: 17', 'Unnamed: 20', 'Unnamed: 21', 'Unnamed: 23', 'Unnamed: 25', 'Unnamed: 28', 'Unnamed: 30', 'Unnamed: 31', 'Unnamed: 32', 'Unnamed: 35', 'Unnamed: 36', 'Unnamed: 14', 'Unnamed: 13', 'Unnamed: 18', 'Unnamed: 27', 'Unnamed: 34', 'Unnamed: 9']\n",
        "df = df.drop(lista, axis=1)"
      ],
      "metadata": {
        "id": "hlKXDV1xRHbQ"
      },
      "execution_count": null,
      "outputs": []
    },
    {
      "cell_type": "markdown",
      "source": [
        "Renombramos columnas que sí tienen datos importantes y limpiamos los nulos. Además, añadimos la columna de EAN"
      ],
      "metadata": {
        "id": "SsABY7mdeRpr"
      }
    },
    {
      "cell_type": "code",
      "source": [
        "df = df.rename(columns={'Unnamed: 6': 'Unidad', 'Unnamed: 10':'Producto', 'Unnamed: 11':\"Clave\", 'Unnamed: 12':'Descripción','Unnamed: 8':'Cantidad', 'Unnamed: 26':'Precio Unitario', 'Unnamed: 33':'Precio'})\n",
        "df['Producto'] = df['Producto'].fillna(0)\n",
        "df['Clave'] = df['Clave'].fillna(0)\n",
        "df['Descripción'] = df['Descripción'].fillna(0)\n",
        "df['Unidad'] = df['Unidad'].fillna(\" \")\n",
        "\n",
        "df.insert(8, 'EAN', 0)"
      ],
      "metadata": {
        "id": "ZokFActchIgr"
      },
      "execution_count": null,
      "outputs": []
    },
    {
      "cell_type": "markdown",
      "source": [
        "Completamos los datos en las columnas de \"Documento\", \"Fecha\", \"Cliente\", etc."
      ],
      "metadata": {
        "id": "xjLuCqZ-ewej"
      }
    },
    {
      "cell_type": "code",
      "source": [
        "documento = df['Documento'][0]\n",
        "for i in df.index:\n",
        "  if df['Documento'][i] != 0:\n",
        "    documento = df['Documento'][i]\n",
        "  else:\n",
        "    df.loc[i, 'Documento'] = documento\n",
        "df.head()"
      ],
      "metadata": {
        "id": "6SuwjREghsYa",
        "colab": {
          "base_uri": "https://localhost:8080/",
          "height": 446
        },
        "outputId": "93a39ad5-f07e-43b2-a930-55777c41b1a1"
      },
      "execution_count": null,
      "outputs": [
        {
          "output_type": "execute_result",
          "data": {
            "text/plain": [
              "   Documento                Fecha    Folio   Unidad             Cliente  \\\n",
              "0     Ticket  2025-07-26 08:09:41  65283.0           Público en General   \n",
              "1     Ticket                    0      0.0      PZA                   0   \n",
              "7     Ticket  2025-07-26 08:13:39  65284.0           Público en General   \n",
              "11    Ticket                    0      0.0  $ 75.00                   0   \n",
              "14    Ticket  2025-07-26 08:17:32  65285.0           Público en General   \n",
              "\n",
              "    Cantidad                                           Producto  Clave  EAN  \\\n",
              "0        NaN                                                  0    0.0    0   \n",
              "1        1.0  [7506240609834] 43827 Jaladera de acero, 128mm...    0.0    0   \n",
              "7        NaN                                                  0    0.0    0   \n",
              "11       NaN                                                  0    0.0    0   \n",
              "14       NaN                                                  0    0.0    0   \n",
              "\n",
              "   Descripción  ...   Precio Total Efectivo  Cheque Crédito Transferencia  \\\n",
              "0            0  ...      NaN  25.0  $ 25.00  $ 0.00  $ 0.00        $ 0.00   \n",
              "1            0  ...  $ 25.00   NaN      NaN     NaN     NaN           NaN   \n",
              "7            0  ...      NaN  75.0  $ 75.00  $ 0.00  $ 0.00        $ 0.00   \n",
              "11           0  ...      NaN   NaN      NaN     NaN     NaN           NaN   \n",
              "14           0  ...      NaN  25.0  $ 25.00  $ 0.00  $ 0.00        $ 0.00   \n",
              "\n",
              "     Vales  Tarjeta Anticipo SICAR Pagos  \n",
              "0   $ 0.00   $ 0.00   $ 0.00      $ 0.00  \n",
              "1      NaN      NaN      NaN         NaN  \n",
              "7   $ 0.00   $ 0.00   $ 0.00      $ 0.00  \n",
              "11     NaN      NaN      NaN         NaN  \n",
              "14  $ 0.00   $ 0.00   $ 0.00      $ 0.00  \n",
              "\n",
              "[5 rows x 26 columns]"
            ],
            "text/html": [
              "\n",
              "  <div id=\"df-a9c83f2f-de99-4fbe-8d5f-743fe622f409\" class=\"colab-df-container\">\n",
              "    <div>\n",
              "<style scoped>\n",
              "    .dataframe tbody tr th:only-of-type {\n",
              "        vertical-align: middle;\n",
              "    }\n",
              "\n",
              "    .dataframe tbody tr th {\n",
              "        vertical-align: top;\n",
              "    }\n",
              "\n",
              "    .dataframe thead th {\n",
              "        text-align: right;\n",
              "    }\n",
              "</style>\n",
              "<table border=\"1\" class=\"dataframe\">\n",
              "  <thead>\n",
              "    <tr style=\"text-align: right;\">\n",
              "      <th></th>\n",
              "      <th>Documento</th>\n",
              "      <th>Fecha</th>\n",
              "      <th>Folio</th>\n",
              "      <th>Unidad</th>\n",
              "      <th>Cliente</th>\n",
              "      <th>Cantidad</th>\n",
              "      <th>Producto</th>\n",
              "      <th>Clave</th>\n",
              "      <th>EAN</th>\n",
              "      <th>Descripción</th>\n",
              "      <th>...</th>\n",
              "      <th>Precio</th>\n",
              "      <th>Total</th>\n",
              "      <th>Efectivo</th>\n",
              "      <th>Cheque</th>\n",
              "      <th>Crédito</th>\n",
              "      <th>Transferencia</th>\n",
              "      <th>Vales</th>\n",
              "      <th>Tarjeta</th>\n",
              "      <th>Anticipo</th>\n",
              "      <th>SICAR Pagos</th>\n",
              "    </tr>\n",
              "  </thead>\n",
              "  <tbody>\n",
              "    <tr>\n",
              "      <th>0</th>\n",
              "      <td>Ticket</td>\n",
              "      <td>2025-07-26 08:09:41</td>\n",
              "      <td>65283.0</td>\n",
              "      <td></td>\n",
              "      <td>Público en General</td>\n",
              "      <td>NaN</td>\n",
              "      <td>0</td>\n",
              "      <td>0.0</td>\n",
              "      <td>0</td>\n",
              "      <td>0</td>\n",
              "      <td>...</td>\n",
              "      <td>NaN</td>\n",
              "      <td>25.0</td>\n",
              "      <td>$ 25.00</td>\n",
              "      <td>$ 0.00</td>\n",
              "      <td>$ 0.00</td>\n",
              "      <td>$ 0.00</td>\n",
              "      <td>$ 0.00</td>\n",
              "      <td>$ 0.00</td>\n",
              "      <td>$ 0.00</td>\n",
              "      <td>$ 0.00</td>\n",
              "    </tr>\n",
              "    <tr>\n",
              "      <th>1</th>\n",
              "      <td>Ticket</td>\n",
              "      <td>0</td>\n",
              "      <td>0.0</td>\n",
              "      <td>PZA</td>\n",
              "      <td>0</td>\n",
              "      <td>1.0</td>\n",
              "      <td>[7506240609834] 43827 Jaladera de acero, 128mm...</td>\n",
              "      <td>0.0</td>\n",
              "      <td>0</td>\n",
              "      <td>0</td>\n",
              "      <td>...</td>\n",
              "      <td>$ 25.00</td>\n",
              "      <td>NaN</td>\n",
              "      <td>NaN</td>\n",
              "      <td>NaN</td>\n",
              "      <td>NaN</td>\n",
              "      <td>NaN</td>\n",
              "      <td>NaN</td>\n",
              "      <td>NaN</td>\n",
              "      <td>NaN</td>\n",
              "      <td>NaN</td>\n",
              "    </tr>\n",
              "    <tr>\n",
              "      <th>7</th>\n",
              "      <td>Ticket</td>\n",
              "      <td>2025-07-26 08:13:39</td>\n",
              "      <td>65284.0</td>\n",
              "      <td></td>\n",
              "      <td>Público en General</td>\n",
              "      <td>NaN</td>\n",
              "      <td>0</td>\n",
              "      <td>0.0</td>\n",
              "      <td>0</td>\n",
              "      <td>0</td>\n",
              "      <td>...</td>\n",
              "      <td>NaN</td>\n",
              "      <td>75.0</td>\n",
              "      <td>$ 75.00</td>\n",
              "      <td>$ 0.00</td>\n",
              "      <td>$ 0.00</td>\n",
              "      <td>$ 0.00</td>\n",
              "      <td>$ 0.00</td>\n",
              "      <td>$ 0.00</td>\n",
              "      <td>$ 0.00</td>\n",
              "      <td>$ 0.00</td>\n",
              "    </tr>\n",
              "    <tr>\n",
              "      <th>11</th>\n",
              "      <td>Ticket</td>\n",
              "      <td>0</td>\n",
              "      <td>0.0</td>\n",
              "      <td>$ 75.00</td>\n",
              "      <td>0</td>\n",
              "      <td>NaN</td>\n",
              "      <td>0</td>\n",
              "      <td>0.0</td>\n",
              "      <td>0</td>\n",
              "      <td>0</td>\n",
              "      <td>...</td>\n",
              "      <td>NaN</td>\n",
              "      <td>NaN</td>\n",
              "      <td>NaN</td>\n",
              "      <td>NaN</td>\n",
              "      <td>NaN</td>\n",
              "      <td>NaN</td>\n",
              "      <td>NaN</td>\n",
              "      <td>NaN</td>\n",
              "      <td>NaN</td>\n",
              "      <td>NaN</td>\n",
              "    </tr>\n",
              "    <tr>\n",
              "      <th>14</th>\n",
              "      <td>Ticket</td>\n",
              "      <td>2025-07-26 08:17:32</td>\n",
              "      <td>65285.0</td>\n",
              "      <td></td>\n",
              "      <td>Público en General</td>\n",
              "      <td>NaN</td>\n",
              "      <td>0</td>\n",
              "      <td>0.0</td>\n",
              "      <td>0</td>\n",
              "      <td>0</td>\n",
              "      <td>...</td>\n",
              "      <td>NaN</td>\n",
              "      <td>25.0</td>\n",
              "      <td>$ 25.00</td>\n",
              "      <td>$ 0.00</td>\n",
              "      <td>$ 0.00</td>\n",
              "      <td>$ 0.00</td>\n",
              "      <td>$ 0.00</td>\n",
              "      <td>$ 0.00</td>\n",
              "      <td>$ 0.00</td>\n",
              "      <td>$ 0.00</td>\n",
              "    </tr>\n",
              "  </tbody>\n",
              "</table>\n",
              "<p>5 rows × 26 columns</p>\n",
              "</div>\n",
              "    <div class=\"colab-df-buttons\">\n",
              "\n",
              "  <div class=\"colab-df-container\">\n",
              "    <button class=\"colab-df-convert\" onclick=\"convertToInteractive('df-a9c83f2f-de99-4fbe-8d5f-743fe622f409')\"\n",
              "            title=\"Convert this dataframe to an interactive table.\"\n",
              "            style=\"display:none;\">\n",
              "\n",
              "  <svg xmlns=\"http://www.w3.org/2000/svg\" height=\"24px\" viewBox=\"0 -960 960 960\">\n",
              "    <path d=\"M120-120v-720h720v720H120Zm60-500h600v-160H180v160Zm220 220h160v-160H400v160Zm0 220h160v-160H400v160ZM180-400h160v-160H180v160Zm440 0h160v-160H620v160ZM180-180h160v-160H180v160Zm440 0h160v-160H620v160Z\"/>\n",
              "  </svg>\n",
              "    </button>\n",
              "\n",
              "  <style>\n",
              "    .colab-df-container {\n",
              "      display:flex;\n",
              "      gap: 12px;\n",
              "    }\n",
              "\n",
              "    .colab-df-convert {\n",
              "      background-color: #E8F0FE;\n",
              "      border: none;\n",
              "      border-radius: 50%;\n",
              "      cursor: pointer;\n",
              "      display: none;\n",
              "      fill: #1967D2;\n",
              "      height: 32px;\n",
              "      padding: 0 0 0 0;\n",
              "      width: 32px;\n",
              "    }\n",
              "\n",
              "    .colab-df-convert:hover {\n",
              "      background-color: #E2EBFA;\n",
              "      box-shadow: 0px 1px 2px rgba(60, 64, 67, 0.3), 0px 1px 3px 1px rgba(60, 64, 67, 0.15);\n",
              "      fill: #174EA6;\n",
              "    }\n",
              "\n",
              "    .colab-df-buttons div {\n",
              "      margin-bottom: 4px;\n",
              "    }\n",
              "\n",
              "    [theme=dark] .colab-df-convert {\n",
              "      background-color: #3B4455;\n",
              "      fill: #D2E3FC;\n",
              "    }\n",
              "\n",
              "    [theme=dark] .colab-df-convert:hover {\n",
              "      background-color: #434B5C;\n",
              "      box-shadow: 0px 1px 3px 1px rgba(0, 0, 0, 0.15);\n",
              "      filter: drop-shadow(0px 1px 2px rgba(0, 0, 0, 0.3));\n",
              "      fill: #FFFFFF;\n",
              "    }\n",
              "  </style>\n",
              "\n",
              "    <script>\n",
              "      const buttonEl =\n",
              "        document.querySelector('#df-a9c83f2f-de99-4fbe-8d5f-743fe622f409 button.colab-df-convert');\n",
              "      buttonEl.style.display =\n",
              "        google.colab.kernel.accessAllowed ? 'block' : 'none';\n",
              "\n",
              "      async function convertToInteractive(key) {\n",
              "        const element = document.querySelector('#df-a9c83f2f-de99-4fbe-8d5f-743fe622f409');\n",
              "        const dataTable =\n",
              "          await google.colab.kernel.invokeFunction('convertToInteractive',\n",
              "                                                    [key], {});\n",
              "        if (!dataTable) return;\n",
              "\n",
              "        const docLinkHtml = 'Like what you see? Visit the ' +\n",
              "          '<a target=\"_blank\" href=https://colab.research.google.com/notebooks/data_table.ipynb>data table notebook</a>'\n",
              "          + ' to learn more about interactive tables.';\n",
              "        element.innerHTML = '';\n",
              "        dataTable['output_type'] = 'display_data';\n",
              "        await google.colab.output.renderOutput(dataTable, element);\n",
              "        const docLink = document.createElement('div');\n",
              "        docLink.innerHTML = docLinkHtml;\n",
              "        element.appendChild(docLink);\n",
              "      }\n",
              "    </script>\n",
              "  </div>\n",
              "\n",
              "\n",
              "    <div id=\"df-80d0fc16-fbca-4b09-a971-2e7ef1f76c1c\">\n",
              "      <button class=\"colab-df-quickchart\" onclick=\"quickchart('df-80d0fc16-fbca-4b09-a971-2e7ef1f76c1c')\"\n",
              "                title=\"Suggest charts\"\n",
              "                style=\"display:none;\">\n",
              "\n",
              "<svg xmlns=\"http://www.w3.org/2000/svg\" height=\"24px\"viewBox=\"0 0 24 24\"\n",
              "     width=\"24px\">\n",
              "    <g>\n",
              "        <path d=\"M19 3H5c-1.1 0-2 .9-2 2v14c0 1.1.9 2 2 2h14c1.1 0 2-.9 2-2V5c0-1.1-.9-2-2-2zM9 17H7v-7h2v7zm4 0h-2V7h2v10zm4 0h-2v-4h2v4z\"/>\n",
              "    </g>\n",
              "</svg>\n",
              "      </button>\n",
              "\n",
              "<style>\n",
              "  .colab-df-quickchart {\n",
              "      --bg-color: #E8F0FE;\n",
              "      --fill-color: #1967D2;\n",
              "      --hover-bg-color: #E2EBFA;\n",
              "      --hover-fill-color: #174EA6;\n",
              "      --disabled-fill-color: #AAA;\n",
              "      --disabled-bg-color: #DDD;\n",
              "  }\n",
              "\n",
              "  [theme=dark] .colab-df-quickchart {\n",
              "      --bg-color: #3B4455;\n",
              "      --fill-color: #D2E3FC;\n",
              "      --hover-bg-color: #434B5C;\n",
              "      --hover-fill-color: #FFFFFF;\n",
              "      --disabled-bg-color: #3B4455;\n",
              "      --disabled-fill-color: #666;\n",
              "  }\n",
              "\n",
              "  .colab-df-quickchart {\n",
              "    background-color: var(--bg-color);\n",
              "    border: none;\n",
              "    border-radius: 50%;\n",
              "    cursor: pointer;\n",
              "    display: none;\n",
              "    fill: var(--fill-color);\n",
              "    height: 32px;\n",
              "    padding: 0;\n",
              "    width: 32px;\n",
              "  }\n",
              "\n",
              "  .colab-df-quickchart:hover {\n",
              "    background-color: var(--hover-bg-color);\n",
              "    box-shadow: 0 1px 2px rgba(60, 64, 67, 0.3), 0 1px 3px 1px rgba(60, 64, 67, 0.15);\n",
              "    fill: var(--button-hover-fill-color);\n",
              "  }\n",
              "\n",
              "  .colab-df-quickchart-complete:disabled,\n",
              "  .colab-df-quickchart-complete:disabled:hover {\n",
              "    background-color: var(--disabled-bg-color);\n",
              "    fill: var(--disabled-fill-color);\n",
              "    box-shadow: none;\n",
              "  }\n",
              "\n",
              "  .colab-df-spinner {\n",
              "    border: 2px solid var(--fill-color);\n",
              "    border-color: transparent;\n",
              "    border-bottom-color: var(--fill-color);\n",
              "    animation:\n",
              "      spin 1s steps(1) infinite;\n",
              "  }\n",
              "\n",
              "  @keyframes spin {\n",
              "    0% {\n",
              "      border-color: transparent;\n",
              "      border-bottom-color: var(--fill-color);\n",
              "      border-left-color: var(--fill-color);\n",
              "    }\n",
              "    20% {\n",
              "      border-color: transparent;\n",
              "      border-left-color: var(--fill-color);\n",
              "      border-top-color: var(--fill-color);\n",
              "    }\n",
              "    30% {\n",
              "      border-color: transparent;\n",
              "      border-left-color: var(--fill-color);\n",
              "      border-top-color: var(--fill-color);\n",
              "      border-right-color: var(--fill-color);\n",
              "    }\n",
              "    40% {\n",
              "      border-color: transparent;\n",
              "      border-right-color: var(--fill-color);\n",
              "      border-top-color: var(--fill-color);\n",
              "    }\n",
              "    60% {\n",
              "      border-color: transparent;\n",
              "      border-right-color: var(--fill-color);\n",
              "    }\n",
              "    80% {\n",
              "      border-color: transparent;\n",
              "      border-right-color: var(--fill-color);\n",
              "      border-bottom-color: var(--fill-color);\n",
              "    }\n",
              "    90% {\n",
              "      border-color: transparent;\n",
              "      border-bottom-color: var(--fill-color);\n",
              "    }\n",
              "  }\n",
              "</style>\n",
              "\n",
              "      <script>\n",
              "        async function quickchart(key) {\n",
              "          const quickchartButtonEl =\n",
              "            document.querySelector('#' + key + ' button');\n",
              "          quickchartButtonEl.disabled = true;  // To prevent multiple clicks.\n",
              "          quickchartButtonEl.classList.add('colab-df-spinner');\n",
              "          try {\n",
              "            const charts = await google.colab.kernel.invokeFunction(\n",
              "                'suggestCharts', [key], {});\n",
              "          } catch (error) {\n",
              "            console.error('Error during call to suggestCharts:', error);\n",
              "          }\n",
              "          quickchartButtonEl.classList.remove('colab-df-spinner');\n",
              "          quickchartButtonEl.classList.add('colab-df-quickchart-complete');\n",
              "        }\n",
              "        (() => {\n",
              "          let quickchartButtonEl =\n",
              "            document.querySelector('#df-80d0fc16-fbca-4b09-a971-2e7ef1f76c1c button');\n",
              "          quickchartButtonEl.style.display =\n",
              "            google.colab.kernel.accessAllowed ? 'block' : 'none';\n",
              "        })();\n",
              "      </script>\n",
              "    </div>\n",
              "\n",
              "    </div>\n",
              "  </div>\n"
            ],
            "application/vnd.google.colaboratory.intrinsic+json": {
              "type": "dataframe",
              "variable_name": "df"
            }
          },
          "metadata": {},
          "execution_count": 31
        }
      ]
    },
    {
      "cell_type": "code",
      "source": [
        "fecha = df['Fecha'][0]\n",
        "for i in df.index:\n",
        "  if df['Fecha'][i] != 0:\n",
        "    fecha = df['Fecha'][i]\n",
        "  else:\n",
        "    df.loc[i, 'Fecha'] = fecha"
      ],
      "metadata": {
        "id": "urp-YATOll56"
      },
      "execution_count": null,
      "outputs": []
    },
    {
      "cell_type": "code",
      "source": [
        "cliente = df['Cliente'][0]\n",
        "for i in df.index:\n",
        "  if df['Cliente'][i] != 0:\n",
        "    cliente = df['Cliente'][i]\n",
        "  else:\n",
        "    df.loc[i, 'Cliente'] = cliente\n",
        "\n",
        "caja = df['Caja'][0]\n",
        "for i in df.index:\n",
        "  if df['Caja'][i] != 0:\n",
        "    caja = df['Caja'][i]\n",
        "  else:\n",
        "    df.loc[i, 'Caja'] = caja\n",
        "\n",
        "usuario = df['Usuario'][0]\n",
        "for i in df.index:\n",
        "  if df['Usuario'][i] != 0:\n",
        "    usuario = df['Usuario'][i]\n",
        "  else:\n",
        "    df.loc[i, 'Usuario'] = usuario\n",
        "\n",
        "est = df['Est'][0]\n",
        "for i in df.index:\n",
        "  if df['Est'][i] != 0:\n",
        "    est = df['Est'][i]\n",
        "  else:\n",
        "    df.loc[i, 'Est'] = est\n",
        "\n",
        "folio = df['Folio'][0]\n",
        "for i in df.index:\n",
        "  if df['Folio'][i] != 0:\n",
        "    folio = df['Folio'][i]\n",
        "  else:\n",
        "    df.loc[i, 'Folio'] = folio"
      ],
      "metadata": {
        "id": "UMCsawgKp_My"
      },
      "execution_count": null,
      "outputs": []
    },
    {
      "cell_type": "markdown",
      "source": [
        "Extraemos el EAN, la clave y la descripción del producto"
      ],
      "metadata": {
        "id": "NL1q9sare_fD"
      }
    },
    {
      "cell_type": "code",
      "source": [
        "for i in df.index:\n",
        "  producto = df['Producto'][i]\n",
        "  if producto != 0:\n",
        "    a = producto.split(']')\n",
        "    ean = a[0][1:]\n",
        "    b = a[1]\n",
        "    for j in range(len(b)):\n",
        "      if b[j].isalpha():\n",
        "        clave = b[1:j]\n",
        "        descripcion = b[j:]\n",
        "        break\n",
        "    df.loc[i, 'EAN'] = ean\n",
        "    df.loc[i, 'Clave'] = clave\n",
        "    df.loc[i, 'Descripción'] = descripcion\n",
        "\n",
        "df = df.drop('Producto', axis=1)\n",
        "\n",
        "# df = df.merge(promos, on='EAN', how='left')"
      ],
      "metadata": {
        "id": "ytN2HDKC0wYS",
        "colab": {
          "base_uri": "https://localhost:8080/"
        },
        "outputId": "7981a0bb-5d62-43ef-d002-531ba57111e8"
      },
      "execution_count": null,
      "outputs": [
        {
          "output_type": "stream",
          "name": "stderr",
          "text": [
            "/tmp/ipython-input-34-2705896700.py:12: FutureWarning: Setting an item of incompatible dtype is deprecated and will raise an error in a future version of pandas. Value '7506240609834' has dtype incompatible with int64, please explicitly cast to a compatible dtype first.\n",
            "  df.loc[i, 'EAN'] = ean\n",
            "/tmp/ipython-input-34-2705896700.py:13: FutureWarning: Setting an item of incompatible dtype is deprecated and will raise an error in a future version of pandas. Value '43827 ' has dtype incompatible with float64, please explicitly cast to a compatible dtype first.\n",
            "  df.loc[i, 'Clave'] = clave\n"
          ]
        }
      ]
    },
    {
      "cell_type": "markdown",
      "source": [
        "Limpiamos los datos de las columnas con datos financieros"
      ],
      "metadata": {
        "id": "Lwwdb72qfDej"
      }
    },
    {
      "cell_type": "code",
      "source": [
        "df['Efectivo'] = df[\"Efectivo\"].str.strip().str.replace('$', '').str.replace(',', '').astype(float)\n",
        "df['Cheque'] = df[\"Cheque\"].str.strip().str.replace('$', '').str.replace(',', '').astype(float)\n",
        "df['Crédito'] = df[\"Crédito\"].str.strip().str.replace('$', '').str.replace(',', '').astype(float)\n",
        "df['Transferencia'] = df[\"Transferencia\"].str.strip().str.replace('$', '').str.replace(',', '').astype(float)\n",
        "df['Vales'] = df[\"Vales\"].str.strip().str.replace('$', '').str.replace(',', '').astype(float)\n",
        "df['Tarjeta'] = df[\"Tarjeta\"].str.strip().str.replace('$', '').str.replace(',', '').astype(float)\n",
        "df['Anticipo'] = df[\"Anticipo\"].str.strip().str.replace('$', '').str.replace(',', '').astype(float)\n",
        "df['SICAR Pagos'] = df[\"SICAR Pagos\"].str.strip().str.replace('$', '').str.replace(',', '').astype(float)"
      ],
      "metadata": {
        "id": "_33LJepY7F0C"
      },
      "execution_count": null,
      "outputs": []
    },
    {
      "cell_type": "markdown",
      "source": [
        "Eliminamos las filas que no tengan un producto asociado"
      ],
      "metadata": {
        "id": "dgFCJKD3fGxS"
      }
    },
    {
      "cell_type": "code",
      "source": [
        "# Create a boolean mask for rows where 'Unidad' is one of the desired values\n",
        "unidades = [' ', 'PZA', 'Set', 'PR', 'XFB', 'XRO', 'XKI', 'KG', 'KGM']\n",
        "mask = df['Unidad'].isin(unidades)\n",
        "\n",
        "# Drop rows where the 'Unidad' is NOT in the list of valid units\n",
        "df = df.drop(df[~mask].index)"
      ],
      "metadata": {
        "id": "VPnFonyD9j76"
      },
      "execution_count": null,
      "outputs": []
    },
    {
      "cell_type": "markdown",
      "source": [
        "~mask: This is the inverse of the mask. Since mask is True for rows with valid units, ~mask is True for rows with invalid units.\n",
        "\n"
      ],
      "metadata": {
        "id": "7dRx4FFg-_qa"
      }
    },
    {
      "cell_type": "code",
      "source": [
        "df['Precio Unitario'] = df['Precio Unitario'].str.strip().str.replace('$', '').str.replace(',', '').astype(float)\n",
        "df['Precio'] = df['Precio'].str.strip().str.replace('$', '').str.replace(',', '').astype(float)\n",
        "df = df.rename(columns={'Descuento $\\n':'Descuento $'})\n",
        "df['Descuento $'] = df['Descuento $'].str.strip().str.replace('$', '').str.replace(',', '').astype(float)\n",
        "descuentos = df['Desc %'].str.strip().str.replace('%', '').astype(float)"
      ],
      "metadata": {
        "id": "zdSSGZWk_RZG"
      },
      "execution_count": null,
      "outputs": []
    },
    {
      "cell_type": "markdown",
      "source": [
        "Completamos la columna de \"Total\""
      ],
      "metadata": {
        "id": "TdQnBjGQfSYK"
      }
    },
    {
      "cell_type": "code",
      "source": [
        "df['Total'] = df['Total'].fillna(0)\n",
        "df['Precio'] = df['Precio'].fillna(0)\n",
        "df['Total'] = df['Total'] + df['Precio']"
      ],
      "metadata": {
        "id": "b_IlbXlLAEMG"
      },
      "execution_count": null,
      "outputs": []
    },
    {
      "cell_type": "code",
      "source": [
        "df['Efectivo'] = df['Efectivo'].fillna(-1)\n",
        "df['Cheque'] = df['Cheque'].fillna(-1)\n",
        "df['Crédito'] = df['Crédito'].fillna(-1)\n",
        "df['Transferencia'] = df['Transferencia'].fillna(-1)\n",
        "df['Vales'] = df['Vales'].fillna(-1)\n",
        "df['Tarjeta'] = df['Tarjeta'].fillna(-1)\n",
        "df['Anticipo'] = df['Anticipo'].fillna(-1)\n",
        "df['SICAR Pagos'] = df['SICAR Pagos'].fillna(-1)"
      ],
      "metadata": {
        "id": "pohiR0LLATeE"
      },
      "execution_count": null,
      "outputs": []
    },
    {
      "cell_type": "markdown",
      "source": [
        "Para evitar el ruido visual, las tendremos columnas vacías en los datos financieros que tengan 0 en su valor total"
      ],
      "metadata": {
        "id": "GSBksn_ZvB3J"
      }
    },
    {
      "cell_type": "code",
      "source": [
        "efectivo = df['Efectivo'][0]\n",
        "for i in df.index:\n",
        "  if df['Efectivo'][i] != -1:\n",
        "    if df['Efectivo'][i] == 0:\n",
        "      efectivo = np.nan\n",
        "    else:\n",
        "      efectivo = 1\n",
        "      df.loc[i, 'Efectivo'] = efectivo\n",
        "  else:\n",
        "    df.loc[i, 'Efectivo'] = efectivo\n",
        "\n",
        "df['Efectivo'] = df['Efectivo'] * df['Total']"
      ],
      "metadata": {
        "id": "5oG3Gc-nHpbj"
      },
      "execution_count": null,
      "outputs": []
    },
    {
      "cell_type": "code",
      "source": [
        "cheque = df['Cheque'][0]\n",
        "for i in df.index:\n",
        "  if df['Cheque'][i] != -1:\n",
        "    if df['Cheque'][i] == 0:\n",
        "      cheque = np.nan\n",
        "    else:\n",
        "      cheque = 1\n",
        "      df.loc[i, 'Cheque'] = cheque\n",
        "  else:\n",
        "    df.loc[i, 'Cheque'] = cheque\n",
        "\n",
        "df['Cheque'] = df['Cheque'] * df['Total']\n",
        "\n",
        "credito = df['Crédito'][0]\n",
        "for i in df.index:\n",
        "  if df['Crédito'][i] != -1:\n",
        "    if df['Crédito'][i] == 0:\n",
        "      credito = np.nan\n",
        "    else:\n",
        "      credito = 1\n",
        "      df.loc[i, 'Crédito'] = credito\n",
        "  else:\n",
        "    df.loc[i, 'Crédito'] = credito\n",
        "\n",
        "df['Crédito'] = df['Crédito'] * df['Total']\n",
        "\n",
        "transferencia = df['Transferencia'][0]\n",
        "for i in df.index:\n",
        "  if df['Transferencia'][i] != -1:\n",
        "    if df['Transferencia'][i] == 0:\n",
        "      transferencia = np.nan\n",
        "    else:\n",
        "      transferencia = 1\n",
        "      df.loc[i, 'Transferencia'] = transferencia\n",
        "  else:\n",
        "    df.loc[i, 'Transferencia'] = transferencia\n",
        "\n",
        "df['Transferencia'] = df['Transferencia'] * df['Total']\n",
        "\n",
        "vales = df['Vales'][0]\n",
        "for i in df.index:\n",
        "  if df['Vales'][i] != -1:\n",
        "    if df['Vales'][i] == 0:\n",
        "      vales = np.nan\n",
        "    else:\n",
        "      vales = 1\n",
        "      df.loc[i, 'Vales'] = vales\n",
        "  else:\n",
        "    df.loc[i, 'Vales'] = vales\n",
        "\n",
        "df['Vales'] = df['Vales'] * df['Total']\n",
        "\n",
        "tarjeta = df['Tarjeta'][0]\n",
        "for i in df.index:\n",
        "  if df['Tarjeta'][i] != -1:\n",
        "    if df['Tarjeta'][i] == 0:\n",
        "      tarjeta = np.nan\n",
        "    else:\n",
        "      tarjeta = 1\n",
        "      df.loc[i, 'Tarjeta'] = tarjeta\n",
        "  else:\n",
        "    df.loc[i, 'Tarjeta'] = tarjeta\n",
        "\n",
        "df['Tarjeta'] = df['Tarjeta'] * df['Total']\n",
        "\n",
        "anticipo = df['Anticipo'][0]\n",
        "for i in df.index:\n",
        "  if df['Anticipo'][i] != -1:\n",
        "    if df['Anticipo'][i] == 0:\n",
        "      anticipo = np.nan\n",
        "    else:\n",
        "      anticipo = 1\n",
        "      df.loc[i, 'Anticipo'] = anticipo\n",
        "  else:\n",
        "    df.loc[i, 'Anticipo'] = anticipo\n",
        "\n",
        "df['Anticipo'] = df['Anticipo'] * df['Total']\n",
        "\n",
        "sicar_pagos = df['SICAR Pagos'][0]\n",
        "for i in df.index:\n",
        "  if df['SICAR Pagos'][i] != -1:\n",
        "    if df['SICAR Pagos'][i] == 0:\n",
        "      sicar_pagos = np.nan\n",
        "    else:\n",
        "      sicar_pagos = 1\n",
        "      df.loc[i, 'SICAR Pagos'] = sicar_pagos\n",
        "  else:\n",
        "    df.loc[i, 'SICAR Pagos'] = sicar_pagos\n",
        "\n",
        "df['SICAR Pagos'] = df['SICAR Pagos'] * df['Total']"
      ],
      "metadata": {
        "id": "M4yUOd65gV6V"
      },
      "execution_count": null,
      "outputs": []
    },
    {
      "cell_type": "markdown",
      "source": [
        "Completamos la columna de descuentos"
      ],
      "metadata": {
        "id": "FrOKhsk9vM6v"
      }
    },
    {
      "cell_type": "code",
      "source": [
        "df['Desc %'] = df['Desc %'].fillna(0)\n",
        "descuento = df['Desc %'][0]\n",
        "for i in df.index:\n",
        "  if df['Desc %'][i] != 0:\n",
        "    descuento = df['Desc %'][i]\n",
        "  else:\n",
        "    df.loc[i, 'Desc %'] = descuento"
      ],
      "metadata": {
        "id": "aMpP-lR5hbak"
      },
      "execution_count": null,
      "outputs": []
    },
    {
      "cell_type": "markdown",
      "source": [
        "Le damos mejor formato a las columnas"
      ],
      "metadata": {
        "id": "Q7OIezMIfkd7"
      }
    },
    {
      "cell_type": "code",
      "source": [
        "df['Unidad'] = df['Unidad'].replace(' ', '----------')\n",
        "df['Cantidad'] = df['Cantidad'].fillna('----------')\n",
        "df['Precio Unitario'] = df['Precio Unitario'].fillna('----------')\n",
        "df['Precio'] = df['Precio'].replace(0, '----------')\n",
        "df['Clave'] = df['Clave'].replace(0, '----------')\n",
        "df['EAN'] = df['EAN'].replace(0, '----------')\n",
        "df['Descripción'] = df['Descripción'].replace(0, '----------')"
      ],
      "metadata": {
        "id": "672yT_Atrs5s"
      },
      "execution_count": null,
      "outputs": []
    },
    {
      "cell_type": "markdown",
      "source": [
        "Eliminamos las filas sin datos relevantes"
      ],
      "metadata": {
        "id": "YdziSyC_fpci"
      }
    },
    {
      "cell_type": "code",
      "source": [
        "df = df.drop(df.tail(5).index)"
      ],
      "metadata": {
        "id": "HYoNZWMj74ZA"
      },
      "execution_count": null,
      "outputs": []
    },
    {
      "cell_type": "markdown",
      "source": [
        "Separamos el dato de \"Fecha\" en Fecha y Hora"
      ],
      "metadata": {
        "id": "qgGtmqRkgAky"
      }
    },
    {
      "cell_type": "code",
      "source": [
        "df.insert(1, \"Día\", \"\")\n",
        "df.insert(2, \"Hora\", \"\")"
      ],
      "metadata": {
        "id": "IaqFh21cNvig"
      },
      "execution_count": null,
      "outputs": []
    },
    {
      "cell_type": "code",
      "source": [
        "df['Fecha'] = df['Fecha'].astype(str)"
      ],
      "metadata": {
        "id": "KNJGWt8bPtDQ"
      },
      "execution_count": null,
      "outputs": []
    },
    {
      "cell_type": "code",
      "source": [
        "for i in df.index:\n",
        "  fecha = df['Fecha'][i].split(' ')\n",
        "  df.loc[i, 'Día'] = fecha[0]\n",
        "  df.loc[i, 'Hora'] = fecha[1]\n",
        "df.drop('Fecha', axis=1, inplace=True)\n",
        "df.rename(columns={'Día':'Fecha'}, inplace=True)"
      ],
      "metadata": {
        "id": "3Wj436OfOJ8Y"
      },
      "execution_count": null,
      "outputs": []
    },
    {
      "cell_type": "markdown",
      "source": [
        "# Hoja de reporte"
      ],
      "metadata": {
        "id": "jdJgKaGFvTVv"
      }
    },
    {
      "cell_type": "markdown",
      "source": [
        "Extraemos los datos relevantes del dataframe principal"
      ],
      "metadata": {
        "id": "UlkjklRnvXyg"
      }
    },
    {
      "cell_type": "code",
      "source": [
        "descuentos = df[['Folio', 'Cliente','Clave', 'EAN', 'Desc %', 'Precio Unitario', 'Cantidad', 'Precio']]"
      ],
      "metadata": {
        "id": "2ZLmSoiyFCLK"
      },
      "execution_count": null,
      "outputs": []
    },
    {
      "cell_type": "markdown",
      "source": [
        "Filtramos los productos\n",
        "\n",
        "Nota: Algunas veces, el EAN que aparece en el archivo de SICAR no es numérico. La parte de *errors = coerce* pone en NaN esos EAN"
      ],
      "metadata": {
        "id": "C4qbbOQwvezf"
      }
    },
    {
      "cell_type": "code",
      "source": [
        "descuentos = descuentos.loc[descuentos['Clave'] != '----------']\n",
        "descuentos['Clave'] = descuentos['Clave'].replace('', 0)\n",
        "descuentos['EAN'] = pd.to_numeric(descuentos['EAN'], errors='coerce')\n",
        "descuentos = descuentos.reset_index(drop=True)"
      ],
      "metadata": {
        "id": "mfPjWl4LJZj8"
      },
      "execution_count": null,
      "outputs": []
    },
    {
      "cell_type": "markdown",
      "source": [
        "Extraemos los datos de renglonaje, de la hoja del catálogo de Truper"
      ],
      "metadata": {
        "id": "Oq12O266vheL"
      }
    },
    {
      "cell_type": "code",
      "source": [
        "costos = renglonaje[['ean', 'precio mayoreo con IVA', 'precio mínimo de venta', 'precio público con IVA']]\n",
        "costos = costos.rename(columns={'ean':'EAN'})"
      ],
      "metadata": {
        "id": "FgDtNZZsKj0r"
      },
      "execution_count": null,
      "outputs": []
    },
    {
      "cell_type": "code",
      "source": [
        "costos['precio mayoreo con IVA'] = costos['precio mayoreo con IVA'].replace('*', 0)\n",
        "costos['EAN'] = costos['EAN'].fillna(0)\n",
        "costos['EAN'] = costos['EAN'].replace('', 0)\n",
        "costos['EAN'] = pd.to_numeric(costos['EAN'], errors='coerce')"
      ],
      "metadata": {
        "colab": {
          "base_uri": "https://localhost:8080/"
        },
        "id": "Bpclq_ToLnrT",
        "outputId": "5168fdf4-840b-411b-b9d6-e9697ca43d92"
      },
      "execution_count": null,
      "outputs": [
        {
          "output_type": "stream",
          "name": "stderr",
          "text": [
            "/tmp/ipython-input-51-4086224631.py:1: FutureWarning: Downcasting behavior in `replace` is deprecated and will be removed in a future version. To retain the old behavior, explicitly call `result.infer_objects(copy=False)`. To opt-in to the future behavior, set `pd.set_option('future.no_silent_downcasting', True)`\n",
            "  costos['precio mayoreo con IVA'] = costos['precio mayoreo con IVA'].replace('*', 0)\n"
          ]
        }
      ]
    },
    {
      "cell_type": "code",
      "source": [
        "descuentos = descuentos.merge(costos, on='EAN', how='left')\n",
        "descuentos = descuentos.merge(promos, on='EAN', how='left')"
      ],
      "metadata": {
        "id": "_X4MFPujMEQ1"
      },
      "execution_count": null,
      "outputs": []
    },
    {
      "cell_type": "code",
      "source": [
        "descuentos['Diferencia mayoreo'] = descuentos['Precio Unitario'] - descuentos['precio mayoreo con IVA']\n",
        "descuentos['Diferencia minimo'] = descuentos['Precio Unitario'] - descuentos['precio mínimo de venta']\n",
        "descuentos['Diferencia publico'] = descuentos['Precio Unitario'] - descuentos['precio público con IVA']\n",
        "descuentos['Diferencia dist.'] = descuentos['Precio Unitario'] - descuentos['Distribuidor']"
      ],
      "metadata": {
        "id": "ZuI_Qe0fTmdG"
      },
      "execution_count": null,
      "outputs": []
    },
    {
      "cell_type": "markdown",
      "source": [
        "Creación del excel"
      ],
      "metadata": {
        "id": "Zl0K6xhggE2S"
      }
    },
    {
      "cell_type": "code",
      "source": [
        "writer = pd.ExcelWriter(archivo, engine=\"xlsxwriter\")"
      ],
      "metadata": {
        "id": "cf1ii-wyeH6a"
      },
      "execution_count": null,
      "outputs": []
    },
    {
      "cell_type": "code",
      "source": [
        "df.to_excel(writer, sheet_name='SICAR', index=False)\n",
        "descuentos.to_excel(writer, sheet_name='Reporte', index=False)"
      ],
      "metadata": {
        "id": "5IHp7ZeX9KEl"
      },
      "execution_count": null,
      "outputs": []
    },
    {
      "cell_type": "code",
      "source": [
        "writer.close()"
      ],
      "metadata": {
        "id": "0BJLCMzLei85"
      },
      "execution_count": null,
      "outputs": []
    },
    {
      "cell_type": "markdown",
      "source": [
        "# Dando formato al Excel"
      ],
      "metadata": {
        "id": "s7CGoc-qgIPT"
      }
    },
    {
      "cell_type": "markdown",
      "source": [
        "## Hoja de SICAR"
      ],
      "metadata": {
        "id": "hRaTXi1cv-sl"
      }
    },
    {
      "cell_type": "code",
      "source": [
        "wb = load_workbook(archivo)\n",
        "ws = wb['SICAR']"
      ],
      "metadata": {
        "id": "p6RuXY7LMDpJ"
      },
      "execution_count": null,
      "outputs": []
    },
    {
      "cell_type": "markdown",
      "source": [
        "## Columnas comúnmente usadas"
      ],
      "metadata": {
        "id": "-43aGzgSNkYh"
      }
    },
    {
      "cell_type": "code",
      "source": [
        "last_col = column_index_from_string('P')\n",
        "col_z = column_index_from_string('Z')\n",
        "col_dif_mayoreo = column_index_from_string('M')\n",
        "col_dif_min = column_index_from_string('N')\n",
        "col_dif_pub = column_index_from_string('O')\n",
        "col_dif_dist = column_index_from_string('P')"
      ],
      "metadata": {
        "id": "JPBBRLeFNxUH"
      },
      "execution_count": null,
      "outputs": []
    },
    {
      "cell_type": "markdown",
      "source": [
        "### Fuentes\n",
        "- font_t = Fuente para la fila de metadatos\n",
        "- font = Fuente para el resto de documentos"
      ],
      "metadata": {
        "id": "Ffopqp-XH4vx"
      }
    },
    {
      "cell_type": "code",
      "source": [
        "font_t = Font(name='Comfortaa', size=12, bold=True, italic=False, color='ffffff')\n",
        "font = Font(name='Comfortaa', size=11, bold=False, italic=False, color='000000')"
      ],
      "metadata": {
        "id": "56sEDgbHMG1J"
      },
      "execution_count": null,
      "outputs": []
    },
    {
      "cell_type": "markdown",
      "source": [
        "### Colores de fondo\n",
        "- fill_b = negro\n",
        "- fill_r = rojo\n",
        "- fill_g = verde\n",
        "- fill_y = amarillo\n",
        "- fill_p = morado\n",
        "- fill_bl = azul"
      ],
      "metadata": {
        "id": "Lymx2qC-HmVA"
      }
    },
    {
      "cell_type": "code",
      "source": [
        "fill_b = PatternFill(fill_type=\"solid\", start_color=\"000000\", end_color=\"000000\")\n",
        "fill_r = PatternFill(fill_type=\"solid\", start_color=\"ffc7ce\", end_color=\"ffc7ce\")\n",
        "fill_g = PatternFill(fill_type=\"solid\", start_color=\"b6d7a8\", end_color=\"b6d7a8\")\n",
        "fill_y = PatternFill(fill_type=\"solid\", start_color=\"ffe599\", end_color=\"ffe599\")\n",
        "fill_p = PatternFill(fill_type=\"solid\", start_color=\"b4a7d6\", end_color=\"b4a7d6\")\n",
        "fill_bl = PatternFill(fill_type=\"solid\", start_color=\"a4c2f4\", end_color=\"a4c2f4\")"
      ],
      "metadata": {
        "id": "5TBlUqnyVtaT"
      },
      "execution_count": null,
      "outputs": []
    },
    {
      "cell_type": "code",
      "source": [
        "for col in range(1,col_z + 1):\n",
        "    ws.column_dimensions[get_column_letter(col)].width = 18\n",
        "\n",
        "ws.column_dimensions['F'].width = 40"
      ],
      "metadata": {
        "id": "oSVL9ylJNR1j"
      },
      "execution_count": null,
      "outputs": []
    },
    {
      "cell_type": "code",
      "source": [
        "for col in range(1, 27):\n",
        "  ws.cell(1, col).font = font_t\n",
        "  ws.cell(1, col).alignment = Alignment(horizontal='center')\n",
        "  ws.cell(1, col).fill = fill_b\n",
        "\n",
        "for row in range(2, 1000):\n",
        "  for col in range(1, 27):\n",
        "    ws.cell(row=row, column=col).font = font\n",
        "    ws.cell(row=row, column=col).alignment = Alignment(horizontal='center')\n",
        "\n",
        "for row in range(2, 1000):\n",
        "  if ws.cell(row=row, column=18).value == None:\n",
        "    break\n",
        "  ws.cell(row=row, column=18).fill = fill_g"
      ],
      "metadata": {
        "id": "vjrcVFpeS7Q_"
      },
      "execution_count": null,
      "outputs": []
    },
    {
      "cell_type": "code",
      "source": [
        "num_form = '$ #,##0.00'\n",
        "for row in range(2, 1000):\n",
        "  for col in range(15, 28):\n",
        "    ws.cell(row=row, column=col).number_format = num_form"
      ],
      "metadata": {
        "id": "jlTX-7JfUci2"
      },
      "execution_count": null,
      "outputs": []
    },
    {
      "cell_type": "code",
      "source": [
        "wb.save(archivo)"
      ],
      "metadata": {
        "id": "atfA85pZRcM_"
      },
      "execution_count": null,
      "outputs": []
    },
    {
      "cell_type": "markdown",
      "source": [
        "## Hoja de Reporte"
      ],
      "metadata": {
        "id": "uiHLvhQ8wBWI"
      }
    },
    {
      "cell_type": "code",
      "source": [
        "ws = wb['Reporte']"
      ],
      "metadata": {
        "id": "4D98C1_NfJw6"
      },
      "execution_count": null,
      "outputs": []
    },
    {
      "cell_type": "code",
      "source": [
        "for col in range(1, last_col + 1):\n",
        "    ws.column_dimensions[get_column_letter(col)].width = 18"
      ],
      "metadata": {
        "id": "cwaTpgbgfTrk"
      },
      "execution_count": null,
      "outputs": []
    },
    {
      "cell_type": "code",
      "source": [
        "for col in range(1, last_col + 1):\n",
        "  ws.cell(1, col).font = font_t\n",
        "  ws.cell(1, col).alignment = Alignment(horizontal='right')\n",
        "  ws.cell(1, col).fill = fill_b\n",
        "\n",
        "for row in range(2, 1000):\n",
        "  for col in range(1, last_col + 1):\n",
        "    ws.cell(row=row, column=col).font = font\n",
        "    ws.cell(row=row, column=col).alignment = Alignment(horizontal='right')"
      ],
      "metadata": {
        "id": "2y_wepsefYzD"
      },
      "execution_count": null,
      "outputs": []
    },
    {
      "cell_type": "markdown",
      "source": [
        "### Explicación del ciclo for:\n",
        "\n",
        "\n",
        "Por cada fila desde la 2 hasta la 1000:\n",
        "\n",
        "---\n",
        "\n",
        "- SI no hay número de folio, ROMPE CICLO\n",
        "- SI el valor de diferencia entre el precio y el precio mínimo de venta es nulo, pinta de morado; SI NO -> SI la diferencia con el mayoreo y la diferencia con el mínimo de venta es diferente de 0 -> A\n",
        "\n",
        "---\n",
        "\n",
        "A\n",
        "\n",
        "- SI el valor de descuento es 0.00% -> B; SI NO -> Pinta de amarillo toda la fila\n",
        "\n",
        "---\n",
        "\n",
        "B\n",
        "\n",
        "- SI la diferencia con el precio distribuidor es diferente de 0, pinta de rojo; SI NO, pinta de azul\n",
        "\n",
        "---\n",
        "Los colores significan lo siguiente:\n",
        "---\n",
        "- El color rojo representa que se dió a un precio menor al mínimo SIN descuento o promoción.\n",
        "\n",
        "- El color amarillo significa que se dió un precio menor al mínimo CON descuento.\n",
        "\n",
        "- El color morado representa un error o una fila atípica.\n",
        "\n",
        "- El azul representa que se vendió un producto con oferta/promoción"
      ],
      "metadata": {
        "id": "A4a95e8FwGxX"
      }
    },
    {
      "cell_type": "code",
      "source": [
        "for row in range(2, 1000):\n",
        "  if(ws.cell(row=row, column=1).value == None):\n",
        "    break\n",
        "\n",
        "  dif_may = ws.cell(row=row, column=col_dif_mayoreo).value\n",
        "  dif_min = ws.cell(row=row, column=col_dif_min).value\n",
        "  dif_pub = ws.cell(row=row, column = col_dif_pub).value\n",
        "  dif_dist = ws.cell(row=row, column=col_dif_dist).value\n",
        "  descuento = ws.cell(row=row, column=5).value\n",
        "\n",
        "  if(dif_min == None):\n",
        "    for col in range(1, last_col + 1):\n",
        "      ws.cell(row=row, column=col).fill = fill_p\n",
        "  elif(dif_may != 0 and dif_min != 0 and dif_pub != 0):\n",
        "    if(descuento == '0.00%'):\n",
        "      if(dif_dist != 0):\n",
        "        for col in range(1, last_col + 1):\n",
        "          ws.cell(row=row, column=col).fill = fill_r\n",
        "      else:\n",
        "        for col in range(1, last_col + 1):\n",
        "          ws.cell(row=row, column=col).fill = fill_bl\n",
        "    else:\n",
        "      for col in range(1, last_col + 1):\n",
        "        ws.cell(row=row, column=col).fill = fill_y"
      ],
      "metadata": {
        "id": "pAaFjn_GSzMa"
      },
      "execution_count": null,
      "outputs": []
    },
    {
      "cell_type": "markdown",
      "source": [
        "Le da formato de número a las filas de datos financieros"
      ],
      "metadata": {
        "id": "2OcE1nI8zCaz"
      }
    },
    {
      "cell_type": "code",
      "source": [
        "num_form = '$ #,##0.00'\n",
        "for row in range(2, 1000):\n",
        "  ws.cell(row=row, column=6).number_format = num_form\n",
        "  for col in range(8, last_col + 1):\n",
        "    ws.cell(row=row, column=col).number_format = num_form"
      ],
      "metadata": {
        "id": "O2YjIQkAfmK8"
      },
      "execution_count": null,
      "outputs": []
    },
    {
      "cell_type": "code",
      "source": [
        "wb.save(archivo)"
      ],
      "metadata": {
        "id": "C7MPUgl4gr0h"
      },
      "execution_count": null,
      "outputs": []
    }
  ]
}