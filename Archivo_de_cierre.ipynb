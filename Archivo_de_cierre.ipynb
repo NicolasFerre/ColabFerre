{
  "nbformat": 4,
  "nbformat_minor": 0,
  "metadata": {
    "colab": {
      "provenance": [],
      "authorship_tag": "ABX9TyNDjw9jo+4fM3TpkT4YDHlD",
      "include_colab_link": true
    },
    "kernelspec": {
      "name": "python3",
      "display_name": "Python 3"
    },
    "language_info": {
      "name": "python"
    }
  },
  "cells": [
    {
      "cell_type": "markdown",
      "metadata": {
        "id": "view-in-github",
        "colab_type": "text"
      },
      "source": [
        "<a href=\"https://colab.research.google.com/github/NicolasFerre/ColabFerre/blob/dev/Archivo_de_cierre.ipynb\" target=\"_parent\"><img src=\"https://colab.research.google.com/assets/colab-badge.svg\" alt=\"Open In Colab\"/></a>"
      ]
    },
    {
      "cell_type": "markdown",
      "source": [
        "# Librerías necesarias"
      ],
      "metadata": {
        "id": "U9y3zplzLwBR"
      }
    },
    {
      "cell_type": "markdown",
      "source": [
        "Nota: openpyxl ya está por defecto en colab"
      ],
      "metadata": {
        "id": "67EO_EhNLzwH"
      }
    },
    {
      "cell_type": "code",
      "source": [
        "import pandas as pd\n",
        "import numpy as np\n",
        "from openpyxl import Workbook\n",
        "from openpyxl import load_workbook\n",
        "from openpyxl.styles import PatternFill, Border, Side, Alignment, Protection, Font\n",
        "from openpyxl.utils import get_column_letter\n",
        "import datetime"
      ],
      "metadata": {
        "id": "Dmk8CewjFGUI"
      },
      "execution_count": 3198,
      "outputs": []
    },
    {
      "cell_type": "markdown",
      "source": [
        "# Limpieza y transformación de SICAR Ventas"
      ],
      "metadata": {
        "id": "946tZofA0Dfy"
      }
    },
    {
      "cell_type": "code",
      "source": [
        "ventas = pd.read_excel('Ventas.xlsx', sheet_name=0, header=5)\n",
        "ventas.head()"
      ],
      "metadata": {
        "colab": {
          "base_uri": "https://localhost:8080/",
          "height": 516
        },
        "id": "6SGy4kKrFvEA",
        "outputId": "ad2359e0-d025-4a41-a1c1-49472e8030f4"
      },
      "execution_count": 3199,
      "outputs": [
        {
          "output_type": "stream",
          "name": "stderr",
          "text": [
            "/usr/local/lib/python3.11/dist-packages/openpyxl/styles/stylesheet.py:237: UserWarning: Workbook contains no default style, apply openpyxl's default\n",
            "  warn(\"Workbook contains no default style, apply openpyxl's default\")\n"
          ]
        },
        {
          "output_type": "execute_result",
          "data": {
            "text/plain": [
              "  Documento  Unnamed: 1  Unnamed: 2               Fecha  \\\n",
              "0    Ticket         NaN         NaN 2025-07-03 08:03:19   \n",
              "1       PZA         1.0         NaN                 NaT   \n",
              "2    Ticket         NaN         NaN 2025-07-03 08:15:21   \n",
              "3       PZA         1.0         NaN                 NaT   \n",
              "4       PZA         1.0         NaN                 NaT   \n",
              "\n",
              "                                          Unnamed: 4    Folio  Unnamed: 6  \\\n",
              "0                                                NaN  63015.0         NaN   \n",
              "1  [7501206674994] 21531 Brocha uso general de 6'...      NaN         NaN   \n",
              "2                                                NaN  63016.0         NaN   \n",
              "3  [7506240645290] 13882 Felpa para rodillo 9' x ...      NaN         NaN   \n",
              "4  [7501206619223] 20323 Espátula flexible 5' con...      NaN         NaN   \n",
              "\n",
              "              Cliente  Unnamed: 8 Unnamed: 9  ...  Total    Unnamed: 31  \\\n",
              "0  Público en General         NaN        NaN  ...   $ 49.00         NaN   \n",
              "1                 NaN         NaN        NaN  ...       NaN         NaN   \n",
              "2  Público en General         NaN        NaN  ...  $ 119.00         NaN   \n",
              "3                 NaN         NaN        NaN  ...       NaN         NaN   \n",
              "4                 NaN         NaN        NaN  ...       NaN         NaN   \n",
              "\n",
              "   Efectivo  Cheque  Crédito  Transferencia   Vales Tarjeta  Anticipo  \\\n",
              "0   $ 49.00  $ 0.00   $ 0.00         $ 0.00  $ 0.00  $ 0.00    $ 0.00   \n",
              "1       NaN     NaN      NaN            NaN     NaN     NaN       NaN   \n",
              "2  $ 119.00  $ 0.00   $ 0.00         $ 0.00  $ 0.00  $ 0.00    $ 0.00   \n",
              "3       NaN     NaN      NaN            NaN     NaN     NaN       NaN   \n",
              "4       NaN     NaN      NaN            NaN     NaN     NaN       NaN   \n",
              "\n",
              "  SICAR Pagos  \n",
              "0      $ 0.00  \n",
              "1         NaN  \n",
              "2      $ 0.00  \n",
              "3         NaN  \n",
              "4         NaN  \n",
              "\n",
              "[5 rows x 40 columns]"
            ],
            "text/html": [
              "\n",
              "  <div id=\"df-d2f3a032-ecec-46e0-892f-7ef2eaac1d0d\" class=\"colab-df-container\">\n",
              "    <div>\n",
              "<style scoped>\n",
              "    .dataframe tbody tr th:only-of-type {\n",
              "        vertical-align: middle;\n",
              "    }\n",
              "\n",
              "    .dataframe tbody tr th {\n",
              "        vertical-align: top;\n",
              "    }\n",
              "\n",
              "    .dataframe thead th {\n",
              "        text-align: right;\n",
              "    }\n",
              "</style>\n",
              "<table border=\"1\" class=\"dataframe\">\n",
              "  <thead>\n",
              "    <tr style=\"text-align: right;\">\n",
              "      <th></th>\n",
              "      <th>Documento</th>\n",
              "      <th>Unnamed: 1</th>\n",
              "      <th>Unnamed: 2</th>\n",
              "      <th>Fecha</th>\n",
              "      <th>Unnamed: 4</th>\n",
              "      <th>Folio</th>\n",
              "      <th>Unnamed: 6</th>\n",
              "      <th>Cliente</th>\n",
              "      <th>Unnamed: 8</th>\n",
              "      <th>Unnamed: 9</th>\n",
              "      <th>...</th>\n",
              "      <th>Total</th>\n",
              "      <th>Unnamed: 31</th>\n",
              "      <th>Efectivo</th>\n",
              "      <th>Cheque</th>\n",
              "      <th>Crédito</th>\n",
              "      <th>Transferencia</th>\n",
              "      <th>Vales</th>\n",
              "      <th>Tarjeta</th>\n",
              "      <th>Anticipo</th>\n",
              "      <th>SICAR Pagos</th>\n",
              "    </tr>\n",
              "  </thead>\n",
              "  <tbody>\n",
              "    <tr>\n",
              "      <th>0</th>\n",
              "      <td>Ticket</td>\n",
              "      <td>NaN</td>\n",
              "      <td>NaN</td>\n",
              "      <td>2025-07-03 08:03:19</td>\n",
              "      <td>NaN</td>\n",
              "      <td>63015.0</td>\n",
              "      <td>NaN</td>\n",
              "      <td>Público en General</td>\n",
              "      <td>NaN</td>\n",
              "      <td>NaN</td>\n",
              "      <td>...</td>\n",
              "      <td>$ 49.00</td>\n",
              "      <td>NaN</td>\n",
              "      <td>$ 49.00</td>\n",
              "      <td>$ 0.00</td>\n",
              "      <td>$ 0.00</td>\n",
              "      <td>$ 0.00</td>\n",
              "      <td>$ 0.00</td>\n",
              "      <td>$ 0.00</td>\n",
              "      <td>$ 0.00</td>\n",
              "      <td>$ 0.00</td>\n",
              "    </tr>\n",
              "    <tr>\n",
              "      <th>1</th>\n",
              "      <td>PZA</td>\n",
              "      <td>1.0</td>\n",
              "      <td>NaN</td>\n",
              "      <td>NaT</td>\n",
              "      <td>[7501206674994] 21531 Brocha uso general de 6'...</td>\n",
              "      <td>NaN</td>\n",
              "      <td>NaN</td>\n",
              "      <td>NaN</td>\n",
              "      <td>NaN</td>\n",
              "      <td>NaN</td>\n",
              "      <td>...</td>\n",
              "      <td>NaN</td>\n",
              "      <td>NaN</td>\n",
              "      <td>NaN</td>\n",
              "      <td>NaN</td>\n",
              "      <td>NaN</td>\n",
              "      <td>NaN</td>\n",
              "      <td>NaN</td>\n",
              "      <td>NaN</td>\n",
              "      <td>NaN</td>\n",
              "      <td>NaN</td>\n",
              "    </tr>\n",
              "    <tr>\n",
              "      <th>2</th>\n",
              "      <td>Ticket</td>\n",
              "      <td>NaN</td>\n",
              "      <td>NaN</td>\n",
              "      <td>2025-07-03 08:15:21</td>\n",
              "      <td>NaN</td>\n",
              "      <td>63016.0</td>\n",
              "      <td>NaN</td>\n",
              "      <td>Público en General</td>\n",
              "      <td>NaN</td>\n",
              "      <td>NaN</td>\n",
              "      <td>...</td>\n",
              "      <td>$ 119.00</td>\n",
              "      <td>NaN</td>\n",
              "      <td>$ 119.00</td>\n",
              "      <td>$ 0.00</td>\n",
              "      <td>$ 0.00</td>\n",
              "      <td>$ 0.00</td>\n",
              "      <td>$ 0.00</td>\n",
              "      <td>$ 0.00</td>\n",
              "      <td>$ 0.00</td>\n",
              "      <td>$ 0.00</td>\n",
              "    </tr>\n",
              "    <tr>\n",
              "      <th>3</th>\n",
              "      <td>PZA</td>\n",
              "      <td>1.0</td>\n",
              "      <td>NaN</td>\n",
              "      <td>NaT</td>\n",
              "      <td>[7506240645290] 13882 Felpa para rodillo 9' x ...</td>\n",
              "      <td>NaN</td>\n",
              "      <td>NaN</td>\n",
              "      <td>NaN</td>\n",
              "      <td>NaN</td>\n",
              "      <td>NaN</td>\n",
              "      <td>...</td>\n",
              "      <td>NaN</td>\n",
              "      <td>NaN</td>\n",
              "      <td>NaN</td>\n",
              "      <td>NaN</td>\n",
              "      <td>NaN</td>\n",
              "      <td>NaN</td>\n",
              "      <td>NaN</td>\n",
              "      <td>NaN</td>\n",
              "      <td>NaN</td>\n",
              "      <td>NaN</td>\n",
              "    </tr>\n",
              "    <tr>\n",
              "      <th>4</th>\n",
              "      <td>PZA</td>\n",
              "      <td>1.0</td>\n",
              "      <td>NaN</td>\n",
              "      <td>NaT</td>\n",
              "      <td>[7501206619223] 20323 Espátula flexible 5' con...</td>\n",
              "      <td>NaN</td>\n",
              "      <td>NaN</td>\n",
              "      <td>NaN</td>\n",
              "      <td>NaN</td>\n",
              "      <td>NaN</td>\n",
              "      <td>...</td>\n",
              "      <td>NaN</td>\n",
              "      <td>NaN</td>\n",
              "      <td>NaN</td>\n",
              "      <td>NaN</td>\n",
              "      <td>NaN</td>\n",
              "      <td>NaN</td>\n",
              "      <td>NaN</td>\n",
              "      <td>NaN</td>\n",
              "      <td>NaN</td>\n",
              "      <td>NaN</td>\n",
              "    </tr>\n",
              "  </tbody>\n",
              "</table>\n",
              "<p>5 rows × 40 columns</p>\n",
              "</div>\n",
              "    <div class=\"colab-df-buttons\">\n",
              "\n",
              "  <div class=\"colab-df-container\">\n",
              "    <button class=\"colab-df-convert\" onclick=\"convertToInteractive('df-d2f3a032-ecec-46e0-892f-7ef2eaac1d0d')\"\n",
              "            title=\"Convert this dataframe to an interactive table.\"\n",
              "            style=\"display:none;\">\n",
              "\n",
              "  <svg xmlns=\"http://www.w3.org/2000/svg\" height=\"24px\" viewBox=\"0 -960 960 960\">\n",
              "    <path d=\"M120-120v-720h720v720H120Zm60-500h600v-160H180v160Zm220 220h160v-160H400v160Zm0 220h160v-160H400v160ZM180-400h160v-160H180v160Zm440 0h160v-160H620v160ZM180-180h160v-160H180v160Zm440 0h160v-160H620v160Z\"/>\n",
              "  </svg>\n",
              "    </button>\n",
              "\n",
              "  <style>\n",
              "    .colab-df-container {\n",
              "      display:flex;\n",
              "      gap: 12px;\n",
              "    }\n",
              "\n",
              "    .colab-df-convert {\n",
              "      background-color: #E8F0FE;\n",
              "      border: none;\n",
              "      border-radius: 50%;\n",
              "      cursor: pointer;\n",
              "      display: none;\n",
              "      fill: #1967D2;\n",
              "      height: 32px;\n",
              "      padding: 0 0 0 0;\n",
              "      width: 32px;\n",
              "    }\n",
              "\n",
              "    .colab-df-convert:hover {\n",
              "      background-color: #E2EBFA;\n",
              "      box-shadow: 0px 1px 2px rgba(60, 64, 67, 0.3), 0px 1px 3px 1px rgba(60, 64, 67, 0.15);\n",
              "      fill: #174EA6;\n",
              "    }\n",
              "\n",
              "    .colab-df-buttons div {\n",
              "      margin-bottom: 4px;\n",
              "    }\n",
              "\n",
              "    [theme=dark] .colab-df-convert {\n",
              "      background-color: #3B4455;\n",
              "      fill: #D2E3FC;\n",
              "    }\n",
              "\n",
              "    [theme=dark] .colab-df-convert:hover {\n",
              "      background-color: #434B5C;\n",
              "      box-shadow: 0px 1px 3px 1px rgba(0, 0, 0, 0.15);\n",
              "      filter: drop-shadow(0px 1px 2px rgba(0, 0, 0, 0.3));\n",
              "      fill: #FFFFFF;\n",
              "    }\n",
              "  </style>\n",
              "\n",
              "    <script>\n",
              "      const buttonEl =\n",
              "        document.querySelector('#df-d2f3a032-ecec-46e0-892f-7ef2eaac1d0d button.colab-df-convert');\n",
              "      buttonEl.style.display =\n",
              "        google.colab.kernel.accessAllowed ? 'block' : 'none';\n",
              "\n",
              "      async function convertToInteractive(key) {\n",
              "        const element = document.querySelector('#df-d2f3a032-ecec-46e0-892f-7ef2eaac1d0d');\n",
              "        const dataTable =\n",
              "          await google.colab.kernel.invokeFunction('convertToInteractive',\n",
              "                                                    [key], {});\n",
              "        if (!dataTable) return;\n",
              "\n",
              "        const docLinkHtml = 'Like what you see? Visit the ' +\n",
              "          '<a target=\"_blank\" href=https://colab.research.google.com/notebooks/data_table.ipynb>data table notebook</a>'\n",
              "          + ' to learn more about interactive tables.';\n",
              "        element.innerHTML = '';\n",
              "        dataTable['output_type'] = 'display_data';\n",
              "        await google.colab.output.renderOutput(dataTable, element);\n",
              "        const docLink = document.createElement('div');\n",
              "        docLink.innerHTML = docLinkHtml;\n",
              "        element.appendChild(docLink);\n",
              "      }\n",
              "    </script>\n",
              "  </div>\n",
              "\n",
              "\n",
              "    <div id=\"df-59d617d2-1b14-4f13-b4bc-824c16bd9c8a\">\n",
              "      <button class=\"colab-df-quickchart\" onclick=\"quickchart('df-59d617d2-1b14-4f13-b4bc-824c16bd9c8a')\"\n",
              "                title=\"Suggest charts\"\n",
              "                style=\"display:none;\">\n",
              "\n",
              "<svg xmlns=\"http://www.w3.org/2000/svg\" height=\"24px\"viewBox=\"0 0 24 24\"\n",
              "     width=\"24px\">\n",
              "    <g>\n",
              "        <path d=\"M19 3H5c-1.1 0-2 .9-2 2v14c0 1.1.9 2 2 2h14c1.1 0 2-.9 2-2V5c0-1.1-.9-2-2-2zM9 17H7v-7h2v7zm4 0h-2V7h2v10zm4 0h-2v-4h2v4z\"/>\n",
              "    </g>\n",
              "</svg>\n",
              "      </button>\n",
              "\n",
              "<style>\n",
              "  .colab-df-quickchart {\n",
              "      --bg-color: #E8F0FE;\n",
              "      --fill-color: #1967D2;\n",
              "      --hover-bg-color: #E2EBFA;\n",
              "      --hover-fill-color: #174EA6;\n",
              "      --disabled-fill-color: #AAA;\n",
              "      --disabled-bg-color: #DDD;\n",
              "  }\n",
              "\n",
              "  [theme=dark] .colab-df-quickchart {\n",
              "      --bg-color: #3B4455;\n",
              "      --fill-color: #D2E3FC;\n",
              "      --hover-bg-color: #434B5C;\n",
              "      --hover-fill-color: #FFFFFF;\n",
              "      --disabled-bg-color: #3B4455;\n",
              "      --disabled-fill-color: #666;\n",
              "  }\n",
              "\n",
              "  .colab-df-quickchart {\n",
              "    background-color: var(--bg-color);\n",
              "    border: none;\n",
              "    border-radius: 50%;\n",
              "    cursor: pointer;\n",
              "    display: none;\n",
              "    fill: var(--fill-color);\n",
              "    height: 32px;\n",
              "    padding: 0;\n",
              "    width: 32px;\n",
              "  }\n",
              "\n",
              "  .colab-df-quickchart:hover {\n",
              "    background-color: var(--hover-bg-color);\n",
              "    box-shadow: 0 1px 2px rgba(60, 64, 67, 0.3), 0 1px 3px 1px rgba(60, 64, 67, 0.15);\n",
              "    fill: var(--button-hover-fill-color);\n",
              "  }\n",
              "\n",
              "  .colab-df-quickchart-complete:disabled,\n",
              "  .colab-df-quickchart-complete:disabled:hover {\n",
              "    background-color: var(--disabled-bg-color);\n",
              "    fill: var(--disabled-fill-color);\n",
              "    box-shadow: none;\n",
              "  }\n",
              "\n",
              "  .colab-df-spinner {\n",
              "    border: 2px solid var(--fill-color);\n",
              "    border-color: transparent;\n",
              "    border-bottom-color: var(--fill-color);\n",
              "    animation:\n",
              "      spin 1s steps(1) infinite;\n",
              "  }\n",
              "\n",
              "  @keyframes spin {\n",
              "    0% {\n",
              "      border-color: transparent;\n",
              "      border-bottom-color: var(--fill-color);\n",
              "      border-left-color: var(--fill-color);\n",
              "    }\n",
              "    20% {\n",
              "      border-color: transparent;\n",
              "      border-left-color: var(--fill-color);\n",
              "      border-top-color: var(--fill-color);\n",
              "    }\n",
              "    30% {\n",
              "      border-color: transparent;\n",
              "      border-left-color: var(--fill-color);\n",
              "      border-top-color: var(--fill-color);\n",
              "      border-right-color: var(--fill-color);\n",
              "    }\n",
              "    40% {\n",
              "      border-color: transparent;\n",
              "      border-right-color: var(--fill-color);\n",
              "      border-top-color: var(--fill-color);\n",
              "    }\n",
              "    60% {\n",
              "      border-color: transparent;\n",
              "      border-right-color: var(--fill-color);\n",
              "    }\n",
              "    80% {\n",
              "      border-color: transparent;\n",
              "      border-right-color: var(--fill-color);\n",
              "      border-bottom-color: var(--fill-color);\n",
              "    }\n",
              "    90% {\n",
              "      border-color: transparent;\n",
              "      border-bottom-color: var(--fill-color);\n",
              "    }\n",
              "  }\n",
              "</style>\n",
              "\n",
              "      <script>\n",
              "        async function quickchart(key) {\n",
              "          const quickchartButtonEl =\n",
              "            document.querySelector('#' + key + ' button');\n",
              "          quickchartButtonEl.disabled = true;  // To prevent multiple clicks.\n",
              "          quickchartButtonEl.classList.add('colab-df-spinner');\n",
              "          try {\n",
              "            const charts = await google.colab.kernel.invokeFunction(\n",
              "                'suggestCharts', [key], {});\n",
              "          } catch (error) {\n",
              "            console.error('Error during call to suggestCharts:', error);\n",
              "          }\n",
              "          quickchartButtonEl.classList.remove('colab-df-spinner');\n",
              "          quickchartButtonEl.classList.add('colab-df-quickchart-complete');\n",
              "        }\n",
              "        (() => {\n",
              "          let quickchartButtonEl =\n",
              "            document.querySelector('#df-59d617d2-1b14-4f13-b4bc-824c16bd9c8a button');\n",
              "          quickchartButtonEl.style.display =\n",
              "            google.colab.kernel.accessAllowed ? 'block' : 'none';\n",
              "        })();\n",
              "      </script>\n",
              "    </div>\n",
              "\n",
              "    </div>\n",
              "  </div>\n"
            ],
            "application/vnd.google.colaboratory.intrinsic+json": {
              "type": "dataframe",
              "variable_name": "ventas"
            }
          },
          "metadata": {},
          "execution_count": 3199
        }
      ]
    },
    {
      "cell_type": "markdown",
      "source": [
        "## Explicación 1\n",
        "\n",
        "- \"Unnamed: \\d+\": Es un patrón de expresión regular que coincida con la cadena \"Unnamed: \" seguido de uno o más digitos (\\d+). Este patrón suele ser usado en excels que tienen columnas sin nombre.\n",
        "\n",
        "- regex=True: Especifica que el primer argumento es una expresión regular.\n",
        "\n",
        "Anexos:\n",
        "- https://stackoverflow.com/questions/2841550/what-does-d-mean-in-a-regular-expression"
      ],
      "metadata": {
        "id": "VM8RdpeJMLcv"
      }
    },
    {
      "cell_type": "code",
      "source": [
        "ventas.columns = ventas.columns.str.replace(\"Unnamed: \\d+\", \"\", regex=True)\n",
        "\n",
        "columnas = ventas.columns.to_list()\n",
        "columnas"
      ],
      "metadata": {
        "colab": {
          "base_uri": "https://localhost:8080/"
        },
        "id": "THw0ewNKLcVP",
        "outputId": "d496706b-566b-46cf-b9b0-4da5a75ce31f"
      },
      "execution_count": 3200,
      "outputs": [
        {
          "output_type": "execute_result",
          "data": {
            "text/plain": [
              "['Documento',\n",
              " '',\n",
              " '',\n",
              " 'Fecha',\n",
              " '',\n",
              " 'Folio',\n",
              " '',\n",
              " 'Cliente',\n",
              " '',\n",
              " '',\n",
              " '',\n",
              " '',\n",
              " 'Caja',\n",
              " '',\n",
              " '',\n",
              " '',\n",
              " '',\n",
              " 'Usuario',\n",
              " '',\n",
              " '',\n",
              " '',\n",
              " '',\n",
              " '',\n",
              " 'Folio F.',\n",
              " '',\n",
              " '',\n",
              " 'Est',\n",
              " '',\n",
              " '',\n",
              " '',\n",
              " 'Total   ',\n",
              " '',\n",
              " 'Efectivo',\n",
              " 'Cheque',\n",
              " 'Crédito',\n",
              " 'Transferencia',\n",
              " 'Vales',\n",
              " 'Tarjeta',\n",
              " 'Anticipo',\n",
              " 'SICAR Pagos']"
            ]
          },
          "metadata": {},
          "execution_count": 3200
        }
      ]
    },
    {
      "cell_type": "markdown",
      "source": [
        "## Explicación 2"
      ],
      "metadata": {
        "id": "XQ2l2qupNu1c"
      }
    },
    {
      "cell_type": "markdown",
      "source": [
        "Filtra las cadenas vacías de la lista de columnas. Revisar el archivo origen de SICAR"
      ],
      "metadata": {
        "id": "s4Hm7NmiN_qm"
      }
    },
    {
      "cell_type": "code",
      "source": [
        "columnas_con_nombre = [col for col in columnas if col != '']"
      ],
      "metadata": {
        "id": "7vEY5b2-L0rH"
      },
      "execution_count": 3201,
      "outputs": []
    },
    {
      "cell_type": "code",
      "source": [
        "ventas = ventas[columnas_con_nombre]\n",
        "ventas.head()"
      ],
      "metadata": {
        "colab": {
          "base_uri": "https://localhost:8080/",
          "height": 313
        },
        "id": "KxRguG-HKh1P",
        "outputId": "66827ceb-3ee4-42d1-e569-d2ee9efe8aad"
      },
      "execution_count": 3202,
      "outputs": [
        {
          "output_type": "execute_result",
          "data": {
            "text/plain": [
              "  Documento               Fecha    Folio             Cliente    Caja Usuario  \\\n",
              "0    Ticket 2025-07-03 08:03:19  63015.0  Público en General  Caja 1   admin   \n",
              "1       PZA                 NaT      NaN                 NaN     NaN     NaN   \n",
              "2    Ticket 2025-07-03 08:15:21  63016.0  Público en General  Caja 1   admin   \n",
              "3       PZA                 NaT      NaN                 NaN     NaN     NaN   \n",
              "4       PZA                 NaT      NaN                 NaN     NaN     NaN   \n",
              "\n",
              "   Folio F.  Est  Total     Efectivo  Cheque Crédito Transferencia   Vales  \\\n",
              "0       NaN    V   $ 49.00   $ 49.00  $ 0.00  $ 0.00        $ 0.00  $ 0.00   \n",
              "1       NaN  NaN       NaN       NaN     NaN     NaN           NaN     NaN   \n",
              "2       NaN    V  $ 119.00  $ 119.00  $ 0.00  $ 0.00        $ 0.00  $ 0.00   \n",
              "3       NaN  NaN       NaN       NaN     NaN     NaN           NaN     NaN   \n",
              "4       NaN  NaN       NaN       NaN     NaN     NaN           NaN     NaN   \n",
              "\n",
              "  Tarjeta Anticipo SICAR Pagos  \n",
              "0  $ 0.00   $ 0.00      $ 0.00  \n",
              "1     NaN      NaN         NaN  \n",
              "2  $ 0.00   $ 0.00      $ 0.00  \n",
              "3     NaN      NaN         NaN  \n",
              "4     NaN      NaN         NaN  "
            ],
            "text/html": [
              "\n",
              "  <div id=\"df-bf3e9f8d-26e7-40b7-9cf9-787109547ff8\" class=\"colab-df-container\">\n",
              "    <div>\n",
              "<style scoped>\n",
              "    .dataframe tbody tr th:only-of-type {\n",
              "        vertical-align: middle;\n",
              "    }\n",
              "\n",
              "    .dataframe tbody tr th {\n",
              "        vertical-align: top;\n",
              "    }\n",
              "\n",
              "    .dataframe thead th {\n",
              "        text-align: right;\n",
              "    }\n",
              "</style>\n",
              "<table border=\"1\" class=\"dataframe\">\n",
              "  <thead>\n",
              "    <tr style=\"text-align: right;\">\n",
              "      <th></th>\n",
              "      <th>Documento</th>\n",
              "      <th>Fecha</th>\n",
              "      <th>Folio</th>\n",
              "      <th>Cliente</th>\n",
              "      <th>Caja</th>\n",
              "      <th>Usuario</th>\n",
              "      <th>Folio F.</th>\n",
              "      <th>Est</th>\n",
              "      <th>Total</th>\n",
              "      <th>Efectivo</th>\n",
              "      <th>Cheque</th>\n",
              "      <th>Crédito</th>\n",
              "      <th>Transferencia</th>\n",
              "      <th>Vales</th>\n",
              "      <th>Tarjeta</th>\n",
              "      <th>Anticipo</th>\n",
              "      <th>SICAR Pagos</th>\n",
              "    </tr>\n",
              "  </thead>\n",
              "  <tbody>\n",
              "    <tr>\n",
              "      <th>0</th>\n",
              "      <td>Ticket</td>\n",
              "      <td>2025-07-03 08:03:19</td>\n",
              "      <td>63015.0</td>\n",
              "      <td>Público en General</td>\n",
              "      <td>Caja 1</td>\n",
              "      <td>admin</td>\n",
              "      <td>NaN</td>\n",
              "      <td>V</td>\n",
              "      <td>$ 49.00</td>\n",
              "      <td>$ 49.00</td>\n",
              "      <td>$ 0.00</td>\n",
              "      <td>$ 0.00</td>\n",
              "      <td>$ 0.00</td>\n",
              "      <td>$ 0.00</td>\n",
              "      <td>$ 0.00</td>\n",
              "      <td>$ 0.00</td>\n",
              "      <td>$ 0.00</td>\n",
              "    </tr>\n",
              "    <tr>\n",
              "      <th>1</th>\n",
              "      <td>PZA</td>\n",
              "      <td>NaT</td>\n",
              "      <td>NaN</td>\n",
              "      <td>NaN</td>\n",
              "      <td>NaN</td>\n",
              "      <td>NaN</td>\n",
              "      <td>NaN</td>\n",
              "      <td>NaN</td>\n",
              "      <td>NaN</td>\n",
              "      <td>NaN</td>\n",
              "      <td>NaN</td>\n",
              "      <td>NaN</td>\n",
              "      <td>NaN</td>\n",
              "      <td>NaN</td>\n",
              "      <td>NaN</td>\n",
              "      <td>NaN</td>\n",
              "      <td>NaN</td>\n",
              "    </tr>\n",
              "    <tr>\n",
              "      <th>2</th>\n",
              "      <td>Ticket</td>\n",
              "      <td>2025-07-03 08:15:21</td>\n",
              "      <td>63016.0</td>\n",
              "      <td>Público en General</td>\n",
              "      <td>Caja 1</td>\n",
              "      <td>admin</td>\n",
              "      <td>NaN</td>\n",
              "      <td>V</td>\n",
              "      <td>$ 119.00</td>\n",
              "      <td>$ 119.00</td>\n",
              "      <td>$ 0.00</td>\n",
              "      <td>$ 0.00</td>\n",
              "      <td>$ 0.00</td>\n",
              "      <td>$ 0.00</td>\n",
              "      <td>$ 0.00</td>\n",
              "      <td>$ 0.00</td>\n",
              "      <td>$ 0.00</td>\n",
              "    </tr>\n",
              "    <tr>\n",
              "      <th>3</th>\n",
              "      <td>PZA</td>\n",
              "      <td>NaT</td>\n",
              "      <td>NaN</td>\n",
              "      <td>NaN</td>\n",
              "      <td>NaN</td>\n",
              "      <td>NaN</td>\n",
              "      <td>NaN</td>\n",
              "      <td>NaN</td>\n",
              "      <td>NaN</td>\n",
              "      <td>NaN</td>\n",
              "      <td>NaN</td>\n",
              "      <td>NaN</td>\n",
              "      <td>NaN</td>\n",
              "      <td>NaN</td>\n",
              "      <td>NaN</td>\n",
              "      <td>NaN</td>\n",
              "      <td>NaN</td>\n",
              "    </tr>\n",
              "    <tr>\n",
              "      <th>4</th>\n",
              "      <td>PZA</td>\n",
              "      <td>NaT</td>\n",
              "      <td>NaN</td>\n",
              "      <td>NaN</td>\n",
              "      <td>NaN</td>\n",
              "      <td>NaN</td>\n",
              "      <td>NaN</td>\n",
              "      <td>NaN</td>\n",
              "      <td>NaN</td>\n",
              "      <td>NaN</td>\n",
              "      <td>NaN</td>\n",
              "      <td>NaN</td>\n",
              "      <td>NaN</td>\n",
              "      <td>NaN</td>\n",
              "      <td>NaN</td>\n",
              "      <td>NaN</td>\n",
              "      <td>NaN</td>\n",
              "    </tr>\n",
              "  </tbody>\n",
              "</table>\n",
              "</div>\n",
              "    <div class=\"colab-df-buttons\">\n",
              "\n",
              "  <div class=\"colab-df-container\">\n",
              "    <button class=\"colab-df-convert\" onclick=\"convertToInteractive('df-bf3e9f8d-26e7-40b7-9cf9-787109547ff8')\"\n",
              "            title=\"Convert this dataframe to an interactive table.\"\n",
              "            style=\"display:none;\">\n",
              "\n",
              "  <svg xmlns=\"http://www.w3.org/2000/svg\" height=\"24px\" viewBox=\"0 -960 960 960\">\n",
              "    <path d=\"M120-120v-720h720v720H120Zm60-500h600v-160H180v160Zm220 220h160v-160H400v160Zm0 220h160v-160H400v160ZM180-400h160v-160H180v160Zm440 0h160v-160H620v160ZM180-180h160v-160H180v160Zm440 0h160v-160H620v160Z\"/>\n",
              "  </svg>\n",
              "    </button>\n",
              "\n",
              "  <style>\n",
              "    .colab-df-container {\n",
              "      display:flex;\n",
              "      gap: 12px;\n",
              "    }\n",
              "\n",
              "    .colab-df-convert {\n",
              "      background-color: #E8F0FE;\n",
              "      border: none;\n",
              "      border-radius: 50%;\n",
              "      cursor: pointer;\n",
              "      display: none;\n",
              "      fill: #1967D2;\n",
              "      height: 32px;\n",
              "      padding: 0 0 0 0;\n",
              "      width: 32px;\n",
              "    }\n",
              "\n",
              "    .colab-df-convert:hover {\n",
              "      background-color: #E2EBFA;\n",
              "      box-shadow: 0px 1px 2px rgba(60, 64, 67, 0.3), 0px 1px 3px 1px rgba(60, 64, 67, 0.15);\n",
              "      fill: #174EA6;\n",
              "    }\n",
              "\n",
              "    .colab-df-buttons div {\n",
              "      margin-bottom: 4px;\n",
              "    }\n",
              "\n",
              "    [theme=dark] .colab-df-convert {\n",
              "      background-color: #3B4455;\n",
              "      fill: #D2E3FC;\n",
              "    }\n",
              "\n",
              "    [theme=dark] .colab-df-convert:hover {\n",
              "      background-color: #434B5C;\n",
              "      box-shadow: 0px 1px 3px 1px rgba(0, 0, 0, 0.15);\n",
              "      filter: drop-shadow(0px 1px 2px rgba(0, 0, 0, 0.3));\n",
              "      fill: #FFFFFF;\n",
              "    }\n",
              "  </style>\n",
              "\n",
              "    <script>\n",
              "      const buttonEl =\n",
              "        document.querySelector('#df-bf3e9f8d-26e7-40b7-9cf9-787109547ff8 button.colab-df-convert');\n",
              "      buttonEl.style.display =\n",
              "        google.colab.kernel.accessAllowed ? 'block' : 'none';\n",
              "\n",
              "      async function convertToInteractive(key) {\n",
              "        const element = document.querySelector('#df-bf3e9f8d-26e7-40b7-9cf9-787109547ff8');\n",
              "        const dataTable =\n",
              "          await google.colab.kernel.invokeFunction('convertToInteractive',\n",
              "                                                    [key], {});\n",
              "        if (!dataTable) return;\n",
              "\n",
              "        const docLinkHtml = 'Like what you see? Visit the ' +\n",
              "          '<a target=\"_blank\" href=https://colab.research.google.com/notebooks/data_table.ipynb>data table notebook</a>'\n",
              "          + ' to learn more about interactive tables.';\n",
              "        element.innerHTML = '';\n",
              "        dataTable['output_type'] = 'display_data';\n",
              "        await google.colab.output.renderOutput(dataTable, element);\n",
              "        const docLink = document.createElement('div');\n",
              "        docLink.innerHTML = docLinkHtml;\n",
              "        element.appendChild(docLink);\n",
              "      }\n",
              "    </script>\n",
              "  </div>\n",
              "\n",
              "\n",
              "    <div id=\"df-250c4efc-6225-44c6-ab3b-3525554d55e0\">\n",
              "      <button class=\"colab-df-quickchart\" onclick=\"quickchart('df-250c4efc-6225-44c6-ab3b-3525554d55e0')\"\n",
              "                title=\"Suggest charts\"\n",
              "                style=\"display:none;\">\n",
              "\n",
              "<svg xmlns=\"http://www.w3.org/2000/svg\" height=\"24px\"viewBox=\"0 0 24 24\"\n",
              "     width=\"24px\">\n",
              "    <g>\n",
              "        <path d=\"M19 3H5c-1.1 0-2 .9-2 2v14c0 1.1.9 2 2 2h14c1.1 0 2-.9 2-2V5c0-1.1-.9-2-2-2zM9 17H7v-7h2v7zm4 0h-2V7h2v10zm4 0h-2v-4h2v4z\"/>\n",
              "    </g>\n",
              "</svg>\n",
              "      </button>\n",
              "\n",
              "<style>\n",
              "  .colab-df-quickchart {\n",
              "      --bg-color: #E8F0FE;\n",
              "      --fill-color: #1967D2;\n",
              "      --hover-bg-color: #E2EBFA;\n",
              "      --hover-fill-color: #174EA6;\n",
              "      --disabled-fill-color: #AAA;\n",
              "      --disabled-bg-color: #DDD;\n",
              "  }\n",
              "\n",
              "  [theme=dark] .colab-df-quickchart {\n",
              "      --bg-color: #3B4455;\n",
              "      --fill-color: #D2E3FC;\n",
              "      --hover-bg-color: #434B5C;\n",
              "      --hover-fill-color: #FFFFFF;\n",
              "      --disabled-bg-color: #3B4455;\n",
              "      --disabled-fill-color: #666;\n",
              "  }\n",
              "\n",
              "  .colab-df-quickchart {\n",
              "    background-color: var(--bg-color);\n",
              "    border: none;\n",
              "    border-radius: 50%;\n",
              "    cursor: pointer;\n",
              "    display: none;\n",
              "    fill: var(--fill-color);\n",
              "    height: 32px;\n",
              "    padding: 0;\n",
              "    width: 32px;\n",
              "  }\n",
              "\n",
              "  .colab-df-quickchart:hover {\n",
              "    background-color: var(--hover-bg-color);\n",
              "    box-shadow: 0 1px 2px rgba(60, 64, 67, 0.3), 0 1px 3px 1px rgba(60, 64, 67, 0.15);\n",
              "    fill: var(--button-hover-fill-color);\n",
              "  }\n",
              "\n",
              "  .colab-df-quickchart-complete:disabled,\n",
              "  .colab-df-quickchart-complete:disabled:hover {\n",
              "    background-color: var(--disabled-bg-color);\n",
              "    fill: var(--disabled-fill-color);\n",
              "    box-shadow: none;\n",
              "  }\n",
              "\n",
              "  .colab-df-spinner {\n",
              "    border: 2px solid var(--fill-color);\n",
              "    border-color: transparent;\n",
              "    border-bottom-color: var(--fill-color);\n",
              "    animation:\n",
              "      spin 1s steps(1) infinite;\n",
              "  }\n",
              "\n",
              "  @keyframes spin {\n",
              "    0% {\n",
              "      border-color: transparent;\n",
              "      border-bottom-color: var(--fill-color);\n",
              "      border-left-color: var(--fill-color);\n",
              "    }\n",
              "    20% {\n",
              "      border-color: transparent;\n",
              "      border-left-color: var(--fill-color);\n",
              "      border-top-color: var(--fill-color);\n",
              "    }\n",
              "    30% {\n",
              "      border-color: transparent;\n",
              "      border-left-color: var(--fill-color);\n",
              "      border-top-color: var(--fill-color);\n",
              "      border-right-color: var(--fill-color);\n",
              "    }\n",
              "    40% {\n",
              "      border-color: transparent;\n",
              "      border-right-color: var(--fill-color);\n",
              "      border-top-color: var(--fill-color);\n",
              "    }\n",
              "    60% {\n",
              "      border-color: transparent;\n",
              "      border-right-color: var(--fill-color);\n",
              "    }\n",
              "    80% {\n",
              "      border-color: transparent;\n",
              "      border-right-color: var(--fill-color);\n",
              "      border-bottom-color: var(--fill-color);\n",
              "    }\n",
              "    90% {\n",
              "      border-color: transparent;\n",
              "      border-bottom-color: var(--fill-color);\n",
              "    }\n",
              "  }\n",
              "</style>\n",
              "\n",
              "      <script>\n",
              "        async function quickchart(key) {\n",
              "          const quickchartButtonEl =\n",
              "            document.querySelector('#' + key + ' button');\n",
              "          quickchartButtonEl.disabled = true;  // To prevent multiple clicks.\n",
              "          quickchartButtonEl.classList.add('colab-df-spinner');\n",
              "          try {\n",
              "            const charts = await google.colab.kernel.invokeFunction(\n",
              "                'suggestCharts', [key], {});\n",
              "          } catch (error) {\n",
              "            console.error('Error during call to suggestCharts:', error);\n",
              "          }\n",
              "          quickchartButtonEl.classList.remove('colab-df-spinner');\n",
              "          quickchartButtonEl.classList.add('colab-df-quickchart-complete');\n",
              "        }\n",
              "        (() => {\n",
              "          let quickchartButtonEl =\n",
              "            document.querySelector('#df-250c4efc-6225-44c6-ab3b-3525554d55e0 button');\n",
              "          quickchartButtonEl.style.display =\n",
              "            google.colab.kernel.accessAllowed ? 'block' : 'none';\n",
              "        })();\n",
              "      </script>\n",
              "    </div>\n",
              "\n",
              "    </div>\n",
              "  </div>\n"
            ],
            "application/vnd.google.colaboratory.intrinsic+json": {
              "type": "dataframe",
              "variable_name": "ventas",
              "summary": "{\n  \"name\": \"ventas\",\n  \"rows\": 538,\n  \"fields\": [\n    {\n      \"column\": \"Documento\",\n      \"properties\": {\n        \"dtype\": \"category\",\n        \"num_unique_values\": 10,\n        \"samples\": [\n          \"PAR\",\n          \"PZA\",\n          \"XFB\"\n        ],\n        \"semantic_type\": \"\",\n        \"description\": \"\"\n      }\n    },\n    {\n      \"column\": \"Fecha\",\n      \"properties\": {\n        \"dtype\": \"date\",\n        \"min\": \"2025-07-03 08:03:19\",\n        \"max\": \"2025-07-03 17:55:39\",\n        \"num_unique_values\": 164,\n        \"samples\": [\n          \"2025-07-03 15:51:45\",\n          \"2025-07-03 14:45:55\",\n          \"2025-07-03 15:47:02\"\n        ],\n        \"semantic_type\": \"\",\n        \"description\": \"\"\n      }\n    },\n    {\n      \"column\": \"Folio\",\n      \"properties\": {\n        \"dtype\": \"number\",\n        \"std\": 14703.823138139707,\n        \"min\": 22736.0,\n        \"max\": 63154.0,\n        \"num_unique_values\": 166,\n        \"samples\": [\n          63098.0,\n          63130.0,\n          63078.0\n        ],\n        \"semantic_type\": \"\",\n        \"description\": \"\"\n      }\n    },\n    {\n      \"column\": \"Cliente\",\n      \"properties\": {\n        \"dtype\": \"category\",\n        \"num_unique_values\": 30,\n        \"samples\": [\n          \"DINAMIK CONSTRUCTORA INGENIERIA Y ACERO\",\n          \"VICTUM SERVICIOS INTEGRALES\",\n          \"DELANI LEAL ARIAS\"\n        ],\n        \"semantic_type\": \"\",\n        \"description\": \"\"\n      }\n    },\n    {\n      \"column\": \"Caja\",\n      \"properties\": {\n        \"dtype\": \"category\",\n        \"num_unique_values\": 1,\n        \"samples\": [\n          \"Caja 1\"\n        ],\n        \"semantic_type\": \"\",\n        \"description\": \"\"\n      }\n    },\n    {\n      \"column\": \"Usuario\",\n      \"properties\": {\n        \"dtype\": \"category\",\n        \"num_unique_values\": 1,\n        \"samples\": [\n          \"admin\"\n        ],\n        \"semantic_type\": \"\",\n        \"description\": \"\"\n      }\n    },\n    {\n      \"column\": \"Folio F.\",\n      \"properties\": {\n        \"dtype\": \"number\",\n        \"std\": 8.281548501581428,\n        \"min\": 22736.0,\n        \"max\": 22763.0,\n        \"num_unique_values\": 27,\n        \"samples\": [\n          22745.0\n        ],\n        \"semantic_type\": \"\",\n        \"description\": \"\"\n      }\n    },\n    {\n      \"column\": \"Est\",\n      \"properties\": {\n        \"dtype\": \"category\",\n        \"num_unique_values\": 1,\n        \"samples\": [\n          \"V\"\n        ],\n        \"semantic_type\": \"\",\n        \"description\": \"\"\n      }\n    },\n    {\n      \"column\": \"Total   \",\n      \"properties\": {\n        \"dtype\": \"category\",\n        \"num_unique_values\": 137,\n        \"samples\": [\n          \"$ 58.00\"\n        ],\n        \"semantic_type\": \"\",\n        \"description\": \"\"\n      }\n    },\n    {\n      \"column\": \"Efectivo\",\n      \"properties\": {\n        \"dtype\": \"category\",\n        \"num_unique_values\": 86,\n        \"samples\": [\n          \"$ 261.00\"\n        ],\n        \"semantic_type\": \"\",\n        \"description\": \"\"\n      }\n    },\n    {\n      \"column\": \"Cheque\",\n      \"properties\": {\n        \"dtype\": \"category\",\n        \"num_unique_values\": 2,\n        \"samples\": [\n          \"$ 74.00\"\n        ],\n        \"semantic_type\": \"\",\n        \"description\": \"\"\n      }\n    },\n    {\n      \"column\": \"Cr\\u00e9dito\",\n      \"properties\": {\n        \"dtype\": \"category\",\n        \"num_unique_values\": 1,\n        \"samples\": [\n          \"$ 0.00\"\n        ],\n        \"semantic_type\": \"\",\n        \"description\": \"\"\n      }\n    },\n    {\n      \"column\": \"Transferencia\",\n      \"properties\": {\n        \"dtype\": \"category\",\n        \"num_unique_values\": 5,\n        \"samples\": [\n          \"$ 4,650.00\"\n        ],\n        \"semantic_type\": \"\",\n        \"description\": \"\"\n      }\n    },\n    {\n      \"column\": \"Vales\",\n      \"properties\": {\n        \"dtype\": \"category\",\n        \"num_unique_values\": 1,\n        \"samples\": [\n          \"$ 0.00\"\n        ],\n        \"semantic_type\": \"\",\n        \"description\": \"\"\n      }\n    },\n    {\n      \"column\": \"Tarjeta\",\n      \"properties\": {\n        \"dtype\": \"category\",\n        \"num_unique_values\": 60,\n        \"samples\": [\n          \"$ 0.00\"\n        ],\n        \"semantic_type\": \"\",\n        \"description\": \"\"\n      }\n    },\n    {\n      \"column\": \"Anticipo\",\n      \"properties\": {\n        \"dtype\": \"category\",\n        \"num_unique_values\": 1,\n        \"samples\": [\n          \"$ 0.00\"\n        ],\n        \"semantic_type\": \"\",\n        \"description\": \"\"\n      }\n    },\n    {\n      \"column\": \"SICAR Pagos\",\n      \"properties\": {\n        \"dtype\": \"category\",\n        \"num_unique_values\": 1,\n        \"samples\": [\n          \"$ 0.00\"\n        ],\n        \"semantic_type\": \"\",\n        \"description\": \"\"\n      }\n    }\n  ]\n}"
            }
          },
          "metadata": {},
          "execution_count": 3202
        }
      ]
    },
    {
      "cell_type": "markdown",
      "source": [
        "No hacemos un drop.na por la columna de \"Folio F.\", en donde la mayoría de los datos son nulos"
      ],
      "metadata": {
        "id": "aHsDJk7vRrUO"
      }
    },
    {
      "cell_type": "code",
      "source": [
        "ventas = ventas.loc[(ventas[\"Documento\"] == \"Ticket\") | (ventas[\"Documento\"] == \"Factura CFDI\")]\n",
        "ventas.head()"
      ],
      "metadata": {
        "colab": {
          "base_uri": "https://localhost:8080/",
          "height": 417
        },
        "id": "Uv-b-VBHNLS2",
        "outputId": "971c4082-ed92-45d4-d2ad-71db3bcdbf0e"
      },
      "execution_count": 3203,
      "outputs": [
        {
          "output_type": "execute_result",
          "data": {
            "text/plain": [
              "       Documento               Fecha    Folio                     Cliente  \\\n",
              "0         Ticket 2025-07-03 08:03:19  63015.0          Público en General   \n",
              "2         Ticket 2025-07-03 08:15:21  63016.0          Público en General   \n",
              "7         Ticket 2025-07-03 08:19:15  63017.0          Público en General   \n",
              "9   Factura CFDI 2025-07-03 08:22:30  22736.0  VISION COMERCIAL DEPORTIVA   \n",
              "12        Ticket 2025-07-03 08:26:35  63018.0          Público en General   \n",
              "\n",
              "      Caja Usuario  Folio F. Est  Total     Efectivo  Cheque Crédito  \\\n",
              "0   Caja 1   admin       NaN   V   $ 49.00   $ 49.00  $ 0.00  $ 0.00   \n",
              "2   Caja 1   admin       NaN   V  $ 119.00  $ 119.00  $ 0.00  $ 0.00   \n",
              "7   Caja 1   admin       NaN   V   $ 12.00   $ 12.00  $ 0.00  $ 0.00   \n",
              "9   Caja 1   admin   22736.0   V  $ 279.00    $ 0.00  $ 0.00  $ 0.00   \n",
              "12  Caja 1   admin       NaN   V  $ 326.00  $ 326.00  $ 0.00  $ 0.00   \n",
              "\n",
              "   Transferencia   Vales   Tarjeta Anticipo SICAR Pagos  \n",
              "0         $ 0.00  $ 0.00    $ 0.00   $ 0.00      $ 0.00  \n",
              "2         $ 0.00  $ 0.00    $ 0.00   $ 0.00      $ 0.00  \n",
              "7         $ 0.00  $ 0.00    $ 0.00   $ 0.00      $ 0.00  \n",
              "9         $ 0.00  $ 0.00  $ 279.00   $ 0.00      $ 0.00  \n",
              "12        $ 0.00  $ 0.00    $ 0.00   $ 0.00      $ 0.00  "
            ],
            "text/html": [
              "\n",
              "  <div id=\"df-6c3b4b16-cd46-4b5c-874b-084345c980bf\" class=\"colab-df-container\">\n",
              "    <div>\n",
              "<style scoped>\n",
              "    .dataframe tbody tr th:only-of-type {\n",
              "        vertical-align: middle;\n",
              "    }\n",
              "\n",
              "    .dataframe tbody tr th {\n",
              "        vertical-align: top;\n",
              "    }\n",
              "\n",
              "    .dataframe thead th {\n",
              "        text-align: right;\n",
              "    }\n",
              "</style>\n",
              "<table border=\"1\" class=\"dataframe\">\n",
              "  <thead>\n",
              "    <tr style=\"text-align: right;\">\n",
              "      <th></th>\n",
              "      <th>Documento</th>\n",
              "      <th>Fecha</th>\n",
              "      <th>Folio</th>\n",
              "      <th>Cliente</th>\n",
              "      <th>Caja</th>\n",
              "      <th>Usuario</th>\n",
              "      <th>Folio F.</th>\n",
              "      <th>Est</th>\n",
              "      <th>Total</th>\n",
              "      <th>Efectivo</th>\n",
              "      <th>Cheque</th>\n",
              "      <th>Crédito</th>\n",
              "      <th>Transferencia</th>\n",
              "      <th>Vales</th>\n",
              "      <th>Tarjeta</th>\n",
              "      <th>Anticipo</th>\n",
              "      <th>SICAR Pagos</th>\n",
              "    </tr>\n",
              "  </thead>\n",
              "  <tbody>\n",
              "    <tr>\n",
              "      <th>0</th>\n",
              "      <td>Ticket</td>\n",
              "      <td>2025-07-03 08:03:19</td>\n",
              "      <td>63015.0</td>\n",
              "      <td>Público en General</td>\n",
              "      <td>Caja 1</td>\n",
              "      <td>admin</td>\n",
              "      <td>NaN</td>\n",
              "      <td>V</td>\n",
              "      <td>$ 49.00</td>\n",
              "      <td>$ 49.00</td>\n",
              "      <td>$ 0.00</td>\n",
              "      <td>$ 0.00</td>\n",
              "      <td>$ 0.00</td>\n",
              "      <td>$ 0.00</td>\n",
              "      <td>$ 0.00</td>\n",
              "      <td>$ 0.00</td>\n",
              "      <td>$ 0.00</td>\n",
              "    </tr>\n",
              "    <tr>\n",
              "      <th>2</th>\n",
              "      <td>Ticket</td>\n",
              "      <td>2025-07-03 08:15:21</td>\n",
              "      <td>63016.0</td>\n",
              "      <td>Público en General</td>\n",
              "      <td>Caja 1</td>\n",
              "      <td>admin</td>\n",
              "      <td>NaN</td>\n",
              "      <td>V</td>\n",
              "      <td>$ 119.00</td>\n",
              "      <td>$ 119.00</td>\n",
              "      <td>$ 0.00</td>\n",
              "      <td>$ 0.00</td>\n",
              "      <td>$ 0.00</td>\n",
              "      <td>$ 0.00</td>\n",
              "      <td>$ 0.00</td>\n",
              "      <td>$ 0.00</td>\n",
              "      <td>$ 0.00</td>\n",
              "    </tr>\n",
              "    <tr>\n",
              "      <th>7</th>\n",
              "      <td>Ticket</td>\n",
              "      <td>2025-07-03 08:19:15</td>\n",
              "      <td>63017.0</td>\n",
              "      <td>Público en General</td>\n",
              "      <td>Caja 1</td>\n",
              "      <td>admin</td>\n",
              "      <td>NaN</td>\n",
              "      <td>V</td>\n",
              "      <td>$ 12.00</td>\n",
              "      <td>$ 12.00</td>\n",
              "      <td>$ 0.00</td>\n",
              "      <td>$ 0.00</td>\n",
              "      <td>$ 0.00</td>\n",
              "      <td>$ 0.00</td>\n",
              "      <td>$ 0.00</td>\n",
              "      <td>$ 0.00</td>\n",
              "      <td>$ 0.00</td>\n",
              "    </tr>\n",
              "    <tr>\n",
              "      <th>9</th>\n",
              "      <td>Factura CFDI</td>\n",
              "      <td>2025-07-03 08:22:30</td>\n",
              "      <td>22736.0</td>\n",
              "      <td>VISION COMERCIAL DEPORTIVA</td>\n",
              "      <td>Caja 1</td>\n",
              "      <td>admin</td>\n",
              "      <td>22736.0</td>\n",
              "      <td>V</td>\n",
              "      <td>$ 279.00</td>\n",
              "      <td>$ 0.00</td>\n",
              "      <td>$ 0.00</td>\n",
              "      <td>$ 0.00</td>\n",
              "      <td>$ 0.00</td>\n",
              "      <td>$ 0.00</td>\n",
              "      <td>$ 279.00</td>\n",
              "      <td>$ 0.00</td>\n",
              "      <td>$ 0.00</td>\n",
              "    </tr>\n",
              "    <tr>\n",
              "      <th>12</th>\n",
              "      <td>Ticket</td>\n",
              "      <td>2025-07-03 08:26:35</td>\n",
              "      <td>63018.0</td>\n",
              "      <td>Público en General</td>\n",
              "      <td>Caja 1</td>\n",
              "      <td>admin</td>\n",
              "      <td>NaN</td>\n",
              "      <td>V</td>\n",
              "      <td>$ 326.00</td>\n",
              "      <td>$ 326.00</td>\n",
              "      <td>$ 0.00</td>\n",
              "      <td>$ 0.00</td>\n",
              "      <td>$ 0.00</td>\n",
              "      <td>$ 0.00</td>\n",
              "      <td>$ 0.00</td>\n",
              "      <td>$ 0.00</td>\n",
              "      <td>$ 0.00</td>\n",
              "    </tr>\n",
              "  </tbody>\n",
              "</table>\n",
              "</div>\n",
              "    <div class=\"colab-df-buttons\">\n",
              "\n",
              "  <div class=\"colab-df-container\">\n",
              "    <button class=\"colab-df-convert\" onclick=\"convertToInteractive('df-6c3b4b16-cd46-4b5c-874b-084345c980bf')\"\n",
              "            title=\"Convert this dataframe to an interactive table.\"\n",
              "            style=\"display:none;\">\n",
              "\n",
              "  <svg xmlns=\"http://www.w3.org/2000/svg\" height=\"24px\" viewBox=\"0 -960 960 960\">\n",
              "    <path d=\"M120-120v-720h720v720H120Zm60-500h600v-160H180v160Zm220 220h160v-160H400v160Zm0 220h160v-160H400v160ZM180-400h160v-160H180v160Zm440 0h160v-160H620v160ZM180-180h160v-160H180v160Zm440 0h160v-160H620v160Z\"/>\n",
              "  </svg>\n",
              "    </button>\n",
              "\n",
              "  <style>\n",
              "    .colab-df-container {\n",
              "      display:flex;\n",
              "      gap: 12px;\n",
              "    }\n",
              "\n",
              "    .colab-df-convert {\n",
              "      background-color: #E8F0FE;\n",
              "      border: none;\n",
              "      border-radius: 50%;\n",
              "      cursor: pointer;\n",
              "      display: none;\n",
              "      fill: #1967D2;\n",
              "      height: 32px;\n",
              "      padding: 0 0 0 0;\n",
              "      width: 32px;\n",
              "    }\n",
              "\n",
              "    .colab-df-convert:hover {\n",
              "      background-color: #E2EBFA;\n",
              "      box-shadow: 0px 1px 2px rgba(60, 64, 67, 0.3), 0px 1px 3px 1px rgba(60, 64, 67, 0.15);\n",
              "      fill: #174EA6;\n",
              "    }\n",
              "\n",
              "    .colab-df-buttons div {\n",
              "      margin-bottom: 4px;\n",
              "    }\n",
              "\n",
              "    [theme=dark] .colab-df-convert {\n",
              "      background-color: #3B4455;\n",
              "      fill: #D2E3FC;\n",
              "    }\n",
              "\n",
              "    [theme=dark] .colab-df-convert:hover {\n",
              "      background-color: #434B5C;\n",
              "      box-shadow: 0px 1px 3px 1px rgba(0, 0, 0, 0.15);\n",
              "      filter: drop-shadow(0px 1px 2px rgba(0, 0, 0, 0.3));\n",
              "      fill: #FFFFFF;\n",
              "    }\n",
              "  </style>\n",
              "\n",
              "    <script>\n",
              "      const buttonEl =\n",
              "        document.querySelector('#df-6c3b4b16-cd46-4b5c-874b-084345c980bf button.colab-df-convert');\n",
              "      buttonEl.style.display =\n",
              "        google.colab.kernel.accessAllowed ? 'block' : 'none';\n",
              "\n",
              "      async function convertToInteractive(key) {\n",
              "        const element = document.querySelector('#df-6c3b4b16-cd46-4b5c-874b-084345c980bf');\n",
              "        const dataTable =\n",
              "          await google.colab.kernel.invokeFunction('convertToInteractive',\n",
              "                                                    [key], {});\n",
              "        if (!dataTable) return;\n",
              "\n",
              "        const docLinkHtml = 'Like what you see? Visit the ' +\n",
              "          '<a target=\"_blank\" href=https://colab.research.google.com/notebooks/data_table.ipynb>data table notebook</a>'\n",
              "          + ' to learn more about interactive tables.';\n",
              "        element.innerHTML = '';\n",
              "        dataTable['output_type'] = 'display_data';\n",
              "        await google.colab.output.renderOutput(dataTable, element);\n",
              "        const docLink = document.createElement('div');\n",
              "        docLink.innerHTML = docLinkHtml;\n",
              "        element.appendChild(docLink);\n",
              "      }\n",
              "    </script>\n",
              "  </div>\n",
              "\n",
              "\n",
              "    <div id=\"df-18232158-c569-4a1e-9b92-4f0b86a10fb0\">\n",
              "      <button class=\"colab-df-quickchart\" onclick=\"quickchart('df-18232158-c569-4a1e-9b92-4f0b86a10fb0')\"\n",
              "                title=\"Suggest charts\"\n",
              "                style=\"display:none;\">\n",
              "\n",
              "<svg xmlns=\"http://www.w3.org/2000/svg\" height=\"24px\"viewBox=\"0 0 24 24\"\n",
              "     width=\"24px\">\n",
              "    <g>\n",
              "        <path d=\"M19 3H5c-1.1 0-2 .9-2 2v14c0 1.1.9 2 2 2h14c1.1 0 2-.9 2-2V5c0-1.1-.9-2-2-2zM9 17H7v-7h2v7zm4 0h-2V7h2v10zm4 0h-2v-4h2v4z\"/>\n",
              "    </g>\n",
              "</svg>\n",
              "      </button>\n",
              "\n",
              "<style>\n",
              "  .colab-df-quickchart {\n",
              "      --bg-color: #E8F0FE;\n",
              "      --fill-color: #1967D2;\n",
              "      --hover-bg-color: #E2EBFA;\n",
              "      --hover-fill-color: #174EA6;\n",
              "      --disabled-fill-color: #AAA;\n",
              "      --disabled-bg-color: #DDD;\n",
              "  }\n",
              "\n",
              "  [theme=dark] .colab-df-quickchart {\n",
              "      --bg-color: #3B4455;\n",
              "      --fill-color: #D2E3FC;\n",
              "      --hover-bg-color: #434B5C;\n",
              "      --hover-fill-color: #FFFFFF;\n",
              "      --disabled-bg-color: #3B4455;\n",
              "      --disabled-fill-color: #666;\n",
              "  }\n",
              "\n",
              "  .colab-df-quickchart {\n",
              "    background-color: var(--bg-color);\n",
              "    border: none;\n",
              "    border-radius: 50%;\n",
              "    cursor: pointer;\n",
              "    display: none;\n",
              "    fill: var(--fill-color);\n",
              "    height: 32px;\n",
              "    padding: 0;\n",
              "    width: 32px;\n",
              "  }\n",
              "\n",
              "  .colab-df-quickchart:hover {\n",
              "    background-color: var(--hover-bg-color);\n",
              "    box-shadow: 0 1px 2px rgba(60, 64, 67, 0.3), 0 1px 3px 1px rgba(60, 64, 67, 0.15);\n",
              "    fill: var(--button-hover-fill-color);\n",
              "  }\n",
              "\n",
              "  .colab-df-quickchart-complete:disabled,\n",
              "  .colab-df-quickchart-complete:disabled:hover {\n",
              "    background-color: var(--disabled-bg-color);\n",
              "    fill: var(--disabled-fill-color);\n",
              "    box-shadow: none;\n",
              "  }\n",
              "\n",
              "  .colab-df-spinner {\n",
              "    border: 2px solid var(--fill-color);\n",
              "    border-color: transparent;\n",
              "    border-bottom-color: var(--fill-color);\n",
              "    animation:\n",
              "      spin 1s steps(1) infinite;\n",
              "  }\n",
              "\n",
              "  @keyframes spin {\n",
              "    0% {\n",
              "      border-color: transparent;\n",
              "      border-bottom-color: var(--fill-color);\n",
              "      border-left-color: var(--fill-color);\n",
              "    }\n",
              "    20% {\n",
              "      border-color: transparent;\n",
              "      border-left-color: var(--fill-color);\n",
              "      border-top-color: var(--fill-color);\n",
              "    }\n",
              "    30% {\n",
              "      border-color: transparent;\n",
              "      border-left-color: var(--fill-color);\n",
              "      border-top-color: var(--fill-color);\n",
              "      border-right-color: var(--fill-color);\n",
              "    }\n",
              "    40% {\n",
              "      border-color: transparent;\n",
              "      border-right-color: var(--fill-color);\n",
              "      border-top-color: var(--fill-color);\n",
              "    }\n",
              "    60% {\n",
              "      border-color: transparent;\n",
              "      border-right-color: var(--fill-color);\n",
              "    }\n",
              "    80% {\n",
              "      border-color: transparent;\n",
              "      border-right-color: var(--fill-color);\n",
              "      border-bottom-color: var(--fill-color);\n",
              "    }\n",
              "    90% {\n",
              "      border-color: transparent;\n",
              "      border-bottom-color: var(--fill-color);\n",
              "    }\n",
              "  }\n",
              "</style>\n",
              "\n",
              "      <script>\n",
              "        async function quickchart(key) {\n",
              "          const quickchartButtonEl =\n",
              "            document.querySelector('#' + key + ' button');\n",
              "          quickchartButtonEl.disabled = true;  // To prevent multiple clicks.\n",
              "          quickchartButtonEl.classList.add('colab-df-spinner');\n",
              "          try {\n",
              "            const charts = await google.colab.kernel.invokeFunction(\n",
              "                'suggestCharts', [key], {});\n",
              "          } catch (error) {\n",
              "            console.error('Error during call to suggestCharts:', error);\n",
              "          }\n",
              "          quickchartButtonEl.classList.remove('colab-df-spinner');\n",
              "          quickchartButtonEl.classList.add('colab-df-quickchart-complete');\n",
              "        }\n",
              "        (() => {\n",
              "          let quickchartButtonEl =\n",
              "            document.querySelector('#df-18232158-c569-4a1e-9b92-4f0b86a10fb0 button');\n",
              "          quickchartButtonEl.style.display =\n",
              "            google.colab.kernel.accessAllowed ? 'block' : 'none';\n",
              "        })();\n",
              "      </script>\n",
              "    </div>\n",
              "\n",
              "    </div>\n",
              "  </div>\n"
            ],
            "application/vnd.google.colaboratory.intrinsic+json": {
              "type": "dataframe",
              "variable_name": "ventas",
              "summary": "{\n  \"name\": \"ventas\",\n  \"rows\": 166,\n  \"fields\": [\n    {\n      \"column\": \"Documento\",\n      \"properties\": {\n        \"dtype\": \"category\",\n        \"num_unique_values\": 2,\n        \"samples\": [\n          \"Factura CFDI\",\n          \"Ticket\"\n        ],\n        \"semantic_type\": \"\",\n        \"description\": \"\"\n      }\n    },\n    {\n      \"column\": \"Fecha\",\n      \"properties\": {\n        \"dtype\": \"date\",\n        \"min\": \"2025-07-03 08:03:19\",\n        \"max\": \"2025-07-03 17:55:39\",\n        \"num_unique_values\": 164,\n        \"samples\": [\n          \"2025-07-03 15:51:45\",\n          \"2025-07-03 14:45:55\"\n        ],\n        \"semantic_type\": \"\",\n        \"description\": \"\"\n      }\n    },\n    {\n      \"column\": \"Folio\",\n      \"properties\": {\n        \"dtype\": \"number\",\n        \"std\": 14703.823138139707,\n        \"min\": 22736.0,\n        \"max\": 63154.0,\n        \"num_unique_values\": 166,\n        \"samples\": [\n          63098.0,\n          63130.0\n        ],\n        \"semantic_type\": \"\",\n        \"description\": \"\"\n      }\n    },\n    {\n      \"column\": \"Cliente\",\n      \"properties\": {\n        \"dtype\": \"category\",\n        \"num_unique_values\": 30,\n        \"samples\": [\n          \"DINAMIK CONSTRUCTORA INGENIERIA Y ACERO\",\n          \"VICTUM SERVICIOS INTEGRALES\"\n        ],\n        \"semantic_type\": \"\",\n        \"description\": \"\"\n      }\n    },\n    {\n      \"column\": \"Caja\",\n      \"properties\": {\n        \"dtype\": \"category\",\n        \"num_unique_values\": 1,\n        \"samples\": [\n          \"Caja 1\"\n        ],\n        \"semantic_type\": \"\",\n        \"description\": \"\"\n      }\n    },\n    {\n      \"column\": \"Usuario\",\n      \"properties\": {\n        \"dtype\": \"category\",\n        \"num_unique_values\": 1,\n        \"samples\": [\n          \"admin\"\n        ],\n        \"semantic_type\": \"\",\n        \"description\": \"\"\n      }\n    },\n    {\n      \"column\": \"Folio F.\",\n      \"properties\": {\n        \"dtype\": \"number\",\n        \"std\": 8.281548501581428,\n        \"min\": 22736.0,\n        \"max\": 22763.0,\n        \"num_unique_values\": 27,\n        \"samples\": [\n          22745.0\n        ],\n        \"semantic_type\": \"\",\n        \"description\": \"\"\n      }\n    },\n    {\n      \"column\": \"Est\",\n      \"properties\": {\n        \"dtype\": \"category\",\n        \"num_unique_values\": 1,\n        \"samples\": [\n          \"V\"\n        ],\n        \"semantic_type\": \"\",\n        \"description\": \"\"\n      }\n    },\n    {\n      \"column\": \"Total   \",\n      \"properties\": {\n        \"dtype\": \"string\",\n        \"num_unique_values\": 137,\n        \"samples\": [\n          \"$ 58.00\"\n        ],\n        \"semantic_type\": \"\",\n        \"description\": \"\"\n      }\n    },\n    {\n      \"column\": \"Efectivo\",\n      \"properties\": {\n        \"dtype\": \"string\",\n        \"num_unique_values\": 86,\n        \"samples\": [\n          \"$ 261.00\"\n        ],\n        \"semantic_type\": \"\",\n        \"description\": \"\"\n      }\n    },\n    {\n      \"column\": \"Cheque\",\n      \"properties\": {\n        \"dtype\": \"category\",\n        \"num_unique_values\": 2,\n        \"samples\": [\n          \"$ 74.00\"\n        ],\n        \"semantic_type\": \"\",\n        \"description\": \"\"\n      }\n    },\n    {\n      \"column\": \"Cr\\u00e9dito\",\n      \"properties\": {\n        \"dtype\": \"category\",\n        \"num_unique_values\": 1,\n        \"samples\": [\n          \"$ 0.00\"\n        ],\n        \"semantic_type\": \"\",\n        \"description\": \"\"\n      }\n    },\n    {\n      \"column\": \"Transferencia\",\n      \"properties\": {\n        \"dtype\": \"category\",\n        \"num_unique_values\": 5,\n        \"samples\": [\n          \"$ 4,650.00\"\n        ],\n        \"semantic_type\": \"\",\n        \"description\": \"\"\n      }\n    },\n    {\n      \"column\": \"Vales\",\n      \"properties\": {\n        \"dtype\": \"category\",\n        \"num_unique_values\": 1,\n        \"samples\": [\n          \"$ 0.00\"\n        ],\n        \"semantic_type\": \"\",\n        \"description\": \"\"\n      }\n    },\n    {\n      \"column\": \"Tarjeta\",\n      \"properties\": {\n        \"dtype\": \"category\",\n        \"num_unique_values\": 60,\n        \"samples\": [\n          \"$ 0.00\"\n        ],\n        \"semantic_type\": \"\",\n        \"description\": \"\"\n      }\n    },\n    {\n      \"column\": \"Anticipo\",\n      \"properties\": {\n        \"dtype\": \"category\",\n        \"num_unique_values\": 1,\n        \"samples\": [\n          \"$ 0.00\"\n        ],\n        \"semantic_type\": \"\",\n        \"description\": \"\"\n      }\n    },\n    {\n      \"column\": \"SICAR Pagos\",\n      \"properties\": {\n        \"dtype\": \"category\",\n        \"num_unique_values\": 1,\n        \"samples\": [\n          \"$ 0.00\"\n        ],\n        \"semantic_type\": \"\",\n        \"description\": \"\"\n      }\n    }\n  ]\n}"
            }
          },
          "metadata": {},
          "execution_count": 3203
        }
      ]
    },
    {
      "cell_type": "markdown",
      "source": [
        "## Explicación 3\n",
        "Eliminamos todos los signos y comas de las columnas que contienen información numérica. Si no, no podemos hacer los cálculos necesarios.\n",
        "\n",
        "Nota: La columna \"Total\" del archivo de ventas de SICAR tiene esos espacios en blanco."
      ],
      "metadata": {
        "id": "Cg0V3iKFPNYm"
      }
    },
    {
      "cell_type": "code",
      "source": [
        "ventas['Total   '] = ventas[\"Total   \"].str.strip().str.replace('$', '').str.replace(',', '').astype(float)\n",
        "ventas['Efectivo'] = ventas[\"Efectivo\"].str.strip().str.replace('$', '').str.replace(',', '').astype(float)\n",
        "ventas['Cheque'] = ventas[\"Cheque\"].str.strip().str.replace('$', '').str.replace(',', '').astype(float)\n",
        "ventas['Crédito'] = ventas[\"Crédito\"].str.strip().str.replace('$', '').str.replace(',', '').astype(float)\n",
        "ventas['Transferencia'] = ventas[\"Transferencia\"].str.strip().str.replace('$', '').str.replace(',', '').astype(float)\n",
        "ventas['Vales'] = ventas[\"Vales\"].str.strip().str.replace('$', '').str.replace(',', '').astype(float)\n",
        "ventas['Tarjeta'] = ventas[\"Tarjeta\"].str.strip().str.replace('$', '').str.replace(',', '').astype(float)\n",
        "ventas['Anticipo'] = ventas[\"Anticipo\"].str.strip().str.replace('$', '').str.replace(',', '').astype(float)\n",
        "ventas['SICAR Pagos'] = ventas[\"SICAR Pagos\"].str.strip().str.replace('$', '').str.replace(',', '').astype(float)\n"
      ],
      "metadata": {
        "id": "xU2YZHNgW_Rs",
        "colab": {
          "base_uri": "https://localhost:8080/"
        },
        "outputId": "ee5f54c4-873b-41b8-e22e-b434c06580df"
      },
      "execution_count": 3204,
      "outputs": [
        {
          "output_type": "stream",
          "name": "stderr",
          "text": [
            "/tmp/ipython-input-3204-1681739492.py:1: SettingWithCopyWarning: \n",
            "A value is trying to be set on a copy of a slice from a DataFrame.\n",
            "Try using .loc[row_indexer,col_indexer] = value instead\n",
            "\n",
            "See the caveats in the documentation: https://pandas.pydata.org/pandas-docs/stable/user_guide/indexing.html#returning-a-view-versus-a-copy\n",
            "  ventas['Total   '] = ventas[\"Total   \"].str.strip().str.replace('$', '').str.replace(',', '').astype(float)\n",
            "/tmp/ipython-input-3204-1681739492.py:2: SettingWithCopyWarning: \n",
            "A value is trying to be set on a copy of a slice from a DataFrame.\n",
            "Try using .loc[row_indexer,col_indexer] = value instead\n",
            "\n",
            "See the caveats in the documentation: https://pandas.pydata.org/pandas-docs/stable/user_guide/indexing.html#returning-a-view-versus-a-copy\n",
            "  ventas['Efectivo'] = ventas[\"Efectivo\"].str.strip().str.replace('$', '').str.replace(',', '').astype(float)\n",
            "/tmp/ipython-input-3204-1681739492.py:3: SettingWithCopyWarning: \n",
            "A value is trying to be set on a copy of a slice from a DataFrame.\n",
            "Try using .loc[row_indexer,col_indexer] = value instead\n",
            "\n",
            "See the caveats in the documentation: https://pandas.pydata.org/pandas-docs/stable/user_guide/indexing.html#returning-a-view-versus-a-copy\n",
            "  ventas['Cheque'] = ventas[\"Cheque\"].str.strip().str.replace('$', '').str.replace(',', '').astype(float)\n",
            "/tmp/ipython-input-3204-1681739492.py:4: SettingWithCopyWarning: \n",
            "A value is trying to be set on a copy of a slice from a DataFrame.\n",
            "Try using .loc[row_indexer,col_indexer] = value instead\n",
            "\n",
            "See the caveats in the documentation: https://pandas.pydata.org/pandas-docs/stable/user_guide/indexing.html#returning-a-view-versus-a-copy\n",
            "  ventas['Crédito'] = ventas[\"Crédito\"].str.strip().str.replace('$', '').str.replace(',', '').astype(float)\n",
            "/tmp/ipython-input-3204-1681739492.py:5: SettingWithCopyWarning: \n",
            "A value is trying to be set on a copy of a slice from a DataFrame.\n",
            "Try using .loc[row_indexer,col_indexer] = value instead\n",
            "\n",
            "See the caveats in the documentation: https://pandas.pydata.org/pandas-docs/stable/user_guide/indexing.html#returning-a-view-versus-a-copy\n",
            "  ventas['Transferencia'] = ventas[\"Transferencia\"].str.strip().str.replace('$', '').str.replace(',', '').astype(float)\n",
            "/tmp/ipython-input-3204-1681739492.py:6: SettingWithCopyWarning: \n",
            "A value is trying to be set on a copy of a slice from a DataFrame.\n",
            "Try using .loc[row_indexer,col_indexer] = value instead\n",
            "\n",
            "See the caveats in the documentation: https://pandas.pydata.org/pandas-docs/stable/user_guide/indexing.html#returning-a-view-versus-a-copy\n",
            "  ventas['Vales'] = ventas[\"Vales\"].str.strip().str.replace('$', '').str.replace(',', '').astype(float)\n",
            "/tmp/ipython-input-3204-1681739492.py:7: SettingWithCopyWarning: \n",
            "A value is trying to be set on a copy of a slice from a DataFrame.\n",
            "Try using .loc[row_indexer,col_indexer] = value instead\n",
            "\n",
            "See the caveats in the documentation: https://pandas.pydata.org/pandas-docs/stable/user_guide/indexing.html#returning-a-view-versus-a-copy\n",
            "  ventas['Tarjeta'] = ventas[\"Tarjeta\"].str.strip().str.replace('$', '').str.replace(',', '').astype(float)\n",
            "/tmp/ipython-input-3204-1681739492.py:8: SettingWithCopyWarning: \n",
            "A value is trying to be set on a copy of a slice from a DataFrame.\n",
            "Try using .loc[row_indexer,col_indexer] = value instead\n",
            "\n",
            "See the caveats in the documentation: https://pandas.pydata.org/pandas-docs/stable/user_guide/indexing.html#returning-a-view-versus-a-copy\n",
            "  ventas['Anticipo'] = ventas[\"Anticipo\"].str.strip().str.replace('$', '').str.replace(',', '').astype(float)\n",
            "/tmp/ipython-input-3204-1681739492.py:9: SettingWithCopyWarning: \n",
            "A value is trying to be set on a copy of a slice from a DataFrame.\n",
            "Try using .loc[row_indexer,col_indexer] = value instead\n",
            "\n",
            "See the caveats in the documentation: https://pandas.pydata.org/pandas-docs/stable/user_guide/indexing.html#returning-a-view-versus-a-copy\n",
            "  ventas['SICAR Pagos'] = ventas[\"SICAR Pagos\"].str.strip().str.replace('$', '').str.replace(',', '').astype(float)\n"
          ]
        }
      ]
    },
    {
      "cell_type": "code",
      "source": [
        "ventas.head()"
      ],
      "metadata": {
        "colab": {
          "base_uri": "https://localhost:8080/",
          "height": 417
        },
        "id": "rSc2ivg4NlSW",
        "outputId": "03a883f3-c10e-4fbe-e9d2-6d0fb524938a"
      },
      "execution_count": 3205,
      "outputs": [
        {
          "output_type": "execute_result",
          "data": {
            "text/plain": [
              "       Documento               Fecha    Folio                     Cliente  \\\n",
              "0         Ticket 2025-07-03 08:03:19  63015.0          Público en General   \n",
              "2         Ticket 2025-07-03 08:15:21  63016.0          Público en General   \n",
              "7         Ticket 2025-07-03 08:19:15  63017.0          Público en General   \n",
              "9   Factura CFDI 2025-07-03 08:22:30  22736.0  VISION COMERCIAL DEPORTIVA   \n",
              "12        Ticket 2025-07-03 08:26:35  63018.0          Público en General   \n",
              "\n",
              "      Caja Usuario  Folio F. Est  Total     Efectivo  Cheque  Crédito  \\\n",
              "0   Caja 1   admin       NaN   V      49.0      49.0     0.0      0.0   \n",
              "2   Caja 1   admin       NaN   V     119.0     119.0     0.0      0.0   \n",
              "7   Caja 1   admin       NaN   V      12.0      12.0     0.0      0.0   \n",
              "9   Caja 1   admin   22736.0   V     279.0       0.0     0.0      0.0   \n",
              "12  Caja 1   admin       NaN   V     326.0     326.0     0.0      0.0   \n",
              "\n",
              "    Transferencia  Vales  Tarjeta  Anticipo  SICAR Pagos  \n",
              "0             0.0    0.0      0.0       0.0          0.0  \n",
              "2             0.0    0.0      0.0       0.0          0.0  \n",
              "7             0.0    0.0      0.0       0.0          0.0  \n",
              "9             0.0    0.0    279.0       0.0          0.0  \n",
              "12            0.0    0.0      0.0       0.0          0.0  "
            ],
            "text/html": [
              "\n",
              "  <div id=\"df-b143ab4b-dc0d-4951-8d6e-ec40bffff435\" class=\"colab-df-container\">\n",
              "    <div>\n",
              "<style scoped>\n",
              "    .dataframe tbody tr th:only-of-type {\n",
              "        vertical-align: middle;\n",
              "    }\n",
              "\n",
              "    .dataframe tbody tr th {\n",
              "        vertical-align: top;\n",
              "    }\n",
              "\n",
              "    .dataframe thead th {\n",
              "        text-align: right;\n",
              "    }\n",
              "</style>\n",
              "<table border=\"1\" class=\"dataframe\">\n",
              "  <thead>\n",
              "    <tr style=\"text-align: right;\">\n",
              "      <th></th>\n",
              "      <th>Documento</th>\n",
              "      <th>Fecha</th>\n",
              "      <th>Folio</th>\n",
              "      <th>Cliente</th>\n",
              "      <th>Caja</th>\n",
              "      <th>Usuario</th>\n",
              "      <th>Folio F.</th>\n",
              "      <th>Est</th>\n",
              "      <th>Total</th>\n",
              "      <th>Efectivo</th>\n",
              "      <th>Cheque</th>\n",
              "      <th>Crédito</th>\n",
              "      <th>Transferencia</th>\n",
              "      <th>Vales</th>\n",
              "      <th>Tarjeta</th>\n",
              "      <th>Anticipo</th>\n",
              "      <th>SICAR Pagos</th>\n",
              "    </tr>\n",
              "  </thead>\n",
              "  <tbody>\n",
              "    <tr>\n",
              "      <th>0</th>\n",
              "      <td>Ticket</td>\n",
              "      <td>2025-07-03 08:03:19</td>\n",
              "      <td>63015.0</td>\n",
              "      <td>Público en General</td>\n",
              "      <td>Caja 1</td>\n",
              "      <td>admin</td>\n",
              "      <td>NaN</td>\n",
              "      <td>V</td>\n",
              "      <td>49.0</td>\n",
              "      <td>49.0</td>\n",
              "      <td>0.0</td>\n",
              "      <td>0.0</td>\n",
              "      <td>0.0</td>\n",
              "      <td>0.0</td>\n",
              "      <td>0.0</td>\n",
              "      <td>0.0</td>\n",
              "      <td>0.0</td>\n",
              "    </tr>\n",
              "    <tr>\n",
              "      <th>2</th>\n",
              "      <td>Ticket</td>\n",
              "      <td>2025-07-03 08:15:21</td>\n",
              "      <td>63016.0</td>\n",
              "      <td>Público en General</td>\n",
              "      <td>Caja 1</td>\n",
              "      <td>admin</td>\n",
              "      <td>NaN</td>\n",
              "      <td>V</td>\n",
              "      <td>119.0</td>\n",
              "      <td>119.0</td>\n",
              "      <td>0.0</td>\n",
              "      <td>0.0</td>\n",
              "      <td>0.0</td>\n",
              "      <td>0.0</td>\n",
              "      <td>0.0</td>\n",
              "      <td>0.0</td>\n",
              "      <td>0.0</td>\n",
              "    </tr>\n",
              "    <tr>\n",
              "      <th>7</th>\n",
              "      <td>Ticket</td>\n",
              "      <td>2025-07-03 08:19:15</td>\n",
              "      <td>63017.0</td>\n",
              "      <td>Público en General</td>\n",
              "      <td>Caja 1</td>\n",
              "      <td>admin</td>\n",
              "      <td>NaN</td>\n",
              "      <td>V</td>\n",
              "      <td>12.0</td>\n",
              "      <td>12.0</td>\n",
              "      <td>0.0</td>\n",
              "      <td>0.0</td>\n",
              "      <td>0.0</td>\n",
              "      <td>0.0</td>\n",
              "      <td>0.0</td>\n",
              "      <td>0.0</td>\n",
              "      <td>0.0</td>\n",
              "    </tr>\n",
              "    <tr>\n",
              "      <th>9</th>\n",
              "      <td>Factura CFDI</td>\n",
              "      <td>2025-07-03 08:22:30</td>\n",
              "      <td>22736.0</td>\n",
              "      <td>VISION COMERCIAL DEPORTIVA</td>\n",
              "      <td>Caja 1</td>\n",
              "      <td>admin</td>\n",
              "      <td>22736.0</td>\n",
              "      <td>V</td>\n",
              "      <td>279.0</td>\n",
              "      <td>0.0</td>\n",
              "      <td>0.0</td>\n",
              "      <td>0.0</td>\n",
              "      <td>0.0</td>\n",
              "      <td>0.0</td>\n",
              "      <td>279.0</td>\n",
              "      <td>0.0</td>\n",
              "      <td>0.0</td>\n",
              "    </tr>\n",
              "    <tr>\n",
              "      <th>12</th>\n",
              "      <td>Ticket</td>\n",
              "      <td>2025-07-03 08:26:35</td>\n",
              "      <td>63018.0</td>\n",
              "      <td>Público en General</td>\n",
              "      <td>Caja 1</td>\n",
              "      <td>admin</td>\n",
              "      <td>NaN</td>\n",
              "      <td>V</td>\n",
              "      <td>326.0</td>\n",
              "      <td>326.0</td>\n",
              "      <td>0.0</td>\n",
              "      <td>0.0</td>\n",
              "      <td>0.0</td>\n",
              "      <td>0.0</td>\n",
              "      <td>0.0</td>\n",
              "      <td>0.0</td>\n",
              "      <td>0.0</td>\n",
              "    </tr>\n",
              "  </tbody>\n",
              "</table>\n",
              "</div>\n",
              "    <div class=\"colab-df-buttons\">\n",
              "\n",
              "  <div class=\"colab-df-container\">\n",
              "    <button class=\"colab-df-convert\" onclick=\"convertToInteractive('df-b143ab4b-dc0d-4951-8d6e-ec40bffff435')\"\n",
              "            title=\"Convert this dataframe to an interactive table.\"\n",
              "            style=\"display:none;\">\n",
              "\n",
              "  <svg xmlns=\"http://www.w3.org/2000/svg\" height=\"24px\" viewBox=\"0 -960 960 960\">\n",
              "    <path d=\"M120-120v-720h720v720H120Zm60-500h600v-160H180v160Zm220 220h160v-160H400v160Zm0 220h160v-160H400v160ZM180-400h160v-160H180v160Zm440 0h160v-160H620v160ZM180-180h160v-160H180v160Zm440 0h160v-160H620v160Z\"/>\n",
              "  </svg>\n",
              "    </button>\n",
              "\n",
              "  <style>\n",
              "    .colab-df-container {\n",
              "      display:flex;\n",
              "      gap: 12px;\n",
              "    }\n",
              "\n",
              "    .colab-df-convert {\n",
              "      background-color: #E8F0FE;\n",
              "      border: none;\n",
              "      border-radius: 50%;\n",
              "      cursor: pointer;\n",
              "      display: none;\n",
              "      fill: #1967D2;\n",
              "      height: 32px;\n",
              "      padding: 0 0 0 0;\n",
              "      width: 32px;\n",
              "    }\n",
              "\n",
              "    .colab-df-convert:hover {\n",
              "      background-color: #E2EBFA;\n",
              "      box-shadow: 0px 1px 2px rgba(60, 64, 67, 0.3), 0px 1px 3px 1px rgba(60, 64, 67, 0.15);\n",
              "      fill: #174EA6;\n",
              "    }\n",
              "\n",
              "    .colab-df-buttons div {\n",
              "      margin-bottom: 4px;\n",
              "    }\n",
              "\n",
              "    [theme=dark] .colab-df-convert {\n",
              "      background-color: #3B4455;\n",
              "      fill: #D2E3FC;\n",
              "    }\n",
              "\n",
              "    [theme=dark] .colab-df-convert:hover {\n",
              "      background-color: #434B5C;\n",
              "      box-shadow: 0px 1px 3px 1px rgba(0, 0, 0, 0.15);\n",
              "      filter: drop-shadow(0px 1px 2px rgba(0, 0, 0, 0.3));\n",
              "      fill: #FFFFFF;\n",
              "    }\n",
              "  </style>\n",
              "\n",
              "    <script>\n",
              "      const buttonEl =\n",
              "        document.querySelector('#df-b143ab4b-dc0d-4951-8d6e-ec40bffff435 button.colab-df-convert');\n",
              "      buttonEl.style.display =\n",
              "        google.colab.kernel.accessAllowed ? 'block' : 'none';\n",
              "\n",
              "      async function convertToInteractive(key) {\n",
              "        const element = document.querySelector('#df-b143ab4b-dc0d-4951-8d6e-ec40bffff435');\n",
              "        const dataTable =\n",
              "          await google.colab.kernel.invokeFunction('convertToInteractive',\n",
              "                                                    [key], {});\n",
              "        if (!dataTable) return;\n",
              "\n",
              "        const docLinkHtml = 'Like what you see? Visit the ' +\n",
              "          '<a target=\"_blank\" href=https://colab.research.google.com/notebooks/data_table.ipynb>data table notebook</a>'\n",
              "          + ' to learn more about interactive tables.';\n",
              "        element.innerHTML = '';\n",
              "        dataTable['output_type'] = 'display_data';\n",
              "        await google.colab.output.renderOutput(dataTable, element);\n",
              "        const docLink = document.createElement('div');\n",
              "        docLink.innerHTML = docLinkHtml;\n",
              "        element.appendChild(docLink);\n",
              "      }\n",
              "    </script>\n",
              "  </div>\n",
              "\n",
              "\n",
              "    <div id=\"df-7ea3cbd8-ff5e-4560-a465-ad1e9c0d1b2e\">\n",
              "      <button class=\"colab-df-quickchart\" onclick=\"quickchart('df-7ea3cbd8-ff5e-4560-a465-ad1e9c0d1b2e')\"\n",
              "                title=\"Suggest charts\"\n",
              "                style=\"display:none;\">\n",
              "\n",
              "<svg xmlns=\"http://www.w3.org/2000/svg\" height=\"24px\"viewBox=\"0 0 24 24\"\n",
              "     width=\"24px\">\n",
              "    <g>\n",
              "        <path d=\"M19 3H5c-1.1 0-2 .9-2 2v14c0 1.1.9 2 2 2h14c1.1 0 2-.9 2-2V5c0-1.1-.9-2-2-2zM9 17H7v-7h2v7zm4 0h-2V7h2v10zm4 0h-2v-4h2v4z\"/>\n",
              "    </g>\n",
              "</svg>\n",
              "      </button>\n",
              "\n",
              "<style>\n",
              "  .colab-df-quickchart {\n",
              "      --bg-color: #E8F0FE;\n",
              "      --fill-color: #1967D2;\n",
              "      --hover-bg-color: #E2EBFA;\n",
              "      --hover-fill-color: #174EA6;\n",
              "      --disabled-fill-color: #AAA;\n",
              "      --disabled-bg-color: #DDD;\n",
              "  }\n",
              "\n",
              "  [theme=dark] .colab-df-quickchart {\n",
              "      --bg-color: #3B4455;\n",
              "      --fill-color: #D2E3FC;\n",
              "      --hover-bg-color: #434B5C;\n",
              "      --hover-fill-color: #FFFFFF;\n",
              "      --disabled-bg-color: #3B4455;\n",
              "      --disabled-fill-color: #666;\n",
              "  }\n",
              "\n",
              "  .colab-df-quickchart {\n",
              "    background-color: var(--bg-color);\n",
              "    border: none;\n",
              "    border-radius: 50%;\n",
              "    cursor: pointer;\n",
              "    display: none;\n",
              "    fill: var(--fill-color);\n",
              "    height: 32px;\n",
              "    padding: 0;\n",
              "    width: 32px;\n",
              "  }\n",
              "\n",
              "  .colab-df-quickchart:hover {\n",
              "    background-color: var(--hover-bg-color);\n",
              "    box-shadow: 0 1px 2px rgba(60, 64, 67, 0.3), 0 1px 3px 1px rgba(60, 64, 67, 0.15);\n",
              "    fill: var(--button-hover-fill-color);\n",
              "  }\n",
              "\n",
              "  .colab-df-quickchart-complete:disabled,\n",
              "  .colab-df-quickchart-complete:disabled:hover {\n",
              "    background-color: var(--disabled-bg-color);\n",
              "    fill: var(--disabled-fill-color);\n",
              "    box-shadow: none;\n",
              "  }\n",
              "\n",
              "  .colab-df-spinner {\n",
              "    border: 2px solid var(--fill-color);\n",
              "    border-color: transparent;\n",
              "    border-bottom-color: var(--fill-color);\n",
              "    animation:\n",
              "      spin 1s steps(1) infinite;\n",
              "  }\n",
              "\n",
              "  @keyframes spin {\n",
              "    0% {\n",
              "      border-color: transparent;\n",
              "      border-bottom-color: var(--fill-color);\n",
              "      border-left-color: var(--fill-color);\n",
              "    }\n",
              "    20% {\n",
              "      border-color: transparent;\n",
              "      border-left-color: var(--fill-color);\n",
              "      border-top-color: var(--fill-color);\n",
              "    }\n",
              "    30% {\n",
              "      border-color: transparent;\n",
              "      border-left-color: var(--fill-color);\n",
              "      border-top-color: var(--fill-color);\n",
              "      border-right-color: var(--fill-color);\n",
              "    }\n",
              "    40% {\n",
              "      border-color: transparent;\n",
              "      border-right-color: var(--fill-color);\n",
              "      border-top-color: var(--fill-color);\n",
              "    }\n",
              "    60% {\n",
              "      border-color: transparent;\n",
              "      border-right-color: var(--fill-color);\n",
              "    }\n",
              "    80% {\n",
              "      border-color: transparent;\n",
              "      border-right-color: var(--fill-color);\n",
              "      border-bottom-color: var(--fill-color);\n",
              "    }\n",
              "    90% {\n",
              "      border-color: transparent;\n",
              "      border-bottom-color: var(--fill-color);\n",
              "    }\n",
              "  }\n",
              "</style>\n",
              "\n",
              "      <script>\n",
              "        async function quickchart(key) {\n",
              "          const quickchartButtonEl =\n",
              "            document.querySelector('#' + key + ' button');\n",
              "          quickchartButtonEl.disabled = true;  // To prevent multiple clicks.\n",
              "          quickchartButtonEl.classList.add('colab-df-spinner');\n",
              "          try {\n",
              "            const charts = await google.colab.kernel.invokeFunction(\n",
              "                'suggestCharts', [key], {});\n",
              "          } catch (error) {\n",
              "            console.error('Error during call to suggestCharts:', error);\n",
              "          }\n",
              "          quickchartButtonEl.classList.remove('colab-df-spinner');\n",
              "          quickchartButtonEl.classList.add('colab-df-quickchart-complete');\n",
              "        }\n",
              "        (() => {\n",
              "          let quickchartButtonEl =\n",
              "            document.querySelector('#df-7ea3cbd8-ff5e-4560-a465-ad1e9c0d1b2e button');\n",
              "          quickchartButtonEl.style.display =\n",
              "            google.colab.kernel.accessAllowed ? 'block' : 'none';\n",
              "        })();\n",
              "      </script>\n",
              "    </div>\n",
              "\n",
              "    </div>\n",
              "  </div>\n"
            ],
            "application/vnd.google.colaboratory.intrinsic+json": {
              "type": "dataframe",
              "variable_name": "ventas",
              "summary": "{\n  \"name\": \"ventas\",\n  \"rows\": 166,\n  \"fields\": [\n    {\n      \"column\": \"Documento\",\n      \"properties\": {\n        \"dtype\": \"category\",\n        \"num_unique_values\": 2,\n        \"samples\": [\n          \"Factura CFDI\",\n          \"Ticket\"\n        ],\n        \"semantic_type\": \"\",\n        \"description\": \"\"\n      }\n    },\n    {\n      \"column\": \"Fecha\",\n      \"properties\": {\n        \"dtype\": \"date\",\n        \"min\": \"2025-07-03 08:03:19\",\n        \"max\": \"2025-07-03 17:55:39\",\n        \"num_unique_values\": 164,\n        \"samples\": [\n          \"2025-07-03 15:51:45\",\n          \"2025-07-03 14:45:55\"\n        ],\n        \"semantic_type\": \"\",\n        \"description\": \"\"\n      }\n    },\n    {\n      \"column\": \"Folio\",\n      \"properties\": {\n        \"dtype\": \"number\",\n        \"std\": 14703.823138139707,\n        \"min\": 22736.0,\n        \"max\": 63154.0,\n        \"num_unique_values\": 166,\n        \"samples\": [\n          63098.0,\n          63130.0\n        ],\n        \"semantic_type\": \"\",\n        \"description\": \"\"\n      }\n    },\n    {\n      \"column\": \"Cliente\",\n      \"properties\": {\n        \"dtype\": \"category\",\n        \"num_unique_values\": 30,\n        \"samples\": [\n          \"DINAMIK CONSTRUCTORA INGENIERIA Y ACERO\",\n          \"VICTUM SERVICIOS INTEGRALES\"\n        ],\n        \"semantic_type\": \"\",\n        \"description\": \"\"\n      }\n    },\n    {\n      \"column\": \"Caja\",\n      \"properties\": {\n        \"dtype\": \"category\",\n        \"num_unique_values\": 1,\n        \"samples\": [\n          \"Caja 1\"\n        ],\n        \"semantic_type\": \"\",\n        \"description\": \"\"\n      }\n    },\n    {\n      \"column\": \"Usuario\",\n      \"properties\": {\n        \"dtype\": \"category\",\n        \"num_unique_values\": 1,\n        \"samples\": [\n          \"admin\"\n        ],\n        \"semantic_type\": \"\",\n        \"description\": \"\"\n      }\n    },\n    {\n      \"column\": \"Folio F.\",\n      \"properties\": {\n        \"dtype\": \"number\",\n        \"std\": 8.281548501581428,\n        \"min\": 22736.0,\n        \"max\": 22763.0,\n        \"num_unique_values\": 27,\n        \"samples\": [\n          22745.0\n        ],\n        \"semantic_type\": \"\",\n        \"description\": \"\"\n      }\n    },\n    {\n      \"column\": \"Est\",\n      \"properties\": {\n        \"dtype\": \"category\",\n        \"num_unique_values\": 1,\n        \"samples\": [\n          \"V\"\n        ],\n        \"semantic_type\": \"\",\n        \"description\": \"\"\n      }\n    },\n    {\n      \"column\": \"Total   \",\n      \"properties\": {\n        \"dtype\": \"number\",\n        \"std\": 647.5645813948101,\n        \"min\": 6.5,\n        \"max\": 4650.0,\n        \"num_unique_values\": 137,\n        \"samples\": [\n          58.0\n        ],\n        \"semantic_type\": \"\",\n        \"description\": \"\"\n      }\n    },\n    {\n      \"column\": \"Efectivo\",\n      \"properties\": {\n        \"dtype\": \"number\",\n        \"std\": 292.44819924196594,\n        \"min\": 0.0,\n        \"max\": 2500.0,\n        \"num_unique_values\": 86,\n        \"samples\": [\n          261.0\n        ],\n        \"semantic_type\": \"\",\n        \"description\": \"\"\n      }\n    },\n    {\n      \"column\": \"Cheque\",\n      \"properties\": {\n        \"dtype\": \"number\",\n        \"std\": 5.743513890226834,\n        \"min\": 0.0,\n        \"max\": 74.0,\n        \"num_unique_values\": 2,\n        \"samples\": [\n          74.0\n        ],\n        \"semantic_type\": \"\",\n        \"description\": \"\"\n      }\n    },\n    {\n      \"column\": \"Cr\\u00e9dito\",\n      \"properties\": {\n        \"dtype\": \"number\",\n        \"std\": 0.0,\n        \"min\": 0.0,\n        \"max\": 0.0,\n        \"num_unique_values\": 1,\n        \"samples\": [\n          0.0\n        ],\n        \"semantic_type\": \"\",\n        \"description\": \"\"\n      }\n    },\n    {\n      \"column\": \"Transferencia\",\n      \"properties\": {\n        \"dtype\": \"number\",\n        \"std\": 426.74364834402803,\n        \"min\": 0.0,\n        \"max\": 4650.0,\n        \"num_unique_values\": 5,\n        \"samples\": [\n          4650.0\n        ],\n        \"semantic_type\": \"\",\n        \"description\": \"\"\n      }\n    },\n    {\n      \"column\": \"Vales\",\n      \"properties\": {\n        \"dtype\": \"number\",\n        \"std\": 0.0,\n        \"min\": 0.0,\n        \"max\": 0.0,\n        \"num_unique_values\": 1,\n        \"samples\": [\n          0.0\n        ],\n        \"semantic_type\": \"\",\n        \"description\": \"\"\n      }\n    },\n    {\n      \"column\": \"Tarjeta\",\n      \"properties\": {\n        \"dtype\": \"number\",\n        \"std\": 490.99562516222153,\n        \"min\": 0.0,\n        \"max\": 3807.0,\n        \"num_unique_values\": 60,\n        \"samples\": [\n          0.0\n        ],\n        \"semantic_type\": \"\",\n        \"description\": \"\"\n      }\n    },\n    {\n      \"column\": \"Anticipo\",\n      \"properties\": {\n        \"dtype\": \"number\",\n        \"std\": 0.0,\n        \"min\": 0.0,\n        \"max\": 0.0,\n        \"num_unique_values\": 1,\n        \"samples\": [\n          0.0\n        ],\n        \"semantic_type\": \"\",\n        \"description\": \"\"\n      }\n    },\n    {\n      \"column\": \"SICAR Pagos\",\n      \"properties\": {\n        \"dtype\": \"number\",\n        \"std\": 0.0,\n        \"min\": 0.0,\n        \"max\": 0.0,\n        \"num_unique_values\": 1,\n        \"samples\": [\n          0.0\n        ],\n        \"semantic_type\": \"\",\n        \"description\": \"\"\n      }\n    }\n  ]\n}"
            }
          },
          "metadata": {},
          "execution_count": 3205
        }
      ]
    },
    {
      "cell_type": "markdown",
      "source": [
        "Sacamos los totales de todas las columnas de dinero"
      ],
      "metadata": {
        "id": "XRPlcqvkS3VF"
      }
    },
    {
      "cell_type": "code",
      "source": [
        "total = ventas['Total   '].sum().round(2)\n",
        "total"
      ],
      "metadata": {
        "colab": {
          "base_uri": "https://localhost:8080/"
        },
        "id": "jg8O1rsMR7HW",
        "outputId": "df1b2ba1-04a5-4d83-c6b0-12690baad759"
      },
      "execution_count": 3206,
      "outputs": [
        {
          "output_type": "execute_result",
          "data": {
            "text/plain": [
              "np.float64(64234.8)"
            ]
          },
          "metadata": {},
          "execution_count": 3206
        }
      ]
    },
    {
      "cell_type": "code",
      "source": [
        "efectivo = ventas['Efectivo'].sum().round(2)\n",
        "efectivo"
      ],
      "metadata": {
        "colab": {
          "base_uri": "https://localhost:8080/"
        },
        "id": "JApICmTIUjnO",
        "outputId": "e9f84dc5-3c34-49fa-dbfd-4b4a0d7cc6e8"
      },
      "execution_count": 3207,
      "outputs": [
        {
          "output_type": "execute_result",
          "data": {
            "text/plain": [
              "np.float64(23590.2)"
            ]
          },
          "metadata": {},
          "execution_count": 3207
        }
      ]
    },
    {
      "cell_type": "code",
      "source": [
        "cheque = ventas['Cheque'].sum().round(2)\n",
        "cheque"
      ],
      "metadata": {
        "colab": {
          "base_uri": "https://localhost:8080/"
        },
        "id": "O_uEzsbHZRgE",
        "outputId": "8a12520b-8b79-438d-d1b4-703f0ccc6312"
      },
      "execution_count": 3208,
      "outputs": [
        {
          "output_type": "execute_result",
          "data": {
            "text/plain": [
              "np.float64(74.0)"
            ]
          },
          "metadata": {},
          "execution_count": 3208
        }
      ]
    },
    {
      "cell_type": "code",
      "source": [
        "credito = ventas['Crédito'].sum().round(2)\n",
        "credito"
      ],
      "metadata": {
        "colab": {
          "base_uri": "https://localhost:8080/"
        },
        "id": "bIcru6UXZCj8",
        "outputId": "c126cf18-a600-4722-d02d-7ac53677ee26"
      },
      "execution_count": 3209,
      "outputs": [
        {
          "output_type": "execute_result",
          "data": {
            "text/plain": [
              "np.float64(0.0)"
            ]
          },
          "metadata": {},
          "execution_count": 3209
        }
      ]
    },
    {
      "cell_type": "code",
      "source": [
        "transferencia = ventas['Transferencia'].sum().round(2)\n",
        "transferencia"
      ],
      "metadata": {
        "colab": {
          "base_uri": "https://localhost:8080/"
        },
        "id": "-wOzKAz8ZEKM",
        "outputId": "2cc6977a-2f79-416f-f63d-78b0fb52ed97"
      },
      "execution_count": 3210,
      "outputs": [
        {
          "output_type": "execute_result",
          "data": {
            "text/plain": [
              "np.float64(8083.0)"
            ]
          },
          "metadata": {},
          "execution_count": 3210
        }
      ]
    },
    {
      "cell_type": "code",
      "source": [
        "vales = ventas['Vales'].sum().round(2)\n",
        "vales"
      ],
      "metadata": {
        "colab": {
          "base_uri": "https://localhost:8080/"
        },
        "id": "v48o5BF8ZF9N",
        "outputId": "02f67e4e-35af-4a27-f6fd-63c6b80be600"
      },
      "execution_count": 3211,
      "outputs": [
        {
          "output_type": "execute_result",
          "data": {
            "text/plain": [
              "np.float64(0.0)"
            ]
          },
          "metadata": {},
          "execution_count": 3211
        }
      ]
    },
    {
      "cell_type": "code",
      "source": [
        "tarjeta = ventas['Tarjeta'].sum().round(2)\n",
        "tarjeta"
      ],
      "metadata": {
        "colab": {
          "base_uri": "https://localhost:8080/"
        },
        "id": "hD000qazZHnU",
        "outputId": "48e59b25-6350-40ba-9fe3-a3170d809017"
      },
      "execution_count": 3212,
      "outputs": [
        {
          "output_type": "execute_result",
          "data": {
            "text/plain": [
              "np.float64(32487.6)"
            ]
          },
          "metadata": {},
          "execution_count": 3212
        }
      ]
    },
    {
      "cell_type": "code",
      "source": [
        "anticipo = ventas['Anticipo'].sum().round(2)\n",
        "anticipo"
      ],
      "metadata": {
        "colab": {
          "base_uri": "https://localhost:8080/"
        },
        "id": "ZMOokvLcZKPb",
        "outputId": "34545d9c-3f28-412c-89ab-fae3c3dafcf1"
      },
      "execution_count": 3213,
      "outputs": [
        {
          "output_type": "execute_result",
          "data": {
            "text/plain": [
              "np.float64(0.0)"
            ]
          },
          "metadata": {},
          "execution_count": 3213
        }
      ]
    },
    {
      "cell_type": "code",
      "source": [
        "s_pagos = ventas['SICAR Pagos'].sum().round(2)\n",
        "s_pagos"
      ],
      "metadata": {
        "colab": {
          "base_uri": "https://localhost:8080/"
        },
        "id": "JPBUCwcDZL7c",
        "outputId": "c79740be-e57c-469e-bf6e-599e665021b0"
      },
      "execution_count": 3214,
      "outputs": [
        {
          "output_type": "execute_result",
          "data": {
            "text/plain": [
              "np.float64(0.0)"
            ]
          },
          "metadata": {},
          "execution_count": 3214
        }
      ]
    },
    {
      "cell_type": "markdown",
      "source": [
        "# Limpieza y transformación de SICAR Descuentos"
      ],
      "metadata": {
        "id": "Dvr7gXW7S8wN"
      }
    },
    {
      "cell_type": "code",
      "source": [
        "descuentos = pd.read_excel(\"Descuentos.xlsx\", sheet_name=0, header=9)\n",
        "descuentos.head()"
      ],
      "metadata": {
        "colab": {
          "base_uri": "https://localhost:8080/",
          "height": 516
        },
        "id": "qyVVl29IuScM",
        "outputId": "efffc265-03e6-43a9-ca19-e629723af4e2"
      },
      "execution_count": 3215,
      "outputs": [
        {
          "output_type": "stream",
          "name": "stderr",
          "text": [
            "/usr/local/lib/python3.11/dist-packages/openpyxl/styles/stylesheet.py:237: UserWarning: Workbook contains no default style, apply openpyxl's default\n",
            "  warn(\"Workbook contains no default style, apply openpyxl's default\")\n"
          ]
        },
        {
          "output_type": "execute_result",
          "data": {
            "text/plain": [
              "  Documento  Unnamed: 1               Fecha Unnamed: 3  Unnamed: 4    Folio  \\\n",
              "0    Ticket         NaN 2025-07-03 08:03:19        NaN         NaN  63015.0   \n",
              "1       NaN         NaN                 NaT        NaN         NaN      NaN   \n",
              "2    Ticket         NaN 2025-07-03 08:15:21        NaN         NaN  63016.0   \n",
              "3       NaN         NaN                 NaT        NaN         NaN      NaN   \n",
              "4       NaN         NaN                 NaT        NaN         NaN      NaN   \n",
              "\n",
              "  Unnamed: 6             Cliente  Unnamed: 8  \\\n",
              "0        NaN  Público en General         NaN   \n",
              "1        PZA                 NaN         1.0   \n",
              "2        NaN  Público en General         NaN   \n",
              "3        PZA                 NaN         1.0   \n",
              "4        PZA                 NaN         1.0   \n",
              "\n",
              "                                          Unnamed: 9  ...  Unnamed: 23  \\\n",
              "0                                                NaN  ...          NaN   \n",
              "1  [7501206674994] 21531 Brocha uso general de 6'...  ...      $ 49.00   \n",
              "2                                                NaN  ...          NaN   \n",
              "3  [7506240645290] 13882 Felpa para rodillo 9' x ...  ...      $ 22.00   \n",
              "4  [7501206619223] 20323 Espátula flexible 5' con...  ...      $ 25.00   \n",
              "\n",
              "  Unnamed: 24  Descuento $\\n Unnamed: 26 Unnamed: 27  Unnamed: 28 Unnamed: 29  \\\n",
              "0         NaN         $ 0.00         NaT         NaN          NaN         NaN   \n",
              "1         NaN            NaN         NaT         NaN          NaN     $ 49.00   \n",
              "2         NaN         $ 0.00         NaT         NaN          NaN         NaN   \n",
              "3         NaN            NaN         NaT         NaN          NaN     $ 22.00   \n",
              "4         NaN            NaN         NaT         NaN          NaN     $ 25.00   \n",
              "\n",
              "  Unnamed: 30  Unnamed: 31     Total  \n",
              "0         NaN          NaN   $ 49.00  \n",
              "1         NaN          NaN       NaN  \n",
              "2         NaN          NaN  $ 119.00  \n",
              "3         NaN          NaN       NaN  \n",
              "4         NaN          NaN       NaN  \n",
              "\n",
              "[5 rows x 33 columns]"
            ],
            "text/html": [
              "\n",
              "  <div id=\"df-6905d0cf-8ff7-4149-9be2-4320af6d5471\" class=\"colab-df-container\">\n",
              "    <div>\n",
              "<style scoped>\n",
              "    .dataframe tbody tr th:only-of-type {\n",
              "        vertical-align: middle;\n",
              "    }\n",
              "\n",
              "    .dataframe tbody tr th {\n",
              "        vertical-align: top;\n",
              "    }\n",
              "\n",
              "    .dataframe thead th {\n",
              "        text-align: right;\n",
              "    }\n",
              "</style>\n",
              "<table border=\"1\" class=\"dataframe\">\n",
              "  <thead>\n",
              "    <tr style=\"text-align: right;\">\n",
              "      <th></th>\n",
              "      <th>Documento</th>\n",
              "      <th>Unnamed: 1</th>\n",
              "      <th>Fecha</th>\n",
              "      <th>Unnamed: 3</th>\n",
              "      <th>Unnamed: 4</th>\n",
              "      <th>Folio</th>\n",
              "      <th>Unnamed: 6</th>\n",
              "      <th>Cliente</th>\n",
              "      <th>Unnamed: 8</th>\n",
              "      <th>Unnamed: 9</th>\n",
              "      <th>...</th>\n",
              "      <th>Unnamed: 23</th>\n",
              "      <th>Unnamed: 24</th>\n",
              "      <th>Descuento $\\n</th>\n",
              "      <th>Unnamed: 26</th>\n",
              "      <th>Unnamed: 27</th>\n",
              "      <th>Unnamed: 28</th>\n",
              "      <th>Unnamed: 29</th>\n",
              "      <th>Unnamed: 30</th>\n",
              "      <th>Unnamed: 31</th>\n",
              "      <th>Total</th>\n",
              "    </tr>\n",
              "  </thead>\n",
              "  <tbody>\n",
              "    <tr>\n",
              "      <th>0</th>\n",
              "      <td>Ticket</td>\n",
              "      <td>NaN</td>\n",
              "      <td>2025-07-03 08:03:19</td>\n",
              "      <td>NaN</td>\n",
              "      <td>NaN</td>\n",
              "      <td>63015.0</td>\n",
              "      <td>NaN</td>\n",
              "      <td>Público en General</td>\n",
              "      <td>NaN</td>\n",
              "      <td>NaN</td>\n",
              "      <td>...</td>\n",
              "      <td>NaN</td>\n",
              "      <td>NaN</td>\n",
              "      <td>$ 0.00</td>\n",
              "      <td>NaT</td>\n",
              "      <td>NaN</td>\n",
              "      <td>NaN</td>\n",
              "      <td>NaN</td>\n",
              "      <td>NaN</td>\n",
              "      <td>NaN</td>\n",
              "      <td>$ 49.00</td>\n",
              "    </tr>\n",
              "    <tr>\n",
              "      <th>1</th>\n",
              "      <td>NaN</td>\n",
              "      <td>NaN</td>\n",
              "      <td>NaT</td>\n",
              "      <td>NaN</td>\n",
              "      <td>NaN</td>\n",
              "      <td>NaN</td>\n",
              "      <td>PZA</td>\n",
              "      <td>NaN</td>\n",
              "      <td>1.0</td>\n",
              "      <td>[7501206674994] 21531 Brocha uso general de 6'...</td>\n",
              "      <td>...</td>\n",
              "      <td>$ 49.00</td>\n",
              "      <td>NaN</td>\n",
              "      <td>NaN</td>\n",
              "      <td>NaT</td>\n",
              "      <td>NaN</td>\n",
              "      <td>NaN</td>\n",
              "      <td>$ 49.00</td>\n",
              "      <td>NaN</td>\n",
              "      <td>NaN</td>\n",
              "      <td>NaN</td>\n",
              "    </tr>\n",
              "    <tr>\n",
              "      <th>2</th>\n",
              "      <td>Ticket</td>\n",
              "      <td>NaN</td>\n",
              "      <td>2025-07-03 08:15:21</td>\n",
              "      <td>NaN</td>\n",
              "      <td>NaN</td>\n",
              "      <td>63016.0</td>\n",
              "      <td>NaN</td>\n",
              "      <td>Público en General</td>\n",
              "      <td>NaN</td>\n",
              "      <td>NaN</td>\n",
              "      <td>...</td>\n",
              "      <td>NaN</td>\n",
              "      <td>NaN</td>\n",
              "      <td>$ 0.00</td>\n",
              "      <td>NaT</td>\n",
              "      <td>NaN</td>\n",
              "      <td>NaN</td>\n",
              "      <td>NaN</td>\n",
              "      <td>NaN</td>\n",
              "      <td>NaN</td>\n",
              "      <td>$ 119.00</td>\n",
              "    </tr>\n",
              "    <tr>\n",
              "      <th>3</th>\n",
              "      <td>NaN</td>\n",
              "      <td>NaN</td>\n",
              "      <td>NaT</td>\n",
              "      <td>NaN</td>\n",
              "      <td>NaN</td>\n",
              "      <td>NaN</td>\n",
              "      <td>PZA</td>\n",
              "      <td>NaN</td>\n",
              "      <td>1.0</td>\n",
              "      <td>[7506240645290] 13882 Felpa para rodillo 9' x ...</td>\n",
              "      <td>...</td>\n",
              "      <td>$ 22.00</td>\n",
              "      <td>NaN</td>\n",
              "      <td>NaN</td>\n",
              "      <td>NaT</td>\n",
              "      <td>NaN</td>\n",
              "      <td>NaN</td>\n",
              "      <td>$ 22.00</td>\n",
              "      <td>NaN</td>\n",
              "      <td>NaN</td>\n",
              "      <td>NaN</td>\n",
              "    </tr>\n",
              "    <tr>\n",
              "      <th>4</th>\n",
              "      <td>NaN</td>\n",
              "      <td>NaN</td>\n",
              "      <td>NaT</td>\n",
              "      <td>NaN</td>\n",
              "      <td>NaN</td>\n",
              "      <td>NaN</td>\n",
              "      <td>PZA</td>\n",
              "      <td>NaN</td>\n",
              "      <td>1.0</td>\n",
              "      <td>[7501206619223] 20323 Espátula flexible 5' con...</td>\n",
              "      <td>...</td>\n",
              "      <td>$ 25.00</td>\n",
              "      <td>NaN</td>\n",
              "      <td>NaN</td>\n",
              "      <td>NaT</td>\n",
              "      <td>NaN</td>\n",
              "      <td>NaN</td>\n",
              "      <td>$ 25.00</td>\n",
              "      <td>NaN</td>\n",
              "      <td>NaN</td>\n",
              "      <td>NaN</td>\n",
              "    </tr>\n",
              "  </tbody>\n",
              "</table>\n",
              "<p>5 rows × 33 columns</p>\n",
              "</div>\n",
              "    <div class=\"colab-df-buttons\">\n",
              "\n",
              "  <div class=\"colab-df-container\">\n",
              "    <button class=\"colab-df-convert\" onclick=\"convertToInteractive('df-6905d0cf-8ff7-4149-9be2-4320af6d5471')\"\n",
              "            title=\"Convert this dataframe to an interactive table.\"\n",
              "            style=\"display:none;\">\n",
              "\n",
              "  <svg xmlns=\"http://www.w3.org/2000/svg\" height=\"24px\" viewBox=\"0 -960 960 960\">\n",
              "    <path d=\"M120-120v-720h720v720H120Zm60-500h600v-160H180v160Zm220 220h160v-160H400v160Zm0 220h160v-160H400v160ZM180-400h160v-160H180v160Zm440 0h160v-160H620v160ZM180-180h160v-160H180v160Zm440 0h160v-160H620v160Z\"/>\n",
              "  </svg>\n",
              "    </button>\n",
              "\n",
              "  <style>\n",
              "    .colab-df-container {\n",
              "      display:flex;\n",
              "      gap: 12px;\n",
              "    }\n",
              "\n",
              "    .colab-df-convert {\n",
              "      background-color: #E8F0FE;\n",
              "      border: none;\n",
              "      border-radius: 50%;\n",
              "      cursor: pointer;\n",
              "      display: none;\n",
              "      fill: #1967D2;\n",
              "      height: 32px;\n",
              "      padding: 0 0 0 0;\n",
              "      width: 32px;\n",
              "    }\n",
              "\n",
              "    .colab-df-convert:hover {\n",
              "      background-color: #E2EBFA;\n",
              "      box-shadow: 0px 1px 2px rgba(60, 64, 67, 0.3), 0px 1px 3px 1px rgba(60, 64, 67, 0.15);\n",
              "      fill: #174EA6;\n",
              "    }\n",
              "\n",
              "    .colab-df-buttons div {\n",
              "      margin-bottom: 4px;\n",
              "    }\n",
              "\n",
              "    [theme=dark] .colab-df-convert {\n",
              "      background-color: #3B4455;\n",
              "      fill: #D2E3FC;\n",
              "    }\n",
              "\n",
              "    [theme=dark] .colab-df-convert:hover {\n",
              "      background-color: #434B5C;\n",
              "      box-shadow: 0px 1px 3px 1px rgba(0, 0, 0, 0.15);\n",
              "      filter: drop-shadow(0px 1px 2px rgba(0, 0, 0, 0.3));\n",
              "      fill: #FFFFFF;\n",
              "    }\n",
              "  </style>\n",
              "\n",
              "    <script>\n",
              "      const buttonEl =\n",
              "        document.querySelector('#df-6905d0cf-8ff7-4149-9be2-4320af6d5471 button.colab-df-convert');\n",
              "      buttonEl.style.display =\n",
              "        google.colab.kernel.accessAllowed ? 'block' : 'none';\n",
              "\n",
              "      async function convertToInteractive(key) {\n",
              "        const element = document.querySelector('#df-6905d0cf-8ff7-4149-9be2-4320af6d5471');\n",
              "        const dataTable =\n",
              "          await google.colab.kernel.invokeFunction('convertToInteractive',\n",
              "                                                    [key], {});\n",
              "        if (!dataTable) return;\n",
              "\n",
              "        const docLinkHtml = 'Like what you see? Visit the ' +\n",
              "          '<a target=\"_blank\" href=https://colab.research.google.com/notebooks/data_table.ipynb>data table notebook</a>'\n",
              "          + ' to learn more about interactive tables.';\n",
              "        element.innerHTML = '';\n",
              "        dataTable['output_type'] = 'display_data';\n",
              "        await google.colab.output.renderOutput(dataTable, element);\n",
              "        const docLink = document.createElement('div');\n",
              "        docLink.innerHTML = docLinkHtml;\n",
              "        element.appendChild(docLink);\n",
              "      }\n",
              "    </script>\n",
              "  </div>\n",
              "\n",
              "\n",
              "    <div id=\"df-073a1e83-b35e-4314-a89b-bfcc8a9983f5\">\n",
              "      <button class=\"colab-df-quickchart\" onclick=\"quickchart('df-073a1e83-b35e-4314-a89b-bfcc8a9983f5')\"\n",
              "                title=\"Suggest charts\"\n",
              "                style=\"display:none;\">\n",
              "\n",
              "<svg xmlns=\"http://www.w3.org/2000/svg\" height=\"24px\"viewBox=\"0 0 24 24\"\n",
              "     width=\"24px\">\n",
              "    <g>\n",
              "        <path d=\"M19 3H5c-1.1 0-2 .9-2 2v14c0 1.1.9 2 2 2h14c1.1 0 2-.9 2-2V5c0-1.1-.9-2-2-2zM9 17H7v-7h2v7zm4 0h-2V7h2v10zm4 0h-2v-4h2v4z\"/>\n",
              "    </g>\n",
              "</svg>\n",
              "      </button>\n",
              "\n",
              "<style>\n",
              "  .colab-df-quickchart {\n",
              "      --bg-color: #E8F0FE;\n",
              "      --fill-color: #1967D2;\n",
              "      --hover-bg-color: #E2EBFA;\n",
              "      --hover-fill-color: #174EA6;\n",
              "      --disabled-fill-color: #AAA;\n",
              "      --disabled-bg-color: #DDD;\n",
              "  }\n",
              "\n",
              "  [theme=dark] .colab-df-quickchart {\n",
              "      --bg-color: #3B4455;\n",
              "      --fill-color: #D2E3FC;\n",
              "      --hover-bg-color: #434B5C;\n",
              "      --hover-fill-color: #FFFFFF;\n",
              "      --disabled-bg-color: #3B4455;\n",
              "      --disabled-fill-color: #666;\n",
              "  }\n",
              "\n",
              "  .colab-df-quickchart {\n",
              "    background-color: var(--bg-color);\n",
              "    border: none;\n",
              "    border-radius: 50%;\n",
              "    cursor: pointer;\n",
              "    display: none;\n",
              "    fill: var(--fill-color);\n",
              "    height: 32px;\n",
              "    padding: 0;\n",
              "    width: 32px;\n",
              "  }\n",
              "\n",
              "  .colab-df-quickchart:hover {\n",
              "    background-color: var(--hover-bg-color);\n",
              "    box-shadow: 0 1px 2px rgba(60, 64, 67, 0.3), 0 1px 3px 1px rgba(60, 64, 67, 0.15);\n",
              "    fill: var(--button-hover-fill-color);\n",
              "  }\n",
              "\n",
              "  .colab-df-quickchart-complete:disabled,\n",
              "  .colab-df-quickchart-complete:disabled:hover {\n",
              "    background-color: var(--disabled-bg-color);\n",
              "    fill: var(--disabled-fill-color);\n",
              "    box-shadow: none;\n",
              "  }\n",
              "\n",
              "  .colab-df-spinner {\n",
              "    border: 2px solid var(--fill-color);\n",
              "    border-color: transparent;\n",
              "    border-bottom-color: var(--fill-color);\n",
              "    animation:\n",
              "      spin 1s steps(1) infinite;\n",
              "  }\n",
              "\n",
              "  @keyframes spin {\n",
              "    0% {\n",
              "      border-color: transparent;\n",
              "      border-bottom-color: var(--fill-color);\n",
              "      border-left-color: var(--fill-color);\n",
              "    }\n",
              "    20% {\n",
              "      border-color: transparent;\n",
              "      border-left-color: var(--fill-color);\n",
              "      border-top-color: var(--fill-color);\n",
              "    }\n",
              "    30% {\n",
              "      border-color: transparent;\n",
              "      border-left-color: var(--fill-color);\n",
              "      border-top-color: var(--fill-color);\n",
              "      border-right-color: var(--fill-color);\n",
              "    }\n",
              "    40% {\n",
              "      border-color: transparent;\n",
              "      border-right-color: var(--fill-color);\n",
              "      border-top-color: var(--fill-color);\n",
              "    }\n",
              "    60% {\n",
              "      border-color: transparent;\n",
              "      border-right-color: var(--fill-color);\n",
              "    }\n",
              "    80% {\n",
              "      border-color: transparent;\n",
              "      border-right-color: var(--fill-color);\n",
              "      border-bottom-color: var(--fill-color);\n",
              "    }\n",
              "    90% {\n",
              "      border-color: transparent;\n",
              "      border-bottom-color: var(--fill-color);\n",
              "    }\n",
              "  }\n",
              "</style>\n",
              "\n",
              "      <script>\n",
              "        async function quickchart(key) {\n",
              "          const quickchartButtonEl =\n",
              "            document.querySelector('#' + key + ' button');\n",
              "          quickchartButtonEl.disabled = true;  // To prevent multiple clicks.\n",
              "          quickchartButtonEl.classList.add('colab-df-spinner');\n",
              "          try {\n",
              "            const charts = await google.colab.kernel.invokeFunction(\n",
              "                'suggestCharts', [key], {});\n",
              "          } catch (error) {\n",
              "            console.error('Error during call to suggestCharts:', error);\n",
              "          }\n",
              "          quickchartButtonEl.classList.remove('colab-df-spinner');\n",
              "          quickchartButtonEl.classList.add('colab-df-quickchart-complete');\n",
              "        }\n",
              "        (() => {\n",
              "          let quickchartButtonEl =\n",
              "            document.querySelector('#df-073a1e83-b35e-4314-a89b-bfcc8a9983f5 button');\n",
              "          quickchartButtonEl.style.display =\n",
              "            google.colab.kernel.accessAllowed ? 'block' : 'none';\n",
              "        })();\n",
              "      </script>\n",
              "    </div>\n",
              "\n",
              "    </div>\n",
              "  </div>\n"
            ],
            "application/vnd.google.colaboratory.intrinsic+json": {
              "type": "dataframe",
              "variable_name": "descuentos"
            }
          },
          "metadata": {},
          "execution_count": 3215
        }
      ]
    },
    {
      "cell_type": "markdown",
      "source": [
        "Nota: Ver \"Explicación 1\""
      ],
      "metadata": {
        "id": "pHpd2mGkTJd8"
      }
    },
    {
      "cell_type": "code",
      "source": [
        "descuentos.columns = descuentos.columns.str.replace(\"Unnamed: \\d+\", \"\", regex=True)\n",
        "\n",
        "columnas = descuentos.columns.to_list()\n",
        "columnas"
      ],
      "metadata": {
        "colab": {
          "base_uri": "https://localhost:8080/"
        },
        "id": "cOkhcD8Musga",
        "outputId": "ddfcdbda-1475-47a9-a637-2f53f9ba5362"
      },
      "execution_count": 3216,
      "outputs": [
        {
          "output_type": "execute_result",
          "data": {
            "text/plain": [
              "['Documento',\n",
              " '',\n",
              " 'Fecha',\n",
              " '',\n",
              " '',\n",
              " 'Folio',\n",
              " '',\n",
              " 'Cliente',\n",
              " '',\n",
              " '',\n",
              " '',\n",
              " '',\n",
              " '',\n",
              " 'Caja',\n",
              " '',\n",
              " '',\n",
              " 'Usuario',\n",
              " '',\n",
              " '',\n",
              " 'Est',\n",
              " '',\n",
              " 'Desc %',\n",
              " '',\n",
              " '',\n",
              " '',\n",
              " 'Descuento $\\n',\n",
              " '',\n",
              " '',\n",
              " '',\n",
              " '',\n",
              " '',\n",
              " '',\n",
              " 'Total']"
            ]
          },
          "metadata": {},
          "execution_count": 3216
        }
      ]
    },
    {
      "cell_type": "markdown",
      "source": [
        "Nota: Ver explicación 2"
      ],
      "metadata": {
        "id": "kePdPtvgTOMF"
      }
    },
    {
      "cell_type": "code",
      "source": [
        "columnas_con_nombre = [col for col in columnas if col != '']\n",
        "\n",
        "columnas_con_nombre"
      ],
      "metadata": {
        "colab": {
          "base_uri": "https://localhost:8080/"
        },
        "id": "nfwaM0Obuxlq",
        "outputId": "e97df3eb-c6be-47f5-8996-2df0cf9b4a26"
      },
      "execution_count": 3217,
      "outputs": [
        {
          "output_type": "execute_result",
          "data": {
            "text/plain": [
              "['Documento',\n",
              " 'Fecha',\n",
              " 'Folio',\n",
              " 'Cliente',\n",
              " 'Caja',\n",
              " 'Usuario',\n",
              " 'Est',\n",
              " 'Desc %',\n",
              " 'Descuento $\\n',\n",
              " 'Total']"
            ]
          },
          "metadata": {},
          "execution_count": 3217
        }
      ]
    },
    {
      "cell_type": "code",
      "source": [
        "descuentos = descuentos[columnas_con_nombre]\n",
        "descuentos.head()"
      ],
      "metadata": {
        "colab": {
          "base_uri": "https://localhost:8080/",
          "height": 206
        },
        "id": "O4-H6n0-uzmb",
        "outputId": "b40033c2-5e43-45cf-bdb8-7d81f3712581"
      },
      "execution_count": 3218,
      "outputs": [
        {
          "output_type": "execute_result",
          "data": {
            "text/plain": [
              "  Documento               Fecha    Folio             Cliente    Caja Usuario  \\\n",
              "0    Ticket 2025-07-03 08:03:19  63015.0  Público en General  Caja 1   admin   \n",
              "1       NaN                 NaT      NaN                 NaN     NaN     NaN   \n",
              "2    Ticket 2025-07-03 08:15:21  63016.0  Público en General  Caja 1   admin   \n",
              "3       NaN                 NaT      NaN                 NaN     NaN     NaN   \n",
              "4       NaN                 NaT      NaN                 NaN     NaN     NaN   \n",
              "\n",
              "   Est Desc % Descuento $\\n     Total  \n",
              "0    V  0.00%        $ 0.00   $ 49.00  \n",
              "1  NaN    NaN           NaN       NaN  \n",
              "2    V  0.00%        $ 0.00  $ 119.00  \n",
              "3  NaN    NaN           NaN       NaN  \n",
              "4  NaN    NaN           NaN       NaN  "
            ],
            "text/html": [
              "\n",
              "  <div id=\"df-61131594-c9f7-4c18-b4d2-7f1c880297bf\" class=\"colab-df-container\">\n",
              "    <div>\n",
              "<style scoped>\n",
              "    .dataframe tbody tr th:only-of-type {\n",
              "        vertical-align: middle;\n",
              "    }\n",
              "\n",
              "    .dataframe tbody tr th {\n",
              "        vertical-align: top;\n",
              "    }\n",
              "\n",
              "    .dataframe thead th {\n",
              "        text-align: right;\n",
              "    }\n",
              "</style>\n",
              "<table border=\"1\" class=\"dataframe\">\n",
              "  <thead>\n",
              "    <tr style=\"text-align: right;\">\n",
              "      <th></th>\n",
              "      <th>Documento</th>\n",
              "      <th>Fecha</th>\n",
              "      <th>Folio</th>\n",
              "      <th>Cliente</th>\n",
              "      <th>Caja</th>\n",
              "      <th>Usuario</th>\n",
              "      <th>Est</th>\n",
              "      <th>Desc %</th>\n",
              "      <th>Descuento $\\n</th>\n",
              "      <th>Total</th>\n",
              "    </tr>\n",
              "  </thead>\n",
              "  <tbody>\n",
              "    <tr>\n",
              "      <th>0</th>\n",
              "      <td>Ticket</td>\n",
              "      <td>2025-07-03 08:03:19</td>\n",
              "      <td>63015.0</td>\n",
              "      <td>Público en General</td>\n",
              "      <td>Caja 1</td>\n",
              "      <td>admin</td>\n",
              "      <td>V</td>\n",
              "      <td>0.00%</td>\n",
              "      <td>$ 0.00</td>\n",
              "      <td>$ 49.00</td>\n",
              "    </tr>\n",
              "    <tr>\n",
              "      <th>1</th>\n",
              "      <td>NaN</td>\n",
              "      <td>NaT</td>\n",
              "      <td>NaN</td>\n",
              "      <td>NaN</td>\n",
              "      <td>NaN</td>\n",
              "      <td>NaN</td>\n",
              "      <td>NaN</td>\n",
              "      <td>NaN</td>\n",
              "      <td>NaN</td>\n",
              "      <td>NaN</td>\n",
              "    </tr>\n",
              "    <tr>\n",
              "      <th>2</th>\n",
              "      <td>Ticket</td>\n",
              "      <td>2025-07-03 08:15:21</td>\n",
              "      <td>63016.0</td>\n",
              "      <td>Público en General</td>\n",
              "      <td>Caja 1</td>\n",
              "      <td>admin</td>\n",
              "      <td>V</td>\n",
              "      <td>0.00%</td>\n",
              "      <td>$ 0.00</td>\n",
              "      <td>$ 119.00</td>\n",
              "    </tr>\n",
              "    <tr>\n",
              "      <th>3</th>\n",
              "      <td>NaN</td>\n",
              "      <td>NaT</td>\n",
              "      <td>NaN</td>\n",
              "      <td>NaN</td>\n",
              "      <td>NaN</td>\n",
              "      <td>NaN</td>\n",
              "      <td>NaN</td>\n",
              "      <td>NaN</td>\n",
              "      <td>NaN</td>\n",
              "      <td>NaN</td>\n",
              "    </tr>\n",
              "    <tr>\n",
              "      <th>4</th>\n",
              "      <td>NaN</td>\n",
              "      <td>NaT</td>\n",
              "      <td>NaN</td>\n",
              "      <td>NaN</td>\n",
              "      <td>NaN</td>\n",
              "      <td>NaN</td>\n",
              "      <td>NaN</td>\n",
              "      <td>NaN</td>\n",
              "      <td>NaN</td>\n",
              "      <td>NaN</td>\n",
              "    </tr>\n",
              "  </tbody>\n",
              "</table>\n",
              "</div>\n",
              "    <div class=\"colab-df-buttons\">\n",
              "\n",
              "  <div class=\"colab-df-container\">\n",
              "    <button class=\"colab-df-convert\" onclick=\"convertToInteractive('df-61131594-c9f7-4c18-b4d2-7f1c880297bf')\"\n",
              "            title=\"Convert this dataframe to an interactive table.\"\n",
              "            style=\"display:none;\">\n",
              "\n",
              "  <svg xmlns=\"http://www.w3.org/2000/svg\" height=\"24px\" viewBox=\"0 -960 960 960\">\n",
              "    <path d=\"M120-120v-720h720v720H120Zm60-500h600v-160H180v160Zm220 220h160v-160H400v160Zm0 220h160v-160H400v160ZM180-400h160v-160H180v160Zm440 0h160v-160H620v160ZM180-180h160v-160H180v160Zm440 0h160v-160H620v160Z\"/>\n",
              "  </svg>\n",
              "    </button>\n",
              "\n",
              "  <style>\n",
              "    .colab-df-container {\n",
              "      display:flex;\n",
              "      gap: 12px;\n",
              "    }\n",
              "\n",
              "    .colab-df-convert {\n",
              "      background-color: #E8F0FE;\n",
              "      border: none;\n",
              "      border-radius: 50%;\n",
              "      cursor: pointer;\n",
              "      display: none;\n",
              "      fill: #1967D2;\n",
              "      height: 32px;\n",
              "      padding: 0 0 0 0;\n",
              "      width: 32px;\n",
              "    }\n",
              "\n",
              "    .colab-df-convert:hover {\n",
              "      background-color: #E2EBFA;\n",
              "      box-shadow: 0px 1px 2px rgba(60, 64, 67, 0.3), 0px 1px 3px 1px rgba(60, 64, 67, 0.15);\n",
              "      fill: #174EA6;\n",
              "    }\n",
              "\n",
              "    .colab-df-buttons div {\n",
              "      margin-bottom: 4px;\n",
              "    }\n",
              "\n",
              "    [theme=dark] .colab-df-convert {\n",
              "      background-color: #3B4455;\n",
              "      fill: #D2E3FC;\n",
              "    }\n",
              "\n",
              "    [theme=dark] .colab-df-convert:hover {\n",
              "      background-color: #434B5C;\n",
              "      box-shadow: 0px 1px 3px 1px rgba(0, 0, 0, 0.15);\n",
              "      filter: drop-shadow(0px 1px 2px rgba(0, 0, 0, 0.3));\n",
              "      fill: #FFFFFF;\n",
              "    }\n",
              "  </style>\n",
              "\n",
              "    <script>\n",
              "      const buttonEl =\n",
              "        document.querySelector('#df-61131594-c9f7-4c18-b4d2-7f1c880297bf button.colab-df-convert');\n",
              "      buttonEl.style.display =\n",
              "        google.colab.kernel.accessAllowed ? 'block' : 'none';\n",
              "\n",
              "      async function convertToInteractive(key) {\n",
              "        const element = document.querySelector('#df-61131594-c9f7-4c18-b4d2-7f1c880297bf');\n",
              "        const dataTable =\n",
              "          await google.colab.kernel.invokeFunction('convertToInteractive',\n",
              "                                                    [key], {});\n",
              "        if (!dataTable) return;\n",
              "\n",
              "        const docLinkHtml = 'Like what you see? Visit the ' +\n",
              "          '<a target=\"_blank\" href=https://colab.research.google.com/notebooks/data_table.ipynb>data table notebook</a>'\n",
              "          + ' to learn more about interactive tables.';\n",
              "        element.innerHTML = '';\n",
              "        dataTable['output_type'] = 'display_data';\n",
              "        await google.colab.output.renderOutput(dataTable, element);\n",
              "        const docLink = document.createElement('div');\n",
              "        docLink.innerHTML = docLinkHtml;\n",
              "        element.appendChild(docLink);\n",
              "      }\n",
              "    </script>\n",
              "  </div>\n",
              "\n",
              "\n",
              "    <div id=\"df-a656aa6d-e28f-40b5-8519-289434155ce5\">\n",
              "      <button class=\"colab-df-quickchart\" onclick=\"quickchart('df-a656aa6d-e28f-40b5-8519-289434155ce5')\"\n",
              "                title=\"Suggest charts\"\n",
              "                style=\"display:none;\">\n",
              "\n",
              "<svg xmlns=\"http://www.w3.org/2000/svg\" height=\"24px\"viewBox=\"0 0 24 24\"\n",
              "     width=\"24px\">\n",
              "    <g>\n",
              "        <path d=\"M19 3H5c-1.1 0-2 .9-2 2v14c0 1.1.9 2 2 2h14c1.1 0 2-.9 2-2V5c0-1.1-.9-2-2-2zM9 17H7v-7h2v7zm4 0h-2V7h2v10zm4 0h-2v-4h2v4z\"/>\n",
              "    </g>\n",
              "</svg>\n",
              "      </button>\n",
              "\n",
              "<style>\n",
              "  .colab-df-quickchart {\n",
              "      --bg-color: #E8F0FE;\n",
              "      --fill-color: #1967D2;\n",
              "      --hover-bg-color: #E2EBFA;\n",
              "      --hover-fill-color: #174EA6;\n",
              "      --disabled-fill-color: #AAA;\n",
              "      --disabled-bg-color: #DDD;\n",
              "  }\n",
              "\n",
              "  [theme=dark] .colab-df-quickchart {\n",
              "      --bg-color: #3B4455;\n",
              "      --fill-color: #D2E3FC;\n",
              "      --hover-bg-color: #434B5C;\n",
              "      --hover-fill-color: #FFFFFF;\n",
              "      --disabled-bg-color: #3B4455;\n",
              "      --disabled-fill-color: #666;\n",
              "  }\n",
              "\n",
              "  .colab-df-quickchart {\n",
              "    background-color: var(--bg-color);\n",
              "    border: none;\n",
              "    border-radius: 50%;\n",
              "    cursor: pointer;\n",
              "    display: none;\n",
              "    fill: var(--fill-color);\n",
              "    height: 32px;\n",
              "    padding: 0;\n",
              "    width: 32px;\n",
              "  }\n",
              "\n",
              "  .colab-df-quickchart:hover {\n",
              "    background-color: var(--hover-bg-color);\n",
              "    box-shadow: 0 1px 2px rgba(60, 64, 67, 0.3), 0 1px 3px 1px rgba(60, 64, 67, 0.15);\n",
              "    fill: var(--button-hover-fill-color);\n",
              "  }\n",
              "\n",
              "  .colab-df-quickchart-complete:disabled,\n",
              "  .colab-df-quickchart-complete:disabled:hover {\n",
              "    background-color: var(--disabled-bg-color);\n",
              "    fill: var(--disabled-fill-color);\n",
              "    box-shadow: none;\n",
              "  }\n",
              "\n",
              "  .colab-df-spinner {\n",
              "    border: 2px solid var(--fill-color);\n",
              "    border-color: transparent;\n",
              "    border-bottom-color: var(--fill-color);\n",
              "    animation:\n",
              "      spin 1s steps(1) infinite;\n",
              "  }\n",
              "\n",
              "  @keyframes spin {\n",
              "    0% {\n",
              "      border-color: transparent;\n",
              "      border-bottom-color: var(--fill-color);\n",
              "      border-left-color: var(--fill-color);\n",
              "    }\n",
              "    20% {\n",
              "      border-color: transparent;\n",
              "      border-left-color: var(--fill-color);\n",
              "      border-top-color: var(--fill-color);\n",
              "    }\n",
              "    30% {\n",
              "      border-color: transparent;\n",
              "      border-left-color: var(--fill-color);\n",
              "      border-top-color: var(--fill-color);\n",
              "      border-right-color: var(--fill-color);\n",
              "    }\n",
              "    40% {\n",
              "      border-color: transparent;\n",
              "      border-right-color: var(--fill-color);\n",
              "      border-top-color: var(--fill-color);\n",
              "    }\n",
              "    60% {\n",
              "      border-color: transparent;\n",
              "      border-right-color: var(--fill-color);\n",
              "    }\n",
              "    80% {\n",
              "      border-color: transparent;\n",
              "      border-right-color: var(--fill-color);\n",
              "      border-bottom-color: var(--fill-color);\n",
              "    }\n",
              "    90% {\n",
              "      border-color: transparent;\n",
              "      border-bottom-color: var(--fill-color);\n",
              "    }\n",
              "  }\n",
              "</style>\n",
              "\n",
              "      <script>\n",
              "        async function quickchart(key) {\n",
              "          const quickchartButtonEl =\n",
              "            document.querySelector('#' + key + ' button');\n",
              "          quickchartButtonEl.disabled = true;  // To prevent multiple clicks.\n",
              "          quickchartButtonEl.classList.add('colab-df-spinner');\n",
              "          try {\n",
              "            const charts = await google.colab.kernel.invokeFunction(\n",
              "                'suggestCharts', [key], {});\n",
              "          } catch (error) {\n",
              "            console.error('Error during call to suggestCharts:', error);\n",
              "          }\n",
              "          quickchartButtonEl.classList.remove('colab-df-spinner');\n",
              "          quickchartButtonEl.classList.add('colab-df-quickchart-complete');\n",
              "        }\n",
              "        (() => {\n",
              "          let quickchartButtonEl =\n",
              "            document.querySelector('#df-a656aa6d-e28f-40b5-8519-289434155ce5 button');\n",
              "          quickchartButtonEl.style.display =\n",
              "            google.colab.kernel.accessAllowed ? 'block' : 'none';\n",
              "        })();\n",
              "      </script>\n",
              "    </div>\n",
              "\n",
              "    </div>\n",
              "  </div>\n"
            ],
            "application/vnd.google.colaboratory.intrinsic+json": {
              "type": "dataframe",
              "variable_name": "descuentos",
              "summary": "{\n  \"name\": \"descuentos\",\n  \"rows\": 529,\n  \"fields\": [\n    {\n      \"column\": \"Documento\",\n      \"properties\": {\n        \"dtype\": \"category\",\n        \"num_unique_values\": 3,\n        \"samples\": [\n          \"Ticket\",\n          \"Factura CFDI\",\n          \"P\\u00e1gina 19\"\n        ],\n        \"semantic_type\": \"\",\n        \"description\": \"\"\n      }\n    },\n    {\n      \"column\": \"Fecha\",\n      \"properties\": {\n        \"dtype\": \"date\",\n        \"min\": \"2025-07-03 08:03:19\",\n        \"max\": \"2025-07-03 17:55:39\",\n        \"num_unique_values\": 164,\n        \"samples\": [\n          \"2025-07-03 15:51:45\",\n          \"2025-07-03 14:45:55\",\n          \"2025-07-03 15:47:02\"\n        ],\n        \"semantic_type\": \"\",\n        \"description\": \"\"\n      }\n    },\n    {\n      \"column\": \"Folio\",\n      \"properties\": {\n        \"dtype\": \"number\",\n        \"std\": 14703.823138139707,\n        \"min\": 22736.0,\n        \"max\": 63154.0,\n        \"num_unique_values\": 166,\n        \"samples\": [\n          63098.0,\n          63130.0,\n          63078.0\n        ],\n        \"semantic_type\": \"\",\n        \"description\": \"\"\n      }\n    },\n    {\n      \"column\": \"Cliente\",\n      \"properties\": {\n        \"dtype\": \"category\",\n        \"num_unique_values\": 30,\n        \"samples\": [\n          \"DINAMIK CONSTRUCTORA INGENIERIA Y ACERO\",\n          \"VICTUM SERVICIOS INTEGRALES\",\n          \"DELANI LEAL ARIAS\"\n        ],\n        \"semantic_type\": \"\",\n        \"description\": \"\"\n      }\n    },\n    {\n      \"column\": \"Caja\",\n      \"properties\": {\n        \"dtype\": \"category\",\n        \"num_unique_values\": 1,\n        \"samples\": [\n          \"Caja 1\"\n        ],\n        \"semantic_type\": \"\",\n        \"description\": \"\"\n      }\n    },\n    {\n      \"column\": \"Usuario\",\n      \"properties\": {\n        \"dtype\": \"category\",\n        \"num_unique_values\": 1,\n        \"samples\": [\n          \"admin\"\n        ],\n        \"semantic_type\": \"\",\n        \"description\": \"\"\n      }\n    },\n    {\n      \"column\": \"Est\",\n      \"properties\": {\n        \"dtype\": \"category\",\n        \"num_unique_values\": 1,\n        \"samples\": [\n          \"V\"\n        ],\n        \"semantic_type\": \"\",\n        \"description\": \"\"\n      }\n    },\n    {\n      \"column\": \"Desc %\",\n      \"properties\": {\n        \"dtype\": \"category\",\n        \"num_unique_values\": 3,\n        \"samples\": [\n          \"0.00%\"\n        ],\n        \"semantic_type\": \"\",\n        \"description\": \"\"\n      }\n    },\n    {\n      \"column\": \"Descuento $\\n\",\n      \"properties\": {\n        \"dtype\": \"category\",\n        \"num_unique_values\": 4,\n        \"samples\": [\n          \"$ 21.00\"\n        ],\n        \"semantic_type\": \"\",\n        \"description\": \"\"\n      }\n    },\n    {\n      \"column\": \"Total\",\n      \"properties\": {\n        \"dtype\": \"category\",\n        \"num_unique_values\": 138,\n        \"samples\": [\n          \"$ 226.00\"\n        ],\n        \"semantic_type\": \"\",\n        \"description\": \"\"\n      }\n    }\n  ]\n}"
            }
          },
          "metadata": {},
          "execution_count": 3218
        }
      ]
    },
    {
      "cell_type": "code",
      "source": [
        "descuentos = descuentos.loc[(descuentos[\"Documento\"] == \"Ticket\") | (descuentos[\"Documento\"] == \"Factura CFDI\")]\n",
        "descuentos.head()"
      ],
      "metadata": {
        "colab": {
          "base_uri": "https://localhost:8080/",
          "height": 206
        },
        "id": "yoXH5bHUvBEq",
        "outputId": "fb9bd67b-cfcb-4e4c-fab6-f83502e98e7a"
      },
      "execution_count": 3219,
      "outputs": [
        {
          "output_type": "execute_result",
          "data": {
            "text/plain": [
              "       Documento               Fecha    Folio                     Cliente  \\\n",
              "0         Ticket 2025-07-03 08:03:19  63015.0          Público en General   \n",
              "2         Ticket 2025-07-03 08:15:21  63016.0          Público en General   \n",
              "7         Ticket 2025-07-03 08:19:15  63017.0          Público en General   \n",
              "9   Factura CFDI 2025-07-03 08:22:30  22736.0  VISION COMERCIAL DEPORTIVA   \n",
              "12        Ticket 2025-07-03 08:26:35  63018.0          Público en General   \n",
              "\n",
              "      Caja Usuario Est Desc % Descuento $\\n     Total  \n",
              "0   Caja 1   admin   V  0.00%        $ 0.00   $ 49.00  \n",
              "2   Caja 1   admin   V  0.00%        $ 0.00  $ 119.00  \n",
              "7   Caja 1   admin   V  0.00%        $ 0.00   $ 12.00  \n",
              "9   Caja 1   admin   V  0.00%        $ 0.00  $ 279.00  \n",
              "12  Caja 1   admin   V  0.00%        $ 0.00  $ 326.00  "
            ],
            "text/html": [
              "\n",
              "  <div id=\"df-1e000e0a-947d-4280-b911-460f71512bf8\" class=\"colab-df-container\">\n",
              "    <div>\n",
              "<style scoped>\n",
              "    .dataframe tbody tr th:only-of-type {\n",
              "        vertical-align: middle;\n",
              "    }\n",
              "\n",
              "    .dataframe tbody tr th {\n",
              "        vertical-align: top;\n",
              "    }\n",
              "\n",
              "    .dataframe thead th {\n",
              "        text-align: right;\n",
              "    }\n",
              "</style>\n",
              "<table border=\"1\" class=\"dataframe\">\n",
              "  <thead>\n",
              "    <tr style=\"text-align: right;\">\n",
              "      <th></th>\n",
              "      <th>Documento</th>\n",
              "      <th>Fecha</th>\n",
              "      <th>Folio</th>\n",
              "      <th>Cliente</th>\n",
              "      <th>Caja</th>\n",
              "      <th>Usuario</th>\n",
              "      <th>Est</th>\n",
              "      <th>Desc %</th>\n",
              "      <th>Descuento $\\n</th>\n",
              "      <th>Total</th>\n",
              "    </tr>\n",
              "  </thead>\n",
              "  <tbody>\n",
              "    <tr>\n",
              "      <th>0</th>\n",
              "      <td>Ticket</td>\n",
              "      <td>2025-07-03 08:03:19</td>\n",
              "      <td>63015.0</td>\n",
              "      <td>Público en General</td>\n",
              "      <td>Caja 1</td>\n",
              "      <td>admin</td>\n",
              "      <td>V</td>\n",
              "      <td>0.00%</td>\n",
              "      <td>$ 0.00</td>\n",
              "      <td>$ 49.00</td>\n",
              "    </tr>\n",
              "    <tr>\n",
              "      <th>2</th>\n",
              "      <td>Ticket</td>\n",
              "      <td>2025-07-03 08:15:21</td>\n",
              "      <td>63016.0</td>\n",
              "      <td>Público en General</td>\n",
              "      <td>Caja 1</td>\n",
              "      <td>admin</td>\n",
              "      <td>V</td>\n",
              "      <td>0.00%</td>\n",
              "      <td>$ 0.00</td>\n",
              "      <td>$ 119.00</td>\n",
              "    </tr>\n",
              "    <tr>\n",
              "      <th>7</th>\n",
              "      <td>Ticket</td>\n",
              "      <td>2025-07-03 08:19:15</td>\n",
              "      <td>63017.0</td>\n",
              "      <td>Público en General</td>\n",
              "      <td>Caja 1</td>\n",
              "      <td>admin</td>\n",
              "      <td>V</td>\n",
              "      <td>0.00%</td>\n",
              "      <td>$ 0.00</td>\n",
              "      <td>$ 12.00</td>\n",
              "    </tr>\n",
              "    <tr>\n",
              "      <th>9</th>\n",
              "      <td>Factura CFDI</td>\n",
              "      <td>2025-07-03 08:22:30</td>\n",
              "      <td>22736.0</td>\n",
              "      <td>VISION COMERCIAL DEPORTIVA</td>\n",
              "      <td>Caja 1</td>\n",
              "      <td>admin</td>\n",
              "      <td>V</td>\n",
              "      <td>0.00%</td>\n",
              "      <td>$ 0.00</td>\n",
              "      <td>$ 279.00</td>\n",
              "    </tr>\n",
              "    <tr>\n",
              "      <th>12</th>\n",
              "      <td>Ticket</td>\n",
              "      <td>2025-07-03 08:26:35</td>\n",
              "      <td>63018.0</td>\n",
              "      <td>Público en General</td>\n",
              "      <td>Caja 1</td>\n",
              "      <td>admin</td>\n",
              "      <td>V</td>\n",
              "      <td>0.00%</td>\n",
              "      <td>$ 0.00</td>\n",
              "      <td>$ 326.00</td>\n",
              "    </tr>\n",
              "  </tbody>\n",
              "</table>\n",
              "</div>\n",
              "    <div class=\"colab-df-buttons\">\n",
              "\n",
              "  <div class=\"colab-df-container\">\n",
              "    <button class=\"colab-df-convert\" onclick=\"convertToInteractive('df-1e000e0a-947d-4280-b911-460f71512bf8')\"\n",
              "            title=\"Convert this dataframe to an interactive table.\"\n",
              "            style=\"display:none;\">\n",
              "\n",
              "  <svg xmlns=\"http://www.w3.org/2000/svg\" height=\"24px\" viewBox=\"0 -960 960 960\">\n",
              "    <path d=\"M120-120v-720h720v720H120Zm60-500h600v-160H180v160Zm220 220h160v-160H400v160Zm0 220h160v-160H400v160ZM180-400h160v-160H180v160Zm440 0h160v-160H620v160ZM180-180h160v-160H180v160Zm440 0h160v-160H620v160Z\"/>\n",
              "  </svg>\n",
              "    </button>\n",
              "\n",
              "  <style>\n",
              "    .colab-df-container {\n",
              "      display:flex;\n",
              "      gap: 12px;\n",
              "    }\n",
              "\n",
              "    .colab-df-convert {\n",
              "      background-color: #E8F0FE;\n",
              "      border: none;\n",
              "      border-radius: 50%;\n",
              "      cursor: pointer;\n",
              "      display: none;\n",
              "      fill: #1967D2;\n",
              "      height: 32px;\n",
              "      padding: 0 0 0 0;\n",
              "      width: 32px;\n",
              "    }\n",
              "\n",
              "    .colab-df-convert:hover {\n",
              "      background-color: #E2EBFA;\n",
              "      box-shadow: 0px 1px 2px rgba(60, 64, 67, 0.3), 0px 1px 3px 1px rgba(60, 64, 67, 0.15);\n",
              "      fill: #174EA6;\n",
              "    }\n",
              "\n",
              "    .colab-df-buttons div {\n",
              "      margin-bottom: 4px;\n",
              "    }\n",
              "\n",
              "    [theme=dark] .colab-df-convert {\n",
              "      background-color: #3B4455;\n",
              "      fill: #D2E3FC;\n",
              "    }\n",
              "\n",
              "    [theme=dark] .colab-df-convert:hover {\n",
              "      background-color: #434B5C;\n",
              "      box-shadow: 0px 1px 3px 1px rgba(0, 0, 0, 0.15);\n",
              "      filter: drop-shadow(0px 1px 2px rgba(0, 0, 0, 0.3));\n",
              "      fill: #FFFFFF;\n",
              "    }\n",
              "  </style>\n",
              "\n",
              "    <script>\n",
              "      const buttonEl =\n",
              "        document.querySelector('#df-1e000e0a-947d-4280-b911-460f71512bf8 button.colab-df-convert');\n",
              "      buttonEl.style.display =\n",
              "        google.colab.kernel.accessAllowed ? 'block' : 'none';\n",
              "\n",
              "      async function convertToInteractive(key) {\n",
              "        const element = document.querySelector('#df-1e000e0a-947d-4280-b911-460f71512bf8');\n",
              "        const dataTable =\n",
              "          await google.colab.kernel.invokeFunction('convertToInteractive',\n",
              "                                                    [key], {});\n",
              "        if (!dataTable) return;\n",
              "\n",
              "        const docLinkHtml = 'Like what you see? Visit the ' +\n",
              "          '<a target=\"_blank\" href=https://colab.research.google.com/notebooks/data_table.ipynb>data table notebook</a>'\n",
              "          + ' to learn more about interactive tables.';\n",
              "        element.innerHTML = '';\n",
              "        dataTable['output_type'] = 'display_data';\n",
              "        await google.colab.output.renderOutput(dataTable, element);\n",
              "        const docLink = document.createElement('div');\n",
              "        docLink.innerHTML = docLinkHtml;\n",
              "        element.appendChild(docLink);\n",
              "      }\n",
              "    </script>\n",
              "  </div>\n",
              "\n",
              "\n",
              "    <div id=\"df-546594ea-44a3-4537-b181-78370ca15396\">\n",
              "      <button class=\"colab-df-quickchart\" onclick=\"quickchart('df-546594ea-44a3-4537-b181-78370ca15396')\"\n",
              "                title=\"Suggest charts\"\n",
              "                style=\"display:none;\">\n",
              "\n",
              "<svg xmlns=\"http://www.w3.org/2000/svg\" height=\"24px\"viewBox=\"0 0 24 24\"\n",
              "     width=\"24px\">\n",
              "    <g>\n",
              "        <path d=\"M19 3H5c-1.1 0-2 .9-2 2v14c0 1.1.9 2 2 2h14c1.1 0 2-.9 2-2V5c0-1.1-.9-2-2-2zM9 17H7v-7h2v7zm4 0h-2V7h2v10zm4 0h-2v-4h2v4z\"/>\n",
              "    </g>\n",
              "</svg>\n",
              "      </button>\n",
              "\n",
              "<style>\n",
              "  .colab-df-quickchart {\n",
              "      --bg-color: #E8F0FE;\n",
              "      --fill-color: #1967D2;\n",
              "      --hover-bg-color: #E2EBFA;\n",
              "      --hover-fill-color: #174EA6;\n",
              "      --disabled-fill-color: #AAA;\n",
              "      --disabled-bg-color: #DDD;\n",
              "  }\n",
              "\n",
              "  [theme=dark] .colab-df-quickchart {\n",
              "      --bg-color: #3B4455;\n",
              "      --fill-color: #D2E3FC;\n",
              "      --hover-bg-color: #434B5C;\n",
              "      --hover-fill-color: #FFFFFF;\n",
              "      --disabled-bg-color: #3B4455;\n",
              "      --disabled-fill-color: #666;\n",
              "  }\n",
              "\n",
              "  .colab-df-quickchart {\n",
              "    background-color: var(--bg-color);\n",
              "    border: none;\n",
              "    border-radius: 50%;\n",
              "    cursor: pointer;\n",
              "    display: none;\n",
              "    fill: var(--fill-color);\n",
              "    height: 32px;\n",
              "    padding: 0;\n",
              "    width: 32px;\n",
              "  }\n",
              "\n",
              "  .colab-df-quickchart:hover {\n",
              "    background-color: var(--hover-bg-color);\n",
              "    box-shadow: 0 1px 2px rgba(60, 64, 67, 0.3), 0 1px 3px 1px rgba(60, 64, 67, 0.15);\n",
              "    fill: var(--button-hover-fill-color);\n",
              "  }\n",
              "\n",
              "  .colab-df-quickchart-complete:disabled,\n",
              "  .colab-df-quickchart-complete:disabled:hover {\n",
              "    background-color: var(--disabled-bg-color);\n",
              "    fill: var(--disabled-fill-color);\n",
              "    box-shadow: none;\n",
              "  }\n",
              "\n",
              "  .colab-df-spinner {\n",
              "    border: 2px solid var(--fill-color);\n",
              "    border-color: transparent;\n",
              "    border-bottom-color: var(--fill-color);\n",
              "    animation:\n",
              "      spin 1s steps(1) infinite;\n",
              "  }\n",
              "\n",
              "  @keyframes spin {\n",
              "    0% {\n",
              "      border-color: transparent;\n",
              "      border-bottom-color: var(--fill-color);\n",
              "      border-left-color: var(--fill-color);\n",
              "    }\n",
              "    20% {\n",
              "      border-color: transparent;\n",
              "      border-left-color: var(--fill-color);\n",
              "      border-top-color: var(--fill-color);\n",
              "    }\n",
              "    30% {\n",
              "      border-color: transparent;\n",
              "      border-left-color: var(--fill-color);\n",
              "      border-top-color: var(--fill-color);\n",
              "      border-right-color: var(--fill-color);\n",
              "    }\n",
              "    40% {\n",
              "      border-color: transparent;\n",
              "      border-right-color: var(--fill-color);\n",
              "      border-top-color: var(--fill-color);\n",
              "    }\n",
              "    60% {\n",
              "      border-color: transparent;\n",
              "      border-right-color: var(--fill-color);\n",
              "    }\n",
              "    80% {\n",
              "      border-color: transparent;\n",
              "      border-right-color: var(--fill-color);\n",
              "      border-bottom-color: var(--fill-color);\n",
              "    }\n",
              "    90% {\n",
              "      border-color: transparent;\n",
              "      border-bottom-color: var(--fill-color);\n",
              "    }\n",
              "  }\n",
              "</style>\n",
              "\n",
              "      <script>\n",
              "        async function quickchart(key) {\n",
              "          const quickchartButtonEl =\n",
              "            document.querySelector('#' + key + ' button');\n",
              "          quickchartButtonEl.disabled = true;  // To prevent multiple clicks.\n",
              "          quickchartButtonEl.classList.add('colab-df-spinner');\n",
              "          try {\n",
              "            const charts = await google.colab.kernel.invokeFunction(\n",
              "                'suggestCharts', [key], {});\n",
              "          } catch (error) {\n",
              "            console.error('Error during call to suggestCharts:', error);\n",
              "          }\n",
              "          quickchartButtonEl.classList.remove('colab-df-spinner');\n",
              "          quickchartButtonEl.classList.add('colab-df-quickchart-complete');\n",
              "        }\n",
              "        (() => {\n",
              "          let quickchartButtonEl =\n",
              "            document.querySelector('#df-546594ea-44a3-4537-b181-78370ca15396 button');\n",
              "          quickchartButtonEl.style.display =\n",
              "            google.colab.kernel.accessAllowed ? 'block' : 'none';\n",
              "        })();\n",
              "      </script>\n",
              "    </div>\n",
              "\n",
              "    </div>\n",
              "  </div>\n"
            ],
            "application/vnd.google.colaboratory.intrinsic+json": {
              "type": "dataframe",
              "variable_name": "descuentos",
              "summary": "{\n  \"name\": \"descuentos\",\n  \"rows\": 166,\n  \"fields\": [\n    {\n      \"column\": \"Documento\",\n      \"properties\": {\n        \"dtype\": \"category\",\n        \"num_unique_values\": 2,\n        \"samples\": [\n          \"Factura CFDI\",\n          \"Ticket\"\n        ],\n        \"semantic_type\": \"\",\n        \"description\": \"\"\n      }\n    },\n    {\n      \"column\": \"Fecha\",\n      \"properties\": {\n        \"dtype\": \"date\",\n        \"min\": \"2025-07-03 08:03:19\",\n        \"max\": \"2025-07-03 17:55:39\",\n        \"num_unique_values\": 164,\n        \"samples\": [\n          \"2025-07-03 15:51:45\",\n          \"2025-07-03 14:45:55\"\n        ],\n        \"semantic_type\": \"\",\n        \"description\": \"\"\n      }\n    },\n    {\n      \"column\": \"Folio\",\n      \"properties\": {\n        \"dtype\": \"number\",\n        \"std\": 14703.823138139707,\n        \"min\": 22736.0,\n        \"max\": 63154.0,\n        \"num_unique_values\": 166,\n        \"samples\": [\n          63098.0,\n          63130.0\n        ],\n        \"semantic_type\": \"\",\n        \"description\": \"\"\n      }\n    },\n    {\n      \"column\": \"Cliente\",\n      \"properties\": {\n        \"dtype\": \"category\",\n        \"num_unique_values\": 30,\n        \"samples\": [\n          \"DINAMIK CONSTRUCTORA INGENIERIA Y ACERO\",\n          \"VICTUM SERVICIOS INTEGRALES\"\n        ],\n        \"semantic_type\": \"\",\n        \"description\": \"\"\n      }\n    },\n    {\n      \"column\": \"Caja\",\n      \"properties\": {\n        \"dtype\": \"category\",\n        \"num_unique_values\": 1,\n        \"samples\": [\n          \"Caja 1\"\n        ],\n        \"semantic_type\": \"\",\n        \"description\": \"\"\n      }\n    },\n    {\n      \"column\": \"Usuario\",\n      \"properties\": {\n        \"dtype\": \"category\",\n        \"num_unique_values\": 1,\n        \"samples\": [\n          \"admin\"\n        ],\n        \"semantic_type\": \"\",\n        \"description\": \"\"\n      }\n    },\n    {\n      \"column\": \"Est\",\n      \"properties\": {\n        \"dtype\": \"category\",\n        \"num_unique_values\": 1,\n        \"samples\": [\n          \"V\"\n        ],\n        \"semantic_type\": \"\",\n        \"description\": \"\"\n      }\n    },\n    {\n      \"column\": \"Desc %\",\n      \"properties\": {\n        \"dtype\": \"category\",\n        \"num_unique_values\": 3,\n        \"samples\": [\n          \"0.00%\"\n        ],\n        \"semantic_type\": \"\",\n        \"description\": \"\"\n      }\n    },\n    {\n      \"column\": \"Descuento $\\n\",\n      \"properties\": {\n        \"dtype\": \"category\",\n        \"num_unique_values\": 3,\n        \"samples\": [\n          \"$ 0.00\"\n        ],\n        \"semantic_type\": \"\",\n        \"description\": \"\"\n      }\n    },\n    {\n      \"column\": \"Total\",\n      \"properties\": {\n        \"dtype\": \"string\",\n        \"num_unique_values\": 137,\n        \"samples\": [\n          \"$ 58.00\"\n        ],\n        \"semantic_type\": \"\",\n        \"description\": \"\"\n      }\n    }\n  ]\n}"
            }
          },
          "metadata": {},
          "execution_count": 3219
        }
      ]
    },
    {
      "cell_type": "markdown",
      "source": [
        "Nota: Ver explicación 3"
      ],
      "metadata": {
        "id": "ZFQILA9MTWtd"
      }
    },
    {
      "cell_type": "code",
      "source": [
        "descuentos['Total'] = descuentos[\"Total\"].str.strip().str.replace('$', '').str.replace(',', '').astype(float)\n",
        "descuentos['Descuento $\\n'] = descuentos[\"Descuento $\\n\"].str.strip().str.replace('$', '').str.replace(',', '').astype(float)"
      ],
      "metadata": {
        "id": "Pov1B402vYgz"
      },
      "execution_count": 3220,
      "outputs": []
    },
    {
      "cell_type": "code",
      "source": [
        "descuentos.head()"
      ],
      "metadata": {
        "colab": {
          "base_uri": "https://localhost:8080/",
          "height": 206
        },
        "id": "RWaWtwBIvv1i",
        "outputId": "165ae1a1-1290-401a-e5f2-6c0423c75ff4"
      },
      "execution_count": 3221,
      "outputs": [
        {
          "output_type": "execute_result",
          "data": {
            "text/plain": [
              "       Documento               Fecha    Folio                     Cliente  \\\n",
              "0         Ticket 2025-07-03 08:03:19  63015.0          Público en General   \n",
              "2         Ticket 2025-07-03 08:15:21  63016.0          Público en General   \n",
              "7         Ticket 2025-07-03 08:19:15  63017.0          Público en General   \n",
              "9   Factura CFDI 2025-07-03 08:22:30  22736.0  VISION COMERCIAL DEPORTIVA   \n",
              "12        Ticket 2025-07-03 08:26:35  63018.0          Público en General   \n",
              "\n",
              "      Caja Usuario Est Desc %  Descuento $\\n  Total  \n",
              "0   Caja 1   admin   V  0.00%            0.0   49.0  \n",
              "2   Caja 1   admin   V  0.00%            0.0  119.0  \n",
              "7   Caja 1   admin   V  0.00%            0.0   12.0  \n",
              "9   Caja 1   admin   V  0.00%            0.0  279.0  \n",
              "12  Caja 1   admin   V  0.00%            0.0  326.0  "
            ],
            "text/html": [
              "\n",
              "  <div id=\"df-4962eee5-0c84-4337-aed1-47aeb35fd039\" class=\"colab-df-container\">\n",
              "    <div>\n",
              "<style scoped>\n",
              "    .dataframe tbody tr th:only-of-type {\n",
              "        vertical-align: middle;\n",
              "    }\n",
              "\n",
              "    .dataframe tbody tr th {\n",
              "        vertical-align: top;\n",
              "    }\n",
              "\n",
              "    .dataframe thead th {\n",
              "        text-align: right;\n",
              "    }\n",
              "</style>\n",
              "<table border=\"1\" class=\"dataframe\">\n",
              "  <thead>\n",
              "    <tr style=\"text-align: right;\">\n",
              "      <th></th>\n",
              "      <th>Documento</th>\n",
              "      <th>Fecha</th>\n",
              "      <th>Folio</th>\n",
              "      <th>Cliente</th>\n",
              "      <th>Caja</th>\n",
              "      <th>Usuario</th>\n",
              "      <th>Est</th>\n",
              "      <th>Desc %</th>\n",
              "      <th>Descuento $\\n</th>\n",
              "      <th>Total</th>\n",
              "    </tr>\n",
              "  </thead>\n",
              "  <tbody>\n",
              "    <tr>\n",
              "      <th>0</th>\n",
              "      <td>Ticket</td>\n",
              "      <td>2025-07-03 08:03:19</td>\n",
              "      <td>63015.0</td>\n",
              "      <td>Público en General</td>\n",
              "      <td>Caja 1</td>\n",
              "      <td>admin</td>\n",
              "      <td>V</td>\n",
              "      <td>0.00%</td>\n",
              "      <td>0.0</td>\n",
              "      <td>49.0</td>\n",
              "    </tr>\n",
              "    <tr>\n",
              "      <th>2</th>\n",
              "      <td>Ticket</td>\n",
              "      <td>2025-07-03 08:15:21</td>\n",
              "      <td>63016.0</td>\n",
              "      <td>Público en General</td>\n",
              "      <td>Caja 1</td>\n",
              "      <td>admin</td>\n",
              "      <td>V</td>\n",
              "      <td>0.00%</td>\n",
              "      <td>0.0</td>\n",
              "      <td>119.0</td>\n",
              "    </tr>\n",
              "    <tr>\n",
              "      <th>7</th>\n",
              "      <td>Ticket</td>\n",
              "      <td>2025-07-03 08:19:15</td>\n",
              "      <td>63017.0</td>\n",
              "      <td>Público en General</td>\n",
              "      <td>Caja 1</td>\n",
              "      <td>admin</td>\n",
              "      <td>V</td>\n",
              "      <td>0.00%</td>\n",
              "      <td>0.0</td>\n",
              "      <td>12.0</td>\n",
              "    </tr>\n",
              "    <tr>\n",
              "      <th>9</th>\n",
              "      <td>Factura CFDI</td>\n",
              "      <td>2025-07-03 08:22:30</td>\n",
              "      <td>22736.0</td>\n",
              "      <td>VISION COMERCIAL DEPORTIVA</td>\n",
              "      <td>Caja 1</td>\n",
              "      <td>admin</td>\n",
              "      <td>V</td>\n",
              "      <td>0.00%</td>\n",
              "      <td>0.0</td>\n",
              "      <td>279.0</td>\n",
              "    </tr>\n",
              "    <tr>\n",
              "      <th>12</th>\n",
              "      <td>Ticket</td>\n",
              "      <td>2025-07-03 08:26:35</td>\n",
              "      <td>63018.0</td>\n",
              "      <td>Público en General</td>\n",
              "      <td>Caja 1</td>\n",
              "      <td>admin</td>\n",
              "      <td>V</td>\n",
              "      <td>0.00%</td>\n",
              "      <td>0.0</td>\n",
              "      <td>326.0</td>\n",
              "    </tr>\n",
              "  </tbody>\n",
              "</table>\n",
              "</div>\n",
              "    <div class=\"colab-df-buttons\">\n",
              "\n",
              "  <div class=\"colab-df-container\">\n",
              "    <button class=\"colab-df-convert\" onclick=\"convertToInteractive('df-4962eee5-0c84-4337-aed1-47aeb35fd039')\"\n",
              "            title=\"Convert this dataframe to an interactive table.\"\n",
              "            style=\"display:none;\">\n",
              "\n",
              "  <svg xmlns=\"http://www.w3.org/2000/svg\" height=\"24px\" viewBox=\"0 -960 960 960\">\n",
              "    <path d=\"M120-120v-720h720v720H120Zm60-500h600v-160H180v160Zm220 220h160v-160H400v160Zm0 220h160v-160H400v160ZM180-400h160v-160H180v160Zm440 0h160v-160H620v160ZM180-180h160v-160H180v160Zm440 0h160v-160H620v160Z\"/>\n",
              "  </svg>\n",
              "    </button>\n",
              "\n",
              "  <style>\n",
              "    .colab-df-container {\n",
              "      display:flex;\n",
              "      gap: 12px;\n",
              "    }\n",
              "\n",
              "    .colab-df-convert {\n",
              "      background-color: #E8F0FE;\n",
              "      border: none;\n",
              "      border-radius: 50%;\n",
              "      cursor: pointer;\n",
              "      display: none;\n",
              "      fill: #1967D2;\n",
              "      height: 32px;\n",
              "      padding: 0 0 0 0;\n",
              "      width: 32px;\n",
              "    }\n",
              "\n",
              "    .colab-df-convert:hover {\n",
              "      background-color: #E2EBFA;\n",
              "      box-shadow: 0px 1px 2px rgba(60, 64, 67, 0.3), 0px 1px 3px 1px rgba(60, 64, 67, 0.15);\n",
              "      fill: #174EA6;\n",
              "    }\n",
              "\n",
              "    .colab-df-buttons div {\n",
              "      margin-bottom: 4px;\n",
              "    }\n",
              "\n",
              "    [theme=dark] .colab-df-convert {\n",
              "      background-color: #3B4455;\n",
              "      fill: #D2E3FC;\n",
              "    }\n",
              "\n",
              "    [theme=dark] .colab-df-convert:hover {\n",
              "      background-color: #434B5C;\n",
              "      box-shadow: 0px 1px 3px 1px rgba(0, 0, 0, 0.15);\n",
              "      filter: drop-shadow(0px 1px 2px rgba(0, 0, 0, 0.3));\n",
              "      fill: #FFFFFF;\n",
              "    }\n",
              "  </style>\n",
              "\n",
              "    <script>\n",
              "      const buttonEl =\n",
              "        document.querySelector('#df-4962eee5-0c84-4337-aed1-47aeb35fd039 button.colab-df-convert');\n",
              "      buttonEl.style.display =\n",
              "        google.colab.kernel.accessAllowed ? 'block' : 'none';\n",
              "\n",
              "      async function convertToInteractive(key) {\n",
              "        const element = document.querySelector('#df-4962eee5-0c84-4337-aed1-47aeb35fd039');\n",
              "        const dataTable =\n",
              "          await google.colab.kernel.invokeFunction('convertToInteractive',\n",
              "                                                    [key], {});\n",
              "        if (!dataTable) return;\n",
              "\n",
              "        const docLinkHtml = 'Like what you see? Visit the ' +\n",
              "          '<a target=\"_blank\" href=https://colab.research.google.com/notebooks/data_table.ipynb>data table notebook</a>'\n",
              "          + ' to learn more about interactive tables.';\n",
              "        element.innerHTML = '';\n",
              "        dataTable['output_type'] = 'display_data';\n",
              "        await google.colab.output.renderOutput(dataTable, element);\n",
              "        const docLink = document.createElement('div');\n",
              "        docLink.innerHTML = docLinkHtml;\n",
              "        element.appendChild(docLink);\n",
              "      }\n",
              "    </script>\n",
              "  </div>\n",
              "\n",
              "\n",
              "    <div id=\"df-70fd04bd-917d-4573-b06f-ccb112a15fa9\">\n",
              "      <button class=\"colab-df-quickchart\" onclick=\"quickchart('df-70fd04bd-917d-4573-b06f-ccb112a15fa9')\"\n",
              "                title=\"Suggest charts\"\n",
              "                style=\"display:none;\">\n",
              "\n",
              "<svg xmlns=\"http://www.w3.org/2000/svg\" height=\"24px\"viewBox=\"0 0 24 24\"\n",
              "     width=\"24px\">\n",
              "    <g>\n",
              "        <path d=\"M19 3H5c-1.1 0-2 .9-2 2v14c0 1.1.9 2 2 2h14c1.1 0 2-.9 2-2V5c0-1.1-.9-2-2-2zM9 17H7v-7h2v7zm4 0h-2V7h2v10zm4 0h-2v-4h2v4z\"/>\n",
              "    </g>\n",
              "</svg>\n",
              "      </button>\n",
              "\n",
              "<style>\n",
              "  .colab-df-quickchart {\n",
              "      --bg-color: #E8F0FE;\n",
              "      --fill-color: #1967D2;\n",
              "      --hover-bg-color: #E2EBFA;\n",
              "      --hover-fill-color: #174EA6;\n",
              "      --disabled-fill-color: #AAA;\n",
              "      --disabled-bg-color: #DDD;\n",
              "  }\n",
              "\n",
              "  [theme=dark] .colab-df-quickchart {\n",
              "      --bg-color: #3B4455;\n",
              "      --fill-color: #D2E3FC;\n",
              "      --hover-bg-color: #434B5C;\n",
              "      --hover-fill-color: #FFFFFF;\n",
              "      --disabled-bg-color: #3B4455;\n",
              "      --disabled-fill-color: #666;\n",
              "  }\n",
              "\n",
              "  .colab-df-quickchart {\n",
              "    background-color: var(--bg-color);\n",
              "    border: none;\n",
              "    border-radius: 50%;\n",
              "    cursor: pointer;\n",
              "    display: none;\n",
              "    fill: var(--fill-color);\n",
              "    height: 32px;\n",
              "    padding: 0;\n",
              "    width: 32px;\n",
              "  }\n",
              "\n",
              "  .colab-df-quickchart:hover {\n",
              "    background-color: var(--hover-bg-color);\n",
              "    box-shadow: 0 1px 2px rgba(60, 64, 67, 0.3), 0 1px 3px 1px rgba(60, 64, 67, 0.15);\n",
              "    fill: var(--button-hover-fill-color);\n",
              "  }\n",
              "\n",
              "  .colab-df-quickchart-complete:disabled,\n",
              "  .colab-df-quickchart-complete:disabled:hover {\n",
              "    background-color: var(--disabled-bg-color);\n",
              "    fill: var(--disabled-fill-color);\n",
              "    box-shadow: none;\n",
              "  }\n",
              "\n",
              "  .colab-df-spinner {\n",
              "    border: 2px solid var(--fill-color);\n",
              "    border-color: transparent;\n",
              "    border-bottom-color: var(--fill-color);\n",
              "    animation:\n",
              "      spin 1s steps(1) infinite;\n",
              "  }\n",
              "\n",
              "  @keyframes spin {\n",
              "    0% {\n",
              "      border-color: transparent;\n",
              "      border-bottom-color: var(--fill-color);\n",
              "      border-left-color: var(--fill-color);\n",
              "    }\n",
              "    20% {\n",
              "      border-color: transparent;\n",
              "      border-left-color: var(--fill-color);\n",
              "      border-top-color: var(--fill-color);\n",
              "    }\n",
              "    30% {\n",
              "      border-color: transparent;\n",
              "      border-left-color: var(--fill-color);\n",
              "      border-top-color: var(--fill-color);\n",
              "      border-right-color: var(--fill-color);\n",
              "    }\n",
              "    40% {\n",
              "      border-color: transparent;\n",
              "      border-right-color: var(--fill-color);\n",
              "      border-top-color: var(--fill-color);\n",
              "    }\n",
              "    60% {\n",
              "      border-color: transparent;\n",
              "      border-right-color: var(--fill-color);\n",
              "    }\n",
              "    80% {\n",
              "      border-color: transparent;\n",
              "      border-right-color: var(--fill-color);\n",
              "      border-bottom-color: var(--fill-color);\n",
              "    }\n",
              "    90% {\n",
              "      border-color: transparent;\n",
              "      border-bottom-color: var(--fill-color);\n",
              "    }\n",
              "  }\n",
              "</style>\n",
              "\n",
              "      <script>\n",
              "        async function quickchart(key) {\n",
              "          const quickchartButtonEl =\n",
              "            document.querySelector('#' + key + ' button');\n",
              "          quickchartButtonEl.disabled = true;  // To prevent multiple clicks.\n",
              "          quickchartButtonEl.classList.add('colab-df-spinner');\n",
              "          try {\n",
              "            const charts = await google.colab.kernel.invokeFunction(\n",
              "                'suggestCharts', [key], {});\n",
              "          } catch (error) {\n",
              "            console.error('Error during call to suggestCharts:', error);\n",
              "          }\n",
              "          quickchartButtonEl.classList.remove('colab-df-spinner');\n",
              "          quickchartButtonEl.classList.add('colab-df-quickchart-complete');\n",
              "        }\n",
              "        (() => {\n",
              "          let quickchartButtonEl =\n",
              "            document.querySelector('#df-70fd04bd-917d-4573-b06f-ccb112a15fa9 button');\n",
              "          quickchartButtonEl.style.display =\n",
              "            google.colab.kernel.accessAllowed ? 'block' : 'none';\n",
              "        })();\n",
              "      </script>\n",
              "    </div>\n",
              "\n",
              "    </div>\n",
              "  </div>\n"
            ],
            "application/vnd.google.colaboratory.intrinsic+json": {
              "type": "dataframe",
              "variable_name": "descuentos",
              "summary": "{\n  \"name\": \"descuentos\",\n  \"rows\": 166,\n  \"fields\": [\n    {\n      \"column\": \"Documento\",\n      \"properties\": {\n        \"dtype\": \"category\",\n        \"num_unique_values\": 2,\n        \"samples\": [\n          \"Factura CFDI\",\n          \"Ticket\"\n        ],\n        \"semantic_type\": \"\",\n        \"description\": \"\"\n      }\n    },\n    {\n      \"column\": \"Fecha\",\n      \"properties\": {\n        \"dtype\": \"date\",\n        \"min\": \"2025-07-03 08:03:19\",\n        \"max\": \"2025-07-03 17:55:39\",\n        \"num_unique_values\": 164,\n        \"samples\": [\n          \"2025-07-03 15:51:45\",\n          \"2025-07-03 14:45:55\"\n        ],\n        \"semantic_type\": \"\",\n        \"description\": \"\"\n      }\n    },\n    {\n      \"column\": \"Folio\",\n      \"properties\": {\n        \"dtype\": \"number\",\n        \"std\": 14703.823138139707,\n        \"min\": 22736.0,\n        \"max\": 63154.0,\n        \"num_unique_values\": 166,\n        \"samples\": [\n          63098.0,\n          63130.0\n        ],\n        \"semantic_type\": \"\",\n        \"description\": \"\"\n      }\n    },\n    {\n      \"column\": \"Cliente\",\n      \"properties\": {\n        \"dtype\": \"category\",\n        \"num_unique_values\": 30,\n        \"samples\": [\n          \"DINAMIK CONSTRUCTORA INGENIERIA Y ACERO\",\n          \"VICTUM SERVICIOS INTEGRALES\"\n        ],\n        \"semantic_type\": \"\",\n        \"description\": \"\"\n      }\n    },\n    {\n      \"column\": \"Caja\",\n      \"properties\": {\n        \"dtype\": \"category\",\n        \"num_unique_values\": 1,\n        \"samples\": [\n          \"Caja 1\"\n        ],\n        \"semantic_type\": \"\",\n        \"description\": \"\"\n      }\n    },\n    {\n      \"column\": \"Usuario\",\n      \"properties\": {\n        \"dtype\": \"category\",\n        \"num_unique_values\": 1,\n        \"samples\": [\n          \"admin\"\n        ],\n        \"semantic_type\": \"\",\n        \"description\": \"\"\n      }\n    },\n    {\n      \"column\": \"Est\",\n      \"properties\": {\n        \"dtype\": \"category\",\n        \"num_unique_values\": 1,\n        \"samples\": [\n          \"V\"\n        ],\n        \"semantic_type\": \"\",\n        \"description\": \"\"\n      }\n    },\n    {\n      \"column\": \"Desc %\",\n      \"properties\": {\n        \"dtype\": \"category\",\n        \"num_unique_values\": 3,\n        \"samples\": [\n          \"0.00%\"\n        ],\n        \"semantic_type\": \"\",\n        \"description\": \"\"\n      }\n    },\n    {\n      \"column\": \"Descuento $\\n\",\n      \"properties\": {\n        \"dtype\": \"number\",\n        \"std\": 6.891573024453071,\n        \"min\": 0.0,\n        \"max\": 86.4,\n        \"num_unique_values\": 3,\n        \"samples\": [\n          0.0\n        ],\n        \"semantic_type\": \"\",\n        \"description\": \"\"\n      }\n    },\n    {\n      \"column\": \"Total\",\n      \"properties\": {\n        \"dtype\": \"number\",\n        \"std\": 647.5645813948101,\n        \"min\": 6.5,\n        \"max\": 4650.0,\n        \"num_unique_values\": 137,\n        \"samples\": [\n          58.0\n        ],\n        \"semantic_type\": \"\",\n        \"description\": \"\"\n      }\n    }\n  ]\n}"
            }
          },
          "metadata": {},
          "execution_count": 3221
        }
      ]
    },
    {
      "cell_type": "code",
      "source": [
        "descuento = descuentos['Descuento $\\n'].sum().round(2)\n",
        "descuento"
      ],
      "metadata": {
        "colab": {
          "base_uri": "https://localhost:8080/"
        },
        "id": "LMDD4FUvv4Z7",
        "outputId": "1d3a3fc9-0f69-4a60-d0a4-954776e1ec11"
      },
      "execution_count": 3222,
      "outputs": [
        {
          "output_type": "execute_result",
          "data": {
            "text/plain": [
              "np.float64(107.4)"
            ]
          },
          "metadata": {},
          "execution_count": 3222
        }
      ]
    },
    {
      "cell_type": "markdown",
      "source": [
        "# Extracción ARQUEO\n",
        "\n",
        "Consultar el archivo de \"Cierre.xlsx\""
      ],
      "metadata": {
        "id": "g6pWx6nL0Mlq"
      }
    },
    {
      "cell_type": "code",
      "source": [
        "wb = load_workbook('Arqueo.xlsx', data_only=True)\n",
        "ws = wb.worksheets[0]"
      ],
      "metadata": {
        "id": "mpWiQqd3wnSi"
      },
      "execution_count": 3223,
      "outputs": []
    },
    {
      "cell_type": "code",
      "source": [
        "inicio_caja = ws['L10'].value\n",
        "inicio_caja"
      ],
      "metadata": {
        "colab": {
          "base_uri": "https://localhost:8080/"
        },
        "id": "ahP1hZ457fVN",
        "outputId": "ee9bb10b-745e-4b52-9a2a-03b90ec4a0fa"
      },
      "execution_count": 3224,
      "outputs": [
        {
          "output_type": "execute_result",
          "data": {
            "text/plain": [
              "800"
            ]
          },
          "metadata": {},
          "execution_count": 3224
        }
      ]
    },
    {
      "cell_type": "code",
      "source": [
        "t_monedas_20 = 0\n",
        "t_monedas_50 = 0\n",
        "t_monedas1 = 0\n",
        "t_monedas2 = 0\n",
        "t_monedas5 = 0\n",
        "t_monedas10 = 0"
      ],
      "metadata": {
        "id": "DXkUKtPs8Jnq"
      },
      "execution_count": 3225,
      "outputs": []
    },
    {
      "cell_type": "code",
      "source": [
        "try:\n",
        "  t_monedas_20 += ws['E28'].value\n",
        "except:\n",
        "  t_monedas_20 += 0\n",
        "try:\n",
        "  t_monedas_20 += ws['E42'].value\n",
        "except:\n",
        "  t_monedas_20 += 0\n",
        "try:\n",
        "  t_monedas_20 += ws['E56'].value\n",
        "except:\n",
        "  t_monedas_20 += 0\n"
      ],
      "metadata": {
        "id": "kSZtAUdd_G5p"
      },
      "execution_count": 3226,
      "outputs": []
    },
    {
      "cell_type": "code",
      "source": [
        "try:\n",
        "  t_monedas_50 += ws['E29'].value\n",
        "except:\n",
        "  t_monedas_50 += 0\n",
        "try:\n",
        "  t_monedas_50 += ws['E43'].value\n",
        "except:\n",
        "  t_monedas_50 += 0\n",
        "try:\n",
        "  t_monedas_50 += ws['E57'].value\n",
        "except:\n",
        "  t_monedas_50 += 0\n"
      ],
      "metadata": {
        "id": "BMdDMzlh_p7l"
      },
      "execution_count": 3227,
      "outputs": []
    },
    {
      "cell_type": "code",
      "source": [
        "t_monedas1 = 0\n",
        "try:\n",
        "  t_monedas1 += ws['E30'].value\n",
        "except:\n",
        "  t_monedas1 += 0\n",
        "try:\n",
        "  t_monedas1 += ws['E44'].value\n",
        "except:\n",
        "  t_monedas1 += 0\n",
        "try:\n",
        "  t_monedas1 += ws['E58'].value\n",
        "except:\n",
        "  t_monedas1 += 0\n"
      ],
      "metadata": {
        "id": "YNTemOkd_vxo"
      },
      "execution_count": 3228,
      "outputs": []
    },
    {
      "cell_type": "code",
      "source": [
        "try:\n",
        "  t_monedas2 += ws['E31'].value\n",
        "except:\n",
        "  t_monedas2 += 0\n",
        "try:\n",
        "  t_monedas2 += ws['E45'].value\n",
        "except:\n",
        "  t_monedas2 += 0\n",
        "try:\n",
        "  t_monedas2 += ws['E59'].value\n",
        "except:\n",
        "  t_monedas2 += 0\n",
        "\n",
        "try:\n",
        "  t_monedas5 += ws['E32'].value\n",
        "except:\n",
        "  t_monedas5 += 0\n",
        "try:\n",
        "  t_monedas5 += ws['E46'].value\n",
        "except:\n",
        "  t_monedas5 += 0\n",
        "try:\n",
        "  t_monedas5 += ws['E60'].value\n",
        "except:\n",
        "  t_monedas5 += 0\n",
        "\n",
        "try:\n",
        "  t_monedas10 += ws['E33'].value\n",
        "except:\n",
        "  t_monedas10 += 0\n",
        "try:\n",
        "  t_monedas10 += ws['E47'].value\n",
        "except:\n",
        "  t_monedas10 += 0\n",
        "try:\n",
        "  t_monedas10 += ws['E61'].value\n",
        "except:\n",
        "  t_monedas10 += 0\n"
      ],
      "metadata": {
        "id": "QBBkrigs_zXY"
      },
      "execution_count": 3229,
      "outputs": []
    },
    {
      "cell_type": "code",
      "source": [
        "t_billetes20 = 0\n",
        "t_billetes50 = 0\n",
        "t_billetes100 = 0\n",
        "t_billetes200 = 0\n",
        "t_billetes500 = 0\n",
        "t_billetes1000 = 0"
      ],
      "metadata": {
        "id": "Usa8RRpsAkUI"
      },
      "execution_count": 3230,
      "outputs": []
    },
    {
      "cell_type": "code",
      "source": [
        "t_billetes20 = 0\n",
        "try:\n",
        "  t_billetes20 += ws['I28'].value\n",
        "except:\n",
        "  t_billetes20 += 0\n",
        "try:\n",
        "  t_billetes20 += ws['I42'].value\n",
        "except:\n",
        "  t_billetes20 += 0\n",
        "try:\n",
        "  t_billetes20 += ws['I56'].value\n",
        "except:\n",
        "  t_billetes20 += 0\n"
      ],
      "metadata": {
        "id": "sQNcyu6ZBLmA"
      },
      "execution_count": 3231,
      "outputs": []
    },
    {
      "cell_type": "code",
      "source": [
        "t_billetes50 = 0\n",
        "try:\n",
        "  t_billetes50 += ws['I29'].value\n",
        "except:\n",
        "  t_billetes50 += 0\n",
        "try:\n",
        "  t_billetes50 += ws['I43'].value\n",
        "except:\n",
        "  t_billetes50 += 0\n",
        "try:\n",
        "  t_billetes50 += ws['I57'].value\n",
        "except:\n",
        "  t_billetes50 += 0\n",
        "\n",
        "\n",
        "t_billetes100 = 0\n",
        "try:\n",
        "  t_billetes100 += ws['I30'].value\n",
        "except:\n",
        "  t_billetes100 += 0\n",
        "try:\n",
        "  t_billetes100 += ws['I44'].value\n",
        "except:\n",
        "  t_billetes100 += 0\n",
        "try:\n",
        "  t_billetes100 += ws['I58'].value\n",
        "except:\n",
        "  t_billetes100 += 0\n",
        "\n",
        "\n",
        "t_billetes200 = 0\n",
        "try:\n",
        "  t_billetes200 += ws['I31'].value\n",
        "except:\n",
        "  t_billetes200 += 0\n",
        "try:\n",
        "  t_billetes200 += ws['I45'].value\n",
        "except:\n",
        "  t_billetes200 += 0\n",
        "try:\n",
        "  t_billetes200 += ws['I59'].value\n",
        "except:\n",
        "  t_billetes200 += 0\n",
        "\n",
        "\n",
        "t_billetes500 = 0\n",
        "try:\n",
        "  t_billetes500 += ws['I32'].value\n",
        "except:\n",
        "  t_billetes500 += 0\n",
        "try:\n",
        "  t_billetes500 += ws['I46'].value\n",
        "except:\n",
        "  t_billetes500 += 0\n",
        "try:\n",
        "  t_billetes500 += ws['I60'].value\n",
        "except:\n",
        "  t_billetes500 += 0\n",
        "\n",
        "\n",
        "t_billetes1000 = 0\n",
        "try:\n",
        "  t_billetes1000 += ws['I33'].value\n",
        "except:\n",
        "  t_billetes1000 += 0\n",
        "try:\n",
        "  t_billetes1000 += ws['I47'].value\n",
        "except:\n",
        "  t_billetes1000 += 0\n",
        "try:\n",
        "  t_billetes1000 += ws['I61'].value\n",
        "except:\n",
        "  t_billetes1000 += 0\n"
      ],
      "metadata": {
        "id": "WOhF6d7XBcuQ"
      },
      "execution_count": 3232,
      "outputs": []
    },
    {
      "cell_type": "code",
      "source": [
        "t_m_20 = t_monedas_20 * 0.20\n",
        "t_m_50 = t_monedas_50 * 0.50\n",
        "t_m1 = t_monedas1\n",
        "t_m2 = t_monedas2 * 2\n",
        "t_m5 = t_monedas5 * 5\n",
        "t_m10 = t_monedas10 * 10"
      ],
      "metadata": {
        "id": "eraFIlouCQzA"
      },
      "execution_count": 3233,
      "outputs": []
    },
    {
      "cell_type": "code",
      "source": [
        "t_b20 = t_billetes20 * 20\n",
        "t_b50 = t_billetes50 * 50\n",
        "t_b100 = t_billetes100 * 100\n",
        "t_b200 = t_billetes200 * 200\n",
        "t_b500 = t_billetes500 * 500\n",
        "t_b1000 = t_billetes1000 * 1000"
      ],
      "metadata": {
        "id": "ipsFF7xNC4R6"
      },
      "execution_count": 3234,
      "outputs": []
    },
    {
      "cell_type": "markdown",
      "source": [
        "## Arqueo de efectivo"
      ],
      "metadata": {
        "id": "D-DYDYtYvDow"
      }
    },
    {
      "cell_type": "code",
      "source": [
        "total_monedas = t_m_20 + t_m_50 + t_m1 + t_m2 + t_m5 + t_m10\n",
        "total_billetes = t_b20 + t_b50 + t_b100 + t_b200 + t_b500 + t_b1000\n",
        "total_caja = total_monedas + total_billetes"
      ],
      "metadata": {
        "id": "G7j7AnkcDOlQ"
      },
      "execution_count": 3235,
      "outputs": []
    },
    {
      "cell_type": "code",
      "source": [
        "try:\n",
        "  getnet = ws[\"K120\"].value\n",
        "except:\n",
        "  getnet = 0\n",
        "try:\n",
        "  evo = ws[\"H120\"].value\n",
        "except:\n",
        "  evo = 0\n",
        "try:\n",
        "  a_express = ws[\"E120\"].value\n",
        "except:\n",
        "  a_express = 0\n",
        "try:\n",
        "  m_pago = ws[\"N120\"].value\n",
        "except:\n",
        "  m_pago = 0"
      ],
      "metadata": {
        "id": "tSCAc-jFDiqT"
      },
      "execution_count": 3236,
      "outputs": []
    },
    {
      "cell_type": "code",
      "source": [
        "total_terminales = (getnet if getnet is not None else 0) + (evo if evo is not None else 0) + (a_express if a_express is not None else 0) + (m_pago if m_pago is not None else 0)\n",
        "total_terminales"
      ],
      "metadata": {
        "colab": {
          "base_uri": "https://localhost:8080/"
        },
        "id": "od_ZMGnNFE0i",
        "outputId": "dd204740-d4e0-41da-e0e7-ddc400c884a4"
      },
      "execution_count": 3237,
      "outputs": [
        {
          "output_type": "execute_result",
          "data": {
            "text/plain": [
              "32476.5"
            ]
          },
          "metadata": {},
          "execution_count": 3237
        }
      ]
    },
    {
      "cell_type": "code",
      "source": [
        "caja_inicial = ws[\"L10\"].value\n",
        "salidas_en_efectivo = 0\n",
        "caja_abono = 0\n",
        "venta_abono = 0\n",
        "salidas_abono = ws['L89'].value"
      ],
      "metadata": {
        "id": "XkXKSJazFiin"
      },
      "execution_count": 3238,
      "outputs": []
    },
    {
      "cell_type": "code",
      "source": [
        "totales_cargo = efectivo + caja_inicial + salidas_en_efectivo\n",
        "totales_abono = caja_abono + venta_abono + salidas_abono"
      ],
      "metadata": {
        "id": "CsjuaaZDHaXo"
      },
      "execution_count": 3239,
      "outputs": []
    },
    {
      "cell_type": "code",
      "source": [
        "caja_de_cambio = ws[\"L140\"].value"
      ],
      "metadata": {
        "id": "oCQIuUeXIYiH"
      },
      "execution_count": 3240,
      "outputs": []
    },
    {
      "cell_type": "code",
      "source": [
        "saldo = totales_cargo - totales_abono\n",
        "saldo_efectivo = total_caja - saldo"
      ],
      "metadata": {
        "id": "eGgR2nYMKDRQ"
      },
      "execution_count": 3241,
      "outputs": []
    },
    {
      "cell_type": "markdown",
      "source": [
        "Nota: Obtener estos datos del archivo correspondiente. *pendiente"
      ],
      "metadata": {
        "id": "KvjcE8jlwGbg"
      }
    },
    {
      "cell_type": "code",
      "source": [
        "apartados_finalizados = 0"
      ],
      "metadata": {
        "id": "5huDHNCkqpTJ"
      },
      "execution_count": 3242,
      "outputs": []
    },
    {
      "cell_type": "code",
      "source": [
        "adelantos_iniciados = 0"
      ],
      "metadata": {
        "id": "BY9TIou_t3wi"
      },
      "execution_count": 3243,
      "outputs": []
    },
    {
      "cell_type": "code",
      "source": [
        "devoluciones = 0"
      ],
      "metadata": {
        "id": "q4F7DSd4uImQ"
      },
      "execution_count": 3244,
      "outputs": []
    },
    {
      "cell_type": "markdown",
      "source": [
        "## Saldo efectivo final"
      ],
      "metadata": {
        "id": "C8u1lEi6wM7R"
      }
    },
    {
      "cell_type": "code",
      "source": [
        "saldo_efectivo_con_pendientes = saldo_efectivo - apartados_finalizados"
      ],
      "metadata": {
        "id": "1ZPmCPQkt4Cx"
      },
      "execution_count": 3245,
      "outputs": []
    },
    {
      "cell_type": "code",
      "source": [
        "saldo_efectivo_con_adelantos = saldo_efectivo_con_pendientes - adelantos_iniciados"
      ],
      "metadata": {
        "id": "cis7pCait-zY"
      },
      "execution_count": 3246,
      "outputs": []
    },
    {
      "cell_type": "code",
      "source": [
        "saldo_efectivo_final = saldo_efectivo_con_adelantos + devoluciones"
      ],
      "metadata": {
        "id": "BC3aGQIIuDNQ"
      },
      "execution_count": 3247,
      "outputs": []
    },
    {
      "cell_type": "code",
      "source": [
        "saldo_tarjeta = total_terminales - tarjeta"
      ],
      "metadata": {
        "id": "GGEGH3GQwPOX"
      },
      "execution_count": 3248,
      "outputs": []
    },
    {
      "cell_type": "code",
      "source": [
        "adelantos_tarjeta = 0"
      ],
      "metadata": {
        "id": "Cf2RGZSoxc9p"
      },
      "execution_count": 3249,
      "outputs": []
    },
    {
      "cell_type": "code",
      "source": [
        "saldo_final_tarjeta = saldo_tarjeta - adelantos_tarjeta"
      ],
      "metadata": {
        "id": "cHfWyh3jxkJR"
      },
      "execution_count": 3250,
      "outputs": []
    },
    {
      "cell_type": "code",
      "source": [
        "aFinalizaods_tarjeta = 0"
      ],
      "metadata": {
        "id": "n6dN-U03xt7j"
      },
      "execution_count": 3251,
      "outputs": []
    },
    {
      "cell_type": "code",
      "source": [
        "final_tarjeta = saldo_final_tarjeta + aFinalizaods_tarjeta"
      ],
      "metadata": {
        "id": "aJbvyOJwxzNg"
      },
      "execution_count": 3252,
      "outputs": []
    },
    {
      "cell_type": "code",
      "source": [
        "suma_tienda = credito + tarjeta + efectivo + vales + transferencia\n",
        "ingreso_total_tienda = suma_tienda - 0\n",
        "'''Al ingreso total de la tienda se le resta un valor el cual actualmente desconozco, se queda el 0 como placeholder'''"
      ],
      "metadata": {
        "colab": {
          "base_uri": "https://localhost:8080/",
          "height": 36
        },
        "id": "p5lvTfcyyjwg",
        "outputId": "c59e74df-57d3-4880-eaf4-370149f79fee"
      },
      "execution_count": 3253,
      "outputs": [
        {
          "output_type": "execute_result",
          "data": {
            "text/plain": [
              "'Al ingreso total de la tienda se le resta un valor el cual actualmente desconozco, se queda el 0 como placeholder'"
            ],
            "application/vnd.google.colaboratory.intrinsic+json": {
              "type": "string"
            }
          },
          "metadata": {},
          "execution_count": 3253
        }
      ]
    },
    {
      "cell_type": "markdown",
      "source": [
        "Nota: Obtener los valores de marketplace cuando se conozca su origen"
      ],
      "metadata": {
        "id": "r1dDHA-h2GOA"
      }
    },
    {
      "cell_type": "code",
      "source": [
        "total_marketplace = 0"
      ],
      "metadata": {
        "id": "duno-lIv2HLW"
      },
      "execution_count": 3254,
      "outputs": []
    },
    {
      "cell_type": "code",
      "source": [
        "total_global = total_marketplace + ingreso_total_tienda"
      ],
      "metadata": {
        "id": "Cc8BTixG0RCx"
      },
      "execution_count": 3255,
      "outputs": []
    },
    {
      "cell_type": "code",
      "source": [
        "total_final = total - total_global"
      ],
      "metadata": {
        "id": "K2kutyOM2Nxn"
      },
      "execution_count": 3256,
      "outputs": []
    },
    {
      "cell_type": "markdown",
      "source": [
        "# Creacion del excel de Reporte Cierre Diario (RCD)"
      ],
      "metadata": {
        "id": "PlK58ek-2r82"
      }
    },
    {
      "cell_type": "code",
      "source": [
        "cierre = Workbook()\n",
        "cs = cierre.active\n",
        "cs.title = \"Cierre\""
      ],
      "metadata": {
        "id": "d2eIfQlF2vg_"
      },
      "execution_count": 3257,
      "outputs": []
    },
    {
      "cell_type": "code",
      "source": [
        "cs['B2'] = \"Reporte Cierre Diario (RCD)\"\n",
        "cs.merge_cells(start_row=2, start_column=2, end_row=2, end_column=9)\n",
        "cs['E4'] = \"CONCEPTO\"\n",
        "cs['F4'] = \"CARGO\"\n",
        "cs['G4'] = \"ABONO\""
      ],
      "metadata": {
        "id": "3aQBihpz3NMm"
      },
      "execution_count": 3258,
      "outputs": []
    },
    {
      "cell_type": "code",
      "source": [
        "cs['E5'] = \"CAJA INICIAL EFECTIVO\"\n",
        "cs['E6'] = \"VENTA EFECTIVO SICAR\"\n",
        "cs['E7'] = \"SALIDAS EN EFECTIVO\"\n",
        "cs['E8'] = \"TOTALES\""
      ],
      "metadata": {
        "id": "TeWSwnVC4P7G"
      },
      "execution_count": 3259,
      "outputs": []
    },
    {
      "cell_type": "code",
      "source": [
        "cs['F5'] = inicio_caja\n",
        "cs['F6'] = efectivo\n",
        "cs['F7'] = 0\n",
        "cs['F8'] = totales_cargo"
      ],
      "metadata": {
        "id": "7EegLDKv4nfO"
      },
      "execution_count": 3260,
      "outputs": []
    },
    {
      "cell_type": "code",
      "source": [
        "cs['G5'] = 0\n",
        "cs['G6'] = 0\n",
        "cs['G7'] = salidas_abono\n",
        "cs['G8'] = totales_abono"
      ],
      "metadata": {
        "id": "ydbNaJ0L5Qr_"
      },
      "execution_count": 3261,
      "outputs": []
    },
    {
      "cell_type": "code",
      "source": [
        "cs['F11'] = \"CAJA DE CAMBIO\"\n",
        "cs['G11'] = caja_de_cambio"
      ],
      "metadata": {
        "id": "aUsCuZJ45Yue"
      },
      "execution_count": 3262,
      "outputs": []
    },
    {
      "cell_type": "code",
      "source": [
        "cs['F13'] = \"SALDO\"\n",
        "cs['F14'] = \"ARQUEO\"\n",
        "cs['F15'] = \"SALDO EFECTIVO\"\n",
        "cs['F16'] = \"APARTADOS FINALIZADOS\"\n",
        "cs['F17'] = \"SALDO EFECTIVO CON PENDIENTES\"\n",
        "cs['F18'] = \"ADELANTOS INICIADOS\"\n",
        "cs['F19'] = \"SALDO EFECTIVO CON ADELANTOS\"\n",
        "cs['F20'] = \"DEVOLUCIONES\"\n",
        "cs['F21'] = \"SALDO EFECTIVO FINAL\""
      ],
      "metadata": {
        "id": "rGHnjZ3g5uqW"
      },
      "execution_count": 3263,
      "outputs": []
    },
    {
      "cell_type": "code",
      "source": [
        "cs['G13'] = saldo\n",
        "cs['G14'] = total_caja\n",
        "cs['G15'] = saldo_efectivo\n",
        "cs['G16'] = apartados_finalizados\n",
        "cs['G17'] = saldo_efectivo_con_pendientes\n",
        "cs['G18'] = adelantos_iniciados\n",
        "cs['G19'] = saldo_efectivo_con_adelantos\n",
        "cs['G20'] = devoluciones\n",
        "cs['G21'] = saldo_efectivo_final"
      ],
      "metadata": {
        "id": "cfuy3k6860u_"
      },
      "execution_count": 3264,
      "outputs": []
    },
    {
      "cell_type": "code",
      "source": [
        "cs['F23'] = \"PAGO CON TARJETA (SICAR)\"\n",
        "cs['F24'] = \"ARQUEO TARJETA (TERMINALES)\"\n",
        "cs['F25'] = \"SALDO TARJETA\"\n",
        "cs['F26'] = \"ADELANTOS INICIADOS CON TARJETA\"\n",
        "cs['F27'] = \"SALDO FINAL TARJETA\"\n",
        "cs['F28'] = \"ADELANTOS FINALIZADOS CON TARJETA\"\n",
        "cs['F29'] = \"SALDO FINAL TARJETA\""
      ],
      "metadata": {
        "id": "14v-BjRE7xlD"
      },
      "execution_count": 3265,
      "outputs": []
    },
    {
      "cell_type": "code",
      "source": [
        "cs['G23'] = tarjeta\n",
        "cs['G24'] = total_terminales\n",
        "cs['G25'] = saldo_tarjeta\n",
        "cs['G26'] = adelantos_tarjeta\n",
        "cs['G27'] = final_tarjeta\n",
        "cs['G28'] = adelantos_tarjeta\n",
        "cs['G29'] = saldo_final_tarjeta"
      ],
      "metadata": {
        "id": "6-xXsZoE8Sce"
      },
      "execution_count": 3266,
      "outputs": []
    },
    {
      "cell_type": "code",
      "source": [
        "cs['F31'] = \"TRANSFERENCIAS CLIENTES\"\n",
        "cs['F32'] = \"TRANSFERENCIAS APARTADO\""
      ],
      "metadata": {
        "id": "k36mJpg8If89"
      },
      "execution_count": 3267,
      "outputs": []
    },
    {
      "cell_type": "code",
      "source": [
        "cs['G31'] = transferencia\n",
        "cs['G32'] = 0"
      ],
      "metadata": {
        "id": "m_T1tN3JIqTd"
      },
      "execution_count": 3268,
      "outputs": []
    },
    {
      "cell_type": "code",
      "source": [
        "cs['F34'] = \"CRÉDITO\"\n",
        "cs['G34'] = credito"
      ],
      "metadata": {
        "id": "UXIc43-f8s-N"
      },
      "execution_count": 3269,
      "outputs": []
    },
    {
      "cell_type": "code",
      "source": [
        "cs['F36'] = \"INGRESO TOTAL TIENDA\"\n",
        "cs['F37'] = \"CREDITO\"\n",
        "cs['F38'] = \"TARJETA\"\n",
        "cs['F39'] = \"EFECTIVO\"\n",
        "cs['F40'] = \"VALES FERRENACIONAL\"\n",
        "cs['F41'] = \"TRANSFERENCIA\"\n",
        "cs['F42'] = \"CHEQUE\"\n",
        "cs['F43'] = \"MARKETPLACES\"\n",
        "cs['F44'] = \"AMAZON\"\n",
        "cs['F45'] = \"LIVERPOOL\"\n",
        "cs['F46'] = \"COPPEL\"\n",
        "cs['F47'] = \"WALMART\"\n",
        "cs['F48'] = \"LINIO\"\n",
        "cs['F49'] = \"CLARO-SHOP\"\n",
        "cs['F50'] = \"SEARS\"\n",
        "cs['F51'] = \"FAMSA\"\n",
        "cs['F52'] = \"CYBER\"\n",
        "cs['F53'] = \"MARKETPLACES\"\n",
        "\n",
        "cs['F55'] = \"TOTAL GLOBAL\""
      ],
      "metadata": {
        "id": "BtfuKp9L892I"
      },
      "execution_count": 3270,
      "outputs": []
    },
    {
      "cell_type": "code",
      "source": [
        "cs['G36'] = ingreso_total_tienda\n",
        "cs['G37'] = credito\n",
        "cs['G38'] = tarjeta\n",
        "cs['G39'] = efectivo\n",
        "cs['G40'] = vales\n",
        "cs['G41'] = transferencia\n",
        "cs['G42'] = cheque\n",
        "\n",
        "cs['G44'] = 0\n",
        "cs['G45'] = 0\n",
        "cs['G46'] = 0\n",
        "cs['G47'] = 0\n",
        "cs['G48'] = 0\n",
        "cs['G49'] = 0\n",
        "cs['G50'] = 0\n",
        "cs['G51'] = 0\n",
        "cs['G52'] = 0\n",
        "cs['G53'] = total_marketplace\n",
        "\n",
        "cs['G55'] = total_global\n",
        "cs['H55'] = total\n",
        "cs['I55'] = total_final"
      ],
      "metadata": {
        "id": "DXM4SOZP-a2O"
      },
      "execution_count": 3271,
      "outputs": []
    },
    {
      "cell_type": "code",
      "source": [
        "archivo = \"RCD \" + str(datetime.datetime.strftime(datetime.datetime.now(), \"%d-%m-%Y\")) + \".xlsx\""
      ],
      "metadata": {
        "id": "dbhCrhuUbBAJ"
      },
      "execution_count": 3272,
      "outputs": []
    },
    {
      "cell_type": "markdown",
      "source": [
        "## Formato\n",
        "Se le empieza a dar formato al archivo Excel final"
      ],
      "metadata": {
        "id": "PWngjyQdXoeT"
      }
    },
    {
      "cell_type": "markdown",
      "source": [
        "### Texto\n",
        "Se crean dos plantillas de texto\n",
        "- font es una fuente Comfortaa de tamaño 12 y color negro\n",
        "- font_w es similar, pero de color blanco"
      ],
      "metadata": {
        "id": "Zb-AD9QpXu9_"
      }
    },
    {
      "cell_type": "code",
      "source": [
        "font = Font(name=\"Comfortaa\", size=12, bold=False, italic=False, color=\"000000\")\n",
        "font_w = Font(name=\"Comfortaa\", size=12, bold=False, italic=False, color=\"ffffff\")"
      ],
      "metadata": {
        "id": "nFACwz6RxJr1"
      },
      "execution_count": 3273,
      "outputs": []
    },
    {
      "cell_type": "code",
      "source": [
        "cs.column_dimensions['E'].width = 30\n",
        "cs.column_dimensions['F'].width = 55\n",
        "cs.column_dimensions['G'].width = 15\n",
        "cs.column_dimensions['H'].width = 15\n",
        "cs.column_dimensions['I'].width = 15\n",
        "cs.column_dimensions['J'].width = 15"
      ],
      "metadata": {
        "id": "LFuwtm7oxvEd"
      },
      "execution_count": 3274,
      "outputs": []
    },
    {
      "cell_type": "code",
      "source": [
        "for row in range(1, 56):\n",
        "  for col in range(1, 10):\n",
        "    cs.cell(row=row, column=col).font = font"
      ],
      "metadata": {
        "id": "_n7uSMq7ynd1"
      },
      "execution_count": 3275,
      "outputs": []
    },
    {
      "cell_type": "markdown",
      "source": [
        "### Color de fondo\n",
        "Se crean los colores de fondo\n",
        "- fill_y -> amarillo\n",
        "- fill_b -> negro\n",
        "- fill_gy -> gris\n",
        "- fill_dg -> verde oscuro\n",
        "- fill_lg -> verde claro\n",
        "- fill_r -> rojo"
      ],
      "metadata": {
        "id": "M4E_uPkZYTMP"
      }
    },
    {
      "cell_type": "code",
      "source": [
        "fill_y = PatternFill(fill_type=\"solid\", start_color=\"ffeb9c\", end_color=\"ffeb9c\")\n",
        "fill_b = PatternFill(fill_type=\"solid\", start_color=\"000000\", end_color=\"000000\")\n",
        "fill_gy = PatternFill(fill_type=\"solid\", start_color=\"e7e6e6\", end_color=\"e7e6e6\")\n",
        "fill_dg = PatternFill(fill_type=\"solid\", start_color=\"385623\", end_color=\"385623\")\n",
        "fill_lg = PatternFill(fill_type=\"solid\", start_color=\"c6efce\", end_color=\"c6efce\")\n",
        "fill_r = PatternFill(fill_type=\"solid\", start_color=\"ffc7ce\", end_color=\"ffc7ce\")"
      ],
      "metadata": {
        "id": "pyEAXEIvz8cE"
      },
      "execution_count": 3276,
      "outputs": []
    },
    {
      "cell_type": "code",
      "source": [
        "cs.cell(row=5, column=6).fill = fill_y\n",
        "cs.cell(row=14, column=7).fill = fill_y\n",
        "cs.cell(row=24, column=7).fill = fill_y\n",
        "\n",
        "cs.cell(2, 2).fill = fill_b\n",
        "cs.cell(2, 2).font = font_w\n",
        "cs.cell(4, 5).fill = fill_b\n",
        "cs.cell(4, 5).font = font_w\n",
        "cs.cell(4, 6).fill = fill_b\n",
        "cs.cell(4, 6).font = font_w\n",
        "cs.cell(4, 7).fill = fill_b\n",
        "cs.cell(4, 7).font = font_w\n",
        "\n",
        "cs.cell(8, 5).fill = fill_b\n",
        "cs.cell(8, 5).font = font_w\n",
        "cs.cell(8, 6).fill = fill_b\n",
        "cs.cell(8, 6).font = font_w\n",
        "cs.cell(8, 7).fill = fill_b\n",
        "cs.cell(8, 7).font = font_w"
      ],
      "metadata": {
        "id": "3KNPevWMzqVW"
      },
      "execution_count": 3277,
      "outputs": []
    },
    {
      "cell_type": "code",
      "source": [
        "cs.cell(53, 6).fill = fill_b\n",
        "cs.cell(53, 6).font = font_w\n",
        "cs.cell(53, 7).fill = fill_b\n",
        "cs.cell(53, 7).font = font_w"
      ],
      "metadata": {
        "id": "sHS_bBSzGMCf"
      },
      "execution_count": 3278,
      "outputs": []
    },
    {
      "cell_type": "markdown",
      "source": [
        "### Formato de número\n",
        "Crea el formato de moneda, con el signo $ ubicado a la izquierda, separando los miles con comas y los decimales con punto"
      ],
      "metadata": {
        "id": "wUvNC5HJYvXo"
      }
    },
    {
      "cell_type": "code",
      "source": [
        "num_form = '$#,##0.00'"
      ],
      "metadata": {
        "id": "pLA55SkRHzMY"
      },
      "execution_count": 3279,
      "outputs": []
    },
    {
      "cell_type": "code",
      "source": [
        "for row in range(1, 56):\n",
        "  for col in range(1, 10):\n",
        "    cs.cell(row, col).number_format = num_form\n",
        "    cs.cell(row, col).alignment = Alignment(horizontal=\"right\")\n",
        "\n",
        "cs.cell(2, 2).alignment = Alignment(horizontal=\"center\")"
      ],
      "metadata": {
        "id": "-yU5q4D1GOeO"
      },
      "execution_count": 3280,
      "outputs": []
    },
    {
      "cell_type": "code",
      "source": [
        "cs.cell(55, 6).fill = fill_b\n",
        "cs.cell(55, 6).font = font_w\n",
        "\n",
        "cs.cell(55, 7).fill = fill_lg\n",
        "cs.cell(55, 8).fill = fill_lg\n",
        "\n",
        "cs.cell(55, 9).fill = fill_r\n",
        "\n",
        "cs.cell(43, 6).fill = fill_b\n",
        "cs.cell(43, 6).font = font_w\n",
        "cs.cell(43, 7).fill = fill_b\n",
        "cs.cell(43, 7).font = font_w\n",
        "\n",
        "cs.cell(36, 6).fill = fill_dg\n",
        "cs.cell(36, 6).font = font_w\n",
        "cs.cell(36, 7).fill = fill_lg\n",
        "\n",
        "cs.cell(34, 6).fill = fill_dg\n",
        "cs.cell(34, 6).font = font_w\n",
        "cs.cell(34, 7).fill = fill_lg\n",
        "\n",
        "cs.cell(32, 6).fill = fill_dg\n",
        "cs.cell(32, 6).font = font_w\n",
        "cs.cell(32, 7).fill = fill_lg\n",
        "\n",
        "cs.cell(31, 6).fill = fill_dg\n",
        "cs.cell(31, 6).font = font_w\n",
        "cs.cell(31, 7).fill = fill_lg\n",
        "\n",
        "cs.cell(29, 6).fill = fill_dg\n",
        "cs.cell(29, 6).font = font_w\n",
        "cs.cell(29, 7).fill = fill_lg\n",
        "\n",
        "cs.cell(42, 6).fill = fill_dg\n",
        "cs.cell(42, 6).font = font_w\n",
        "cs.cell(42, 7).fill = fill_lg\n",
        "\n",
        "cs.cell(21, 6).fill = fill_dg\n",
        "cs.cell(21, 6).font = font_w\n",
        "cs.cell(21, 7).fill = fill_lg\n",
        "\n",
        "cs.cell(6, 6).fill = fill_lg"
      ],
      "metadata": {
        "id": "PwZv9vh8JJK_"
      },
      "execution_count": 3281,
      "outputs": []
    },
    {
      "cell_type": "code",
      "source": [
        "for row in range(13, 21):\n",
        "  for col in range(6, 8):\n",
        "    cs.cell(row, col).fill = fill_gy\n",
        "\n",
        "for row in range(23, 29):\n",
        "  for col in range(6, 8):\n",
        "    cs.cell(row, col).fill = fill_gy\n",
        "\n",
        "cs.cell(11, 6).fill = fill_gy\n",
        "cs.cell(11, 7).fill = fill_gy\n",
        "\n",
        "cs.cell(7, 7).fill = fill_r"
      ],
      "metadata": {
        "id": "-kneUxBENRmy"
      },
      "execution_count": 3282,
      "outputs": []
    },
    {
      "cell_type": "code",
      "source": [
        "for row in range(37, 42):\n",
        "  for col in range(6, 8):\n",
        "    cs.cell(row, col).fill = fill_gy\n",
        "\n",
        "for row in range(44, 53):\n",
        "  for col in range(6, 8):\n",
        "    cs.cell(row, col).fill = fill_gy"
      ],
      "metadata": {
        "id": "oDmhaUUcJ4RO"
      },
      "execution_count": 3283,
      "outputs": []
    },
    {
      "cell_type": "code",
      "source": [
        "cierre.save(archivo)"
      ],
      "metadata": {
        "id": "5-jUY2uM_Zid"
      },
      "execution_count": 3284,
      "outputs": []
    },
    {
      "cell_type": "markdown",
      "source": [
        "## Adición de la hoja de Arqueo efectivo"
      ],
      "metadata": {
        "id": "_j1h9Nc0Q6LR"
      }
    },
    {
      "cell_type": "code",
      "source": [
        "a_efectivo = load_workbook(archivo)\n",
        "a_efectivo.create_sheet(\"Arqueo de efectivo\")\n",
        "a_s = a_efectivo.worksheets[1]"
      ],
      "metadata": {
        "id": "57p4ASps5DEh"
      },
      "execution_count": 3285,
      "outputs": []
    },
    {
      "cell_type": "code",
      "source": [
        "a_s[\"C3\"] = \"ARQUEO DE EFECTIVO\"\n",
        "a_s[\"D15\"] = \"MONEDAS\"\n",
        "a_s[\"D16\"] = \"VALOR\"\n",
        "a_s[\"E16\"] = \"CANTIDAD\"\n",
        "a_s[\"F16\"] = \"TOTAL\""
      ],
      "metadata": {
        "id": "j-wiMe3S5fKp"
      },
      "execution_count": 3286,
      "outputs": []
    },
    {
      "cell_type": "code",
      "source": [
        "cs.merge_cells(start_row=15, start_column=4, end_row=15, end_column=6)\n",
        "cs.merge_cells(start_row=15, start_column=8, end_row=15, end_column=10)"
      ],
      "metadata": {
        "id": "o4i4LcxtXZEQ"
      },
      "execution_count": 3287,
      "outputs": []
    },
    {
      "cell_type": "code",
      "source": [
        "a_s[\"D17\"] = \"0.20\"\n",
        "a_s[\"D18\"] = \"0.50\"\n",
        "a_s[\"D19\"] = \"1.00\"\n",
        "a_s[\"D20\"] = \"2.00\"\n",
        "a_s[\"D21\"] = \"5.00\"\n",
        "a_s[\"D22\"] = \"10.00\"\n",
        "a_s[\"D23\"] = \"Total Monedas\""
      ],
      "metadata": {
        "id": "smG5AL7Q6aOZ"
      },
      "execution_count": 3288,
      "outputs": []
    },
    {
      "cell_type": "code",
      "source": [
        "a_s[\"E17\"] = t_monedas_20\n",
        "a_s[\"E18\"] = t_monedas_50\n",
        "a_s[\"E19\"] = t_monedas1\n",
        "a_s[\"E20\"] = t_monedas2\n",
        "a_s[\"E21\"] = t_monedas5\n",
        "a_s[\"E22\"] = t_monedas10"
      ],
      "metadata": {
        "id": "1bb2ZUS17CO_"
      },
      "execution_count": 3289,
      "outputs": []
    },
    {
      "cell_type": "code",
      "source": [
        "a_s[\"F17\"] = t_m_20\n",
        "a_s[\"F18\"] = t_m_50\n",
        "a_s[\"F19\"] = t_m1\n",
        "a_s[\"F20\"] = t_m2\n",
        "a_s[\"F21\"] = t_m5\n",
        "a_s[\"F22\"] = t_m10\n",
        "a_s[\"F23\"] = total_monedas"
      ],
      "metadata": {
        "id": "h-5lsgUm7IGZ"
      },
      "execution_count": 3290,
      "outputs": []
    },
    {
      "cell_type": "code",
      "source": [
        "a_s[\"H15\"] = \"BILLETES\"\n",
        "a_s[\"H16\"] = \"VALOR\"\n",
        "a_s[\"I16\"] = \"CANTIDAD\"\n",
        "a_s[\"J16\"] = \"TOTAL\""
      ],
      "metadata": {
        "id": "pB-bmkh78UY5"
      },
      "execution_count": 3291,
      "outputs": []
    },
    {
      "cell_type": "code",
      "source": [
        "a_s[\"H17\"] = \"20.00\"\n",
        "a_s[\"H18\"] = \"50.00\"\n",
        "a_s[\"H19\"] = \"100.00\"\n",
        "a_s[\"H20\"] = \"200.00\"\n",
        "a_s[\"H21\"] = \"500.00\"\n",
        "a_s[\"H22\"] = \"1000.00\"\n",
        "a_s[\"H23\"] = \"Total Billetes\""
      ],
      "metadata": {
        "id": "78l3FhFF8cNL"
      },
      "execution_count": 3292,
      "outputs": []
    },
    {
      "cell_type": "code",
      "source": [
        "a_s[\"I17\"] = t_billetes20\n",
        "a_s[\"I18\"] = t_billetes50\n",
        "a_s[\"I19\"] = t_billetes100\n",
        "a_s[\"I20\"] = t_billetes200\n",
        "a_s[\"I21\"] = t_billetes500\n",
        "a_s[\"I22\"] = t_billetes1000"
      ],
      "metadata": {
        "id": "0Aj9qL3L8ocJ"
      },
      "execution_count": 3293,
      "outputs": []
    },
    {
      "cell_type": "code",
      "source": [
        "a_s[\"J17\"] = t_b20\n",
        "a_s[\"J18\"] = t_b50\n",
        "a_s[\"J19\"] = t_b100\n",
        "a_s[\"J20\"] = t_b200\n",
        "a_s[\"J21\"] = t_b500\n",
        "a_s[\"J22\"] = t_b1000\n",
        "a_s[\"J23\"] = total_billetes"
      ],
      "metadata": {
        "id": "QAw5lYWH88RR"
      },
      "execution_count": 3294,
      "outputs": []
    },
    {
      "cell_type": "code",
      "source": [
        "a_s[\"L12\"] = \"TOTAL EN CAJA\"\n",
        "a_s[\"L13\"] = total_caja"
      ],
      "metadata": {
        "id": "ZUZ-e6kp9GaR"
      },
      "execution_count": 3295,
      "outputs": []
    },
    {
      "cell_type": "markdown",
      "source": [
        "### Formato"
      ],
      "metadata": {
        "id": "eEJK20-vZF7p"
      }
    },
    {
      "cell_type": "code",
      "source": [
        "a_s.merge_cells(start_row=15, start_column=4, end_row=15, end_column=6)"
      ],
      "metadata": {
        "id": "nHXVUAzJB__-"
      },
      "execution_count": 3296,
      "outputs": []
    },
    {
      "cell_type": "code",
      "source": [
        "a_s.merge_cells(start_row=15, start_column=8, end_row=15, end_column=10)"
      ],
      "metadata": {
        "id": "mssiRVt0CK_n"
      },
      "execution_count": 3297,
      "outputs": []
    },
    {
      "cell_type": "code",
      "source": [
        "a_s.merge_cells(start_row=23, start_column=4, end_row=23, end_column=5)\n",
        "a_s.merge_cells(start_row=23, start_column=8, end_row=23, end_column=9)\n",
        "a_s.merge_cells(start_row=12, start_column=12, end_row=12, end_column=14)\n",
        "a_s.merge_cells(start_row=3, start_column=3, end_row=3, end_column=13)"
      ],
      "metadata": {
        "id": "glEdsvrZCpUm"
      },
      "execution_count": 3298,
      "outputs": []
    },
    {
      "cell_type": "code",
      "source": [
        "for row in range(1, 56):\n",
        "  for col in range(1, 15):\n",
        "    a_s.cell(row=row, column=col).font = font\n",
        "\n",
        "for row in range(1, 24):\n",
        "  for col in range(1, 11):\n",
        "    a_s.cell(row=row, column=col).alignment = Alignment(horizontal=\"right\")\n",
        "\n",
        "a_s.cell(3, 3).alignment = Alignment(horizontal=\"center\")\n",
        "a_s.cell(3, 3).fill = fill_b\n",
        "a_s.cell(3, 3).font = font_w\n",
        "\n",
        "a_s.cell(15, 4).alignment = Alignment(horizontal=\"center\")\n",
        "a_s.cell(15, 4).fill = fill_b\n",
        "a_s.cell(15, 4).font = font_w\n",
        "\n",
        "a_s.cell(15, 8).alignment = Alignment(horizontal=\"center\")\n",
        "a_s.cell(15, 8).fill = fill_b\n",
        "a_s.cell(15, 8).font = font_w\n",
        "\n",
        "for row in range(17, 23):\n",
        "  a_s.cell(row, 4).number_format = num_form\n",
        "  a_s.cell(row, 8).number_format = num_form\n",
        "  a_s.cell(row, 6).number_format = num_form\n",
        "  a_s.cell(row, 10).number_format = num_form\n",
        "\n",
        "a_s.cell(13, 12).number_format = num_form\n",
        "a_s.cell(23, 6).number_format = num_form\n",
        "a_s.cell(23, 10).number_format = num_form"
      ],
      "metadata": {
        "id": "f1B-hYVqBhl5"
      },
      "execution_count": 3299,
      "outputs": []
    },
    {
      "cell_type": "code",
      "source": [
        "for row in range(16, 23):\n",
        "  for col in range(4, 7):\n",
        "    a_s.cell(row, col).fill = fill_gy\n",
        "\n",
        "for row in range(16, 23):\n",
        "  for col in range(8, 11):\n",
        "    a_s.cell(row, col).fill = fill_gy\n",
        "\n",
        "a_s.cell(23, 4).fill = fill_dg\n",
        "a_s.cell(23, 4).font = font_w\n",
        "a_s.cell(23, 8).fill = fill_dg\n",
        "a_s.cell(23, 8).font = font_w\n",
        "\n",
        "a_s.cell(23, 6).fill = fill_lg\n",
        "a_s.cell(23, 10).fill = fill_lg\n",
        "\n",
        "a_s.cell(12, 12).fill = fill_b\n",
        "a_s.cell(12, 12).font = font_w"
      ],
      "metadata": {
        "id": "vHj87GHlS9Pv"
      },
      "execution_count": 3300,
      "outputs": []
    },
    {
      "cell_type": "code",
      "source": [
        "a_s.column_dimensions['D'].width = 20\n",
        "a_s.column_dimensions['H'].width = 20\n",
        "\n",
        "a_s.column_dimensions['E'].width = 25\n",
        "a_s.column_dimensions['I'].width = 25\n",
        "\n",
        "a_s.column_dimensions['F'].width = 20\n",
        "a_s.column_dimensions['J'].width = 20\n",
        "\n",
        "a_s.column_dimensions['L'].width = 20"
      ],
      "metadata": {
        "id": "4pcJvcaZBsKf"
      },
      "execution_count": 3301,
      "outputs": []
    },
    {
      "cell_type": "code",
      "source": [
        "a_efectivo.save(archivo)"
      ],
      "metadata": {
        "id": "wlb8NS-RVjnP"
      },
      "execution_count": 3302,
      "outputs": []
    },
    {
      "cell_type": "markdown",
      "source": [
        "## Apartados\n",
        "El tema de los apartados todavía no está resuelto. Esto se quedará como un placeholder. Mover cuando se tenga claro ese tema.\n"
      ],
      "metadata": {
        "id": "ToP6jBn8fDhA"
      }
    },
    {
      "cell_type": "code",
      "source": [
        "'''\n",
        "Trae excel de apartados iniciados (APA INI)\n",
        "apa_ini = load_workbook('APA INI.xlsx', data_only=True)\n",
        "\n",
        "Trae excel de apartados finalizados (APA FIN)\n",
        "apa_fin = load_workbook('APA FIN.xlsx', data_only=True)\n",
        "\n",
        "Traer excel de devoluciones y cancelaciones (?) (DeCa)\n",
        "de_ca = load_workbook('DeCa.xlsx', data_only=True)\n",
        "\n",
        "En la sección del reporte de cierre:\n",
        "apartados_finalizados = apa_fin[\"M13\"]\n",
        "adelantos_iniciados = apa_ini[\"L7\"]\n",
        "devoluciones = de_ca[\"M13\"]\n",
        "'''"
      ],
      "metadata": {
        "id": "atkZvVetfLKo",
        "colab": {
          "base_uri": "https://localhost:8080/",
          "height": 88
        },
        "outputId": "d0293392-253b-480b-eaa6-b85cc4c6b2ea"
      },
      "execution_count": 3303,
      "outputs": [
        {
          "output_type": "execute_result",
          "data": {
            "text/plain": [
              "'\\nTrae excel de apartados iniciados (APA INI)\\napa_ini = load_workbook(\\'APA INI.xlsx\\', data_only=True)\\n\\nTrae excel de apartados finalizados (APA FIN)\\napa_fin = load_workbook(\\'APA FIN.xlsx\\', data_only=True)\\n\\nTraer excel de devoluciones y cancelaciones (?) (DeCa)\\nde_ca = load_workbook(\\'DeCa.xlsx\\', data_only=True)\\n\\nEn la sección del reporte de cierre:\\napartados_finalizados = apa_fin[\"M13\"]\\nadelantos_iniciados = apa_ini[\"L7\"]\\ndevoluciones = de_ca[\"M13\"]\\n'"
            ],
            "application/vnd.google.colaboratory.intrinsic+json": {
              "type": "string"
            }
          },
          "metadata": {},
          "execution_count": 3303
        }
      ]
    },
    {
      "cell_type": "markdown",
      "source": [
        "## Arqueo de terminales"
      ],
      "metadata": {
        "id": "hGyT2_UNcedA"
      }
    },
    {
      "cell_type": "code",
      "source": [
        "a_term = load_workbook(archivo)\n",
        "a_term.create_sheet(\"Arqueo de terminales\")\n",
        "a_t = a_term.worksheets[2]"
      ],
      "metadata": {
        "id": "CUZEh_0acU1g"
      },
      "execution_count": 3304,
      "outputs": []
    },
    {
      "cell_type": "code",
      "source": [
        "a_t['C3'] = \"ARQUEO DE CAJA DIARIO FERE PRO\"\n",
        "a_t.merge_cells(start_row=3, start_column=3, end_row=3, end_column=12)"
      ],
      "metadata": {
        "id": "ZiB8784xdDlv"
      },
      "execution_count": 3305,
      "outputs": []
    },
    {
      "cell_type": "code",
      "source": [
        "a_t['C5'] = \"FECHA:\"\n",
        "a_t['C6'] = \"HORA INICO:\"\n",
        "a_t['C7'] = \"HORA TÉRMINO:\"\n",
        "a_t['I5'] = \"ARQUEO N°:\"\n",
        "\n",
        "a_t['D10'] = \"SALDO INICIAL:\"\n",
        "\n",
        "a_t['D13'] = \"TARJETA\"\n",
        "a_t['E13'] = \"GETNET SAN\"\n",
        "a_t['F13'] = \"BBVA\"\n",
        "a_t['G13'] = \"EVO\"\n",
        "a_t['H13'] = \"AMEX\"\n",
        "a_t['K13'] = \"TOTAL\"\n",
        "a_t['L13'] = total_terminales\n",
        "\n",
        "a_t['D14'] = \"TOTAL POR TERMINAL\"\n",
        "a_t['E14'] = getnet\n",
        "a_t['F14'] = a_express\n",
        "a_t['G14'] = evo\n",
        "a_t['H14'] = a_express"
      ],
      "metadata": {
        "id": "ooV94dKcdDgY"
      },
      "execution_count": 3306,
      "outputs": []
    },
    {
      "cell_type": "markdown",
      "source": [
        "### Formato"
      ],
      "metadata": {
        "id": "dty7rXnihqfo"
      }
    },
    {
      "cell_type": "code",
      "source": [
        "for row in range(1, 25):\n",
        "  for col in range(1, 13):\n",
        "    a_t.cell(row=row, column=col).font = font"
      ],
      "metadata": {
        "id": "YUJC0fpIhkxr"
      },
      "execution_count": 3307,
      "outputs": []
    },
    {
      "cell_type": "code",
      "source": [
        "a_t.column_dimensions['D'].width = 30\n",
        "a_t.column_dimensions['E'].width = 25\n",
        "a_t.column_dimensions['F'].width = 25\n",
        "a_t.column_dimensions['G'].width = 25\n",
        "a_t.column_dimensions['H'].width = 25\n",
        "a_t.column_dimensions['L'].width = 25"
      ],
      "metadata": {
        "id": "D1e6u1sBh89w"
      },
      "execution_count": 3308,
      "outputs": []
    },
    {
      "cell_type": "code",
      "source": [
        "fill_lb = PatternFill(fill_type=\"solid\", start_color=\"00b0f0\", end_color=\"00b0f0\")\n",
        "fill_db = PatternFill(fill_type=\"solid\", start_color=\"0040f0\", end_color=\"0040f0\")\n",
        "fill_dr = PatternFill(fill_type=\"solid\", start_color=\"c00000\", end_color=\"c00000\")"
      ],
      "metadata": {
        "id": "PHbSga4OkQKB"
      },
      "execution_count": 3309,
      "outputs": []
    },
    {
      "cell_type": "code",
      "source": [
        "a_t.cell(3, 3).alignment = Alignment(horizontal=\"center\")\n",
        "a_t.cell(3, 3).fill = fill_b\n",
        "a_t.cell(3, 3).font = font_w"
      ],
      "metadata": {
        "id": "X7SbPzuvjvX6"
      },
      "execution_count": 3310,
      "outputs": []
    },
    {
      "cell_type": "code",
      "source": [
        "a_t.cell(13, 5).fill = fill_dr\n",
        "a_t.cell(13, 5).font = font_w\n",
        "a_t.cell(13, 6).fill = fill_db\n",
        "a_t.cell(13, 6).font = font_w\n",
        "a_t.cell(13, 7).fill = fill_lb\n",
        "a_t.cell(13, 8).fill = fill_b\n",
        "a_t.cell(13, 8).font = font_w"
      ],
      "metadata": {
        "id": "CjbULu4kj7PJ"
      },
      "execution_count": 3311,
      "outputs": []
    },
    {
      "cell_type": "code",
      "source": [
        "a_t.cell(14, 5).fill = fill_dr\n",
        "a_t.cell(14, 5).font = font_w\n",
        "a_t.cell(14, 6).fill = fill_db\n",
        "a_t.cell(14, 6).font = font_w\n",
        "a_t.cell(14, 7).fill = fill_lb\n",
        "a_t.cell(14, 8).fill = fill_b\n",
        "a_t.cell(14, 8).font = font_w"
      ],
      "metadata": {
        "id": "mz28Zi3yl6A5"
      },
      "execution_count": 3312,
      "outputs": []
    },
    {
      "cell_type": "code",
      "source": [
        "for row in range(14, 24):\n",
        "  for col in range(5, 9):\n",
        "    a_t.cell(row, col).number_format = num_form\n",
        "\n",
        "a_t.cell(13, 12).number_format = num_form"
      ],
      "metadata": {
        "id": "wULp8Hh2l9yx"
      },
      "execution_count": 3313,
      "outputs": []
    },
    {
      "cell_type": "code",
      "source": [
        "for row in range(8, 24):\n",
        "  for col in range(4, 13):\n",
        "    a_t.cell(row, col).alignment = Alignment(horizontal=\"right\")"
      ],
      "metadata": {
        "id": "fJiB4pmpmRgq"
      },
      "execution_count": 3314,
      "outputs": []
    },
    {
      "cell_type": "code",
      "source": [
        "a_term.save(archivo)"
      ],
      "metadata": {
        "id": "LN2p8krFc4xw"
      },
      "execution_count": 3315,
      "outputs": []
    }
  ]
}