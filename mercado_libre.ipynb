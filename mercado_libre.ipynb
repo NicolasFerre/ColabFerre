{
  "nbformat": 4,
  "nbformat_minor": 0,
  "metadata": {
    "colab": {
      "provenance": [],
      "authorship_tag": "ABX9TyOq3jjZvjRF8xxxTda2Tkdb",
      "include_colab_link": true
    },
    "kernelspec": {
      "name": "python3",
      "display_name": "Python 3"
    },
    "language_info": {
      "name": "python"
    }
  },
  "cells": [
    {
      "cell_type": "markdown",
      "metadata": {
        "id": "view-in-github",
        "colab_type": "text"
      },
      "source": [
        "<a href=\"https://colab.research.google.com/github/NicolasFerre/ColabFerre/blob/dev/mercado_libre.ipynb\" target=\"_parent\"><img src=\"https://colab.research.google.com/assets/colab-badge.svg\" alt=\"Open In Colab\"/></a>"
      ]
    },
    {
      "cell_type": "markdown",
      "source": [
        "# Librerías necesarias"
      ],
      "metadata": {
        "id": "sqWqDGlRHDXr"
      }
    },
    {
      "cell_type": "code",
      "execution_count": 176,
      "metadata": {
        "id": "s9mg2NL4G4qg"
      },
      "outputs": [],
      "source": [
        "import pandas as pd\n",
        "import numpy as np\n",
        "import openpyxl\n",
        "from openpyxl import load_workbook\n",
        "from openpyxl.styles import PatternFill, Border, Side, Alignment, Protection, Font\n",
        "from openpyxl.utils import get_column_letter, column_index_from_string"
      ]
    },
    {
      "cell_type": "code",
      "source": [
        "archivo = 'Resultados ML.xlsx'"
      ],
      "metadata": {
        "id": "gqVG_mVtG8rT"
      },
      "execution_count": 177,
      "outputs": []
    },
    {
      "cell_type": "markdown",
      "source": [
        "# Archivos necesarios"
      ],
      "metadata": {
        "id": "XTGa-n67HF3K"
      }
    },
    {
      "cell_type": "code",
      "source": [
        "dfm = pd.read_excel('MercadoLibre.xlsx', sheet_name=0, header=5)\n",
        "renglonaje = pd.read_excel('Renglonaje.xlsx', sheet_name=0, header=0)\n",
        "envios = pd.read_excel('Envios.xlsx', sheet_name=0, header=3)"
      ],
      "metadata": {
        "id": "HR2Bf16RHAAy",
        "colab": {
          "base_uri": "https://localhost:8080/"
        },
        "outputId": "34cd835c-b561-4284-e73b-53d5a7ebf09b"
      },
      "execution_count": 178,
      "outputs": [
        {
          "output_type": "stream",
          "name": "stderr",
          "text": [
            "/usr/local/lib/python3.11/dist-packages/openpyxl/styles/stylesheet.py:237: UserWarning: Workbook contains no default style, apply openpyxl's default\n",
            "  warn(\"Workbook contains no default style, apply openpyxl's default\")\n"
          ]
        }
      ]
    },
    {
      "cell_type": "markdown",
      "source": [
        "## Extracción de precios del renglonaje"
      ],
      "metadata": {
        "id": "gH4pGKo2KWsp"
      }
    },
    {
      "cell_type": "code",
      "source": [
        "renglonaje.rename(columns={'Total que paga Edy a Truper contando reserva en garantía CON IVA': 'Costo a Truper'}, inplace=True)\n",
        "precios_sku = renglonaje[['clave', 'Costo a Truper']]\n",
        "precios_sku = precios_sku.loc[precios_sku['Costo a Truper'] != 'No disponible']\n",
        "precios_sku['Costo a Truper'] = precios_sku['Costo a Truper'].astype(float)"
      ],
      "metadata": {
        "id": "z1wbwzv0HCCa"
      },
      "execution_count": 179,
      "outputs": []
    },
    {
      "cell_type": "code",
      "source": [
        "precios_sku.rename(columns={'clave': 'SKU'}, inplace=True)"
      ],
      "metadata": {
        "id": "rWqulZ-DUEQt"
      },
      "execution_count": 180,
      "outputs": []
    },
    {
      "cell_type": "code",
      "source": [
        "precios_codigo = renglonaje[['código', 'Costo a Truper']]\n",
        "precios_codigo = precios_codigo.loc[precios_codigo['Costo a Truper'] != 'No disponible']\n",
        "precios_codigo['Costo a Truper'] = precios_codigo['Costo a Truper'].astype(float)\n",
        "precios_codigo.rename(columns={'código': 'SKU'}, inplace=True)\n",
        "precios_codigo['SKU'] = precios_codigo['SKU'].astype(str)"
      ],
      "metadata": {
        "id": "pAbzkYDKWvz2"
      },
      "execution_count": 181,
      "outputs": []
    },
    {
      "cell_type": "markdown",
      "source": [
        "## Extracción de costos de envío"
      ],
      "metadata": {
        "id": "VUbUcg9sKbH5"
      }
    },
    {
      "cell_type": "code",
      "source": [
        "orden = envios['NUMERO ORDEN']\n",
        "orden = orden.str.split('-')"
      ],
      "metadata": {
        "id": "-C98x1vpKdrS"
      },
      "execution_count": 182,
      "outputs": []
    },
    {
      "cell_type": "code",
      "source": [
        "orden = orden.str[1]"
      ],
      "metadata": {
        "id": "7mIo48V1OO1Y"
      },
      "execution_count": 183,
      "outputs": []
    },
    {
      "cell_type": "code",
      "source": [
        "envios['NUMERO ORDEN'] = orden"
      ],
      "metadata": {
        "id": "3C3ALQJMPZj4"
      },
      "execution_count": 184,
      "outputs": []
    },
    {
      "cell_type": "code",
      "source": [
        "envios['NUMERO ORDEN'] = envios['NUMERO ORDEN'].replace('', np.nan)\n",
        "envios = envios.dropna(subset=['NUMERO ORDEN'])"
      ],
      "metadata": {
        "id": "t0nWRXo-OmH4"
      },
      "execution_count": 185,
      "outputs": []
    },
    {
      "cell_type": "code",
      "source": [
        "publicacion = envios[['NUMERO ORDEN', 'VALOR GUIA ($)', 'ZONA EXTENDIDA ($)', 'EXTRAGRANDE ($)', 'SOBREPESOS ($)', 'TOTAL GUIA ($)']]"
      ],
      "metadata": {
        "id": "NHyoYhgyR7Zf"
      },
      "execution_count": 186,
      "outputs": []
    },
    {
      "cell_type": "code",
      "source": [
        "publicacion.rename(columns={'NUMERO ORDEN': '# de venta'}, inplace=True)"
      ],
      "metadata": {
        "colab": {
          "base_uri": "https://localhost:8080/"
        },
        "id": "jC5lvSMuTEXf",
        "outputId": "e943b07a-3467-41a1-9f2e-d3288ac7dbe8"
      },
      "execution_count": 187,
      "outputs": [
        {
          "output_type": "stream",
          "name": "stderr",
          "text": [
            "/tmp/ipython-input-187-1123234388.py:1: SettingWithCopyWarning: \n",
            "A value is trying to be set on a copy of a slice from a DataFrame\n",
            "\n",
            "See the caveats in the documentation: https://pandas.pydata.org/pandas-docs/stable/user_guide/indexing.html#returning-a-view-versus-a-copy\n",
            "  publicacion.rename(columns={'NUMERO ORDEN': '# de venta'}, inplace=True)\n"
          ]
        }
      ]
    },
    {
      "cell_type": "markdown",
      "source": [
        "# Costo que Edgar paga a Truper"
      ],
      "metadata": {
        "id": "Kk0I4rq6ZZwe"
      }
    },
    {
      "cell_type": "code",
      "source": [
        "df = dfm.iloc[:,:15]\n",
        "df2 = dfm.iloc[:,15:]\n",
        "df2['# de venta'] = dfm['# de venta'].astype(str)"
      ],
      "metadata": {
        "id": "RsihCMrWQGbQ"
      },
      "execution_count": 188,
      "outputs": []
    },
    {
      "cell_type": "code",
      "source": [
        "df[['Ingresos por envío (MXN)', 'Costos de envío (MXN)']] = df[['Ingresos por envío (MXN)', 'Costos de envío (MXN)']].fillna(0)"
      ],
      "metadata": {
        "id": "BjjGt64RQuGY"
      },
      "execution_count": 189,
      "outputs": []
    },
    {
      "cell_type": "code",
      "source": [
        "df = df.merge(precios_sku, on='SKU', how='left')\n",
        "df = df.merge(precios_codigo, on='SKU', how='left')"
      ],
      "metadata": {
        "id": "g9kWKUoBXSMu"
      },
      "execution_count": 190,
      "outputs": []
    },
    {
      "cell_type": "code",
      "source": [
        "df[['Costo a Truper_x', 'Costo a Truper_y']] = df[['Costo a Truper_x', 'Costo a Truper_y']].fillna(0)"
      ],
      "metadata": {
        "id": "hld6LywZYetH"
      },
      "execution_count": 191,
      "outputs": []
    },
    {
      "cell_type": "code",
      "source": [
        "df['Costo a Truper'] = df['Costo a Truper_x'] + df['Costo a Truper_y']\n",
        "df = df.drop(['Costo a Truper_x', 'Costo a Truper_y'], axis=1)"
      ],
      "metadata": {
        "id": "TSrhXFK1YwM2"
      },
      "execution_count": 192,
      "outputs": []
    },
    {
      "cell_type": "code",
      "source": [
        "df['Costo a Truper'] = df['Costo a Truper'] * df['Unidades']"
      ],
      "metadata": {
        "id": "IQULNBAmY_WW"
      },
      "execution_count": 193,
      "outputs": []
    },
    {
      "cell_type": "markdown",
      "source": [
        "# Costo de la guía Skydropx"
      ],
      "metadata": {
        "id": "Yxam4WR0Zd6l"
      }
    },
    {
      "cell_type": "code",
      "source": [
        "df['# de venta'] = df['# de venta'].astype(str)"
      ],
      "metadata": {
        "id": "3a8mYStubm-N"
      },
      "execution_count": 194,
      "outputs": []
    },
    {
      "cell_type": "code",
      "source": [
        "df = df.merge(publicacion, on='# de venta', how='left')"
      ],
      "metadata": {
        "id": "mMJUxPB4bT_v"
      },
      "execution_count": 195,
      "outputs": []
    },
    {
      "cell_type": "markdown",
      "source": [
        "# Calculo de rentabilidad"
      ],
      "metadata": {
        "id": "TpWLd4yRcipV"
      }
    },
    {
      "cell_type": "code",
      "source": [
        "df.iloc[:,15:] = df.iloc[:,15:].fillna(0)"
      ],
      "metadata": {
        "id": "Ta0fWMSwchol"
      },
      "execution_count": 196,
      "outputs": []
    },
    {
      "cell_type": "code",
      "source": [
        "df['TOTAL GUIA ($)']"
      ],
      "metadata": {
        "colab": {
          "base_uri": "https://localhost:8080/",
          "height": 458
        },
        "id": "hJjTp-YJ1lGE",
        "outputId": "bd2fb3b9-807f-4c52-8d85-50af34171191"
      },
      "execution_count": 197,
      "outputs": [
        {
          "output_type": "execute_result",
          "data": {
            "text/plain": [
              "0       0\n",
              "1       0\n",
              "2       0\n",
              "3       0\n",
              "4       0\n",
              "       ..\n",
              "1760    0\n",
              "1761    0\n",
              "1762    0\n",
              "1763    0\n",
              "1764    0\n",
              "Name: TOTAL GUIA ($), Length: 1765, dtype: object"
            ],
            "text/html": [
              "<div>\n",
              "<style scoped>\n",
              "    .dataframe tbody tr th:only-of-type {\n",
              "        vertical-align: middle;\n",
              "    }\n",
              "\n",
              "    .dataframe tbody tr th {\n",
              "        vertical-align: top;\n",
              "    }\n",
              "\n",
              "    .dataframe thead th {\n",
              "        text-align: right;\n",
              "    }\n",
              "</style>\n",
              "<table border=\"1\" class=\"dataframe\">\n",
              "  <thead>\n",
              "    <tr style=\"text-align: right;\">\n",
              "      <th></th>\n",
              "      <th>TOTAL GUIA ($)</th>\n",
              "    </tr>\n",
              "  </thead>\n",
              "  <tbody>\n",
              "    <tr>\n",
              "      <th>0</th>\n",
              "      <td>0</td>\n",
              "    </tr>\n",
              "    <tr>\n",
              "      <th>1</th>\n",
              "      <td>0</td>\n",
              "    </tr>\n",
              "    <tr>\n",
              "      <th>2</th>\n",
              "      <td>0</td>\n",
              "    </tr>\n",
              "    <tr>\n",
              "      <th>3</th>\n",
              "      <td>0</td>\n",
              "    </tr>\n",
              "    <tr>\n",
              "      <th>4</th>\n",
              "      <td>0</td>\n",
              "    </tr>\n",
              "    <tr>\n",
              "      <th>...</th>\n",
              "      <td>...</td>\n",
              "    </tr>\n",
              "    <tr>\n",
              "      <th>1760</th>\n",
              "      <td>0</td>\n",
              "    </tr>\n",
              "    <tr>\n",
              "      <th>1761</th>\n",
              "      <td>0</td>\n",
              "    </tr>\n",
              "    <tr>\n",
              "      <th>1762</th>\n",
              "      <td>0</td>\n",
              "    </tr>\n",
              "    <tr>\n",
              "      <th>1763</th>\n",
              "      <td>0</td>\n",
              "    </tr>\n",
              "    <tr>\n",
              "      <th>1764</th>\n",
              "      <td>0</td>\n",
              "    </tr>\n",
              "  </tbody>\n",
              "</table>\n",
              "<p>1765 rows × 1 columns</p>\n",
              "</div><br><label><b>dtype:</b> object</label>"
            ]
          },
          "metadata": {},
          "execution_count": 197
        }
      ]
    },
    {
      "cell_type": "code",
      "source": [
        "df['TOTAL GUIA ($)'] = df['TOTAL GUIA ($)'].replace('-', 0)\n",
        "df['TOTAL GUIA ($)'] = df['TOTAL GUIA ($)'].astype(float)"
      ],
      "metadata": {
        "colab": {
          "base_uri": "https://localhost:8080/"
        },
        "id": "Z63QS8c01WBD",
        "outputId": "6d3beaaa-c609-4e5e-9d0f-b54e1812d1aa"
      },
      "execution_count": 198,
      "outputs": [
        {
          "output_type": "stream",
          "name": "stderr",
          "text": [
            "/tmp/ipython-input-198-2228787780.py:1: FutureWarning: Downcasting behavior in `replace` is deprecated and will be removed in a future version. To retain the old behavior, explicitly call `result.infer_objects(copy=False)`. To opt-in to the future behavior, set `pd.set_option('future.no_silent_downcasting', True)`\n",
            "  df['TOTAL GUIA ($)'] = df['TOTAL GUIA ($)'].replace('-', 0)\n"
          ]
        }
      ]
    },
    {
      "cell_type": "code",
      "source": [
        "df['Rentabilidad'] = df['Total (MXN)'] - df['Costo a Truper'] - df['TOTAL GUIA ($)']"
      ],
      "metadata": {
        "id": "tDQHeVl-dYOW"
      },
      "execution_count": 199,
      "outputs": []
    },
    {
      "cell_type": "code",
      "source": [
        "df.loc[df['Costo a Truper'] == 0, 'Rentabilidad'] = 0"
      ],
      "metadata": {
        "id": "AXYxCGnUfXBH"
      },
      "execution_count": 200,
      "outputs": []
    },
    {
      "cell_type": "code",
      "source": [
        "df.loc[df['Anulaciones y reembolsos (MXN)'] < 0, 'Rentabilidad'] = 0"
      ],
      "metadata": {
        "id": "iHU8ZgLPmt45"
      },
      "execution_count": 201,
      "outputs": []
    },
    {
      "cell_type": "code",
      "source": [
        "df['¿Rentable?'] = ''\n",
        "df.loc[df['Rentabilidad'] > 0, '¿Rentable?'] = 'Sí'\n",
        "df.loc[df['Rentabilidad'] <= 0, '¿Rentable?'] = 'No'"
      ],
      "metadata": {
        "id": "g5PL7Avedty2"
      },
      "execution_count": 202,
      "outputs": []
    },
    {
      "cell_type": "code",
      "source": [
        "df = df.merge(df2, on='# de venta', how='left')"
      ],
      "metadata": {
        "id": "WOrtqn4chpS0"
      },
      "execution_count": 203,
      "outputs": []
    },
    {
      "cell_type": "markdown",
      "source": [
        "# Limpieza de datos"
      ],
      "metadata": {
        "id": "M56Yozuhl4i7"
      }
    },
    {
      "cell_type": "code",
      "source": [
        "df = df.drop_duplicates(subset=['# de venta'])"
      ],
      "metadata": {
        "id": "_nc2zEnzl3Pr"
      },
      "execution_count": 204,
      "outputs": []
    },
    {
      "cell_type": "markdown",
      "source": [
        "# Creacion del excel"
      ],
      "metadata": {
        "id": "afCpZfUIiRs0"
      }
    },
    {
      "cell_type": "code",
      "source": [
        "df.to_excel(archivo, sheet_name='Rentabilidad', index=False)"
      ],
      "metadata": {
        "id": "DqmQY5UEeMsF"
      },
      "execution_count": 205,
      "outputs": []
    },
    {
      "cell_type": "markdown",
      "source": [
        "# Formato con Openpyxl"
      ],
      "metadata": {
        "id": "d3ODvKImjXWU"
      }
    },
    {
      "cell_type": "code",
      "source": [
        "wb = load_workbook(archivo)\n",
        "ws = wb['Rentabilidad']"
      ],
      "metadata": {
        "id": "nnMbYPcxjlQb"
      },
      "execution_count": 206,
      "outputs": []
    },
    {
      "cell_type": "markdown",
      "source": [
        "## Columnas por índice"
      ],
      "metadata": {
        "id": "J1qL204gqWOR"
      }
    },
    {
      "cell_type": "code",
      "source": [
        "total = column_index_from_string('M')\n",
        "costo = column_index_from_string('P')\n",
        "envio = column_index_from_string('U')\n",
        "rentabilidad = column_index_from_string('V')\n",
        "rentable = column_index_from_string('W')\n",
        "c_final = column_index_from_string('BO')"
      ],
      "metadata": {
        "id": "E3SraAj-qU-j"
      },
      "execution_count": 207,
      "outputs": []
    },
    {
      "cell_type": "markdown",
      "source": [
        "## Máximo de filas"
      ],
      "metadata": {
        "id": "rLtqaHKhtCfA"
      }
    },
    {
      "cell_type": "code",
      "source": [
        "max_rows = 3500"
      ],
      "metadata": {
        "id": "U-eJsTiXtGKY"
      },
      "execution_count": 208,
      "outputs": []
    },
    {
      "cell_type": "markdown",
      "source": [
        "## Colores de fondo"
      ],
      "metadata": {
        "id": "wxQ74EznqzJh"
      }
    },
    {
      "cell_type": "markdown",
      "source": [
        "En orden, todos con tonalidades claras:\n",
        "- naranja\n",
        "- verde\n",
        "- rojo\n",
        "- azul\n",
        "- morado\n",
        "- gris\n",
        "- amarillo\n",
        "- negro"
      ],
      "metadata": {
        "id": "HlZkIdE5sKpx"
      }
    },
    {
      "cell_type": "code",
      "source": [
        "fill_o = PatternFill(start_color='f9cb9c', end_color='f9cb9c', fill_type='solid')\n",
        "fill_lg = PatternFill(start_color='b6d7a8', end_color='b6d7a8', fill_type='solid')\n",
        "fill_lr = PatternFill(start_color='ea9999', end_color='ea9999', fill_type='solid')\n",
        "fill_lb = PatternFill(start_color='a4c2f4', end_color='a4c2f4', fill_type='solid')\n",
        "fill_p = PatternFill(start_color='b4a7d6', end_color='b4a7d6', fill_type='solid')\n",
        "fill_gy = PatternFill(start_color='cccccc', end_color='cccccc', fill_type='solid')\n",
        "fill_y = PatternFill(start_color='ffe599', end_color='ffe599', fill_type='solid')\n",
        "fill_b = PatternFill(start_color='000000', end_color='000000', fill_type='solid')"
      ],
      "metadata": {
        "id": "gTUSY59ajqDL"
      },
      "execution_count": 209,
      "outputs": []
    },
    {
      "cell_type": "markdown",
      "source": [
        "## Fuentes"
      ],
      "metadata": {
        "id": "4yF4N8C1q0oh"
      }
    },
    {
      "cell_type": "code",
      "source": [
        "font_w = Font(name='Calibri', size=12, color = 'ffffff', bold=True)\n",
        "font_b = Font(name='Calibri', size=12, color = '000000', bold=True)\n",
        "font_t = Font(name='Calibri', size=12, color = '000000', bold=False)"
      ],
      "metadata": {
        "id": "p122AmQyq5Cp"
      },
      "execution_count": 210,
      "outputs": []
    },
    {
      "cell_type": "markdown",
      "source": [
        "## Dando formato"
      ],
      "metadata": {
        "id": "3_JzwrxQq3uJ"
      }
    },
    {
      "cell_type": "markdown",
      "source": [
        "### Color a columnas"
      ],
      "metadata": {
        "id": "Sa1ctDhnst4Y"
      }
    },
    {
      "cell_type": "code",
      "source": [
        "for row in range(1, max_rows):\n",
        "  if ws.cell(row=row, column=rentable).value == None:\n",
        "    break\n",
        "  ws.cell(row=row, column=total).fill = fill_y\n",
        "  ws.cell(row=row, column=costo).fill = fill_o\n",
        "  ws.cell(row=row, column=envio).fill = fill_lb\n",
        "  for col in range(costo + 1, envio):\n",
        "    ws.cell(row=row, column=col).fill = fill_p"
      ],
      "metadata": {
        "id": "M4GGweVYq58Z"
      },
      "execution_count": 211,
      "outputs": []
    },
    {
      "cell_type": "markdown",
      "source": [
        "### Color rentabilidad"
      ],
      "metadata": {
        "id": "urXQJF-QtiK5"
      }
    },
    {
      "cell_type": "code",
      "source": [
        "for row in range(2, max_rows):\n",
        "  if ws.cell(row=row, column=rentabilidad).value == None:\n",
        "    break\n",
        "  if ws.cell(row=row, column=rentabilidad).value > 0:\n",
        "    ws.cell(row=row, column=rentabilidad).fill = fill_lg\n",
        "    ws.cell(row=row, column=rentable).fill = fill_lg\n",
        "  else:\n",
        "    ws.cell(row=row, column=rentabilidad).fill = fill_lr\n",
        "    ws.cell(row=row, column=rentable).fill = fill_lr"
      ],
      "metadata": {
        "id": "dfkj2YdAoqar"
      },
      "execution_count": 212,
      "outputs": []
    },
    {
      "cell_type": "markdown",
      "source": [
        "### Fuente a columnas"
      ],
      "metadata": {
        "id": "UkyuS4ltswjZ"
      }
    },
    {
      "cell_type": "code",
      "source": [],
      "metadata": {
        "id": "2OW1P1K7wUJ1"
      },
      "execution_count": 212,
      "outputs": []
    },
    {
      "cell_type": "markdown",
      "source": [
        "### Formato numerico"
      ],
      "metadata": {
        "id": "AVivV9nosy55"
      }
    },
    {
      "cell_type": "code",
      "source": [
        "num_format = '$ #,##0.00'"
      ],
      "metadata": {
        "id": "7ZxN7GOhtmeC"
      },
      "execution_count": 213,
      "outputs": []
    },
    {
      "cell_type": "code",
      "source": [
        "for row in range(2, max_rows):\n",
        "  for col in range(8, 12):\n",
        "    ws.cell(row=row, column=col).number_format = num_format\n",
        "  ws.cell(row=row, column=total).number_format = num_format\n",
        "  for col in range(costo, rentabilidad+1):\n",
        "    ws.cell(row=row, column=col).number_format = num_format"
      ],
      "metadata": {
        "id": "F29VhIa3lLeq"
      },
      "execution_count": 214,
      "outputs": []
    },
    {
      "cell_type": "markdown",
      "source": [
        "### Claridad visual del documento"
      ],
      "metadata": {
        "id": "odfePHI2sOpt"
      }
    },
    {
      "cell_type": "markdown",
      "source": [
        "Eliminamos los valores 0 de las columnas de Total, Costo a Truper, valores de envío y rentabilidad."
      ],
      "metadata": {
        "id": "dZCIYi9k7MwU"
      }
    },
    {
      "cell_type": "code",
      "source": [
        "for row in range(2, max_rows):\n",
        "  for col in range(8, 22):\n",
        "    if ws.cell(row=row, column=col).value == 0:\n",
        "      ws.cell(row=row, column=col).value = None"
      ],
      "metadata": {
        "id": "JGx7mZE_r49s"
      },
      "execution_count": 215,
      "outputs": []
    },
    {
      "cell_type": "markdown",
      "source": [
        "Le ponemos la fuente a las cabezas de las columnas"
      ],
      "metadata": {
        "id": "FVHdFtSZ7jlb"
      }
    },
    {
      "cell_type": "code",
      "source": [
        "for col in range(1, c_final):\n",
        "  ws.column_dimensions[get_column_letter(col)].width = 14\n",
        "  ws.cell(row=1, column=col).font = font_b"
      ],
      "metadata": {
        "id": "h6HY0kpnvoA2"
      },
      "execution_count": 216,
      "outputs": []
    },
    {
      "cell_type": "markdown",
      "source": [
        "Coloreamos la cabeza de las columnas de Rentabilidad y Rentable"
      ],
      "metadata": {
        "id": "tlNxlHEg7rpc"
      }
    },
    {
      "cell_type": "code",
      "source": [
        "ws.cell(row=1, column=rentabilidad).fill = fill_b\n",
        "ws.cell(row=1, column=rentabilidad).font = font_w\n",
        "ws.cell(row=1, column=rentable).fill = fill_b\n",
        "ws.cell(row=1, column=rentable).font = font_w"
      ],
      "metadata": {
        "id": "W9Gp9mhMw6n3"
      },
      "execution_count": 217,
      "outputs": []
    },
    {
      "cell_type": "markdown",
      "source": [
        "Le ponemos fuente a todo el documento"
      ],
      "metadata": {
        "id": "lg2rdRuF8Fmk"
      }
    },
    {
      "cell_type": "code",
      "source": [
        "for row in range(2, max_rows):\n",
        "  for col in range(1, c_final):\n",
        "    ws.cell(row=row, column=col).font = font_t"
      ],
      "metadata": {
        "id": "CBlrbrVyw-oV"
      },
      "execution_count": 218,
      "outputs": []
    },
    {
      "cell_type": "markdown",
      "source": [
        "# Guardando archivo"
      ],
      "metadata": {
        "id": "aTGiFLs-q6KQ"
      }
    },
    {
      "cell_type": "code",
      "source": [
        "wb.save(archivo)"
      ],
      "metadata": {
        "id": "ibWtsg26mfJU"
      },
      "execution_count": 219,
      "outputs": []
    }
  ]
}