{
  "nbformat": 4,
  "nbformat_minor": 0,
  "metadata": {
    "colab": {
      "provenance": [],
      "authorship_tag": "ABX9TyMeSfNJpjduyeGTvV1o0YW8",
      "include_colab_link": true
    },
    "kernelspec": {
      "name": "python3",
      "display_name": "Python 3"
    },
    "language_info": {
      "name": "python"
    }
  },
  "cells": [
    {
      "cell_type": "markdown",
      "metadata": {
        "id": "view-in-github",
        "colab_type": "text"
      },
      "source": [
        "<a href=\"https://colab.research.google.com/github/NicolasFerre/ColabFerre/blob/dev/mercado_libre.ipynb\" target=\"_parent\"><img src=\"https://colab.research.google.com/assets/colab-badge.svg\" alt=\"Open In Colab\"/></a>"
      ]
    },
    {
      "cell_type": "markdown",
      "source": [
        "# Librerías necesarias"
      ],
      "metadata": {
        "id": "sqWqDGlRHDXr"
      }
    },
    {
      "cell_type": "code",
      "execution_count": 431,
      "metadata": {
        "id": "s9mg2NL4G4qg"
      },
      "outputs": [],
      "source": [
        "import pandas as pd\n",
        "import numpy as np\n",
        "import openpyxl\n",
        "from openpyxl import load_workbook\n",
        "from openpyxl.styles import PatternFill, Border, Side, Alignment, Protection, Font\n",
        "from openpyxl.utils import get_column_letter, column_index_from_string"
      ]
    },
    {
      "cell_type": "code",
      "source": [
        "archivo = 'Resultados ML.xlsx'"
      ],
      "metadata": {
        "id": "gqVG_mVtG8rT"
      },
      "execution_count": 432,
      "outputs": []
    },
    {
      "cell_type": "markdown",
      "source": [
        "# Archivos necesarios"
      ],
      "metadata": {
        "id": "XTGa-n67HF3K"
      }
    },
    {
      "cell_type": "code",
      "source": [
        "dfm = pd.read_excel('MercadoLibre.xlsx', sheet_name=0, header=5)\n",
        "renglonaje = pd.read_excel('Renglonaje.xlsx', sheet_name=0, header=0)\n",
        "envios = pd.read_excel('Envios.xlsx', sheet_name=0, header=3)"
      ],
      "metadata": {
        "id": "HR2Bf16RHAAy"
      },
      "execution_count": 433,
      "outputs": []
    },
    {
      "cell_type": "markdown",
      "source": [
        "## Extracción de precios del renglonaje"
      ],
      "metadata": {
        "id": "gH4pGKo2KWsp"
      }
    },
    {
      "cell_type": "code",
      "source": [
        "renglonaje.rename(columns={'Total que paga Edy a Truper contando reserva en garantía CON IVA': 'Costo a Truper'}, inplace=True)\n",
        "precios_sku = renglonaje[['clave', 'Costo a Truper']]\n",
        "precios_sku = precios_sku.loc[precios_sku['Costo a Truper'] != 'No disponible']\n",
        "precios_sku['Costo a Truper'] = precios_sku['Costo a Truper'].astype(float)"
      ],
      "metadata": {
        "id": "z1wbwzv0HCCa"
      },
      "execution_count": 434,
      "outputs": []
    },
    {
      "cell_type": "code",
      "source": [
        "precios_sku.rename(columns={'clave': 'SKU'}, inplace=True)"
      ],
      "metadata": {
        "id": "rWqulZ-DUEQt"
      },
      "execution_count": 435,
      "outputs": []
    },
    {
      "cell_type": "code",
      "source": [
        "precios_codigo = renglonaje[['código', 'Costo a Truper']]\n",
        "precios_codigo = precios_codigo.loc[precios_codigo['Costo a Truper'] != 'No disponible']\n",
        "precios_codigo['Costo a Truper'] = precios_codigo['Costo a Truper'].astype(float)\n",
        "precios_codigo.rename(columns={'código': 'SKU'}, inplace=True)\n",
        "precios_codigo['SKU'] = precios_codigo['SKU'].astype(str)\n",
        "precios_codigo.head()"
      ],
      "metadata": {
        "colab": {
          "base_uri": "https://localhost:8080/",
          "height": 206
        },
        "id": "pAbzkYDKWvz2",
        "outputId": "0928e037-93da-4cce-e665-b5466fd30865"
      },
      "execution_count": 436,
      "outputs": [
        {
          "output_type": "execute_result",
          "data": {
            "text/plain": [
              "      SKU  Costo a Truper\n",
              "0  100048       290.92460\n",
              "1  100049       407.29444\n",
              "2  100098        13.96797\n",
              "3  100099        24.82530\n",
              "4  100101        65.94158"
            ],
            "text/html": [
              "\n",
              "  <div id=\"df-d0f0298c-a94a-46ac-8d5d-c5f61f40ea3c\" class=\"colab-df-container\">\n",
              "    <div>\n",
              "<style scoped>\n",
              "    .dataframe tbody tr th:only-of-type {\n",
              "        vertical-align: middle;\n",
              "    }\n",
              "\n",
              "    .dataframe tbody tr th {\n",
              "        vertical-align: top;\n",
              "    }\n",
              "\n",
              "    .dataframe thead th {\n",
              "        text-align: right;\n",
              "    }\n",
              "</style>\n",
              "<table border=\"1\" class=\"dataframe\">\n",
              "  <thead>\n",
              "    <tr style=\"text-align: right;\">\n",
              "      <th></th>\n",
              "      <th>SKU</th>\n",
              "      <th>Costo a Truper</th>\n",
              "    </tr>\n",
              "  </thead>\n",
              "  <tbody>\n",
              "    <tr>\n",
              "      <th>0</th>\n",
              "      <td>100048</td>\n",
              "      <td>290.92460</td>\n",
              "    </tr>\n",
              "    <tr>\n",
              "      <th>1</th>\n",
              "      <td>100049</td>\n",
              "      <td>407.29444</td>\n",
              "    </tr>\n",
              "    <tr>\n",
              "      <th>2</th>\n",
              "      <td>100098</td>\n",
              "      <td>13.96797</td>\n",
              "    </tr>\n",
              "    <tr>\n",
              "      <th>3</th>\n",
              "      <td>100099</td>\n",
              "      <td>24.82530</td>\n",
              "    </tr>\n",
              "    <tr>\n",
              "      <th>4</th>\n",
              "      <td>100101</td>\n",
              "      <td>65.94158</td>\n",
              "    </tr>\n",
              "  </tbody>\n",
              "</table>\n",
              "</div>\n",
              "    <div class=\"colab-df-buttons\">\n",
              "\n",
              "  <div class=\"colab-df-container\">\n",
              "    <button class=\"colab-df-convert\" onclick=\"convertToInteractive('df-d0f0298c-a94a-46ac-8d5d-c5f61f40ea3c')\"\n",
              "            title=\"Convert this dataframe to an interactive table.\"\n",
              "            style=\"display:none;\">\n",
              "\n",
              "  <svg xmlns=\"http://www.w3.org/2000/svg\" height=\"24px\" viewBox=\"0 -960 960 960\">\n",
              "    <path d=\"M120-120v-720h720v720H120Zm60-500h600v-160H180v160Zm220 220h160v-160H400v160Zm0 220h160v-160H400v160ZM180-400h160v-160H180v160Zm440 0h160v-160H620v160ZM180-180h160v-160H180v160Zm440 0h160v-160H620v160Z\"/>\n",
              "  </svg>\n",
              "    </button>\n",
              "\n",
              "  <style>\n",
              "    .colab-df-container {\n",
              "      display:flex;\n",
              "      gap: 12px;\n",
              "    }\n",
              "\n",
              "    .colab-df-convert {\n",
              "      background-color: #E8F0FE;\n",
              "      border: none;\n",
              "      border-radius: 50%;\n",
              "      cursor: pointer;\n",
              "      display: none;\n",
              "      fill: #1967D2;\n",
              "      height: 32px;\n",
              "      padding: 0 0 0 0;\n",
              "      width: 32px;\n",
              "    }\n",
              "\n",
              "    .colab-df-convert:hover {\n",
              "      background-color: #E2EBFA;\n",
              "      box-shadow: 0px 1px 2px rgba(60, 64, 67, 0.3), 0px 1px 3px 1px rgba(60, 64, 67, 0.15);\n",
              "      fill: #174EA6;\n",
              "    }\n",
              "\n",
              "    .colab-df-buttons div {\n",
              "      margin-bottom: 4px;\n",
              "    }\n",
              "\n",
              "    [theme=dark] .colab-df-convert {\n",
              "      background-color: #3B4455;\n",
              "      fill: #D2E3FC;\n",
              "    }\n",
              "\n",
              "    [theme=dark] .colab-df-convert:hover {\n",
              "      background-color: #434B5C;\n",
              "      box-shadow: 0px 1px 3px 1px rgba(0, 0, 0, 0.15);\n",
              "      filter: drop-shadow(0px 1px 2px rgba(0, 0, 0, 0.3));\n",
              "      fill: #FFFFFF;\n",
              "    }\n",
              "  </style>\n",
              "\n",
              "    <script>\n",
              "      const buttonEl =\n",
              "        document.querySelector('#df-d0f0298c-a94a-46ac-8d5d-c5f61f40ea3c button.colab-df-convert');\n",
              "      buttonEl.style.display =\n",
              "        google.colab.kernel.accessAllowed ? 'block' : 'none';\n",
              "\n",
              "      async function convertToInteractive(key) {\n",
              "        const element = document.querySelector('#df-d0f0298c-a94a-46ac-8d5d-c5f61f40ea3c');\n",
              "        const dataTable =\n",
              "          await google.colab.kernel.invokeFunction('convertToInteractive',\n",
              "                                                    [key], {});\n",
              "        if (!dataTable) return;\n",
              "\n",
              "        const docLinkHtml = 'Like what you see? Visit the ' +\n",
              "          '<a target=\"_blank\" href=https://colab.research.google.com/notebooks/data_table.ipynb>data table notebook</a>'\n",
              "          + ' to learn more about interactive tables.';\n",
              "        element.innerHTML = '';\n",
              "        dataTable['output_type'] = 'display_data';\n",
              "        await google.colab.output.renderOutput(dataTable, element);\n",
              "        const docLink = document.createElement('div');\n",
              "        docLink.innerHTML = docLinkHtml;\n",
              "        element.appendChild(docLink);\n",
              "      }\n",
              "    </script>\n",
              "  </div>\n",
              "\n",
              "\n",
              "    <div id=\"df-81ef5f70-87fd-41e6-8a6b-428cf1370acf\">\n",
              "      <button class=\"colab-df-quickchart\" onclick=\"quickchart('df-81ef5f70-87fd-41e6-8a6b-428cf1370acf')\"\n",
              "                title=\"Suggest charts\"\n",
              "                style=\"display:none;\">\n",
              "\n",
              "<svg xmlns=\"http://www.w3.org/2000/svg\" height=\"24px\"viewBox=\"0 0 24 24\"\n",
              "     width=\"24px\">\n",
              "    <g>\n",
              "        <path d=\"M19 3H5c-1.1 0-2 .9-2 2v14c0 1.1.9 2 2 2h14c1.1 0 2-.9 2-2V5c0-1.1-.9-2-2-2zM9 17H7v-7h2v7zm4 0h-2V7h2v10zm4 0h-2v-4h2v4z\"/>\n",
              "    </g>\n",
              "</svg>\n",
              "      </button>\n",
              "\n",
              "<style>\n",
              "  .colab-df-quickchart {\n",
              "      --bg-color: #E8F0FE;\n",
              "      --fill-color: #1967D2;\n",
              "      --hover-bg-color: #E2EBFA;\n",
              "      --hover-fill-color: #174EA6;\n",
              "      --disabled-fill-color: #AAA;\n",
              "      --disabled-bg-color: #DDD;\n",
              "  }\n",
              "\n",
              "  [theme=dark] .colab-df-quickchart {\n",
              "      --bg-color: #3B4455;\n",
              "      --fill-color: #D2E3FC;\n",
              "      --hover-bg-color: #434B5C;\n",
              "      --hover-fill-color: #FFFFFF;\n",
              "      --disabled-bg-color: #3B4455;\n",
              "      --disabled-fill-color: #666;\n",
              "  }\n",
              "\n",
              "  .colab-df-quickchart {\n",
              "    background-color: var(--bg-color);\n",
              "    border: none;\n",
              "    border-radius: 50%;\n",
              "    cursor: pointer;\n",
              "    display: none;\n",
              "    fill: var(--fill-color);\n",
              "    height: 32px;\n",
              "    padding: 0;\n",
              "    width: 32px;\n",
              "  }\n",
              "\n",
              "  .colab-df-quickchart:hover {\n",
              "    background-color: var(--hover-bg-color);\n",
              "    box-shadow: 0 1px 2px rgba(60, 64, 67, 0.3), 0 1px 3px 1px rgba(60, 64, 67, 0.15);\n",
              "    fill: var(--button-hover-fill-color);\n",
              "  }\n",
              "\n",
              "  .colab-df-quickchart-complete:disabled,\n",
              "  .colab-df-quickchart-complete:disabled:hover {\n",
              "    background-color: var(--disabled-bg-color);\n",
              "    fill: var(--disabled-fill-color);\n",
              "    box-shadow: none;\n",
              "  }\n",
              "\n",
              "  .colab-df-spinner {\n",
              "    border: 2px solid var(--fill-color);\n",
              "    border-color: transparent;\n",
              "    border-bottom-color: var(--fill-color);\n",
              "    animation:\n",
              "      spin 1s steps(1) infinite;\n",
              "  }\n",
              "\n",
              "  @keyframes spin {\n",
              "    0% {\n",
              "      border-color: transparent;\n",
              "      border-bottom-color: var(--fill-color);\n",
              "      border-left-color: var(--fill-color);\n",
              "    }\n",
              "    20% {\n",
              "      border-color: transparent;\n",
              "      border-left-color: var(--fill-color);\n",
              "      border-top-color: var(--fill-color);\n",
              "    }\n",
              "    30% {\n",
              "      border-color: transparent;\n",
              "      border-left-color: var(--fill-color);\n",
              "      border-top-color: var(--fill-color);\n",
              "      border-right-color: var(--fill-color);\n",
              "    }\n",
              "    40% {\n",
              "      border-color: transparent;\n",
              "      border-right-color: var(--fill-color);\n",
              "      border-top-color: var(--fill-color);\n",
              "    }\n",
              "    60% {\n",
              "      border-color: transparent;\n",
              "      border-right-color: var(--fill-color);\n",
              "    }\n",
              "    80% {\n",
              "      border-color: transparent;\n",
              "      border-right-color: var(--fill-color);\n",
              "      border-bottom-color: var(--fill-color);\n",
              "    }\n",
              "    90% {\n",
              "      border-color: transparent;\n",
              "      border-bottom-color: var(--fill-color);\n",
              "    }\n",
              "  }\n",
              "</style>\n",
              "\n",
              "      <script>\n",
              "        async function quickchart(key) {\n",
              "          const quickchartButtonEl =\n",
              "            document.querySelector('#' + key + ' button');\n",
              "          quickchartButtonEl.disabled = true;  // To prevent multiple clicks.\n",
              "          quickchartButtonEl.classList.add('colab-df-spinner');\n",
              "          try {\n",
              "            const charts = await google.colab.kernel.invokeFunction(\n",
              "                'suggestCharts', [key], {});\n",
              "          } catch (error) {\n",
              "            console.error('Error during call to suggestCharts:', error);\n",
              "          }\n",
              "          quickchartButtonEl.classList.remove('colab-df-spinner');\n",
              "          quickchartButtonEl.classList.add('colab-df-quickchart-complete');\n",
              "        }\n",
              "        (() => {\n",
              "          let quickchartButtonEl =\n",
              "            document.querySelector('#df-81ef5f70-87fd-41e6-8a6b-428cf1370acf button');\n",
              "          quickchartButtonEl.style.display =\n",
              "            google.colab.kernel.accessAllowed ? 'block' : 'none';\n",
              "        })();\n",
              "      </script>\n",
              "    </div>\n",
              "\n",
              "    </div>\n",
              "  </div>\n"
            ],
            "application/vnd.google.colaboratory.intrinsic+json": {
              "type": "dataframe",
              "variable_name": "precios_codigo",
              "summary": "{\n  \"name\": \"precios_codigo\",\n  \"rows\": 15151,\n  \"fields\": [\n    {\n      \"column\": \"SKU\",\n      \"properties\": {\n        \"dtype\": \"string\",\n        \"num_unique_values\": 15151,\n        \"samples\": [\n          \"102665\",\n          \"103517\",\n          \"102210\"\n        ],\n        \"semantic_type\": \"\",\n        \"description\": \"\"\n      }\n    },\n    {\n      \"column\": \"Costo a Truper\",\n      \"properties\": {\n        \"dtype\": \"number\",\n        \"std\": 3027.5914221487146,\n        \"min\": 0.33898,\n        \"max\": 176103.51974000002,\n        \"num_unique_values\": 1457,\n        \"samples\": [\n          1043.4602,\n          66.33041,\n          87.07798\n        ],\n        \"semantic_type\": \"\",\n        \"description\": \"\"\n      }\n    }\n  ]\n}"
            }
          },
          "metadata": {},
          "execution_count": 436
        }
      ]
    },
    {
      "cell_type": "markdown",
      "source": [
        "## Extracción de costos de envío"
      ],
      "metadata": {
        "id": "VUbUcg9sKbH5"
      }
    },
    {
      "cell_type": "code",
      "source": [
        "orden = envios['NUMERO ORDEN']\n",
        "orden = orden.str.split('-')"
      ],
      "metadata": {
        "id": "-C98x1vpKdrS"
      },
      "execution_count": 437,
      "outputs": []
    },
    {
      "cell_type": "code",
      "source": [
        "orden = orden.str[1]"
      ],
      "metadata": {
        "id": "7mIo48V1OO1Y"
      },
      "execution_count": 438,
      "outputs": []
    },
    {
      "cell_type": "code",
      "source": [
        "envios['NUMERO ORDEN'] = orden"
      ],
      "metadata": {
        "id": "3C3ALQJMPZj4"
      },
      "execution_count": 439,
      "outputs": []
    },
    {
      "cell_type": "code",
      "source": [
        "envios['NUMERO ORDEN'] = envios['NUMERO ORDEN'].replace('', np.nan)\n",
        "envios = envios.dropna(subset=['NUMERO ORDEN'])"
      ],
      "metadata": {
        "id": "t0nWRXo-OmH4"
      },
      "execution_count": 440,
      "outputs": []
    },
    {
      "cell_type": "code",
      "source": [
        "publicacion = envios[['NUMERO ORDEN', 'VALOR GUIA ($)', 'ZONA EXTENDIDA ($)', 'EXTRAGRANDE ($)', 'SOBREPESOS ($)', 'TOTAL GUIA ($)']]"
      ],
      "metadata": {
        "id": "NHyoYhgyR7Zf"
      },
      "execution_count": 441,
      "outputs": []
    },
    {
      "cell_type": "code",
      "source": [
        "publicacion.rename(columns={'NUMERO ORDEN': '# de venta'}, inplace=True)"
      ],
      "metadata": {
        "colab": {
          "base_uri": "https://localhost:8080/"
        },
        "id": "jC5lvSMuTEXf",
        "outputId": "8dbcb639-8b68-4fd6-96dc-937a6609a3a1"
      },
      "execution_count": 442,
      "outputs": [
        {
          "output_type": "stream",
          "name": "stderr",
          "text": [
            "/tmp/ipython-input-442-1123234388.py:1: SettingWithCopyWarning: \n",
            "A value is trying to be set on a copy of a slice from a DataFrame\n",
            "\n",
            "See the caveats in the documentation: https://pandas.pydata.org/pandas-docs/stable/user_guide/indexing.html#returning-a-view-versus-a-copy\n",
            "  publicacion.rename(columns={'NUMERO ORDEN': '# de venta'}, inplace=True)\n"
          ]
        }
      ]
    },
    {
      "cell_type": "markdown",
      "source": [
        "# Costo que Edgar paga a Truper"
      ],
      "metadata": {
        "id": "Kk0I4rq6ZZwe"
      }
    },
    {
      "cell_type": "code",
      "source": [
        "df = dfm.iloc[:,:15]\n",
        "df2 = dfm.iloc[:,15:]\n",
        "df2['# de venta'] = dfm['# de venta'].astype(str)"
      ],
      "metadata": {
        "id": "RsihCMrWQGbQ"
      },
      "execution_count": 443,
      "outputs": []
    },
    {
      "cell_type": "code",
      "source": [
        "df[['Ingresos por envío (MXN) Pago del envio a cargo del comprador', 'Costos de envío (MXN)']] = df[['Ingresos por envío (MXN) Pago del envio a cargo del comprador', 'Costos de envío (MXN)']].fillna(0)"
      ],
      "metadata": {
        "id": "BjjGt64RQuGY"
      },
      "execution_count": 444,
      "outputs": []
    },
    {
      "cell_type": "code",
      "source": [
        "df = df.merge(precios_sku, on='SKU', how='left')\n",
        "df = df.merge(precios_codigo, on='SKU', how='left')"
      ],
      "metadata": {
        "id": "g9kWKUoBXSMu"
      },
      "execution_count": 445,
      "outputs": []
    },
    {
      "cell_type": "code",
      "source": [
        "df[['Costo a Truper_x', 'Costo a Truper_y']] = df[['Costo a Truper_x', 'Costo a Truper_y']].fillna(0)"
      ],
      "metadata": {
        "id": "hld6LywZYetH"
      },
      "execution_count": 446,
      "outputs": []
    },
    {
      "cell_type": "code",
      "source": [
        "df['Costo a Truper'] = df['Costo a Truper_x'] + df['Costo a Truper_y']\n",
        "df = df.drop(['Costo a Truper_x', 'Costo a Truper_y'], axis=1)"
      ],
      "metadata": {
        "id": "TSrhXFK1YwM2"
      },
      "execution_count": 447,
      "outputs": []
    },
    {
      "cell_type": "code",
      "source": [
        "df['Costo a Truper'] = df['Costo a Truper'] * df['Unidades']"
      ],
      "metadata": {
        "id": "IQULNBAmY_WW"
      },
      "execution_count": 448,
      "outputs": []
    },
    {
      "cell_type": "markdown",
      "source": [
        "# Costo de la guía Skydropx"
      ],
      "metadata": {
        "id": "Yxam4WR0Zd6l"
      }
    },
    {
      "cell_type": "code",
      "source": [
        "df['# de venta'] = df['# de venta'].astype(str)"
      ],
      "metadata": {
        "id": "3a8mYStubm-N"
      },
      "execution_count": 449,
      "outputs": []
    },
    {
      "cell_type": "code",
      "source": [
        "df = df.merge(publicacion, on='# de venta', how='left')"
      ],
      "metadata": {
        "id": "mMJUxPB4bT_v"
      },
      "execution_count": 450,
      "outputs": []
    },
    {
      "cell_type": "markdown",
      "source": [
        "# Calculo de rentabilidad"
      ],
      "metadata": {
        "id": "TpWLd4yRcipV"
      }
    },
    {
      "cell_type": "code",
      "source": [
        "df.iloc[:,15:] = df.iloc[:,15:].fillna(0)"
      ],
      "metadata": {
        "colab": {
          "base_uri": "https://localhost:8080/"
        },
        "id": "Ta0fWMSwchol",
        "outputId": "b90a3c65-85b0-4415-ee36-ad6a38dceffc"
      },
      "execution_count": 451,
      "outputs": [
        {
          "output_type": "stream",
          "name": "stderr",
          "text": [
            "/tmp/ipython-input-451-1814211588.py:1: FutureWarning: Downcasting object dtype arrays on .fillna, .ffill, .bfill is deprecated and will change in a future version. Call result.infer_objects(copy=False) instead. To opt-in to the future behavior, set `pd.set_option('future.no_silent_downcasting', True)`\n",
            "  df.iloc[:,15:] = df.iloc[:,15:].fillna(0)\n"
          ]
        }
      ]
    },
    {
      "cell_type": "code",
      "source": [
        "df['Rentabilidad'] = df['Total (MXN)'] - df['Costo a Truper'] - df['TOTAL GUIA ($)']"
      ],
      "metadata": {
        "id": "tDQHeVl-dYOW"
      },
      "execution_count": 452,
      "outputs": []
    },
    {
      "cell_type": "code",
      "source": [
        "df.loc[df['Costo a Truper'] == 0, 'Rentabilidad'] = 0"
      ],
      "metadata": {
        "id": "AXYxCGnUfXBH"
      },
      "execution_count": 453,
      "outputs": []
    },
    {
      "cell_type": "code",
      "source": [
        "df.loc[df['Anulaciones y reembolsos (MXN)'] < 0, 'Rentabilidad'] = 0"
      ],
      "metadata": {
        "id": "iHU8ZgLPmt45"
      },
      "execution_count": 454,
      "outputs": []
    },
    {
      "cell_type": "code",
      "source": [
        "df['¿Rentable?'] = ''\n",
        "df.loc[df['Rentabilidad'] > 0, '¿Rentable?'] = 'Sí'\n",
        "df.loc[df['Rentabilidad'] <= 0, '¿Rentable?'] = 'No'"
      ],
      "metadata": {
        "id": "g5PL7Avedty2"
      },
      "execution_count": 455,
      "outputs": []
    },
    {
      "cell_type": "code",
      "source": [
        "df.shape"
      ],
      "metadata": {
        "colab": {
          "base_uri": "https://localhost:8080/"
        },
        "id": "fXYEAUUmlIvq",
        "outputId": "38d3e37f-2212-4ee2-90b5-b359677df130"
      },
      "execution_count": 456,
      "outputs": [
        {
          "output_type": "execute_result",
          "data": {
            "text/plain": [
              "(926, 23)"
            ]
          },
          "metadata": {},
          "execution_count": 456
        }
      ]
    },
    {
      "cell_type": "code",
      "source": [
        "df = df.merge(df2, on='# de venta', how='left')"
      ],
      "metadata": {
        "id": "WOrtqn4chpS0"
      },
      "execution_count": 457,
      "outputs": []
    },
    {
      "cell_type": "markdown",
      "source": [
        "# Limpieza de datos"
      ],
      "metadata": {
        "id": "M56Yozuhl4i7"
      }
    },
    {
      "cell_type": "code",
      "source": [
        "df = df.drop_duplicates(subset=['# de venta'])"
      ],
      "metadata": {
        "id": "_nc2zEnzl3Pr"
      },
      "execution_count": 458,
      "outputs": []
    },
    {
      "cell_type": "markdown",
      "source": [
        "# Creacion del excel"
      ],
      "metadata": {
        "id": "afCpZfUIiRs0"
      }
    },
    {
      "cell_type": "code",
      "source": [
        "df.to_excel(archivo, sheet_name='Rentabilidad', index=False)"
      ],
      "metadata": {
        "id": "DqmQY5UEeMsF"
      },
      "execution_count": 459,
      "outputs": []
    },
    {
      "cell_type": "markdown",
      "source": [
        "# Formato con Openpyxl"
      ],
      "metadata": {
        "id": "d3ODvKImjXWU"
      }
    },
    {
      "cell_type": "code",
      "source": [
        "wb = load_workbook(archivo)\n",
        "ws = wb['Rentabilidad']"
      ],
      "metadata": {
        "id": "nnMbYPcxjlQb"
      },
      "execution_count": 460,
      "outputs": []
    },
    {
      "cell_type": "markdown",
      "source": [
        "## Columnas por índice"
      ],
      "metadata": {
        "id": "J1qL204gqWOR"
      }
    },
    {
      "cell_type": "code",
      "source": [
        "total = column_index_from_string('M')\n",
        "costo = column_index_from_string('P')\n",
        "envio = column_index_from_string('U')\n",
        "rentabilidad = column_index_from_string('V')\n",
        "rentable = column_index_from_string('W')\n",
        "c_final = column_index_from_string('BO')"
      ],
      "metadata": {
        "id": "E3SraAj-qU-j"
      },
      "execution_count": 461,
      "outputs": []
    },
    {
      "cell_type": "markdown",
      "source": [
        "## Colores de fondo"
      ],
      "metadata": {
        "id": "wxQ74EznqzJh"
      }
    },
    {
      "cell_type": "markdown",
      "source": [
        "En orden, todos con tonalidades claras:\n",
        "- naranja\n",
        "- verde\n",
        "- rojo\n",
        "- azul\n",
        "- morado\n",
        "- gris\n",
        "- amarillo\n",
        "- negro"
      ],
      "metadata": {
        "id": "HlZkIdE5sKpx"
      }
    },
    {
      "cell_type": "code",
      "source": [
        "fill_o = PatternFill(start_color='f9cb9c', end_color='f9cb9c', fill_type='solid')\n",
        "fill_lg = PatternFill(start_color='b6d7a8', end_color='b6d7a8', fill_type='solid')\n",
        "fill_lr = PatternFill(start_color='ea9999', end_color='ea9999', fill_type='solid')\n",
        "fill_lb = PatternFill(start_color='a4c2f4', end_color='a4c2f4', fill_type='solid')\n",
        "fill_p = PatternFill(start_color='b4a7d6', end_color='b4a7d6', fill_type='solid')\n",
        "fill_gy = PatternFill(start_color='cccccc', end_color='cccccc', fill_type='solid')\n",
        "fill_y = PatternFill(start_color='ffe599', end_color='ffe599', fill_type='solid')\n",
        "fill_b = PatternFill(start_color='000000', end_color='000000', fill_type='solid')"
      ],
      "metadata": {
        "id": "gTUSY59ajqDL"
      },
      "execution_count": 462,
      "outputs": []
    },
    {
      "cell_type": "markdown",
      "source": [
        "## Fuentes"
      ],
      "metadata": {
        "id": "4yF4N8C1q0oh"
      }
    },
    {
      "cell_type": "code",
      "source": [
        "font_w = Font(name='Calibri', size=12, color = 'ffffff', bold=True)\n",
        "font_b = Font(name='Calibri', size=12, color = '000000', bold=True)\n",
        "font_t = Font(name='Calibri', size=12, color = '000000', bold=False)"
      ],
      "metadata": {
        "id": "p122AmQyq5Cp"
      },
      "execution_count": 463,
      "outputs": []
    },
    {
      "cell_type": "markdown",
      "source": [
        "## Dando formato"
      ],
      "metadata": {
        "id": "3_JzwrxQq3uJ"
      }
    },
    {
      "cell_type": "markdown",
      "source": [
        "### Color a columnas"
      ],
      "metadata": {
        "id": "Sa1ctDhnst4Y"
      }
    },
    {
      "cell_type": "code",
      "source": [
        "for row in range(1, 1000):\n",
        "  if ws.cell(row=row, column=total).value == None:\n",
        "    break\n",
        "  ws.cell(row=row, column=total).fill = fill_y\n",
        "  ws.cell(row=row, column=costo).fill = fill_o\n",
        "  ws.cell(row=row, column=envio).fill = fill_lb\n",
        "  for col in range(costo + 1, envio):\n",
        "    ws.cell(row=row, column=col).fill = fill_p"
      ],
      "metadata": {
        "id": "M4GGweVYq58Z"
      },
      "execution_count": 464,
      "outputs": []
    },
    {
      "cell_type": "markdown",
      "source": [
        "### Color rentabilidad"
      ],
      "metadata": {
        "id": "urXQJF-QtiK5"
      }
    },
    {
      "cell_type": "code",
      "source": [
        "for row in range(2, 1000):\n",
        "  if ws.cell(row=row, column=rentabilidad).value == None:\n",
        "    break\n",
        "  if ws.cell(row=row, column=rentabilidad).value > 0:\n",
        "    ws.cell(row=row, column=rentabilidad).fill = fill_lg\n",
        "    ws.cell(row=row, column=rentable).fill = fill_lg\n",
        "  else:\n",
        "    ws.cell(row=row, column=rentabilidad).fill = fill_lr\n",
        "    ws.cell(row=row, column=rentable).fill = fill_lr"
      ],
      "metadata": {
        "id": "dfkj2YdAoqar"
      },
      "execution_count": 465,
      "outputs": []
    },
    {
      "cell_type": "markdown",
      "source": [
        "### Fuente a columnas"
      ],
      "metadata": {
        "id": "UkyuS4ltswjZ"
      }
    },
    {
      "cell_type": "code",
      "source": [],
      "metadata": {
        "id": "2OW1P1K7wUJ1"
      },
      "execution_count": 465,
      "outputs": []
    },
    {
      "cell_type": "markdown",
      "source": [
        "### Formato numerico"
      ],
      "metadata": {
        "id": "AVivV9nosy55"
      }
    },
    {
      "cell_type": "code",
      "source": [
        "num_format = '$ #,##0.00'"
      ],
      "metadata": {
        "id": "7ZxN7GOhtmeC"
      },
      "execution_count": 466,
      "outputs": []
    },
    {
      "cell_type": "code",
      "source": [
        "for row in range(2, 1000):\n",
        "  for col in range(8, 12):\n",
        "    ws.cell(row=row, column=col).number_format = num_format\n",
        "  ws.cell(row=row, column=total).number_format = num_format\n",
        "  for col in range(costo, rentabilidad+1):\n",
        "    ws.cell(row=row, column=col).number_format = num_format"
      ],
      "metadata": {
        "id": "F29VhIa3lLeq"
      },
      "execution_count": 467,
      "outputs": []
    },
    {
      "cell_type": "markdown",
      "source": [
        "### Claridad visual del documento"
      ],
      "metadata": {
        "id": "odfePHI2sOpt"
      }
    },
    {
      "cell_type": "code",
      "source": [
        "for row in range(2, 1000):\n",
        "  for col in range(8, 22):\n",
        "    if ws.cell(row=row, column=col).value == 0:\n",
        "      ws.cell(row=row, column=col).value = None"
      ],
      "metadata": {
        "id": "JGx7mZE_r49s"
      },
      "execution_count": 468,
      "outputs": []
    },
    {
      "cell_type": "code",
      "source": [
        "for col in range(1, c_final):\n",
        "  ws.column_dimensions[get_column_letter(col)].width = 14\n",
        "  ws.cell(row=1, column=col).font = font_b"
      ],
      "metadata": {
        "id": "h6HY0kpnvoA2"
      },
      "execution_count": 469,
      "outputs": []
    },
    {
      "cell_type": "code",
      "source": [
        "ws.cell(row=1, column=rentabilidad).fill = fill_b\n",
        "ws.cell(row=1, column=rentabilidad).font = font_w\n",
        "ws.cell(row=1, column=rentable).fill = fill_b\n",
        "ws.cell(row=1, column=rentable).font = font_w"
      ],
      "metadata": {
        "id": "W9Gp9mhMw6n3"
      },
      "execution_count": 470,
      "outputs": []
    },
    {
      "cell_type": "code",
      "source": [
        "for row in range(2, 1000):\n",
        "  for col in range(1, c_final):\n",
        "    ws.cell(row=row, column=col).font = font_t"
      ],
      "metadata": {
        "id": "CBlrbrVyw-oV"
      },
      "execution_count": 471,
      "outputs": []
    },
    {
      "cell_type": "markdown",
      "source": [
        "# Guardando archivo"
      ],
      "metadata": {
        "id": "aTGiFLs-q6KQ"
      }
    },
    {
      "cell_type": "code",
      "source": [
        "wb.save(archivo)"
      ],
      "metadata": {
        "id": "ibWtsg26mfJU"
      },
      "execution_count": 472,
      "outputs": []
    }
  ]
}