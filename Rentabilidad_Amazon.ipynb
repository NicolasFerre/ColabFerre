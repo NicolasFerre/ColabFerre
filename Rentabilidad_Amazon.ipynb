{
  "nbformat": 4,
  "nbformat_minor": 0,
  "metadata": {
    "colab": {
      "provenance": [],
      "authorship_tag": "ABX9TyOEKZWSmkEkGN8eA+NG4ud1",
      "include_colab_link": true
    },
    "kernelspec": {
      "name": "python3",
      "display_name": "Python 3"
    },
    "language_info": {
      "name": "python"
    }
  },
  "cells": [
    {
      "cell_type": "markdown",
      "metadata": {
        "id": "view-in-github",
        "colab_type": "text"
      },
      "source": [
        "<a href=\"https://colab.research.google.com/github/NicolasFerre/ColabFerre/blob/main/Rentabilidad_Amazon.ipynb\" target=\"_parent\"><img src=\"https://colab.research.google.com/assets/colab-badge.svg\" alt=\"Open In Colab\"/></a>"
      ]
    },
    {
      "cell_type": "markdown",
      "source": [
        "# Instalaciones previas"
      ],
      "metadata": {
        "id": "Chmfd9Sey_bH"
      }
    },
    {
      "cell_type": "code",
      "source": [
        "#!pip install xlsxwriter\n",
        "#!pip install fastexcel"
      ],
      "metadata": {
        "id": "N2_FvAusbpwr"
      },
      "execution_count": 464,
      "outputs": []
    },
    {
      "cell_type": "markdown",
      "source": [
        "# Librerías necesarias"
      ],
      "metadata": {
        "id": "DA6w3y-yzFm2"
      }
    },
    {
      "cell_type": "code",
      "execution_count": 465,
      "metadata": {
        "id": "Fiv25Ztgsu1O"
      },
      "outputs": [],
      "source": [
        "import polars as pl\n",
        "import pandas as pd\n",
        "import numpy as np\n",
        "import xlsxwriter"
      ]
    },
    {
      "cell_type": "code",
      "source": [
        "archivo = 'Rentabilidad Amazon.xlsx'"
      ],
      "metadata": {
        "id": "9FnXzPYtYLXc"
      },
      "execution_count": 466,
      "outputs": []
    },
    {
      "cell_type": "markdown",
      "source": [
        "# Archivos necesarios"
      ],
      "metadata": {
        "id": "sOEeBg0V-e_Z"
      }
    },
    {
      "cell_type": "code",
      "source": [
        "renglonaje_og = pl.read_excel(\"Renglonaje.xlsx\", sheet_id=3)\n",
        "renglonaje = renglonaje_og.select(['código', 'clave', 'Total que paga Edy a Truper contando reserva en garantía CON IVA'])\n",
        "renglonaje = renglonaje.rename({'Total que paga Edy a Truper contando reserva en garantía CON IVA':'Costo', 'código':'clave', 'clave':'sku'})"
      ],
      "metadata": {
        "id": "WO44My9y-gjQ"
      },
      "execution_count": 467,
      "outputs": []
    },
    {
      "cell_type": "markdown",
      "source": [
        "## Relación Asín-SKU"
      ],
      "metadata": {
        "id": "GpOwstnWEAiQ"
      }
    },
    {
      "cell_type": "code",
      "source": [
        "asin = pl.read_excel('Asin.xlsx', sheet_id=2)\n",
        "asin = asin.select(['sku', 'asin', 'Sku Truper'])\n",
        "asin2 = pl.read_excel('Asin.xlsx', sheet_id=3)\n",
        "asin2 = asin2.select(['sku', 'asin', 'Sku Truper'])\n",
        "asin = asin.vstack(asin2)\n",
        "asin2 = pl.read_excel('Asin.xlsx', sheet_id=4)\n",
        "asin2 = asin2.select(['sku', 'asin', 'Sku Truper'])\n",
        "asin = asin.vstack(asin2)\n",
        "asin2 = pl.read_excel('Asin.xlsx', sheet_id=5)\n",
        "asin2 = asin2.select(['sku', 'asin', 'Sku Truper'])\n",
        "asin = asin.vstack(asin2)\n",
        "asin = asin.unique(subset='sku', keep = 'first')"
      ],
      "metadata": {
        "id": "qBsIn-hEZoVb"
      },
      "execution_count": 468,
      "outputs": []
    },
    {
      "cell_type": "code",
      "source": [
        "asin = asin.rename({'sku':'alfa', 'Sku Truper':'sku'})\n",
        "asin = asin.select(['sku', 'alfa', 'asin'])"
      ],
      "metadata": {
        "id": "QxdHz4TOAESo"
      },
      "execution_count": 469,
      "outputs": []
    },
    {
      "cell_type": "code",
      "source": [
        "renglonaje = renglonaje.join(asin, on='sku', how='left')"
      ],
      "metadata": {
        "id": "_L8eaSYvAqtI"
      },
      "execution_count": 470,
      "outputs": []
    },
    {
      "cell_type": "code",
      "source": [
        "renglonaje = renglonaje.filter(pl.col('Costo').is_not_null())\n"
      ],
      "metadata": {
        "id": "sLEYTRTYH8VH"
      },
      "execution_count": 471,
      "outputs": []
    },
    {
      "cell_type": "code",
      "source": [
        "c_sku = renglonaje.select(['sku', 'Costo'])\n",
        "c_alfa = renglonaje.select(['alfa', 'Costo'])\n",
        "c_alfa = c_alfa.rename({'alfa':'sku'})\n",
        "c_asin = renglonaje.select(['asin', 'Costo'])\n",
        "c_asin = c_asin.rename({'asin':'sku'})\n",
        "c_clave = renglonaje.select(['clave', 'Costo'])\n",
        "c_clave = c_clave.rename({'clave':'sku'})\n",
        "c_clave = c_clave.with_columns(pl.col('sku').cast(pl.Utf8))"
      ],
      "metadata": {
        "id": "MNXbUjc7BTvg"
      },
      "execution_count": 472,
      "outputs": []
    },
    {
      "cell_type": "code",
      "source": [
        "c_sku = c_sku.unique(subset='sku', keep = 'first')\n",
        "c_alfa = c_alfa.unique(subset='sku', keep = 'first')\n",
        "c_asin = c_asin.unique(subset='sku', keep = 'first')\n",
        "c_clave = c_clave.unique(subset='sku', keep = 'first')"
      ],
      "metadata": {
        "id": "TdzFKp_WuFs5"
      },
      "execution_count": 473,
      "outputs": []
    },
    {
      "cell_type": "markdown",
      "source": [
        "# Leyendo Reportes\n",
        "\n",
        "Si solo se va a leer un reporte, este deberá ser guardado como \"Reporte\". Si no, los reportes deberán ser guardados de forma seriada, es decir, \"Reporte1\", \"Reporte2\", \"Reporte3\", etc.\n",
        "\n",
        "El orden no debería importar"
      ],
      "metadata": {
        "id": "vAgAiR460iTu"
      }
    },
    {
      "cell_type": "code",
      "source": [
        "reportes = pl.read_csv('Reportes.txt', separator='\\t')"
      ],
      "metadata": {
        "id": "5kUerdB98z40"
      },
      "execution_count": 474,
      "outputs": []
    },
    {
      "cell_type": "code",
      "source": [
        "duplicados = reportes.group_by('amazon-order-id').len()\n",
        "display(duplicados.filter(pl.col('len') > 1))"
      ],
      "metadata": {
        "colab": {
          "base_uri": "https://localhost:8080/",
          "height": 161
        },
        "id": "1YZHTHaTwHCQ",
        "outputId": "1589457e-5bb6-4c8c-fce4-5f300a08f931"
      },
      "execution_count": 475,
      "outputs": [
        {
          "output_type": "display_data",
          "data": {
            "text/plain": [
              "shape: (2, 2)\n",
              "┌─────────────────────┬─────┐\n",
              "│ amazon-order-id     ┆ len │\n",
              "│ ---                 ┆ --- │\n",
              "│ str                 ┆ u32 │\n",
              "╞═════════════════════╪═════╡\n",
              "│ 701-9053270-2310620 ┆ 2   │\n",
              "│ 702-3152486-5615458 ┆ 2   │\n",
              "└─────────────────────┴─────┘"
            ],
            "text/html": [
              "<div><style>\n",
              ".dataframe > thead > tr,\n",
              ".dataframe > tbody > tr {\n",
              "  text-align: right;\n",
              "  white-space: pre-wrap;\n",
              "}\n",
              "</style>\n",
              "<small>shape: (2, 2)</small><table border=\"1\" class=\"dataframe\"><thead><tr><th>amazon-order-id</th><th>len</th></tr><tr><td>str</td><td>u32</td></tr></thead><tbody><tr><td>&quot;701-9053270-2310620&quot;</td><td>2</td></tr><tr><td>&quot;702-3152486-5615458&quot;</td><td>2</td></tr></tbody></table></div>"
            ]
          },
          "metadata": {}
        }
      ]
    },
    {
      "cell_type": "markdown",
      "source": [
        "# Leyendo Transacciones\n",
        "\n",
        "Si solo se va a leer una transacción, esta deberá ser guardada como \"Transacciones\". Si no, deberán ser guardadas de forma seriada, como los reportes.\n",
        "\n",
        "***Nota 1: Las transacciones deberán ser pasados primero por la herramienta de limpieza de transacciones. Si no, generarán problemas***\n",
        "\n",
        "***Nota 2: Los reembolsos se tratarán aparte***"
      ],
      "metadata": {
        "id": "kiyOwtRU0czm"
      }
    },
    {
      "cell_type": "code",
      "source": [
        "transacciones = pl.read_excel('Transacciones.xlsx', sheet_id=1)"
      ],
      "metadata": {
        "id": "d0zxp6yD9Hj8"
      },
      "execution_count": 476,
      "outputs": []
    },
    {
      "cell_type": "code",
      "source": [
        "transacciones = transacciones.filter(pl.col('Tipo de transacción') != 'Reembolso')"
      ],
      "metadata": {
        "id": "o5Lvva5LykfY"
      },
      "execution_count": 477,
      "outputs": []
    },
    {
      "cell_type": "code",
      "source": [
        "transacciones = transacciones.rename({'Número de pedido':'amazon-order-id'})"
      ],
      "metadata": {
        "id": "T0uLvdziRmF4"
      },
      "execution_count": 478,
      "outputs": []
    },
    {
      "cell_type": "code",
      "source": [
        "df = reportes.join(transacciones, on='amazon-order-id', how='left')"
      ],
      "metadata": {
        "id": "adoDsogFRd-Q"
      },
      "execution_count": 479,
      "outputs": []
    },
    {
      "cell_type": "markdown",
      "source": [
        "Renombramos la columna de Número de pedido a amazon-amazon-amazon-amazon-amazon-order-id, para hacer la unión luego con el reporte de pedidos"
      ],
      "metadata": {
        "id": "NdhhTV_O1YGl"
      }
    },
    {
      "cell_type": "code",
      "source": [
        "formato_num = {pl.Int64:\"0\", pl.Float64:\"0.00\"}"
      ],
      "metadata": {
        "id": "EpOwCYFSljpA"
      },
      "execution_count": 480,
      "outputs": []
    },
    {
      "cell_type": "markdown",
      "source": [
        "# Leyendo los reportes de envíos"
      ],
      "metadata": {
        "id": "09hcXqc7aH2_"
      }
    },
    {
      "cell_type": "code",
      "source": [
        "envios = pl.read_csv(\"Envios.csv\", infer_schema_length=10000)"
      ],
      "metadata": {
        "id": "D5AcCiYib433"
      },
      "execution_count": 481,
      "outputs": []
    },
    {
      "cell_type": "markdown",
      "source": [
        "# Juntando el reporte de envíos y las transacciones"
      ],
      "metadata": {
        "id": "17cef25erEeg"
      }
    },
    {
      "cell_type": "code",
      "source": [
        "envios = envios.rename({'NUMERO ORDEN':'amazon-order-id'})\n",
        "envios = envios.select(['amazon-order-id', 'VALOR GUIA ($)', 'ZONA EXTENDIDA ($)', 'EXTRAGRANDE ($)', 'SOBREPESOS ($)', 'PROTECCION ($)', 'TOTAL GUIA ($)'])"
      ],
      "metadata": {
        "id": "16lTsDI1rPlP"
      },
      "execution_count": 482,
      "outputs": []
    },
    {
      "cell_type": "code",
      "source": [
        "df = df.join(envios, on='amazon-order-id', how='left')"
      ],
      "metadata": {
        "id": "XerodrHDqZki"
      },
      "execution_count": 483,
      "outputs": []
    },
    {
      "cell_type": "code",
      "source": [
        "df = df.with_columns(pl.col('VALOR GUIA ($)').fill_null(0),\n",
        "                       pl.col('ZONA EXTENDIDA ($)').fill_null(0),\n",
        "                       pl.col('EXTRAGRANDE ($)').fill_null(0),\n",
        "                       pl.col('SOBREPESOS ($)').fill_null(0),\n",
        "                       pl.col('PROTECCION ($)').fill_null(0),\n",
        "                       pl.col('TOTAL GUIA ($)').fill_null(0))"
      ],
      "metadata": {
        "id": "AYq5o9mNrWgC"
      },
      "execution_count": 484,
      "outputs": []
    },
    {
      "cell_type": "code",
      "source": [
        "df = df.join(c_sku, on='sku', how='left')\n",
        "df = df.update(c_alfa, on='sku', how='left', include_nulls=False)\n",
        "df = df.update(c_asin, on='sku', how='left', include_nulls=False)\n",
        "df = df.update(c_clave, on='sku', how='left', include_nulls=False)"
      ],
      "metadata": {
        "id": "J7qXaIJGICzw"
      },
      "execution_count": 485,
      "outputs": []
    },
    {
      "cell_type": "code",
      "source": [
        "c_asin = c_asin.rename({'sku':'asin'})\n",
        "df = df.update(c_asin, on = 'asin', how='left', include_nulls=False)"
      ],
      "metadata": {
        "id": "cmemPF0RjapJ"
      },
      "execution_count": 486,
      "outputs": []
    },
    {
      "cell_type": "code",
      "source": [
        "df = df.with_columns(pl.col('shipping-price').fill_null(0),\n",
        "                     pl.col('shipping-tax').fill_null(0),\n",
        "                     pl.col('item-tax').fill_null(0),\n",
        "                     pl.col('gift-wrap-price').fill_null(0),\n",
        "                     pl.col('gift-wrap-tax').fill_null(0),\n",
        "                     pl.col('item-promotion-discount').fill_null(0),\n",
        "                     pl.col('ship-promotion-discount').fill_null(0))"
      ],
      "metadata": {
        "id": "d_R0ZlDkttFT"
      },
      "execution_count": 487,
      "outputs": []
    },
    {
      "cell_type": "code",
      "source": [
        "df = df.with_columns((pl.col('TOTAL GUIA ($)') + pl.col('Costo de envío')).alias('TOTAL GUIA ($)'))\n",
        "df = df.drop(['Costo de envío'])"
      ],
      "metadata": {
        "id": "-adin2c71aDp"
      },
      "execution_count": 488,
      "outputs": []
    },
    {
      "cell_type": "code",
      "source": [
        "df = df.with_columns((pl.col('item-price') - pl.col('item-tax') - pl.col('TOTAL GUIA ($)') - pl.col('Costo')).alias('Rentabilidad bruta'))"
      ],
      "metadata": {
        "id": "lFKEK_bTs1eL"
      },
      "execution_count": 489,
      "outputs": []
    },
    {
      "cell_type": "code",
      "source": [
        "df = df.with_columns(pl.col('Rentabilidad bruta').round(2))"
      ],
      "metadata": {
        "id": "UEIPrt_C5_iB"
      },
      "execution_count": 490,
      "outputs": []
    },
    {
      "cell_type": "code",
      "source": [
        "df = df.with_columns((pl.when(pl.col('order-status') == 'Cancelled'))\n",
        "                        .then(None)\n",
        "                        .otherwise(pl.col('Rentabilidad bruta'))\n",
        "                        .alias('Rentabilidad bruta'))"
      ],
      "metadata": {
        "id": "RNlO2xAAWqy8"
      },
      "execution_count": 491,
      "outputs": []
    },
    {
      "cell_type": "code",
      "source": [
        "df = df.with_columns((pl.when(pl.col('order-status') == 'Cancelled'))\n",
        "                        .then(None)\n",
        "                        .otherwise(pl.col('Costo'))\n",
        "                        .alias('Costo'))"
      ],
      "metadata": {
        "id": "1WC7vPuwbipI"
      },
      "execution_count": 492,
      "outputs": []
    },
    {
      "cell_type": "code",
      "source": [
        "df = df.with_columns((pl.when(pl.col('Rentabilidad bruta') > 0))\n",
        "                     .then(pl.lit('Sí'))\n",
        "                     .otherwise(pl.lit('No'))\n",
        "                     .alias('¿Rentable?'))"
      ],
      "metadata": {
        "id": "y3W-Hliv6qDB"
      },
      "execution_count": 493,
      "outputs": []
    },
    {
      "cell_type": "code",
      "source": [
        "df = df.with_columns(pl.col('Rentabilidad bruta').round(2),\n",
        "                     pl.col('TOTAL GUIA ($)').round(2),\n",
        "                     pl.col('Costo').round(2))"
      ],
      "metadata": {
        "id": "Za4XnsFUSoWG"
      },
      "execution_count": 494,
      "outputs": []
    },
    {
      "cell_type": "code",
      "source": [
        "df = df.with_columns((pl.when(pl.col('order-status') == 'Cancelled'))\n",
        "                        .then(pl.lit('Cancelado'))\n",
        "                        .otherwise(pl.col('¿Rentable?'))\n",
        "                        .alias('¿Rentable?'))"
      ],
      "metadata": {
        "id": "wch3ZRnBSweU"
      },
      "execution_count": 495,
      "outputs": []
    },
    {
      "cell_type": "markdown",
      "source": [
        "# Reembolsos\n",
        "Los reembolsos se verán en otra hoja"
      ],
      "metadata": {
        "id": "HOVlqQs8yVAD"
      }
    },
    {
      "cell_type": "code",
      "source": [
        "t_reembolsos = pl.read_excel('Transacciones.xlsx', sheet_id=1)\n",
        "t_reembolsos = t_reembolsos.filter(pl.col('Tipo de transacción') == 'Reembolso')\n",
        "t_reembolsos = t_reembolsos.rename({'Número de pedido':'amazon-order-id'})"
      ],
      "metadata": {
        "id": "q0LVd5GFzKXJ"
      },
      "execution_count": 496,
      "outputs": []
    },
    {
      "cell_type": "markdown",
      "source": [
        "# Escribiendo Excel"
      ],
      "metadata": {
        "id": "fxex59nUZNTs"
      }
    },
    {
      "cell_type": "code",
      "source": [
        "wb = xlsxwriter.Workbook(archivo)"
      ],
      "metadata": {
        "id": "2SU9y5QhZPqt"
      },
      "execution_count": 497,
      "outputs": []
    },
    {
      "cell_type": "code",
      "source": [
        "df.write_excel(workbook=wb, worksheet='Rentabilidad')\n",
        "t_reembolsos.write_excel(workbook=wb, worksheet='Reembolsos')"
      ],
      "metadata": {
        "colab": {
          "base_uri": "https://localhost:8080/"
        },
        "id": "0rHrgn2bZVET",
        "outputId": "403e305e-694d-43b7-afbc-fdb233d70e52"
      },
      "execution_count": 498,
      "outputs": [
        {
          "output_type": "execute_result",
          "data": {
            "text/plain": [
              "<xlsxwriter.workbook.Workbook at 0x7dcadca37380>"
            ]
          },
          "metadata": {},
          "execution_count": 498
        }
      ]
    },
    {
      "cell_type": "code",
      "source": [
        "wb.close()"
      ],
      "metadata": {
        "id": "sqattgF7bfSD"
      },
      "execution_count": 499,
      "outputs": []
    }
  ]
}