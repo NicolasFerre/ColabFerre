{
  "nbformat": 4,
  "nbformat_minor": 0,
  "metadata": {
    "colab": {
      "provenance": [],
      "authorship_tag": "ABX9TyNAsY48w164A+QRX9Cs+elt",
      "include_colab_link": true
    },
    "kernelspec": {
      "name": "python3",
      "display_name": "Python 3"
    },
    "language_info": {
      "name": "python"
    }
  },
  "cells": [
    {
      "cell_type": "markdown",
      "metadata": {
        "id": "view-in-github",
        "colab_type": "text"
      },
      "source": [
        "<a href=\"https://colab.research.google.com/github/NicolasFerre/ColabFerre/blob/dev/Consolidaci%C3%B3n_de_pedidos.ipynb\" target=\"_parent\"><img src=\"https://colab.research.google.com/assets/colab-badge.svg\" alt=\"Open In Colab\"/></a>"
      ]
    },
    {
      "cell_type": "code",
      "source": [
        "#!pip install xlsxwriter\n",
        "#!pip install python-calamine\n",
        "#!pip install fastexcel"
      ],
      "metadata": {
        "id": "N2_FvAusbpwr"
      },
      "execution_count": 40,
      "outputs": []
    },
    {
      "cell_type": "code",
      "execution_count": 41,
      "metadata": {
        "id": "Fiv25Ztgsu1O"
      },
      "outputs": [],
      "source": [
        "# Probando polars, no pregunten xd\n",
        "import polars as ps\n",
        "import pandas as pd\n",
        "import numpy as np"
      ]
    },
    {
      "cell_type": "code",
      "source": [
        "reportes_cantidad = input(\"Cantidad de reportes: \")\n",
        "reportes_cantidad = int(reportes_cantidad)"
      ],
      "metadata": {
        "colab": {
          "base_uri": "https://localhost:8080/"
        },
        "id": "mez2IHbBto3p",
        "outputId": "1f336bb7-b705-4688-c294-3b322c71addd"
      },
      "execution_count": 42,
      "outputs": [
        {
          "name": "stdout",
          "output_type": "stream",
          "text": [
            "Cantidad de reportes: 3\n"
          ]
        }
      ]
    },
    {
      "cell_type": "code",
      "source": [
        "transacciones_cantidad = input(\"Cantidad de transacciones: \")\n",
        "transacciones_cantidad = int(transacciones_cantidad)"
      ],
      "metadata": {
        "colab": {
          "base_uri": "https://localhost:8080/"
        },
        "id": "2GMvDee-IK9T",
        "outputId": "c2964266-7f74-4bdf-a7ed-d8315ef53235"
      },
      "execution_count": 43,
      "outputs": [
        {
          "name": "stdout",
          "output_type": "stream",
          "text": [
            "Cantidad de transacciones: 57\n"
          ]
        }
      ]
    },
    {
      "cell_type": "code",
      "source": [
        "archivos = []\n",
        "for i in range(reportes_cantidad):\n",
        "    archivos.append((f\"Reportes/Reporte{i+1}.txt\"))"
      ],
      "metadata": {
        "id": "qlQ05vKyt15f"
      },
      "execution_count": 44,
      "outputs": []
    },
    {
      "cell_type": "code",
      "source": [
        "reportes = ps.read_csv(archivos[0], separator=\"\\t\")"
      ],
      "metadata": {
        "id": "cCMi5j5ruLJP"
      },
      "execution_count": 45,
      "outputs": []
    },
    {
      "cell_type": "code",
      "source": [
        "if len(archivos) > 1:\n",
        "  for i in range(1, reportes_cantidad):\n",
        "      reportes = reportes.vstack(ps.read_csv(archivos[i], separator=\"\\t\", schema=reportes.schema, truncate_ragged_lines=True))\n",
        "  print(f\"Uniendo {reportes_cantidad} reportes\")\n"
      ],
      "metadata": {
        "colab": {
          "base_uri": "https://localhost:8080/"
        },
        "id": "DbGq-1cXvusP",
        "outputId": "4f3125ea-66c6-41de-c922-69d13ca0aeaa"
      },
      "execution_count": 46,
      "outputs": [
        {
          "output_type": "stream",
          "name": "stdout",
          "text": [
            "Uniendo 3 reportes\n"
          ]
        }
      ]
    },
    {
      "cell_type": "code",
      "source": [
        "reportes.write_csv(\"Reporte.txt\", separator=\"\\t\")"
      ],
      "metadata": {
        "id": "3HtRfI5dwdne"
      },
      "execution_count": 47,
      "outputs": []
    },
    {
      "cell_type": "code",
      "source": [
        "transacciones = ps.read_csv(\"Transacciones/Transacciones1.csv\", separator = ',')"
      ],
      "metadata": {
        "id": "qzHaP6CbzIJ-"
      },
      "execution_count": 48,
      "outputs": []
    },
    {
      "cell_type": "code",
      "source": [
        "archivos = []\n",
        "for i in range(transacciones_cantidad):\n",
        "    archivos.append((f\"Transacciones/Transacciones{i+1}.csv\"))"
      ],
      "metadata": {
        "id": "2fR9xtaGzP0O"
      },
      "execution_count": 49,
      "outputs": []
    },
    {
      "cell_type": "code",
      "source": [
        "if len(archivos) > 1:\n",
        "  for i in range(1, transacciones_cantidad):\n",
        "      transacciones = transacciones.vstack(ps.read_csv(archivos[i], separator = ',', schema=transacciones.schema, truncate_ragged_lines=True))"
      ],
      "metadata": {
        "id": "7wRG3GEZRctp"
      },
      "execution_count": 50,
      "outputs": []
    },
    {
      "cell_type": "code",
      "source": [
        "transacciones.write_csv(\"Transacciones.csv\", separator=\",\")"
      ],
      "metadata": {
        "id": "wWBYJXMNI5k7"
      },
      "execution_count": 51,
      "outputs": []
    },
    {
      "cell_type": "code",
      "source": [
        "transacciones = transacciones.rename({'Número de pedido':'amazon-order-id'})"
      ],
      "metadata": {
        "id": "KXWIMteTaIx4"
      },
      "execution_count": 52,
      "outputs": []
    },
    {
      "cell_type": "code",
      "source": [
        "df = reportes.join(transacciones, on='amazon-order-id', how='left', suffix='_transacciones')"
      ],
      "metadata": {
        "id": "i2bPd7zPahJB"
      },
      "execution_count": 53,
      "outputs": []
    },
    {
      "cell_type": "code",
      "source": [
        "formato_num = {ps.Int64:\"0\", ps.Float64:\"0.00\"}"
      ],
      "metadata": {
        "id": "EpOwCYFSljpA"
      },
      "execution_count": 54,
      "outputs": []
    },
    {
      "cell_type": "code",
      "source": [
        "df.write_excel(\"ConsolidacionReportes.xlsx\", worksheet='Reporte', dtype_formats=formato_num)"
      ],
      "metadata": {
        "colab": {
          "base_uri": "https://localhost:8080/"
        },
        "id": "3TTcQi3-axgA",
        "outputId": "e3c40cf0-2073-44a8-86ac-ae9f1cc68eb6"
      },
      "execution_count": 55,
      "outputs": [
        {
          "output_type": "execute_result",
          "data": {
            "text/plain": [
              "<xlsxwriter.workbook.Workbook at 0x7844d33ab110>"
            ]
          },
          "metadata": {},
          "execution_count": 55
        }
      ]
    },
    {
      "cell_type": "code",
      "source": [
        "df = transacciones.join(reportes, on='amazon-order-id', how='left', suffix='_reportes')"
      ],
      "metadata": {
        "id": "XmDng9s9eHHx"
      },
      "execution_count": 56,
      "outputs": []
    },
    {
      "cell_type": "code",
      "source": [
        "df.write_excel(\"ConsolidacionTransacciones.xlsx\", worksheet='Transacciones', dtype_formats=formato_num)"
      ],
      "metadata": {
        "colab": {
          "base_uri": "https://localhost:8080/"
        },
        "id": "6uhSvikFeJl4",
        "outputId": "a0909351-f147-4400-8804-c7b8a0f3d5fa"
      },
      "execution_count": 57,
      "outputs": [
        {
          "output_type": "execute_result",
          "data": {
            "text/plain": [
              "<xlsxwriter.workbook.Workbook at 0x7844d2ce6ad0>"
            ]
          },
          "metadata": {},
          "execution_count": 57
        }
      ]
    }
  ]
}