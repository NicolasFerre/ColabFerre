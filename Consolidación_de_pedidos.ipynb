{
  "nbformat": 4,
  "nbformat_minor": 0,
  "metadata": {
    "colab": {
      "provenance": [],
      "authorship_tag": "ABX9TyOUsl6mkYdTjWD26dRABPJR",
      "include_colab_link": true
    },
    "kernelspec": {
      "name": "python3",
      "display_name": "Python 3"
    },
    "language_info": {
      "name": "python"
    }
  },
  "cells": [
    {
      "cell_type": "markdown",
      "metadata": {
        "id": "view-in-github",
        "colab_type": "text"
      },
      "source": [
        "<a href=\"https://colab.research.google.com/github/NicolasFerre/ColabFerre/blob/dev/Consolidaci%C3%B3n_de_pedidos.ipynb\" target=\"_parent\"><img src=\"https://colab.research.google.com/assets/colab-badge.svg\" alt=\"Open In Colab\"/></a>"
      ]
    },
    {
      "cell_type": "markdown",
      "source": [
        "# Instalaciones previas"
      ],
      "metadata": {
        "id": "Chmfd9Sey_bH"
      }
    },
    {
      "cell_type": "code",
      "source": [
        "#!pip install xlsxwriter\n",
        "#!pip install python-calamine\n",
        "#!pip install fastexcel"
      ],
      "metadata": {
        "id": "N2_FvAusbpwr"
      },
      "execution_count": 154,
      "outputs": []
    },
    {
      "cell_type": "markdown",
      "source": [
        "# Librerías necesarias"
      ],
      "metadata": {
        "id": "DA6w3y-yzFm2"
      }
    },
    {
      "cell_type": "code",
      "execution_count": 155,
      "metadata": {
        "id": "Fiv25Ztgsu1O"
      },
      "outputs": [],
      "source": [
        "import polars as ps\n",
        "import pandas as pd\n",
        "import numpy as np"
      ]
    },
    {
      "cell_type": "markdown",
      "source": [
        "# Archivos necesarios"
      ],
      "metadata": {
        "id": "sOEeBg0V-e_Z"
      }
    },
    {
      "cell_type": "code",
      "source": [
        "renglonaje_og = ps.read_excel(\"Renglonaje.xlsx\", sheet_id=1)\n",
        "renglonaje = renglonaje_og.select(['código', 'clave', 'Total que paga Edy a Truper contando reserva en garantía CON IVA'])\n",
        "renglonaje = renglonaje.rename({'Total que paga Edy a Truper contando reserva en garantía CON IVA':'Costo', 'código':'clave', 'clave':'sku'})"
      ],
      "metadata": {
        "id": "WO44My9y-gjQ"
      },
      "execution_count": 156,
      "outputs": []
    },
    {
      "cell_type": "markdown",
      "source": [
        "## Relación Asín-SKU"
      ],
      "metadata": {
        "id": "GpOwstnWEAiQ"
      }
    },
    {
      "cell_type": "code",
      "source": [
        "asin = ps.read_excel('Asin.xlsx', sheet_id=2)\n",
        "asin = asin.rename({'sku':'alfa', 'Sku Truper':'sku'})\n",
        "asin = asin.select(['sku', 'alfa', 'asin'])\n",
        "# Conditionally update the 'alfa' column:\n",
        "# - Use with_columns to modify existing columns.\n",
        "# - ps.when checks if the value in 'alfa' is equal to the value in 'sku'.\n",
        "# - .then(ps.lit('')) replaces the value with an empty string if the condition is true.\n",
        "# - .otherwise(ps.col('alfa')) keeps the original 'alfa' value if the condition is false.\n",
        "# - .alias('alfa') renames the resulting column back to 'alfa'.\n",
        "asin = asin.with_columns(\n",
        "    ps.when(ps.col('alfa') == ps.col('sku'))\n",
        "    .then(ps.lit(''))\n",
        "    .otherwise(ps.col('alfa'))\n",
        "    .alias('alfa')\n",
        ")"
      ],
      "metadata": {
        "id": "QxdHz4TOAESo"
      },
      "execution_count": 157,
      "outputs": []
    },
    {
      "cell_type": "code",
      "source": [
        "renglonaje = renglonaje.join(asin, on='sku', how='left')"
      ],
      "metadata": {
        "id": "_L8eaSYvAqtI"
      },
      "execution_count": 158,
      "outputs": []
    },
    {
      "cell_type": "code",
      "source": [
        "renglonaje = renglonaje.filter(ps.col('Costo').is_not_null())\n",
        "renglonaje = renglonaje.fill_null('')"
      ],
      "metadata": {
        "id": "sLEYTRTYH8VH"
      },
      "execution_count": 159,
      "outputs": []
    },
    {
      "cell_type": "code",
      "source": [
        "c_sku = renglonaje.select(['sku', 'Costo'])\n",
        "c_sku = c_sku.rename({'Costo':'Costo_sku'})\n",
        "c_alfa = renglonaje.select(['alfa', 'Costo'])\n",
        "c_alfa = c_alfa.rename({'Costo':'Costo_alfa', 'alfa':'sku'})\n",
        "c_asin = renglonaje.select(['asin', 'Costo'])\n",
        "c_asin = c_asin.rename({'Costo':'Costo_asin', 'asin':'sku'})\n",
        "c_clave = renglonaje.select(['clave', 'Costo'])\n",
        "c_clave = c_clave.rename({'Costo':'Costo_clave', 'clave':'sku'})\n",
        "c_clave = c_clave.with_columns(ps.col('sku').cast(ps.Utf8))"
      ],
      "metadata": {
        "id": "MNXbUjc7BTvg"
      },
      "execution_count": 160,
      "outputs": []
    },
    {
      "cell_type": "markdown",
      "source": [
        "# Reportes de Amazon\n",
        "Aquí se definen cuantos reportes y transacciones se van a procesar"
      ],
      "metadata": {
        "id": "noyJ8piJzIXE"
      }
    },
    {
      "cell_type": "code",
      "source": [
        "loop = True\n",
        "while loop:\n",
        "  try:\n",
        "    reportes_cantidad = input(\"Cantidad de reportes: \")\n",
        "    reportes_cantidad = int(reportes_cantidad)\n",
        "    loop = False\n",
        "  except:\n",
        "    print(\"\\nIngresa un número válido\\n\")"
      ],
      "metadata": {
        "colab": {
          "base_uri": "https://localhost:8080/"
        },
        "id": "mez2IHbBto3p",
        "outputId": "7b3021c9-9487-40ae-84dd-f4e870d698f9"
      },
      "execution_count": 161,
      "outputs": [
        {
          "name": "stdout",
          "output_type": "stream",
          "text": [
            "Cantidad de reportes: 3\n"
          ]
        }
      ]
    },
    {
      "cell_type": "code",
      "source": [
        "loop = True\n",
        "while loop:\n",
        "  try:\n",
        "    transacciones_cantidad = input(\"Cantidad de transacciones: \")\n",
        "    transacciones_cantidad = int(transacciones_cantidad)\n",
        "    loop = False\n",
        "  except:\n",
        "    print(\"\\nIngresa un número válido\\n\")"
      ],
      "metadata": {
        "colab": {
          "base_uri": "https://localhost:8080/"
        },
        "id": "2GMvDee-IK9T",
        "outputId": "e7d5252b-fc7a-4e52-9bfe-67c0abd1aa2d"
      },
      "execution_count": 162,
      "outputs": [
        {
          "name": "stdout",
          "output_type": "stream",
          "text": [
            "Cantidad de transacciones: 57\n"
          ]
        }
      ]
    },
    {
      "cell_type": "markdown",
      "source": [
        "# Leyendo Reportes\n",
        "\n",
        "Si solo se va a leer un reporte, este deberá ser guardado como \"Reporte\". Si no, los reportes deberán ser guardados de forma seriada, es decir, \"Reporte1\", \"Reporte2\", \"Reporte3\", etc.\n",
        "\n",
        "El orden no debería importar"
      ],
      "metadata": {
        "id": "vAgAiR460iTu"
      }
    },
    {
      "cell_type": "code",
      "source": [
        "archivo = ''\n",
        "archivos = []\n",
        "if reportes_cantidad == 1:\n",
        "    archivo = \"Reportes/Reporte.txt\"\n",
        "else:\n",
        "  for i in range(reportes_cantidad):\n",
        "      archivos.append((f\"Reportes/Reporte{i+1}.txt\"))"
      ],
      "metadata": {
        "id": "qlQ05vKyt15f"
      },
      "execution_count": 163,
      "outputs": []
    },
    {
      "cell_type": "code",
      "source": [
        "if archivo == '':\n",
        "  reportes = ps.read_csv(archivos[0], separator=\"\\t\")\n",
        "else:\n",
        "  reportes = ps.read_csv(archivo, separator=\"\\t\")"
      ],
      "metadata": {
        "id": "cCMi5j5ruLJP"
      },
      "execution_count": 164,
      "outputs": []
    },
    {
      "cell_type": "code",
      "source": [
        "if len(archivos) > 1:\n",
        "  for i in range(1, reportes_cantidad):\n",
        "      reportes = reportes.vstack(ps.read_csv(archivos[i], separator=\"\\t\", schema=reportes.schema, truncate_ragged_lines=True))\n",
        "  print(f\"Uniendo {reportes_cantidad} reportes\")\n"
      ],
      "metadata": {
        "colab": {
          "base_uri": "https://localhost:8080/"
        },
        "id": "DbGq-1cXvusP",
        "outputId": "fb00ce1f-550a-4a75-af08-d2610ed31674"
      },
      "execution_count": 165,
      "outputs": [
        {
          "output_type": "stream",
          "name": "stdout",
          "text": [
            "Uniendo 3 reportes\n"
          ]
        }
      ]
    },
    {
      "cell_type": "markdown",
      "source": [
        "# Leyendo Transacciones\n",
        "\n",
        "Si solo se va a leer una transacción, esta deberá ser guardada como \"Transacciones\". Si no, deberán ser guardadas de forma seriada, como los reportes.\n",
        "\n",
        "***Nota: Los reportes deberán ser pasados primero por la herramienta de limpieza de transacciones. Si no, generarán problemas***"
      ],
      "metadata": {
        "id": "kiyOwtRU0czm"
      }
    },
    {
      "cell_type": "code",
      "source": [
        "archivo = ''\n",
        "archivos = []\n",
        "if transacciones_cantidad == 1:\n",
        "    archivo = \"Transacciones/Transacciones.csv\"\n",
        "else:\n",
        "  for i in range(transacciones_cantidad):\n",
        "      archivos.append((f\"Transacciones/Transacciones{i+1}.csv\"))"
      ],
      "metadata": {
        "id": "qzHaP6CbzIJ-"
      },
      "execution_count": 166,
      "outputs": []
    },
    {
      "cell_type": "code",
      "source": [
        "if archivo == '':\n",
        "  transacciones = ps.read_csv(archivos[0], separator=\",\")\n",
        "else:\n",
        "  transacciones = ps.read_csv(archivo, separator=\",\")"
      ],
      "metadata": {
        "id": "2fR9xtaGzP0O"
      },
      "execution_count": 167,
      "outputs": []
    },
    {
      "cell_type": "code",
      "source": [
        "if len(archivos) > 1:\n",
        "  for i in range(1, transacciones_cantidad):\n",
        "      transacciones = transacciones.vstack(ps.read_csv(archivos[i], separator = ',', schema=transacciones.schema, truncate_ragged_lines=True))"
      ],
      "metadata": {
        "id": "7wRG3GEZRctp"
      },
      "execution_count": 168,
      "outputs": []
    },
    {
      "cell_type": "markdown",
      "source": [
        "Renombramos la columna de Número de pedido a amazon-order-id, para hacer la unión luego con el reporte de pedidos"
      ],
      "metadata": {
        "id": "NdhhTV_O1YGl"
      }
    },
    {
      "cell_type": "code",
      "source": [
        "transacciones = transacciones.rename({'Número de pedido':'amazon-order-id'})"
      ],
      "metadata": {
        "id": "KXWIMteTaIx4"
      },
      "execution_count": 169,
      "outputs": []
    },
    {
      "cell_type": "code",
      "source": [
        "dfr = reportes.join(transacciones, on='amazon-order-id', how='left', suffix='_transacciones')"
      ],
      "metadata": {
        "id": "i2bPd7zPahJB"
      },
      "execution_count": 170,
      "outputs": []
    },
    {
      "cell_type": "code",
      "source": [
        "formato_num = {ps.Int64:\"0\", ps.Float64:\"0.00\"}"
      ],
      "metadata": {
        "id": "EpOwCYFSljpA"
      },
      "execution_count": 171,
      "outputs": []
    },
    {
      "cell_type": "code",
      "source": [
        "dft = transacciones.join(reportes, on='amazon-order-id', how='left', suffix='_reportes')"
      ],
      "metadata": {
        "id": "XmDng9s9eHHx"
      },
      "execution_count": 172,
      "outputs": []
    },
    {
      "cell_type": "markdown",
      "source": [
        "# Consolidando reporte de envíos"
      ],
      "metadata": {
        "id": "09hcXqc7aH2_"
      }
    },
    {
      "cell_type": "code",
      "source": [
        "archivo_envios = 'Envios enero-julio.xlsx'\n",
        "envios_1 = pd.read_excel(archivo_envios, sheet_name = 0, header=3)\n",
        "envios_2 = pd.read_excel(archivo_envios, sheet_name = 1, header=3)\n",
        "reporte_envios = pd.concat([envios_1, envios_2])\n",
        "reporte_envios = reporte_envios.reset_index(drop=True)\n",
        "reporte_envios.to_excel(\"Envios.xlsx\", index=False)"
      ],
      "metadata": {
        "id": "boCIvBaqaGSH"
      },
      "execution_count": 173,
      "outputs": []
    },
    {
      "cell_type": "code",
      "source": [
        "envios = ps.read_excel(\"Envios.xlsx\", sheet_id=1)"
      ],
      "metadata": {
        "colab": {
          "base_uri": "https://localhost:8080/"
        },
        "id": "D5AcCiYib433",
        "outputId": "98fe7a40-6923-40e6-cf88-8831c5c9a8e9"
      },
      "execution_count": 174,
      "outputs": [
        {
          "output_type": "stream",
          "name": "stderr",
          "text": [
            "WARNING:fastexcel.types.dtype:Could not determine dtype for column 13, falling back to string\n"
          ]
        }
      ]
    },
    {
      "cell_type": "code",
      "source": [
        "envios = envios.with_columns(ps.col('PROTECCION ($)').fill_null(0))\n",
        "envios = envios.with_columns(ps.col('PROTECCION ($)').cast(ps.Float32))"
      ],
      "metadata": {
        "id": "rS9Vn-PcciZX"
      },
      "execution_count": 175,
      "outputs": []
    },
    {
      "cell_type": "markdown",
      "source": [
        "# Juntando el reporte de envíos y las transacciones"
      ],
      "metadata": {
        "id": "17cef25erEeg"
      }
    },
    {
      "cell_type": "code",
      "source": [
        "envios = envios.rename({'NUMERO ORDEN':'amazon-order-id'})\n",
        "envios = envios.select(['amazon-order-id', 'VALOR GUIA ($)', 'ZONA EXTENDIDA ($)', 'EXTRAGRANDE ($)', 'SOBREPESOS ($)', 'PROTECCION ($)', 'TOTAL GUIA ($)'])\n",
        "dfr = dfr.join(envios, on='amazon-order-id', how='left')"
      ],
      "metadata": {
        "id": "16lTsDI1rPlP"
      },
      "execution_count": 176,
      "outputs": []
    },
    {
      "cell_type": "code",
      "source": [
        "dfr = dfr.with_columns(ps.col('VALOR GUIA ($)').fill_null(0),\n",
        "                       ps.col('ZONA EXTENDIDA ($)').fill_null(0),\n",
        "                       ps.col('EXTRAGRANDE ($)').fill_null(0),\n",
        "                       ps.col('SOBREPESOS ($)').fill_null(0),\n",
        "                       ps.col('PROTECCION ($)').fill_null(0),\n",
        "                       ps.col('TOTAL GUIA ($)').fill_null(0))"
      ],
      "metadata": {
        "id": "GI0mlGtq05lu"
      },
      "execution_count": 177,
      "outputs": []
    },
    {
      "cell_type": "code",
      "source": [
        "dft = dft.join(envios, on='amazon-order-id', how='left')\n",
        "dft = dft.with_columns(ps.col('VALOR GUIA ($)').fill_null(0),\n",
        "                       ps.col('ZONA EXTENDIDA ($)').fill_null(0),\n",
        "                       ps.col('EXTRAGRANDE ($)').fill_null(0),\n",
        "                       ps.col('SOBREPESOS ($)').fill_null(0),\n",
        "                       ps.col('PROTECCION ($)').fill_null(0),\n",
        "                       ps.col('TOTAL GUIA ($)').fill_null(0))"
      ],
      "metadata": {
        "id": "pfLG_IicwpFH"
      },
      "execution_count": 178,
      "outputs": []
    },
    {
      "cell_type": "code",
      "source": [
        "dfr = dfr.join(c_sku, on='sku', how='left')\n",
        "dfr = dfr.join(c_alfa, on='sku', how='left')\n",
        "dfr = dfr.join(c_asin, on='sku', how='left')\n",
        "dfr = dfr.join(c_clave, on='sku', how='left')"
      ],
      "metadata": {
        "id": "TmcLAvGW03Gu"
      },
      "execution_count": 179,
      "outputs": []
    },
    {
      "cell_type": "code",
      "source": [
        "dfr = dfr.with_columns(ps.col('Costo_sku').fill_null(0),\n",
        "                       ps.col('Costo_alfa').fill_null(0),\n",
        "                       ps.col('Costo_asin').fill_null(0),\n",
        "                       ps.col('Costo_clave').fill_null(0))"
      ],
      "metadata": {
        "id": "9UTfE1aNJR2P"
      },
      "execution_count": 180,
      "outputs": []
    },
    {
      "cell_type": "code",
      "source": [
        "dfr = dfr.with_columns((ps.col('Costo_sku') + ps.col('Costo_alfa') + ps.col('Costo_asin') + ps.col('Costo_clave')).alias('Costo Truper'))"
      ],
      "metadata": {
        "id": "08jmCB6VJ_fm"
      },
      "execution_count": 181,
      "outputs": []
    },
    {
      "cell_type": "code",
      "source": [
        "dfr = dfr.drop(['Costo_sku', 'Costo_alfa', 'Costo_asin', 'Costo_clave'])"
      ],
      "metadata": {
        "id": "ODKKT2DHK6QV"
      },
      "execution_count": 182,
      "outputs": []
    },
    {
      "cell_type": "code",
      "source": [
        "dfr.write_excel('Reporte de envios.xlsx', worksheet=\"Reportes\")"
      ],
      "metadata": {
        "colab": {
          "base_uri": "https://localhost:8080/"
        },
        "id": "VlJbGAiqKUMW",
        "outputId": "bd98c445-dfd0-417c-9dbd-a54cf2210ecb"
      },
      "execution_count": 183,
      "outputs": [
        {
          "output_type": "execute_result",
          "data": {
            "text/plain": [
              "<xlsxwriter.workbook.Workbook at 0x7a4d76281950>"
            ]
          },
          "metadata": {},
          "execution_count": 183
        }
      ]
    },
    {
      "cell_type": "code",
      "source": [
        "dft = dft.join(c_sku, on='sku', how='left')\n",
        "dft = dft.join(c_alfa, on='sku', how='left')\n",
        "dft = dft.join(c_asin, on='sku', how='left')\n",
        "dft = dft.join(c_clave, on='sku', how='left')"
      ],
      "metadata": {
        "id": "6xlnTKjxOcrN"
      },
      "execution_count": 184,
      "outputs": []
    },
    {
      "cell_type": "code",
      "source": [
        "dft = dft.with_columns(ps.col('Costo_sku').fill_null(0),\n",
        "                       ps.col('Costo_alfa').fill_null(0),\n",
        "                       ps.col('Costo_asin').fill_null(0),\n",
        "                       ps.col('Costo_clave').fill_null(0))"
      ],
      "metadata": {
        "id": "HgFIKjZ0Ojxd"
      },
      "execution_count": 185,
      "outputs": []
    },
    {
      "cell_type": "code",
      "source": [
        "dft = dft.with_columns((ps.col('Costo_sku') + ps.col('Costo_alfa') + ps.col('Costo_asin') + ps.col('Costo_clave')).alias('Costo Truper'))"
      ],
      "metadata": {
        "id": "xB-t6gUjOnI5"
      },
      "execution_count": 186,
      "outputs": []
    },
    {
      "cell_type": "code",
      "source": [
        "dft = dft.drop(['Costo_sku', 'Costo_alfa', 'Costo_asin', 'Costo_clave'])"
      ],
      "metadata": {
        "id": "NwsuQkSJOqW0"
      },
      "execution_count": 187,
      "outputs": []
    },
    {
      "cell_type": "code",
      "source": [
        "dft.write_excel('Reporte de transacciones.xlsx', dtype_formats={ps.Float64():'General'}, worksheet=\"Transacciones\")"
      ],
      "metadata": {
        "colab": {
          "base_uri": "https://localhost:8080/"
        },
        "id": "RjJvXZSSOsSU",
        "outputId": "f48002da-43fe-4a03-dcec-c24ae7dee1a4"
      },
      "execution_count": 188,
      "outputs": [
        {
          "output_type": "execute_result",
          "data": {
            "text/plain": [
              "<xlsxwriter.workbook.Workbook at 0x7a4d734817d0>"
            ]
          },
          "metadata": {},
          "execution_count": 188
        }
      ]
    }
  ]
}