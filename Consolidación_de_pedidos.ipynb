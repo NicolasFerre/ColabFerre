{
  "nbformat": 4,
  "nbformat_minor": 0,
  "metadata": {
    "colab": {
      "provenance": [],
      "authorship_tag": "ABX9TyNTXQHNBE6RLREnmWQBYNWt",
      "include_colab_link": true
    },
    "kernelspec": {
      "name": "python3",
      "display_name": "Python 3"
    },
    "language_info": {
      "name": "python"
    }
  },
  "cells": [
    {
      "cell_type": "markdown",
      "metadata": {
        "id": "view-in-github",
        "colab_type": "text"
      },
      "source": [
        "<a href=\"https://colab.research.google.com/github/NicolasFerre/ColabFerre/blob/dev/Consolidaci%C3%B3n_de_pedidos.ipynb\" target=\"_parent\"><img src=\"https://colab.research.google.com/assets/colab-badge.svg\" alt=\"Open In Colab\"/></a>"
      ]
    },
    {
      "cell_type": "markdown",
      "source": [
        "# Instalaciones previas"
      ],
      "metadata": {
        "id": "Chmfd9Sey_bH"
      }
    },
    {
      "cell_type": "code",
      "source": [
        "#!pip install xlsxwriter\n",
        "#!pip install python-calamine\n",
        "#!pip install fastexcel"
      ],
      "metadata": {
        "id": "N2_FvAusbpwr"
      },
      "execution_count": 113,
      "outputs": []
    },
    {
      "cell_type": "markdown",
      "source": [
        "# Librerías necesarias"
      ],
      "metadata": {
        "id": "DA6w3y-yzFm2"
      }
    },
    {
      "cell_type": "code",
      "execution_count": 114,
      "metadata": {
        "id": "Fiv25Ztgsu1O"
      },
      "outputs": [],
      "source": [
        "import polars as ps\n",
        "import pandas as pd\n",
        "import numpy as np"
      ]
    },
    {
      "cell_type": "markdown",
      "source": [
        "# Archivos necesarios"
      ],
      "metadata": {
        "id": "sOEeBg0V-e_Z"
      }
    },
    {
      "cell_type": "code",
      "source": [
        "renglonaje_og = ps.read_excel(\"Renglonaje.xlsx\", sheet_id=1)\n",
        "renglonaje = renglonaje_og.select(['código', 'clave', 'Total que paga Edy a Truper contando reserva en garantía CON IVA'])\n",
        "renglonaje = renglonaje.rename({'Total que paga Edy a Truper contando reserva en garantía CON IVA':'Costo', 'código':'clave', 'clave':'sku'})"
      ],
      "metadata": {
        "id": "WO44My9y-gjQ"
      },
      "execution_count": 115,
      "outputs": []
    },
    {
      "cell_type": "markdown",
      "source": [
        "## Relación Asín-SKU"
      ],
      "metadata": {
        "id": "GpOwstnWEAiQ"
      }
    },
    {
      "cell_type": "code",
      "source": [
        "asin = ps.read_excel('Asin.xlsx', sheet_id=2)\n",
        "asin = asin.rename({'sku':'alfa', 'Sku Truper':'sku'})\n",
        "asin = asin.select(['sku', 'alfa', 'asin'])\n",
        "# Conditionally update the 'alfa' column:\n",
        "# - Use with_columns to modify existing columns.\n",
        "# - ps.when checks if the value in 'alfa' is equal to the value in 'sku'.\n",
        "# - .then(ps.lit('')) replaces the value with an empty string if the condition is true.\n",
        "# - .otherwise(ps.col('alfa')) keeps the original 'alfa' value if the condition is false.\n",
        "# - .alias('alfa') renames the resulting column back to 'alfa'.\n",
        "asin = asin.with_columns(\n",
        "    ps.when(ps.col('alfa') == ps.col('sku'))\n",
        "    .then(ps.lit(''))\n",
        "    .otherwise(ps.col('alfa'))\n",
        "    .alias('alfa')\n",
        ")"
      ],
      "metadata": {
        "colab": {
          "base_uri": "https://localhost:8080/",
          "height": 443
        },
        "id": "QxdHz4TOAESo",
        "outputId": "ed649933-2870-4674-b3ab-067231967fc2"
      },
      "execution_count": 117,
      "outputs": [
        {
          "output_type": "execute_result",
          "data": {
            "text/plain": [
              "shape: (6_566, 3)\n",
              "┌────────────┬──────────────┬────────────┐\n",
              "│ sku        ┆ alfa         ┆ asin       │\n",
              "│ ---        ┆ ---          ┆ ---        │\n",
              "│ str        ┆ str          ┆ str        │\n",
              "╞════════════╪══════════════╪════════════╡\n",
              "│ ASP-5S     ┆ 06-L62H-WPL2 ┆ B09Z3BWF34 │\n",
              "│ EST-29     ┆ 0F-ZVA0-7RNO ┆ B013QH5BBG │\n",
              "│ LAGAS-3300 ┆ 0J-XTPT-HVJH ┆ B084YS54G6 │\n",
              "│ SCI-14E    ┆ 0W-ZPBA-0RDL ┆ B013R4OSRG │\n",
              "│ ESMU-112   ┆ 100495       ┆ B08DMBSGWK │\n",
              "│ …          ┆ …            ┆ …          │\n",
              "│ ZP-5MP     ┆              ┆ B00UY22SFE │\n",
              "│ ZP-5MX     ┆              ┆ B00UY2669S │\n",
              "│ ZP-5P      ┆              ┆ B013V088V8 │\n",
              "│ ZP-7M      ┆              ┆ B00UY26YIQ │\n",
              "│ DESI-36    ┆ desi-36      ┆ B07MSCWFL7 │\n",
              "└────────────┴──────────────┴────────────┘"
            ],
            "text/html": [
              "<div><style>\n",
              ".dataframe > thead > tr,\n",
              ".dataframe > tbody > tr {\n",
              "  text-align: right;\n",
              "  white-space: pre-wrap;\n",
              "}\n",
              "</style>\n",
              "<small>shape: (6_566, 3)</small><table border=\"1\" class=\"dataframe\"><thead><tr><th>sku</th><th>alfa</th><th>asin</th></tr><tr><td>str</td><td>str</td><td>str</td></tr></thead><tbody><tr><td>&quot;ASP-5S&quot;</td><td>&quot;06-L62H-WPL2&quot;</td><td>&quot;B09Z3BWF34&quot;</td></tr><tr><td>&quot;EST-29&quot;</td><td>&quot;0F-ZVA0-7RNO&quot;</td><td>&quot;B013QH5BBG&quot;</td></tr><tr><td>&quot;LAGAS-3300&quot;</td><td>&quot;0J-XTPT-HVJH&quot;</td><td>&quot;B084YS54G6&quot;</td></tr><tr><td>&quot;SCI-14E&quot;</td><td>&quot;0W-ZPBA-0RDL&quot;</td><td>&quot;B013R4OSRG&quot;</td></tr><tr><td>&quot;ESMU-112&quot;</td><td>&quot;100495&quot;</td><td>&quot;B08DMBSGWK&quot;</td></tr><tr><td>&hellip;</td><td>&hellip;</td><td>&hellip;</td></tr><tr><td>&quot;ZP-5MP&quot;</td><td>&quot;&quot;</td><td>&quot;B00UY22SFE&quot;</td></tr><tr><td>&quot;ZP-5MX&quot;</td><td>&quot;&quot;</td><td>&quot;B00UY2669S&quot;</td></tr><tr><td>&quot;ZP-5P&quot;</td><td>&quot;&quot;</td><td>&quot;B013V088V8&quot;</td></tr><tr><td>&quot;ZP-7M&quot;</td><td>&quot;&quot;</td><td>&quot;B00UY26YIQ&quot;</td></tr><tr><td>&quot;DESI-36&quot;</td><td>&quot;desi-36&quot;</td><td>&quot;B07MSCWFL7&quot;</td></tr></tbody></table></div>"
            ]
          },
          "metadata": {},
          "execution_count": 117
        }
      ]
    },
    {
      "cell_type": "code",
      "source": [
        "renglonaje = renglonaje.join(asin, on='sku', how='left')"
      ],
      "metadata": {
        "id": "_L8eaSYvAqtI"
      },
      "execution_count": 118,
      "outputs": []
    },
    {
      "cell_type": "code",
      "source": [
        "renglonaje = renglonaje.filter(ps.col('Costo').is_not_null())\n",
        "renglonaje = renglonaje.fill_null('')"
      ],
      "metadata": {
        "colab": {
          "base_uri": "https://localhost:8080/",
          "height": 443
        },
        "id": "sLEYTRTYH8VH",
        "outputId": "f41a5ab8-24ea-44bc-d252-f200d5a2ab64"
      },
      "execution_count": 119,
      "outputs": [
        {
          "output_type": "execute_result",
          "data": {
            "text/plain": [
              "shape: (15_113, 5)\n",
              "┌────────┬─────────────┬───────────┬──────┬────────────┐\n",
              "│ clave  ┆ sku         ┆ Costo     ┆ alfa ┆ asin       │\n",
              "│ ---    ┆ ---         ┆ ---       ┆ ---  ┆ ---        │\n",
              "│ i64    ┆ str         ┆ f64       ┆ str  ┆ str        │\n",
              "╞════════╪═════════════╪═══════════╪══════╪════════════╡\n",
              "│ 100048 ┆ PET-15X     ┆ 290.9246  ┆      ┆            │\n",
              "│ 100049 ┆ PET-15C     ┆ 407.29444 ┆      ┆ B084Z6ZF55 │\n",
              "│ 100098 ┆ REP-CUT-5X  ┆ 13.96797  ┆      ┆ B084Z4PX65 │\n",
              "│ 100099 ┆ REP-CUT-6X  ┆ 24.8253   ┆      ┆ B084Z4VT1K │\n",
              "│ 100101 ┆ REP-CUT-650 ┆ 65.94158  ┆      ┆            │\n",
              "│ …      ┆ …           ┆ …         ┆ …    ┆ …          │\n",
              "│ 44814  ┆ CLE-1-1/4B  ┆ 44.64566  ┆      ┆ B013SFAZA8 │\n",
              "│ 44815  ┆ CLE-1-1/2B  ┆ 44.64566  ┆      ┆ B013SFB17O │\n",
              "│ 47389  ┆ TC-1-1/4-GC ┆ 103.25929 ┆      ┆            │\n",
              "│ 41031  ┆ EESQ-1 1/2  ┆ 34.91494  ┆      ┆ B084YXDYGC │\n",
              "│ 41033  ┆ EESQ- 2-1/2 ┆ 53.52893  ┆      ┆ B084Z3ML6Q │\n",
              "└────────┴─────────────┴───────────┴──────┴────────────┘"
            ],
            "text/html": [
              "<div><style>\n",
              ".dataframe > thead > tr,\n",
              ".dataframe > tbody > tr {\n",
              "  text-align: right;\n",
              "  white-space: pre-wrap;\n",
              "}\n",
              "</style>\n",
              "<small>shape: (15_113, 5)</small><table border=\"1\" class=\"dataframe\"><thead><tr><th>clave</th><th>sku</th><th>Costo</th><th>alfa</th><th>asin</th></tr><tr><td>i64</td><td>str</td><td>f64</td><td>str</td><td>str</td></tr></thead><tbody><tr><td>100048</td><td>&quot;PET-15X&quot;</td><td>290.9246</td><td>&quot;&quot;</td><td>&quot;&quot;</td></tr><tr><td>100049</td><td>&quot;PET-15C&quot;</td><td>407.29444</td><td>&quot;&quot;</td><td>&quot;B084Z6ZF55&quot;</td></tr><tr><td>100098</td><td>&quot;REP-CUT-5X&quot;</td><td>13.96797</td><td>&quot;&quot;</td><td>&quot;B084Z4PX65&quot;</td></tr><tr><td>100099</td><td>&quot;REP-CUT-6X&quot;</td><td>24.8253</td><td>&quot;&quot;</td><td>&quot;B084Z4VT1K&quot;</td></tr><tr><td>100101</td><td>&quot;REP-CUT-650&quot;</td><td>65.94158</td><td>&quot;&quot;</td><td>&quot;&quot;</td></tr><tr><td>&hellip;</td><td>&hellip;</td><td>&hellip;</td><td>&hellip;</td><td>&hellip;</td></tr><tr><td>44814</td><td>&quot;CLE-1-1/4B&quot;</td><td>44.64566</td><td>&quot;&quot;</td><td>&quot;B013SFAZA8&quot;</td></tr><tr><td>44815</td><td>&quot;CLE-1-1/2B&quot;</td><td>44.64566</td><td>&quot;&quot;</td><td>&quot;B013SFB17O&quot;</td></tr><tr><td>47389</td><td>&quot;TC-1-1/4-GC&quot;</td><td>103.25929</td><td>&quot;&quot;</td><td>&quot;&quot;</td></tr><tr><td>41031</td><td>&quot;EESQ-1 1/2&quot;</td><td>34.91494</td><td>&quot;&quot;</td><td>&quot;B084YXDYGC&quot;</td></tr><tr><td>41033</td><td>&quot;EESQ- 2-1/2&quot;</td><td>53.52893</td><td>&quot;&quot;</td><td>&quot;B084Z3ML6Q&quot;</td></tr></tbody></table></div>"
            ]
          },
          "metadata": {},
          "execution_count": 119
        }
      ]
    },
    {
      "cell_type": "code",
      "source": [
        "c_sku = renglonaje.select(['sku', 'Costo'])\n",
        "c_sku = c_sku.rename({'Costo':'Costo_sku'})\n",
        "c_alfa = renglonaje.select(['alfa', 'Costo'])\n",
        "c_alfa = c_alfa.rename({'Costo':'Costo_alfa', 'alfa':'sku'})\n",
        "c_asin = renglonaje.select(['asin', 'Costo'])\n",
        "c_asin = c_asin.rename({'Costo':'Costo_asin', 'asin':'sku'})\n",
        "c_clave = renglonaje.select(['clave', 'Costo'])\n",
        "c_clave = c_clave.rename({'Costo':'Costo_clave', 'clave':'sku'})\n",
        "c_clave = c_clave.with_columns(ps.col('sku').cast(ps.Utf8))"
      ],
      "metadata": {
        "id": "MNXbUjc7BTvg"
      },
      "execution_count": 120,
      "outputs": []
    },
    {
      "cell_type": "markdown",
      "source": [
        "# Reportes de Amazon\n",
        "Aquí se definen cuantos reportes y transacciones se van a procesar"
      ],
      "metadata": {
        "id": "noyJ8piJzIXE"
      }
    },
    {
      "cell_type": "code",
      "source": [
        "loop = True\n",
        "while loop:\n",
        "  try:\n",
        "    reportes_cantidad = input(\"Cantidad de reportes: \")\n",
        "    reportes_cantidad = int(reportes_cantidad)\n",
        "    loop = False\n",
        "  except:\n",
        "    print(\"\\nIngresa un número válido\\n\")"
      ],
      "metadata": {
        "colab": {
          "base_uri": "https://localhost:8080/"
        },
        "id": "mez2IHbBto3p",
        "outputId": "22da7611-77b0-4e80-a2de-532ff5cd2792"
      },
      "execution_count": 153,
      "outputs": [
        {
          "name": "stdout",
          "output_type": "stream",
          "text": [
            "Cantidad de reportes: 3\n"
          ]
        }
      ]
    },
    {
      "cell_type": "code",
      "source": [
        "loop = True\n",
        "while loop:\n",
        "  try:\n",
        "    transacciones_cantidad = input(\"Cantidad de transacciones: \")\n",
        "    transacciones_cantidad = int(transacciones_cantidad)\n",
        "    loop = False\n",
        "  except:\n",
        "    print(\"\\nIngresa un número válido\\n\")"
      ],
      "metadata": {
        "colab": {
          "base_uri": "https://localhost:8080/"
        },
        "id": "2GMvDee-IK9T",
        "outputId": "bfe1bcb7-ad18-4f20-b7d8-8a08cd725b1f"
      },
      "execution_count": 151,
      "outputs": [
        {
          "name": "stdout",
          "output_type": "stream",
          "text": [
            "Cantidad de transacciones: s\n",
            "Ingresa un número válido\n",
            "Cantidad de transacciones: w\n",
            "Ingresa un número válido\n",
            "Cantidad de transacciones: q\n",
            "Ingresa un número válido\n",
            "Cantidad de transacciones: 57\n"
          ]
        }
      ]
    },
    {
      "cell_type": "markdown",
      "source": [
        "# Leyendo Reportes\n",
        "\n",
        "Si solo se va a leer un reporte, este deberá ser guardado como \"Reporte\". Si no, los reportes deberán ser guardados de forma seriada, es decir, \"Reporte1\", \"Reporte2\", \"Reporte3\", etc.\n",
        "\n",
        "El orden no debería importar"
      ],
      "metadata": {
        "id": "vAgAiR460iTu"
      }
    },
    {
      "cell_type": "code",
      "source": [
        "archivo = ''\n",
        "archivos = []\n",
        "if reportes_cantidad == 1:\n",
        "    archivo = \"Reportes/Reporte.txt\"\n",
        "else:\n",
        "  for i in range(reportes_cantidad):\n",
        "      archivos.append((f\"Reportes/Reporte{i+1}.txt\"))"
      ],
      "metadata": {
        "id": "qlQ05vKyt15f"
      },
      "execution_count": 123,
      "outputs": []
    },
    {
      "cell_type": "code",
      "source": [
        "if archivo == '':\n",
        "  reportes = ps.read_csv(archivos[0], separator=\"\\t\")\n",
        "else:\n",
        "  reportes = ps.read_csv(archivo, separator=\"\\t\")"
      ],
      "metadata": {
        "id": "cCMi5j5ruLJP"
      },
      "execution_count": 124,
      "outputs": []
    },
    {
      "cell_type": "code",
      "source": [
        "if len(archivos) > 1:\n",
        "  for i in range(1, reportes_cantidad):\n",
        "      reportes = reportes.vstack(ps.read_csv(archivos[i], separator=\"\\t\", schema=reportes.schema, truncate_ragged_lines=True))\n",
        "  print(f\"Uniendo {reportes_cantidad} reportes\")\n"
      ],
      "metadata": {
        "colab": {
          "base_uri": "https://localhost:8080/"
        },
        "id": "DbGq-1cXvusP",
        "outputId": "1c896900-dcd7-44d7-d455-2b2d9c8b703f"
      },
      "execution_count": 125,
      "outputs": [
        {
          "output_type": "stream",
          "name": "stdout",
          "text": [
            "Uniendo 3 reportes\n"
          ]
        }
      ]
    },
    {
      "cell_type": "markdown",
      "source": [
        "# Leyendo Transacciones\n",
        "\n",
        "Si solo se va a leer una transacción, esta deberá ser guardada como \"Transacciones\". Si no, deberán ser guardadas de forma seriada, como los reportes.\n",
        "\n",
        "***Nota: Los reportes deberán ser pasados primero por la herramienta de limpieza de transacciones. Si no, generarán problemas***"
      ],
      "metadata": {
        "id": "kiyOwtRU0czm"
      }
    },
    {
      "cell_type": "code",
      "source": [
        "archivo = ''\n",
        "archivos = []\n",
        "if transacciones_cantidad == 1:\n",
        "    archivo = \"Transacciones/Transacciones.csv\"\n",
        "else:\n",
        "  for i in range(transacciones_cantidad):\n",
        "      archivos.append((f\"Transacciones/Transacciones{i+1}.csv\"))"
      ],
      "metadata": {
        "id": "qzHaP6CbzIJ-"
      },
      "execution_count": 126,
      "outputs": []
    },
    {
      "cell_type": "code",
      "source": [
        "if archivo == '':\n",
        "  transacciones = ps.read_csv(archivos[0], separator=\",\")\n",
        "else:\n",
        "  transacciones = ps.read_csv(archivo, separator=\",\")"
      ],
      "metadata": {
        "id": "2fR9xtaGzP0O"
      },
      "execution_count": 127,
      "outputs": []
    },
    {
      "cell_type": "code",
      "source": [
        "if len(archivos) > 1:\n",
        "  for i in range(1, transacciones_cantidad):\n",
        "      transacciones = transacciones.vstack(ps.read_csv(archivos[i], separator = ',', schema=transacciones.schema, truncate_ragged_lines=True))"
      ],
      "metadata": {
        "id": "7wRG3GEZRctp"
      },
      "execution_count": 128,
      "outputs": []
    },
    {
      "cell_type": "markdown",
      "source": [
        "Renombramos la columna de Número de pedido a amazon-order-id, para hacer la unión luego con el reporte de pedidos"
      ],
      "metadata": {
        "id": "NdhhTV_O1YGl"
      }
    },
    {
      "cell_type": "code",
      "source": [
        "transacciones = transacciones.rename({'Número de pedido':'amazon-order-id'})"
      ],
      "metadata": {
        "id": "KXWIMteTaIx4"
      },
      "execution_count": 129,
      "outputs": []
    },
    {
      "cell_type": "code",
      "source": [
        "dfr = reportes.join(transacciones, on='amazon-order-id', how='left', suffix='_transacciones')"
      ],
      "metadata": {
        "id": "i2bPd7zPahJB"
      },
      "execution_count": 130,
      "outputs": []
    },
    {
      "cell_type": "code",
      "source": [
        "formato_num = {ps.Int64:\"0\", ps.Float64:\"0.00\"}"
      ],
      "metadata": {
        "id": "EpOwCYFSljpA"
      },
      "execution_count": 131,
      "outputs": []
    },
    {
      "cell_type": "code",
      "source": [
        "dft = transacciones.join(reportes, on='amazon-order-id', how='left', suffix='_reportes')"
      ],
      "metadata": {
        "id": "XmDng9s9eHHx"
      },
      "execution_count": 132,
      "outputs": []
    },
    {
      "cell_type": "markdown",
      "source": [
        "# Consolidando reporte de envíos"
      ],
      "metadata": {
        "id": "09hcXqc7aH2_"
      }
    },
    {
      "cell_type": "code",
      "source": [
        "archivo_envios = 'Envios enero-julio.xlsx'\n",
        "envios_1 = pd.read_excel(archivo_envios, sheet_name = 0, header=3)\n",
        "envios_2 = pd.read_excel(archivo_envios, sheet_name = 1, header=3)\n",
        "reporte_envios = pd.concat([envios_1, envios_2])\n",
        "reporte_envios = reporte_envios.reset_index(drop=True)\n",
        "reporte_envios.to_excel(\"Envios.xlsx\", index=False)"
      ],
      "metadata": {
        "id": "boCIvBaqaGSH"
      },
      "execution_count": 133,
      "outputs": []
    },
    {
      "cell_type": "code",
      "source": [
        "envios = ps.read_excel(\"Envios.xlsx\", sheet_id=1)"
      ],
      "metadata": {
        "colab": {
          "base_uri": "https://localhost:8080/"
        },
        "id": "D5AcCiYib433",
        "outputId": "e7c5e4a3-0b1a-49e6-c6c3-2c9532049785"
      },
      "execution_count": 134,
      "outputs": [
        {
          "output_type": "stream",
          "name": "stderr",
          "text": [
            "WARNING:fastexcel.types.dtype:Could not determine dtype for column 13, falling back to string\n"
          ]
        }
      ]
    },
    {
      "cell_type": "code",
      "source": [
        "envios = envios.with_columns(ps.col('PROTECCION ($)').fill_null(0))\n",
        "envios = envios.with_columns(ps.col('PROTECCION ($)').cast(ps.Float32))\n",
        "envios.schema"
      ],
      "metadata": {
        "colab": {
          "base_uri": "https://localhost:8080/"
        },
        "id": "rS9Vn-PcciZX",
        "outputId": "6559bc62-228b-4e84-8952-30f1235a2bbd"
      },
      "execution_count": 135,
      "outputs": [
        {
          "output_type": "execute_result",
          "data": {
            "text/plain": [
              "Schema([('NUMERO ORDEN', String),\n",
              "        ('GUÍA', String),\n",
              "        ('PAQUETERIA', String),\n",
              "        ('SERVICIO', String),\n",
              "        ('FECHA DE CREACION', Date),\n",
              "        ('NOMBRE DESTINO', String),\n",
              "        ('CP DESTINO', Int64),\n",
              "        ('VALOR GUIA ($)', Float64),\n",
              "        ('ZONA EXTENDIDA ($)', Float64),\n",
              "        ('EXTRAGRANDE ($)', Int64),\n",
              "        ('SOBREPESOS ($)', Int64),\n",
              "        ('TOTAL GUIA ($)', Float64),\n",
              "        ('ESTATUS RASTREO', String),\n",
              "        ('PROTECCION ($)', Float32)])"
            ]
          },
          "metadata": {},
          "execution_count": 135
        }
      ]
    },
    {
      "cell_type": "markdown",
      "source": [
        "# Juntando el reporte de envíos y las transacciones"
      ],
      "metadata": {
        "id": "17cef25erEeg"
      }
    },
    {
      "cell_type": "code",
      "source": [
        "envios = envios.rename({'NUMERO ORDEN':'amazon-order-id'})\n",
        "envios = envios.select(['amazon-order-id', 'VALOR GUIA ($)', 'ZONA EXTENDIDA ($)', 'EXTRAGRANDE ($)', 'SOBREPESOS ($)', 'PROTECCION ($)', 'TOTAL GUIA ($)'])\n",
        "dfr = dfr.join(envios, on='amazon-order-id', how='left')"
      ],
      "metadata": {
        "id": "16lTsDI1rPlP"
      },
      "execution_count": 136,
      "outputs": []
    },
    {
      "cell_type": "code",
      "source": [
        "dfr = dfr.with_columns(ps.col('VALOR GUIA ($)').fill_null(0),\n",
        "                       ps.col('ZONA EXTENDIDA ($)').fill_null(0),\n",
        "                       ps.col('EXTRAGRANDE ($)').fill_null(0),\n",
        "                       ps.col('SOBREPESOS ($)').fill_null(0),\n",
        "                       ps.col('PROTECCION ($)').fill_null(0),\n",
        "                       ps.col('TOTAL GUIA ($)').fill_null(0))"
      ],
      "metadata": {
        "id": "GI0mlGtq05lu"
      },
      "execution_count": 137,
      "outputs": []
    },
    {
      "cell_type": "code",
      "source": [
        "dft = dft.join(envios, on='amazon-order-id', how='left')\n",
        "dft = dft.with_columns(ps.col('VALOR GUIA ($)').fill_null(0),\n",
        "                       ps.col('ZONA EXTENDIDA ($)').fill_null(0),\n",
        "                       ps.col('EXTRAGRANDE ($)').fill_null(0),\n",
        "                       ps.col('SOBREPESOS ($)').fill_null(0),\n",
        "                       ps.col('PROTECCION ($)').fill_null(0),\n",
        "                       ps.col('TOTAL GUIA ($)').fill_null(0))"
      ],
      "metadata": {
        "id": "pfLG_IicwpFH"
      },
      "execution_count": 138,
      "outputs": []
    },
    {
      "cell_type": "code",
      "source": [
        "dfr = dfr.join(c_sku, on='sku', how='left')\n",
        "dfr = dfr.join(c_alfa, on='sku', how='left')\n",
        "dfr = dfr.join(c_asin, on='sku', how='left')\n",
        "dfr = dfr.join(c_clave, on='sku', how='left')"
      ],
      "metadata": {
        "id": "TmcLAvGW03Gu"
      },
      "execution_count": 139,
      "outputs": []
    },
    {
      "cell_type": "code",
      "source": [
        "dfr = dfr.with_columns(ps.col('Costo_sku').fill_null(0),\n",
        "                       ps.col('Costo_alfa').fill_null(0),\n",
        "                       ps.col('Costo_asin').fill_null(0),\n",
        "                       ps.col('Costo_clave').fill_null(0))"
      ],
      "metadata": {
        "id": "9UTfE1aNJR2P"
      },
      "execution_count": 140,
      "outputs": []
    },
    {
      "cell_type": "code",
      "source": [
        "dfr = dfr.with_columns((ps.col('Costo_sku') + ps.col('Costo_alfa') + ps.col('Costo_asin') + ps.col('Costo_clave')).alias('Costo Truper'))"
      ],
      "metadata": {
        "id": "08jmCB6VJ_fm"
      },
      "execution_count": 141,
      "outputs": []
    },
    {
      "cell_type": "code",
      "source": [
        "dfr = dfr.drop(['Costo_sku', 'Costo_alfa', 'Costo_asin', 'Costo_clave'])"
      ],
      "metadata": {
        "id": "ODKKT2DHK6QV"
      },
      "execution_count": 142,
      "outputs": []
    },
    {
      "cell_type": "code",
      "source": [
        "dfr.write_excel('Reporte de envios.xlsx', worksheet=\"Reportes\")"
      ],
      "metadata": {
        "colab": {
          "base_uri": "https://localhost:8080/"
        },
        "id": "VlJbGAiqKUMW",
        "outputId": "7f1bf0b6-513d-4439-8fd1-4566dbe493cb"
      },
      "execution_count": 143,
      "outputs": [
        {
          "output_type": "execute_result",
          "data": {
            "text/plain": [
              "<xlsxwriter.workbook.Workbook at 0x7a4d75f73f90>"
            ]
          },
          "metadata": {},
          "execution_count": 143
        }
      ]
    },
    {
      "cell_type": "code",
      "source": [
        "dft = dft.join(c_sku, on='sku', how='left')\n",
        "dft = dft.join(c_alfa, on='sku', how='left')\n",
        "dft = dft.join(c_asin, on='sku', how='left')\n",
        "dft = dft.join(c_clave, on='sku', how='left')"
      ],
      "metadata": {
        "id": "6xlnTKjxOcrN"
      },
      "execution_count": 144,
      "outputs": []
    },
    {
      "cell_type": "code",
      "source": [
        "dft = dft.with_columns(ps.col('Costo_sku').fill_null(0),\n",
        "                       ps.col('Costo_alfa').fill_null(0),\n",
        "                       ps.col('Costo_asin').fill_null(0),\n",
        "                       ps.col('Costo_clave').fill_null(0))"
      ],
      "metadata": {
        "id": "HgFIKjZ0Ojxd"
      },
      "execution_count": 145,
      "outputs": []
    },
    {
      "cell_type": "code",
      "source": [
        "dft = dft.with_columns((ps.col('Costo_sku') + ps.col('Costo_alfa') + ps.col('Costo_asin') + ps.col('Costo_clave')).alias('Costo Truper'))"
      ],
      "metadata": {
        "id": "xB-t6gUjOnI5"
      },
      "execution_count": 146,
      "outputs": []
    },
    {
      "cell_type": "code",
      "source": [
        "dft = dft.drop(['Costo_sku', 'Costo_alfa', 'Costo_asin', 'Costo_clave'])"
      ],
      "metadata": {
        "id": "NwsuQkSJOqW0"
      },
      "execution_count": 147,
      "outputs": []
    },
    {
      "cell_type": "code",
      "source": [
        "dft.write_excel('Reporte de transacciones.xlsx', dtype_formats={ps.Float64():'General'}, worksheet=\"Transacciones\")"
      ],
      "metadata": {
        "colab": {
          "base_uri": "https://localhost:8080/"
        },
        "id": "RjJvXZSSOsSU",
        "outputId": "402b5da5-d98e-4af9-fb8c-a3deaeaa1cab"
      },
      "execution_count": 148,
      "outputs": [
        {
          "output_type": "execute_result",
          "data": {
            "text/plain": [
              "<xlsxwriter.workbook.Workbook at 0x7a4d7364d350>"
            ]
          },
          "metadata": {},
          "execution_count": 148
        }
      ]
    },
    {
      "cell_type": "code",
      "source": [
        "dft.head(4)"
      ],
      "metadata": {
        "colab": {
          "base_uri": "https://localhost:8080/",
          "height": 486
        },
        "id": "ZnX_PwRbC76Q",
        "outputId": "3aa10937-4d6b-45fe-bd9a-423cd843fd3d"
      },
      "execution_count": 149,
      "outputs": [
        {
          "output_type": "execute_result",
          "data": {
            "text/plain": [
              "shape: (4, 59)\n",
              "┌──────────┬───────────┬───────────┬───────────┬───┬───────────┬───────────┬───────────┬───────────┐\n",
              "│ Fecha    ┆ Tipo de   ┆ amazon-or ┆ Detalles  ┆ … ┆ SOBREPESO ┆ PROTECCIO ┆ TOTAL     ┆ Costo     │\n",
              "│ ---      ┆ transacci ┆ der-id    ┆ del       ┆   ┆ S ($)     ┆ N ($)     ┆ GUIA ($)  ┆ Truper    │\n",
              "│ str      ┆ ón        ┆ ---       ┆ producto  ┆   ┆ ---       ┆ ---       ┆ ---       ┆ ---       │\n",
              "│          ┆ ---       ┆ str       ┆ ---       ┆   ┆ i64       ┆ f32       ┆ f64       ┆ f64       │\n",
              "│          ┆ str       ┆           ┆ str       ┆   ┆           ┆           ┆           ┆           │\n",
              "╞══════════╪═══════════╪═══════════╪═══════════╪═══╪═══════════╪═══════════╪═══════════╪═══════════╡\n",
              "│ 3/5/2025 ┆ Saldo no  ┆ ---       ┆ Monto de  ┆ … ┆ 0         ┆ 0.0       ┆ 0.0       ┆ 0.0       │\n",
              "│          ┆ disponibl ┆           ┆ reserva   ┆   ┆           ┆           ┆           ┆           │\n",
              "│          ┆ e         ┆           ┆ actual    ┆   ┆           ┆           ┆           ┆           │\n",
              "│ 3/5/2025 ┆ Pago del  ┆ 701-55790 ┆ Truper    ┆ … ┆ 0         ┆ 0.0       ┆ 376.0     ┆ 2327.4167 │\n",
              "│          ┆ pedido    ┆ 61-590666 ┆ ESE-20,   ┆   ┆           ┆           ┆           ┆ 4         │\n",
              "│          ┆           ┆ 3         ┆ Escalera  ┆   ┆           ┆           ┆           ┆           │\n",
              "│          ┆           ┆           ┆ de ext…   ┆   ┆           ┆           ┆           ┆           │\n",
              "│ 3/5/2025 ┆ Servicios ┆ 702-80363 ┆ Facturaci ┆ … ┆ 0         ┆ 0.0       ┆ 0.0       ┆ 2754.1128 │\n",
              "│          ┆ de envío  ┆ 10-046985 ┆ ón        ┆   ┆           ┆           ┆           ┆           │\n",
              "│          ┆ adquirido ┆ 2         ┆           ┆   ┆           ┆           ┆           ┆           │\n",
              "│          ┆ s …       ┆           ┆           ┆   ┆           ┆           ┆           ┆           │\n",
              "│ 3/5/2025 ┆ Pago del  ┆ 702-80363 ┆ Truper    ┆ … ┆ 0         ┆ 0.0       ┆ 0.0       ┆ 2754.1128 │\n",
              "│          ┆ pedido    ┆ 10-046985 ┆ ESE-24,   ┆   ┆           ┆           ┆           ┆           │\n",
              "│          ┆           ┆ 2         ┆ Escalera  ┆   ┆           ┆           ┆           ┆           │\n",
              "│          ┆           ┆           ┆ de ext…   ┆   ┆           ┆           ┆           ┆           │\n",
              "└──────────┴───────────┴───────────┴───────────┴───┴───────────┴───────────┴───────────┴───────────┘"
            ],
            "text/html": [
              "<div><style>\n",
              ".dataframe > thead > tr,\n",
              ".dataframe > tbody > tr {\n",
              "  text-align: right;\n",
              "  white-space: pre-wrap;\n",
              "}\n",
              "</style>\n",
              "<small>shape: (4, 59)</small><table border=\"1\" class=\"dataframe\"><thead><tr><th>Fecha</th><th>Tipo de transacción</th><th>amazon-order-id</th><th>Detalles del producto</th><th>Total de cargos del producto</th><th>Total de reembolsos promocionales</th><th>Tarifas de Amazon</th><th>Otros</th><th>Total (MXN)</th><th>merchant-order-id</th><th>purchase-date</th><th>last-updated-date</th><th>order-status</th><th>fulfillment-channel</th><th>sales-channel</th><th>order-channel</th><th>url</th><th>ship-service-level</th><th>product-name</th><th>sku</th><th>asin</th><th>item-status</th><th>quantity</th><th>currency</th><th>item-price</th><th>item-tax</th><th>shipping-price</th><th>shipping-tax</th><th>gift-wrap-price</th><th>gift-wrap-tax</th><th>item-promotion-discount</th><th>ship-promotion-discount</th><th>ship-city</th><th>ship-state</th><th>ship-postal-code</th><th>ship-country</th><th>promotion-ids</th><th>payment-method-details</th><th>item-extensions-data</th><th>is-business-order</th><th>purchase-order-number</th><th>price-designation</th><th>customized-url</th><th>customized-page</th><th>is-replacement-order</th><th>is-exchange-order</th><th>original-order-id</th><th>is-transparency</th><th>is-buyer-requested-cancellation</th><th>buyer-requested-cancel-reason</th><th>buyer-identification-number</th><th>buyer-identification-type </th><th>VALOR GUIA ($)</th><th>ZONA EXTENDIDA ($)</th><th>EXTRAGRANDE ($)</th><th>SOBREPESOS ($)</th><th>PROTECCION ($)</th><th>TOTAL GUIA ($)</th><th>Costo Truper</th></tr><tr><td>str</td><td>str</td><td>str</td><td>str</td><td>f64</td><td>f64</td><td>f64</td><td>f64</td><td>f64</td><td>str</td><td>str</td><td>str</td><td>str</td><td>str</td><td>str</td><td>str</td><td>str</td><td>str</td><td>str</td><td>str</td><td>str</td><td>str</td><td>i64</td><td>str</td><td>f64</td><td>f64</td><td>f64</td><td>str</td><td>str</td><td>str</td><td>str</td><td>f64</td><td>str</td><td>str</td><td>i64</td><td>str</td><td>str</td><td>str</td><td>str</td><td>bool</td><td>str</td><td>str</td><td>str</td><td>str</td><td>bool</td><td>bool</td><td>str</td><td>bool</td><td>bool</td><td>str</td><td>str</td><td>str</td><td>f64</td><td>f64</td><td>i64</td><td>i64</td><td>f32</td><td>f64</td><td>f64</td></tr></thead><tbody><tr><td>&quot;3/5/2025&quot;</td><td>&quot;Saldo no disponible&quot;</td><td>&quot;---&quot;</td><td>&quot;Monto de reserva actual&quot;</td><td>0.0</td><td>0.0</td><td>0.0</td><td>-143521.4</td><td>-143521.4</td><td>null</td><td>null</td><td>null</td><td>null</td><td>null</td><td>null</td><td>null</td><td>null</td><td>null</td><td>null</td><td>null</td><td>null</td><td>null</td><td>null</td><td>null</td><td>null</td><td>null</td><td>null</td><td>null</td><td>null</td><td>null</td><td>null</td><td>null</td><td>null</td><td>null</td><td>null</td><td>null</td><td>null</td><td>null</td><td>null</td><td>null</td><td>null</td><td>null</td><td>null</td><td>null</td><td>null</td><td>null</td><td>null</td><td>null</td><td>null</td><td>null</td><td>null</td><td>null</td><td>0.0</td><td>0.0</td><td>0</td><td>0</td><td>0.0</td><td>0.0</td><td>0.0</td></tr><tr><td>&quot;3/5/2025&quot;</td><td>&quot;Pago del pedido&quot;</td><td>&quot;701-5579061-5906663&quot;</td><td>&quot;Truper ESE-20, Escalera de ext…</td><td>3103.45</td><td>0.0</td><td>-648.0</td><td>496.55</td><td>2952.0</td><td>null</td><td>&quot;2025-05-03T18:53:57+00:00&quot;</td><td>&quot;2025-05-03T23:02:27+00:00&quot;</td><td>&quot;Shipped&quot;</td><td>&quot;Merchant&quot;</td><td>&quot;Amazon.com.mx&quot;</td><td>&quot;WebsiteOrderChannel&quot;</td><td>null</td><td>&quot;Standard&quot;</td><td>&quot;Truper ESE-20, Escalera de ext…</td><td>&quot;16027&quot;</td><td>&quot;B013R4N3M2&quot;</td><td>&quot;Shipped&quot;</td><td>1</td><td>&quot;MXN&quot;</td><td>3600.0</td><td>496.55</td><td>null</td><td>null</td><td>null</td><td>null</td><td>null</td><td>null</td><td>&quot;GUADALAJARA&quot;</td><td>&quot;JALISCO&quot;</td><td>44330</td><td>&quot;MX&quot;</td><td>null</td><td>&quot;CreditCard&quot;</td><td>null</td><td>false</td><td>null</td><td>null</td><td>null</td><td>null</td><td>false</td><td>false</td><td>null</td><td>false</td><td>false</td><td>null</td><td>null</td><td>null</td><td>376.0</td><td>0.0</td><td>0</td><td>0</td><td>0.0</td><td>376.0</td><td>2327.41674</td></tr><tr><td>&quot;3/5/2025&quot;</td><td>&quot;Servicios de envío adquiridos …</td><td>&quot;702-8036310-0469852&quot;</td><td>&quot;Facturación&quot;</td><td>-180.32</td><td>0.0</td><td>0.0</td><td>-159.79</td><td>-340.11</td><td>null</td><td>&quot;2025-05-03T21:09:18+00:00&quot;</td><td>&quot;2025-05-03T22:53:24+00:00&quot;</td><td>&quot;Shipped&quot;</td><td>&quot;Merchant&quot;</td><td>&quot;Amazon.com.mx&quot;</td><td>&quot;WebsiteOrderChannel&quot;</td><td>null</td><td>&quot;Standard&quot;</td><td>&quot;Truper ESE-24, Escalera de ext…</td><td>&quot;ESE-24&quot;</td><td>&quot;B013R4N818&quot;</td><td>&quot;Shipped&quot;</td><td>1</td><td>&quot;MXN&quot;</td><td>4250.0</td><td>586.21</td><td>null</td><td>null</td><td>null</td><td>null</td><td>null</td><td>null</td><td>&quot;SANCTORUM DE LAZARO CARDENAS&quot;</td><td>&quot;TLAXCALA&quot;</td><td>90230</td><td>&quot;MX&quot;</td><td>null</td><td>&quot;CreditCard&quot;</td><td>null</td><td>false</td><td>null</td><td>null</td><td>null</td><td>null</td><td>false</td><td>false</td><td>null</td><td>false</td><td>false</td><td>null</td><td>null</td><td>null</td><td>0.0</td><td>0.0</td><td>0</td><td>0</td><td>0.0</td><td>0.0</td><td>2754.1128</td></tr><tr><td>&quot;3/5/2025&quot;</td><td>&quot;Pago del pedido&quot;</td><td>&quot;702-8036310-0469852&quot;</td><td>&quot;Truper ESE-24, Escalera de ext…</td><td>3663.79</td><td>0.0</td><td>-765.0</td><td>586.21</td><td>3485.0</td><td>null</td><td>&quot;2025-05-03T21:09:18+00:00&quot;</td><td>&quot;2025-05-03T22:53:24+00:00&quot;</td><td>&quot;Shipped&quot;</td><td>&quot;Merchant&quot;</td><td>&quot;Amazon.com.mx&quot;</td><td>&quot;WebsiteOrderChannel&quot;</td><td>null</td><td>&quot;Standard&quot;</td><td>&quot;Truper ESE-24, Escalera de ext…</td><td>&quot;ESE-24&quot;</td><td>&quot;B013R4N818&quot;</td><td>&quot;Shipped&quot;</td><td>1</td><td>&quot;MXN&quot;</td><td>4250.0</td><td>586.21</td><td>null</td><td>null</td><td>null</td><td>null</td><td>null</td><td>null</td><td>&quot;SANCTORUM DE LAZARO CARDENAS&quot;</td><td>&quot;TLAXCALA&quot;</td><td>90230</td><td>&quot;MX&quot;</td><td>null</td><td>&quot;CreditCard&quot;</td><td>null</td><td>false</td><td>null</td><td>null</td><td>null</td><td>null</td><td>false</td><td>false</td><td>null</td><td>false</td><td>false</td><td>null</td><td>null</td><td>null</td><td>0.0</td><td>0.0</td><td>0</td><td>0</td><td>0.0</td><td>0.0</td><td>2754.1128</td></tr></tbody></table></div>"
            ]
          },
          "metadata": {},
          "execution_count": 149
        }
      ]
    }
  ]
}