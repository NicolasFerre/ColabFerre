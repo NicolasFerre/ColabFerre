{
  "nbformat": 4,
  "nbformat_minor": 0,
  "metadata": {
    "colab": {
      "provenance": [],
      "authorship_tag": "ABX9TyO8f7dnIWbVjhEDKmpf+kdI",
      "include_colab_link": true
    },
    "kernelspec": {
      "name": "python3",
      "display_name": "Python 3"
    },
    "language_info": {
      "name": "python"
    }
  },
  "cells": [
    {
      "cell_type": "markdown",
      "metadata": {
        "id": "view-in-github",
        "colab_type": "text"
      },
      "source": [
        "<a href=\"https://colab.research.google.com/github/NicolasFerre/ColabFerre/blob/main/Consolidaci%C3%B3n_de_pedidos.ipynb\" target=\"_parent\"><img src=\"https://colab.research.google.com/assets/colab-badge.svg\" alt=\"Open In Colab\"/></a>"
      ]
    },
    {
      "cell_type": "markdown",
      "source": [
        "# Instalaciones previas"
      ],
      "metadata": {
        "id": "Chmfd9Sey_bH"
      }
    },
    {
      "cell_type": "code",
      "source": [
        "#!pip install xlsxwriter\n",
        "#!pip install python-calamine\n",
        "#!pip install fastexcel"
      ],
      "metadata": {
        "id": "N2_FvAusbpwr"
      },
      "execution_count": 148,
      "outputs": []
    },
    {
      "cell_type": "markdown",
      "source": [
        "# Librerías necesarias"
      ],
      "metadata": {
        "id": "DA6w3y-yzFm2"
      }
    },
    {
      "cell_type": "code",
      "execution_count": 149,
      "metadata": {
        "id": "Fiv25Ztgsu1O"
      },
      "outputs": [],
      "source": [
        "import polars as ps\n",
        "import pandas as pd\n",
        "import numpy as np"
      ]
    },
    {
      "cell_type": "markdown",
      "source": [
        "# Reportes de Amazon\n",
        "Aquí se definen cuantos reportes y transacciones se van a procesar"
      ],
      "metadata": {
        "id": "noyJ8piJzIXE"
      }
    },
    {
      "cell_type": "code",
      "source": [
        "loop = True\n",
        "while loop:\n",
        "  try:\n",
        "    reportes_cantidad = input(\"Cantidad de reportes: \")\n",
        "    reportes_cantidad = int(reportes_cantidad)\n",
        "    loop = False\n",
        "  except:\n",
        "    print(\"Ingresa un número válido\")"
      ],
      "metadata": {
        "colab": {
          "base_uri": "https://localhost:8080/"
        },
        "id": "mez2IHbBto3p",
        "outputId": "c30d00e6-fb84-4ad2-e698-6a1078bbc50c"
      },
      "execution_count": 150,
      "outputs": [
        {
          "name": "stdout",
          "output_type": "stream",
          "text": [
            "Cantidad de reportes: 3\n"
          ]
        }
      ]
    },
    {
      "cell_type": "code",
      "source": [
        "transacciones_cantidad = input(\"Cantidad de transacciones: \")\n",
        "transacciones_cantidad = int(transacciones_cantidad)"
      ],
      "metadata": {
        "colab": {
          "base_uri": "https://localhost:8080/"
        },
        "id": "2GMvDee-IK9T",
        "outputId": "b017f264-f2ba-4eb5-fdfe-7e9b5856e5ad"
      },
      "execution_count": 151,
      "outputs": [
        {
          "name": "stdout",
          "output_type": "stream",
          "text": [
            "Cantidad de transacciones: 57\n"
          ]
        }
      ]
    },
    {
      "cell_type": "markdown",
      "source": [
        "# Leyendo Reportes\n",
        "\n",
        "Si solo se va a leer un reporte, este deberá ser guardado como \"Reporte\". Si no, los reportes deberán ser guardados de forma seriada, es decir, \"Reporte1\", \"Reporte2\", \"Reporte3\", etc.\n",
        "\n",
        "El orden no debería importar"
      ],
      "metadata": {
        "id": "vAgAiR460iTu"
      }
    },
    {
      "cell_type": "code",
      "source": [
        "archivo = ''\n",
        "archivos = []\n",
        "if reportes_cantidad == 1:\n",
        "    archivo = \"Reportes/Reporte.txt\"\n",
        "else:\n",
        "  for i in range(reportes_cantidad):\n",
        "      archivos.append((f\"Reportes/Reporte{i+1}.txt\"))"
      ],
      "metadata": {
        "id": "qlQ05vKyt15f"
      },
      "execution_count": 152,
      "outputs": []
    },
    {
      "cell_type": "code",
      "source": [
        "if archivo == '':\n",
        "  reportes = ps.read_csv(archivos[0], separator=\"\\t\")\n",
        "else:\n",
        "  reportes = ps.read_csv(archivo, separator=\"\\t\")"
      ],
      "metadata": {
        "id": "cCMi5j5ruLJP"
      },
      "execution_count": 153,
      "outputs": []
    },
    {
      "cell_type": "code",
      "source": [
        "if len(archivos) > 1:\n",
        "  for i in range(1, reportes_cantidad):\n",
        "      reportes = reportes.vstack(ps.read_csv(archivos[i], separator=\"\\t\", schema=reportes.schema, truncate_ragged_lines=True))\n",
        "  print(f\"Uniendo {reportes_cantidad} reportes\")\n"
      ],
      "metadata": {
        "colab": {
          "base_uri": "https://localhost:8080/"
        },
        "id": "DbGq-1cXvusP",
        "outputId": "e6c7f8d3-b35e-450e-f47f-1491e6a23080"
      },
      "execution_count": 154,
      "outputs": [
        {
          "output_type": "stream",
          "name": "stdout",
          "text": [
            "Uniendo 3 reportes\n"
          ]
        }
      ]
    },
    {
      "cell_type": "markdown",
      "source": [
        "# Leyendo Transacciones\n",
        "\n",
        "Si solo se va a leer una transacción, esta deberá ser guardada como \"Transacciones\". Si no, deberán ser guardadas de forma seriada, como los reportes.\n",
        "\n",
        "***Nota: Los reportes deberán ser pasados primero por la herramienta de limpieza de transacciones. Si no, generarán problemas***"
      ],
      "metadata": {
        "id": "kiyOwtRU0czm"
      }
    },
    {
      "cell_type": "code",
      "source": [
        "archivo = ''\n",
        "archivos = []\n",
        "if transacciones_cantidad == 1:\n",
        "    archivo = \"Transacciones/Transacciones.csv\"\n",
        "else:\n",
        "  for i in range(transacciones_cantidad):\n",
        "      archivos.append((f\"Transacciones/Transacciones{i+1}.csv\"))"
      ],
      "metadata": {
        "id": "qzHaP6CbzIJ-"
      },
      "execution_count": 155,
      "outputs": []
    },
    {
      "cell_type": "code",
      "source": [
        "if archivo == '':\n",
        "  transacciones = ps.read_csv(archivos[0], separator=\",\")\n",
        "else:\n",
        "  transacciones = ps.read_csv(archivo, separator=\",\")"
      ],
      "metadata": {
        "id": "2fR9xtaGzP0O"
      },
      "execution_count": 156,
      "outputs": []
    },
    {
      "cell_type": "code",
      "source": [
        "if len(archivos) > 1:\n",
        "  for i in range(1, transacciones_cantidad):\n",
        "      transacciones = transacciones.vstack(ps.read_csv(archivos[i], separator = ',', schema=transacciones.schema, truncate_ragged_lines=True))"
      ],
      "metadata": {
        "id": "7wRG3GEZRctp"
      },
      "execution_count": 157,
      "outputs": []
    },
    {
      "cell_type": "markdown",
      "source": [
        "Renombramos la columna de Número de pedido a amazon-order-id, para hacer la unión luego con el reporte de pedidos"
      ],
      "metadata": {
        "id": "NdhhTV_O1YGl"
      }
    },
    {
      "cell_type": "code",
      "source": [
        "transacciones = transacciones.rename({'Número de pedido':'amazon-order-id'})"
      ],
      "metadata": {
        "id": "KXWIMteTaIx4"
      },
      "execution_count": 158,
      "outputs": []
    },
    {
      "cell_type": "code",
      "source": [
        "dfr = reportes.join(transacciones, on='amazon-order-id', how='left', suffix='_transacciones')"
      ],
      "metadata": {
        "id": "i2bPd7zPahJB"
      },
      "execution_count": 159,
      "outputs": []
    },
    {
      "cell_type": "code",
      "source": [
        "formato_num = {ps.Int64:\"0\", ps.Float64:\"0.00\"}"
      ],
      "metadata": {
        "id": "EpOwCYFSljpA"
      },
      "execution_count": 160,
      "outputs": []
    },
    {
      "cell_type": "code",
      "source": [
        "dft = transacciones.join(reportes, on='amazon-order-id', how='left', suffix='_reportes')"
      ],
      "metadata": {
        "id": "XmDng9s9eHHx"
      },
      "execution_count": 161,
      "outputs": []
    },
    {
      "cell_type": "markdown",
      "source": [
        "# Consolidando reporte de envíos"
      ],
      "metadata": {
        "id": "09hcXqc7aH2_"
      }
    },
    {
      "cell_type": "code",
      "source": [
        "archivo_envios = 'Envios enero-julio.xlsx'\n",
        "envios_1 = pd.read_excel(archivo_envios, sheet_name = 0, header=3)\n",
        "envios_2 = pd.read_excel(archivo_envios, sheet_name = 1, header=3)\n",
        "reporte_envios = pd.concat([envios_1, envios_2])\n",
        "reporte_envios = reporte_envios.reset_index(drop=True)\n",
        "reporte_envios.to_excel(\"Envios.xlsx\", index=False)"
      ],
      "metadata": {
        "id": "boCIvBaqaGSH"
      },
      "execution_count": 162,
      "outputs": []
    },
    {
      "cell_type": "code",
      "source": [
        "envios = ps.read_excel(\"Envios.xlsx\", sheet_id=1)"
      ],
      "metadata": {
        "colab": {
          "base_uri": "https://localhost:8080/"
        },
        "id": "D5AcCiYib433",
        "outputId": "9a81df1c-6e06-4340-d3df-0a843b1013a6"
      },
      "execution_count": 163,
      "outputs": [
        {
          "output_type": "stream",
          "name": "stderr",
          "text": [
            "WARNING:fastexcel.types.dtype:Could not determine dtype for column 13, falling back to string\n"
          ]
        }
      ]
    },
    {
      "cell_type": "code",
      "source": [
        "envios = envios.with_columns(ps.col('PROTECCION ($)').fill_null(0))\n",
        "envios = envios.with_columns(ps.col('PROTECCION ($)').cast(ps.Float32))\n",
        "envios.schema"
      ],
      "metadata": {
        "colab": {
          "base_uri": "https://localhost:8080/"
        },
        "id": "rS9Vn-PcciZX",
        "outputId": "c9b9627f-9b41-4661-9a4e-e083c1d10133"
      },
      "execution_count": 164,
      "outputs": [
        {
          "output_type": "execute_result",
          "data": {
            "text/plain": [
              "Schema([('NUMERO ORDEN', String),\n",
              "        ('GUÍA', String),\n",
              "        ('PAQUETERIA', String),\n",
              "        ('SERVICIO', String),\n",
              "        ('FECHA DE CREACION', Date),\n",
              "        ('NOMBRE DESTINO', String),\n",
              "        ('CP DESTINO', Int64),\n",
              "        ('VALOR GUIA ($)', Float64),\n",
              "        ('ZONA EXTENDIDA ($)', Float64),\n",
              "        ('EXTRAGRANDE ($)', Int64),\n",
              "        ('SOBREPESOS ($)', Int64),\n",
              "        ('TOTAL GUIA ($)', Float64),\n",
              "        ('ESTATUS RASTREO', String),\n",
              "        ('PROTECCION ($)', Float32)])"
            ]
          },
          "metadata": {},
          "execution_count": 164
        }
      ]
    },
    {
      "cell_type": "markdown",
      "source": [
        "# Juntando el reporte de envíos y las transacciones"
      ],
      "metadata": {
        "id": "17cef25erEeg"
      }
    },
    {
      "cell_type": "code",
      "source": [
        "envios = envios.rename({'NUMERO ORDEN':'amazon-order-id'})\n",
        "envios = envios.select(['amazon-order-id', 'VALOR GUIA ($)', 'ZONA EXTENDIDA ($)', 'EXTRAGRANDE ($)', 'SOBREPESOS ($)', 'PROTECCION ($)', 'TOTAL GUIA ($)'])\n",
        "dfr = dfr.join(envios, on='amazon-order-id', how='left')"
      ],
      "metadata": {
        "id": "16lTsDI1rPlP"
      },
      "execution_count": 165,
      "outputs": []
    },
    {
      "cell_type": "code",
      "source": [
        "dfr.write_excel('Reporte de envios1.xlsx')"
      ],
      "metadata": {
        "colab": {
          "base_uri": "https://localhost:8080/"
        },
        "id": "AArX3O8Dt4GY",
        "outputId": "5616d17d-8a13-4fe2-c13b-1a364c1ca51c"
      },
      "execution_count": 166,
      "outputs": [
        {
          "output_type": "execute_result",
          "data": {
            "text/plain": [
              "<xlsxwriter.workbook.Workbook at 0x7907263df590>"
            ]
          },
          "metadata": {},
          "execution_count": 166
        }
      ]
    },
    {
      "cell_type": "code",
      "source": [
        "dft = dft.join(envios, on='amazon-order-id', how='left')\n",
        "dft.write_excel('Reporte de envios2.xlsx')"
      ],
      "metadata": {
        "colab": {
          "base_uri": "https://localhost:8080/"
        },
        "id": "pfLG_IicwpFH",
        "outputId": "2be05b3c-44a4-4c24-fa34-67f5c1359aa7"
      },
      "execution_count": 167,
      "outputs": [
        {
          "output_type": "execute_result",
          "data": {
            "text/plain": [
              "<xlsxwriter.workbook.Workbook at 0x7907298b6910>"
            ]
          },
          "metadata": {},
          "execution_count": 167
        }
      ]
    },
    {
      "cell_type": "code",
      "source": [
        "dft.filter(ps.col('amazon-order-id') != '---')"
      ],
      "metadata": {
        "colab": {
          "base_uri": "https://localhost:8080/",
          "height": 896
        },
        "id": "JMPEba4xyDr9",
        "outputId": "774915d3-0202-4770-be74-727cdf0aceff"
      },
      "execution_count": 169,
      "outputs": [
        {
          "output_type": "execute_result",
          "data": {
            "text/plain": [
              "shape: (1_904, 58)\n",
              "┌───────────┬───────────┬───────────┬───────────┬───┬───────────┬───────────┬───────────┬──────────┐\n",
              "│ Fecha     ┆ Tipo de   ┆ amazon-or ┆ Detalles  ┆ … ┆ EXTRAGRAN ┆ SOBREPESO ┆ PROTECCIO ┆ TOTAL    │\n",
              "│ ---       ┆ transacci ┆ der-id    ┆ del       ┆   ┆ DE ($)    ┆ S ($)     ┆ N ($)     ┆ GUIA ($) │\n",
              "│ str       ┆ ón        ┆ ---       ┆ producto  ┆   ┆ ---       ┆ ---       ┆ ---       ┆ ---      │\n",
              "│           ┆ ---       ┆ str       ┆ ---       ┆   ┆ i64       ┆ i64       ┆ f32       ┆ f64      │\n",
              "│           ┆ str       ┆           ┆ str       ┆   ┆           ┆           ┆           ┆          │\n",
              "╞═══════════╪═══════════╪═══════════╪═══════════╪═══╪═══════════╪═══════════╪═══════════╪══════════╡\n",
              "│ 3/5/2025  ┆ Pago del  ┆ 701-55790 ┆ Truper    ┆ … ┆ 0         ┆ 0         ┆ 0.0       ┆ 376.0    │\n",
              "│           ┆ pedido    ┆ 61-590666 ┆ ESE-20,   ┆   ┆           ┆           ┆           ┆          │\n",
              "│           ┆           ┆ 3         ┆ Escalera  ┆   ┆           ┆           ┆           ┆          │\n",
              "│           ┆           ┆           ┆ de ext…   ┆   ┆           ┆           ┆           ┆          │\n",
              "│ 3/5/2025  ┆ Servicios ┆ 702-80363 ┆ Facturaci ┆ … ┆ null      ┆ null      ┆ null      ┆ null     │\n",
              "│           ┆ de envío  ┆ 10-046985 ┆ ón        ┆   ┆           ┆           ┆           ┆          │\n",
              "│           ┆ adquirido ┆ 2         ┆           ┆   ┆           ┆           ┆           ┆          │\n",
              "│           ┆ s …       ┆           ┆           ┆   ┆           ┆           ┆           ┆          │\n",
              "│ 3/5/2025  ┆ Pago del  ┆ 702-80363 ┆ Truper    ┆ … ┆ null      ┆ null      ┆ null      ┆ null     │\n",
              "│           ┆ pedido    ┆ 10-046985 ┆ ESE-24,   ┆   ┆           ┆           ┆           ┆          │\n",
              "│           ┆           ┆ 2         ┆ Escalera  ┆   ┆           ┆           ┆           ┆          │\n",
              "│           ┆           ┆           ┆ de ext…   ┆   ┆           ┆           ┆           ┆          │\n",
              "│ 3/5/2025  ┆ Pago del  ┆ 702-62433 ┆ Truper    ┆ … ┆ 0         ┆ 0         ┆ 0.0       ┆ 292.0    │\n",
              "│           ┆ pedido    ┆ 48-787384 ┆ EST-29,   ┆   ┆           ┆           ┆           ┆          │\n",
              "│           ┆           ┆ 6         ┆ Escalera  ┆   ┆           ┆           ┆           ┆          │\n",
              "│           ┆           ┆           ┆ tipo t…   ┆   ┆           ┆           ┆           ┆          │\n",
              "│ 3/5/2025  ┆ Pago del  ┆ 702-22732 ┆ Truper    ┆ … ┆ 0         ┆ 0         ┆ 0.0       ┆ 311.0    │\n",
              "│           ┆ pedido    ┆ 14-705861 ┆ ESE-20,   ┆   ┆           ┆           ┆           ┆          │\n",
              "│           ┆           ┆ 4         ┆ Escalera  ┆   ┆           ┆           ┆           ┆          │\n",
              "│           ┆           ┆           ┆ de ext…   ┆   ┆           ┆           ┆           ┆          │\n",
              "│ …         ┆ …         ┆ …         ┆ …         ┆ … ┆ …         ┆ …         ┆ …         ┆ …        │\n",
              "│ 30/7/2025 ┆ Pago del  ┆ 702-53259 ┆ Pretul    ┆ … ┆ null      ┆ null      ┆ null      ┆ null     │\n",
              "│           ┆ pedido    ┆ 59-202425 ┆ P-316P,   ┆   ┆           ┆           ┆           ┆          │\n",
              "│           ┆           ┆ 4         ┆ Podadora  ┆   ┆           ┆           ┆           ┆          │\n",
              "│           ┆           ┆           ┆ con mo…   ┆   ┆           ┆           ┆           ┆          │\n",
              "│ 30/7/2025 ┆ Pago del  ┆ 701-96560 ┆ Pretul    ┆ … ┆ null      ┆ null      ┆ null      ┆ null     │\n",
              "│           ┆ pedido    ┆ 55-143703 ┆ Combo Rot ┆   ┆           ┆           ┆           ┆          │\n",
              "│           ┆           ┆ 0         ┆ omartillo ┆   ┆           ┆           ┆           ┆          │\n",
              "│           ┆           ┆           ┆ y De…     ┆   ┆           ┆           ┆           ┆          │\n",
              "│ 30/7/2025 ┆ Servicios ┆ 701-96560 ┆ Facturaci ┆ … ┆ null      ┆ null      ┆ null      ┆ null     │\n",
              "│           ┆ de envío  ┆ 55-143703 ┆ ón        ┆   ┆           ┆           ┆           ┆          │\n",
              "│           ┆ adquirido ┆ 0         ┆           ┆   ┆           ┆           ┆           ┆          │\n",
              "│           ┆ s …       ┆           ┆           ┆   ┆           ┆           ┆           ┆          │\n",
              "│ 30/7/2025 ┆ Servicios ┆ 702-48542 ┆ Facturaci ┆ … ┆ null      ┆ null      ┆ null      ┆ null     │\n",
              "│           ┆ de envío  ┆ 53-049944 ┆ ón        ┆   ┆           ┆           ┆           ┆          │\n",
              "│           ┆ adquirido ┆ 1         ┆           ┆   ┆           ┆           ┆           ┆          │\n",
              "│           ┆ s …       ┆           ┆           ┆   ┆           ┆           ┆           ┆          │\n",
              "│ 30/7/2025 ┆ Pago del  ┆ 702-48542 ┆ Truper    ┆ … ┆ null      ┆ null      ┆ null      ┆ null     │\n",
              "│           ┆ pedido    ┆ 53-049944 ┆ DES-63,   ┆   ┆           ┆           ┆           ┆          │\n",
              "│           ┆           ┆ 1         ┆ Desmaleza ┆   ┆           ┆           ┆           ┆          │\n",
              "│           ┆           ┆           ┆ dora a…   ┆   ┆           ┆           ┆           ┆          │\n",
              "└───────────┴───────────┴───────────┴───────────┴───┴───────────┴───────────┴───────────┴──────────┘"
            ],
            "text/html": [
              "<div><style>\n",
              ".dataframe > thead > tr,\n",
              ".dataframe > tbody > tr {\n",
              "  text-align: right;\n",
              "  white-space: pre-wrap;\n",
              "}\n",
              "</style>\n",
              "<small>shape: (1_904, 58)</small><table border=\"1\" class=\"dataframe\"><thead><tr><th>Fecha</th><th>Tipo de transacción</th><th>amazon-order-id</th><th>Detalles del producto</th><th>Total de cargos del producto</th><th>Total de reembolsos promocionales</th><th>Tarifas de Amazon</th><th>Otros</th><th>Total (MXN)</th><th>merchant-order-id</th><th>purchase-date</th><th>last-updated-date</th><th>order-status</th><th>fulfillment-channel</th><th>sales-channel</th><th>order-channel</th><th>url</th><th>ship-service-level</th><th>product-name</th><th>sku</th><th>asin</th><th>item-status</th><th>quantity</th><th>currency</th><th>item-price</th><th>item-tax</th><th>shipping-price</th><th>shipping-tax</th><th>gift-wrap-price</th><th>gift-wrap-tax</th><th>item-promotion-discount</th><th>ship-promotion-discount</th><th>ship-city</th><th>ship-state</th><th>ship-postal-code</th><th>ship-country</th><th>promotion-ids</th><th>payment-method-details</th><th>item-extensions-data</th><th>is-business-order</th><th>purchase-order-number</th><th>price-designation</th><th>customized-url</th><th>customized-page</th><th>is-replacement-order</th><th>is-exchange-order</th><th>original-order-id</th><th>is-transparency</th><th>is-buyer-requested-cancellation</th><th>buyer-requested-cancel-reason</th><th>buyer-identification-number</th><th>buyer-identification-type </th><th>VALOR GUIA ($)</th><th>ZONA EXTENDIDA ($)</th><th>EXTRAGRANDE ($)</th><th>SOBREPESOS ($)</th><th>PROTECCION ($)</th><th>TOTAL GUIA ($)</th></tr><tr><td>str</td><td>str</td><td>str</td><td>str</td><td>f64</td><td>f64</td><td>f64</td><td>f64</td><td>f64</td><td>str</td><td>str</td><td>str</td><td>str</td><td>str</td><td>str</td><td>str</td><td>str</td><td>str</td><td>str</td><td>str</td><td>str</td><td>str</td><td>i64</td><td>str</td><td>f64</td><td>f64</td><td>f64</td><td>str</td><td>str</td><td>str</td><td>str</td><td>f64</td><td>str</td><td>str</td><td>i64</td><td>str</td><td>str</td><td>str</td><td>str</td><td>bool</td><td>str</td><td>str</td><td>str</td><td>str</td><td>bool</td><td>bool</td><td>str</td><td>bool</td><td>bool</td><td>str</td><td>str</td><td>str</td><td>f64</td><td>f64</td><td>i64</td><td>i64</td><td>f32</td><td>f64</td></tr></thead><tbody><tr><td>&quot;3/5/2025&quot;</td><td>&quot;Pago del pedido&quot;</td><td>&quot;701-5579061-5906663&quot;</td><td>&quot;Truper ESE-20, Escalera de ext…</td><td>3103.45</td><td>0.0</td><td>-648.0</td><td>496.55</td><td>2952.0</td><td>null</td><td>&quot;2025-05-03T18:53:57+00:00&quot;</td><td>&quot;2025-05-03T23:02:27+00:00&quot;</td><td>&quot;Shipped&quot;</td><td>&quot;Merchant&quot;</td><td>&quot;Amazon.com.mx&quot;</td><td>&quot;WebsiteOrderChannel&quot;</td><td>null</td><td>&quot;Standard&quot;</td><td>&quot;Truper ESE-20, Escalera de ext…</td><td>&quot;16027&quot;</td><td>&quot;B013R4N3M2&quot;</td><td>&quot;Shipped&quot;</td><td>1</td><td>&quot;MXN&quot;</td><td>3600.0</td><td>496.55</td><td>null</td><td>null</td><td>null</td><td>null</td><td>null</td><td>null</td><td>&quot;GUADALAJARA&quot;</td><td>&quot;JALISCO&quot;</td><td>44330</td><td>&quot;MX&quot;</td><td>null</td><td>&quot;CreditCard&quot;</td><td>null</td><td>false</td><td>null</td><td>null</td><td>null</td><td>null</td><td>false</td><td>false</td><td>null</td><td>false</td><td>false</td><td>null</td><td>null</td><td>null</td><td>376.0</td><td>0.0</td><td>0</td><td>0</td><td>0.0</td><td>376.0</td></tr><tr><td>&quot;3/5/2025&quot;</td><td>&quot;Servicios de envío adquiridos …</td><td>&quot;702-8036310-0469852&quot;</td><td>&quot;Facturación&quot;</td><td>-180.32</td><td>0.0</td><td>0.0</td><td>-159.79</td><td>-340.11</td><td>null</td><td>&quot;2025-05-03T21:09:18+00:00&quot;</td><td>&quot;2025-05-03T22:53:24+00:00&quot;</td><td>&quot;Shipped&quot;</td><td>&quot;Merchant&quot;</td><td>&quot;Amazon.com.mx&quot;</td><td>&quot;WebsiteOrderChannel&quot;</td><td>null</td><td>&quot;Standard&quot;</td><td>&quot;Truper ESE-24, Escalera de ext…</td><td>&quot;ESE-24&quot;</td><td>&quot;B013R4N818&quot;</td><td>&quot;Shipped&quot;</td><td>1</td><td>&quot;MXN&quot;</td><td>4250.0</td><td>586.21</td><td>null</td><td>null</td><td>null</td><td>null</td><td>null</td><td>null</td><td>&quot;SANCTORUM DE LAZARO CARDENAS&quot;</td><td>&quot;TLAXCALA&quot;</td><td>90230</td><td>&quot;MX&quot;</td><td>null</td><td>&quot;CreditCard&quot;</td><td>null</td><td>false</td><td>null</td><td>null</td><td>null</td><td>null</td><td>false</td><td>false</td><td>null</td><td>false</td><td>false</td><td>null</td><td>null</td><td>null</td><td>null</td><td>null</td><td>null</td><td>null</td><td>null</td><td>null</td></tr><tr><td>&quot;3/5/2025&quot;</td><td>&quot;Pago del pedido&quot;</td><td>&quot;702-8036310-0469852&quot;</td><td>&quot;Truper ESE-24, Escalera de ext…</td><td>3663.79</td><td>0.0</td><td>-765.0</td><td>586.21</td><td>3485.0</td><td>null</td><td>&quot;2025-05-03T21:09:18+00:00&quot;</td><td>&quot;2025-05-03T22:53:24+00:00&quot;</td><td>&quot;Shipped&quot;</td><td>&quot;Merchant&quot;</td><td>&quot;Amazon.com.mx&quot;</td><td>&quot;WebsiteOrderChannel&quot;</td><td>null</td><td>&quot;Standard&quot;</td><td>&quot;Truper ESE-24, Escalera de ext…</td><td>&quot;ESE-24&quot;</td><td>&quot;B013R4N818&quot;</td><td>&quot;Shipped&quot;</td><td>1</td><td>&quot;MXN&quot;</td><td>4250.0</td><td>586.21</td><td>null</td><td>null</td><td>null</td><td>null</td><td>null</td><td>null</td><td>&quot;SANCTORUM DE LAZARO CARDENAS&quot;</td><td>&quot;TLAXCALA&quot;</td><td>90230</td><td>&quot;MX&quot;</td><td>null</td><td>&quot;CreditCard&quot;</td><td>null</td><td>false</td><td>null</td><td>null</td><td>null</td><td>null</td><td>false</td><td>false</td><td>null</td><td>false</td><td>false</td><td>null</td><td>null</td><td>null</td><td>null</td><td>null</td><td>null</td><td>null</td><td>null</td><td>null</td></tr><tr><td>&quot;3/5/2025&quot;</td><td>&quot;Pago del pedido&quot;</td><td>&quot;702-6243348-7873846&quot;</td><td>&quot;Truper EST-29, Escalera tipo t…</td><td>2715.52</td><td>0.0</td><td>-567.01</td><td>434.48</td><td>2582.99</td><td>null</td><td>&quot;2025-05-02T23:32:50+00:00&quot;</td><td>&quot;2025-05-03T18:34:57+00:00&quot;</td><td>&quot;Shipped&quot;</td><td>&quot;Merchant&quot;</td><td>&quot;Amazon.com.mx&quot;</td><td>&quot;WebsiteOrderChannel&quot;</td><td>null</td><td>&quot;Standard&quot;</td><td>&quot;Truper EST-29, Escalera tipo t…</td><td>&quot;0F-ZVA0-7RNO&quot;</td><td>&quot;B013QH5BBG&quot;</td><td>&quot;Shipped&quot;</td><td>1</td><td>&quot;MXN&quot;</td><td>3150.0</td><td>434.48</td><td>null</td><td>null</td><td>null</td><td>null</td><td>null</td><td>null</td><td>&quot;HERMOSILLO&quot;</td><td>&quot;SONORA&quot;</td><td>83249</td><td>&quot;MX&quot;</td><td>null</td><td>&quot;Installments&quot;</td><td>null</td><td>false</td><td>null</td><td>null</td><td>null</td><td>null</td><td>false</td><td>false</td><td>null</td><td>false</td><td>false</td><td>null</td><td>null</td><td>null</td><td>292.0</td><td>0.0</td><td>0</td><td>0</td><td>0.0</td><td>292.0</td></tr><tr><td>&quot;3/5/2025&quot;</td><td>&quot;Pago del pedido&quot;</td><td>&quot;702-2273214-7058614&quot;</td><td>&quot;Truper ESE-20, Escalera de ext…</td><td>3103.45</td><td>0.0</td><td>-648.0</td><td>496.55</td><td>2952.0</td><td>null</td><td>&quot;2025-05-02T18:23:39+00:00&quot;</td><td>&quot;2025-05-03T18:34:55+00:00&quot;</td><td>&quot;Shipped&quot;</td><td>&quot;Merchant&quot;</td><td>&quot;Amazon.com.mx&quot;</td><td>&quot;WebsiteOrderChannel&quot;</td><td>null</td><td>&quot;Standard&quot;</td><td>&quot;Truper ESE-20, Escalera de ext…</td><td>&quot;ESE-20&quot;</td><td>&quot;B013R4N3M2&quot;</td><td>&quot;Shipped&quot;</td><td>1</td><td>&quot;MXN&quot;</td><td>3600.0</td><td>496.55</td><td>null</td><td>null</td><td>null</td><td>null</td><td>null</td><td>null</td><td>&quot;JESUS MARIA&quot;</td><td>&quot;AGUASCALIENTES&quot;</td><td>20908</td><td>&quot;MX&quot;</td><td>null</td><td>&quot;Other&quot;</td><td>null</td><td>false</td><td>null</td><td>null</td><td>null</td><td>null</td><td>false</td><td>false</td><td>null</td><td>false</td><td>false</td><td>null</td><td>null</td><td>null</td><td>311.0</td><td>0.0</td><td>0</td><td>0</td><td>0.0</td><td>311.0</td></tr><tr><td>&hellip;</td><td>&hellip;</td><td>&hellip;</td><td>&hellip;</td><td>&hellip;</td><td>&hellip;</td><td>&hellip;</td><td>&hellip;</td><td>&hellip;</td><td>&hellip;</td><td>&hellip;</td><td>&hellip;</td><td>&hellip;</td><td>&hellip;</td><td>&hellip;</td><td>&hellip;</td><td>&hellip;</td><td>&hellip;</td><td>&hellip;</td><td>&hellip;</td><td>&hellip;</td><td>&hellip;</td><td>&hellip;</td><td>&hellip;</td><td>&hellip;</td><td>&hellip;</td><td>&hellip;</td><td>&hellip;</td><td>&hellip;</td><td>&hellip;</td><td>&hellip;</td><td>&hellip;</td><td>&hellip;</td><td>&hellip;</td><td>&hellip;</td><td>&hellip;</td><td>&hellip;</td><td>&hellip;</td><td>&hellip;</td><td>&hellip;</td><td>&hellip;</td><td>&hellip;</td><td>&hellip;</td><td>&hellip;</td><td>&hellip;</td><td>&hellip;</td><td>&hellip;</td><td>&hellip;</td><td>&hellip;</td><td>&hellip;</td><td>&hellip;</td><td>&hellip;</td><td>&hellip;</td><td>&hellip;</td><td>&hellip;</td><td>&hellip;</td><td>&hellip;</td><td>&hellip;</td></tr><tr><td>&quot;30/7/2025&quot;</td><td>&quot;Pago del pedido&quot;</td><td>&quot;702-5325959-2024254&quot;</td><td>&quot;Pretul P-316P, Podadora con mo…</td><td>3607.76</td><td>0.0</td><td>-627.75</td><td>577.24</td><td>3557.25</td><td>null</td><td>&quot;2025-07-30T00:11:21+00:00&quot;</td><td>&quot;2025-07-30T22:25:23+00:00&quot;</td><td>&quot;Shipped&quot;</td><td>&quot;Merchant&quot;</td><td>&quot;Amazon.com.mx&quot;</td><td>&quot;WebsiteOrderChannel&quot;</td><td>null</td><td>&quot;Standard&quot;</td><td>&quot;Pretul P-316P, Podadora con mo…</td><td>&quot;3T-49L2-2KU0&quot;</td><td>&quot;B07F78HJ64&quot;</td><td>&quot;Shipped&quot;</td><td>1</td><td>&quot;MXN&quot;</td><td>4185.0</td><td>577.24</td><td>null</td><td>null</td><td>null</td><td>null</td><td>null</td><td>null</td><td>&quot;ACUAMANALA DE MIGUEL HIDALGO&quot;</td><td>&quot;TLAXCALA&quot;</td><td>90860</td><td>&quot;MX&quot;</td><td>null</td><td>&quot;GiftCertificate&quot;</td><td>null</td><td>false</td><td>null</td><td>null</td><td>null</td><td>null</td><td>false</td><td>false</td><td>null</td><td>false</td><td>false</td><td>null</td><td>null</td><td>null</td><td>null</td><td>null</td><td>null</td><td>null</td><td>null</td><td>null</td></tr><tr><td>&quot;30/7/2025&quot;</td><td>&quot;Pago del pedido&quot;</td><td>&quot;701-9656055-1437030&quot;</td><td>&quot;Pretul Combo Rotomartillo y De…</td><td>1853.45</td><td>0.0</td><td>-322.5</td><td>296.55</td><td>1827.5</td><td>null</td><td>&quot;2025-07-29T22:43:03+00:00&quot;</td><td>&quot;2025-07-30T19:10:37+00:00&quot;</td><td>&quot;Shipped&quot;</td><td>&quot;Merchant&quot;</td><td>&quot;Amazon.com.mx&quot;</td><td>&quot;WebsiteOrderChannel&quot;</td><td>null</td><td>&quot;Standard&quot;</td><td>&quot;Pretul Combo Rotomartillo y De…</td><td>&quot;COMBO-20P&quot;</td><td>&quot;B0DRTS15QN&quot;</td><td>&quot;Shipped&quot;</td><td>1</td><td>&quot;MXN&quot;</td><td>2150.0</td><td>296.55</td><td>null</td><td>null</td><td>null</td><td>null</td><td>null</td><td>null</td><td>&quot;ZACATECAS&quot;</td><td>&quot;ZACATECAS&quot;</td><td>98085</td><td>&quot;MX&quot;</td><td>null</td><td>&quot;Installments&quot;</td><td>null</td><td>false</td><td>null</td><td>null</td><td>null</td><td>null</td><td>false</td><td>false</td><td>null</td><td>false</td><td>false</td><td>null</td><td>null</td><td>null</td><td>null</td><td>null</td><td>null</td><td>null</td><td>null</td><td>null</td></tr><tr><td>&quot;30/7/2025&quot;</td><td>&quot;Servicios de envío adquiridos …</td><td>&quot;701-9656055-1437030&quot;</td><td>&quot;Facturación&quot;</td><td>-79.29</td><td>0.0</td><td>-34.35</td><td>-17.33</td><td>-96.62</td><td>null</td><td>&quot;2025-07-29T22:43:03+00:00&quot;</td><td>&quot;2025-07-30T19:10:37+00:00&quot;</td><td>&quot;Shipped&quot;</td><td>&quot;Merchant&quot;</td><td>&quot;Amazon.com.mx&quot;</td><td>&quot;WebsiteOrderChannel&quot;</td><td>null</td><td>&quot;Standard&quot;</td><td>&quot;Pretul Combo Rotomartillo y De…</td><td>&quot;COMBO-20P&quot;</td><td>&quot;B0DRTS15QN&quot;</td><td>&quot;Shipped&quot;</td><td>1</td><td>&quot;MXN&quot;</td><td>2150.0</td><td>296.55</td><td>null</td><td>null</td><td>null</td><td>null</td><td>null</td><td>null</td><td>&quot;ZACATECAS&quot;</td><td>&quot;ZACATECAS&quot;</td><td>98085</td><td>&quot;MX&quot;</td><td>null</td><td>&quot;Installments&quot;</td><td>null</td><td>false</td><td>null</td><td>null</td><td>null</td><td>null</td><td>false</td><td>false</td><td>null</td><td>false</td><td>false</td><td>null</td><td>null</td><td>null</td><td>null</td><td>null</td><td>null</td><td>null</td><td>null</td><td>null</td></tr><tr><td>&quot;30/7/2025&quot;</td><td>&quot;Servicios de envío adquiridos …</td><td>&quot;702-4854253-0499441&quot;</td><td>&quot;Facturación&quot;</td><td>-233.36</td><td>0.0</td><td>-34.35</td><td>-174.53</td><td>-407.89</td><td>null</td><td>&quot;2025-07-29T22:00:53+00:00&quot;</td><td>&quot;2025-07-30T19:09:28+00:00&quot;</td><td>&quot;Shipped&quot;</td><td>&quot;Merchant&quot;</td><td>&quot;Amazon.com.mx&quot;</td><td>&quot;WebsiteOrderChannel&quot;</td><td>null</td><td>&quot;Standard&quot;</td><td>&quot;Truper DES-63, Desmalezadora a…</td><td>&quot;DES-63&quot;</td><td>&quot;B06WVCX2SZ&quot;</td><td>&quot;Shipped&quot;</td><td>1</td><td>&quot;MXN&quot;</td><td>4905.0</td><td>676.55</td><td>null</td><td>null</td><td>null</td><td>null</td><td>null</td><td>null</td><td>&quot;MORELOS&quot;</td><td>&quot;MEXICO&quot;</td><td>50564</td><td>&quot;MX&quot;</td><td>null</td><td>&quot;CreditCard&quot;</td><td>null</td><td>false</td><td>null</td><td>null</td><td>null</td><td>null</td><td>false</td><td>false</td><td>null</td><td>false</td><td>false</td><td>null</td><td>null</td><td>null</td><td>null</td><td>null</td><td>null</td><td>null</td><td>null</td><td>null</td></tr><tr><td>&quot;30/7/2025&quot;</td><td>&quot;Pago del pedido&quot;</td><td>&quot;702-4854253-0499441&quot;</td><td>&quot;Truper DES-63, Desmalezadora a…</td><td>4228.45</td><td>0.0</td><td>-735.75</td><td>676.55</td><td>4169.25</td><td>null</td><td>&quot;2025-07-29T22:00:53+00:00&quot;</td><td>&quot;2025-07-30T19:09:28+00:00&quot;</td><td>&quot;Shipped&quot;</td><td>&quot;Merchant&quot;</td><td>&quot;Amazon.com.mx&quot;</td><td>&quot;WebsiteOrderChannel&quot;</td><td>null</td><td>&quot;Standard&quot;</td><td>&quot;Truper DES-63, Desmalezadora a…</td><td>&quot;DES-63&quot;</td><td>&quot;B06WVCX2SZ&quot;</td><td>&quot;Shipped&quot;</td><td>1</td><td>&quot;MXN&quot;</td><td>4905.0</td><td>676.55</td><td>null</td><td>null</td><td>null</td><td>null</td><td>null</td><td>null</td><td>&quot;MORELOS&quot;</td><td>&quot;MEXICO&quot;</td><td>50564</td><td>&quot;MX&quot;</td><td>null</td><td>&quot;CreditCard&quot;</td><td>null</td><td>false</td><td>null</td><td>null</td><td>null</td><td>null</td><td>false</td><td>false</td><td>null</td><td>false</td><td>false</td><td>null</td><td>null</td><td>null</td><td>null</td><td>null</td><td>null</td><td>null</td><td>null</td><td>null</td></tr></tbody></table></div>"
            ]
          },
          "metadata": {},
          "execution_count": 169
        }
      ]
    }
  ]
}